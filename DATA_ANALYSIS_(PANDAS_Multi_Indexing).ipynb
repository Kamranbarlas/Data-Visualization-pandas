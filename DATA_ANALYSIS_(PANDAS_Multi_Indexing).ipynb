{
  "nbformat": 4,
  "nbformat_minor": 0,
  "metadata": {
    "colab": {
      "name": "DATA_ANALYSIS (PANDAS-Multi-Indexing).ipynb",
      "provenance": [],
      "collapsed_sections": [
        "r8VADZ8BSwP1",
        "RA1DLLhKS74w",
        "AcBHyymgTPhz",
        "yqduU2cqV5j_",
        "RluLzOIkw_hT",
        "mq05tpX8ObhP",
        "a1yU0xrlPFBs",
        "MO_FPtBvSvZo"
      ],
      "mount_file_id": "1h3qr8VlIThSFHAFncIJ2GWNn1UzG9NNv",
      "authorship_tag": "ABX9TyMvNc/9Egl4OPt1F3yGO1pl",
      "include_colab_link": true
    },
    "kernelspec": {
      "name": "python3",
      "display_name": "Python 3"
    }
  },
  "cells": [
    {
      "cell_type": "markdown",
      "metadata": {
        "id": "view-in-github",
        "colab_type": "text"
      },
      "source": [
        "<a href=\"https://colab.research.google.com/github/Kamranbarlas/Data-Visualization-pandas/blob/main/DATA_ANALYSIS_(PANDAS_Multi_Indexing).ipynb\" target=\"_parent\"><img src=\"https://colab.research.google.com/assets/colab-badge.svg\" alt=\"Open In Colab\"/></a>"
      ]
    },
    {
      "cell_type": "code",
      "metadata": {
        "colab": {
          "base_uri": "https://localhost:8080/"
        },
        "id": "pqnc8XKWI0CF",
        "outputId": "74d74b71-4464-46e2-acb5-19c2d4a75c88"
      },
      "source": [
        "import pandas as pd\n",
        "!ls"
      ],
      "execution_count": null,
      "outputs": [
        {
          "output_type": "stream",
          "text": [
            "drive  sample_data\n"
          ],
          "name": "stdout"
        }
      ]
    },
    {
      "cell_type": "code",
      "metadata": {
        "id": "0pzCwOVgLbIv"
      },
      "source": [
        "import os\n",
        "os.chdir('drive/My Drive/pandas')"
      ],
      "execution_count": null,
      "outputs": []
    },
    {
      "cell_type": "code",
      "metadata": {
        "id": "mQdrkYH_Zu7_"
      },
      "source": [
        "bm = pd.read_csv('bigmac.csv')"
      ],
      "execution_count": null,
      "outputs": []
    },
    {
      "cell_type": "code",
      "metadata": {
        "colab": {
          "base_uri": "https://localhost:8080/"
        },
        "id": "n8f6s2ZzZ1hE",
        "outputId": "b40d88ae-e2bd-4bc1-83ae-eab9d76f82ae"
      },
      "source": [
        "bm.info()"
      ],
      "execution_count": null,
      "outputs": [
        {
          "output_type": "stream",
          "text": [
            "<class 'pandas.core.frame.DataFrame'>\n",
            "RangeIndex: 652 entries, 0 to 651\n",
            "Data columns (total 3 columns):\n",
            " #   Column               Non-Null Count  Dtype  \n",
            "---  ------               --------------  -----  \n",
            " 0   Date                 652 non-null    object \n",
            " 1   Country              652 non-null    object \n",
            " 2   Price in US Dollars  652 non-null    float64\n",
            "dtypes: float64(1), object(2)\n",
            "memory usage: 15.4+ KB\n"
          ],
          "name": "stdout"
        }
      ]
    },
    {
      "cell_type": "code",
      "metadata": {
        "id": "7ffOlAusaCEJ"
      },
      "source": [
        "bm = pd.read_csv('bigmac.csv',parse_dates=['Date'])"
      ],
      "execution_count": null,
      "outputs": []
    },
    {
      "cell_type": "code",
      "metadata": {
        "colab": {
          "base_uri": "https://localhost:8080/"
        },
        "id": "rqcX8caJaYMz",
        "outputId": "46981191-87f9-4ac7-fc8e-636395bc5d00"
      },
      "source": [
        "bm.info()"
      ],
      "execution_count": null,
      "outputs": [
        {
          "output_type": "stream",
          "text": [
            "<class 'pandas.core.frame.DataFrame'>\n",
            "RangeIndex: 652 entries, 0 to 651\n",
            "Data columns (total 3 columns):\n",
            " #   Column               Non-Null Count  Dtype         \n",
            "---  ------               --------------  -----         \n",
            " 0   Date                 652 non-null    datetime64[ns]\n",
            " 1   Country              652 non-null    object        \n",
            " 2   Price in US Dollars  652 non-null    float64       \n",
            "dtypes: datetime64[ns](1), float64(1), object(1)\n",
            "memory usage: 15.4+ KB\n"
          ],
          "name": "stdout"
        }
      ]
    },
    {
      "cell_type": "code",
      "metadata": {
        "colab": {
          "base_uri": "https://localhost:8080/"
        },
        "id": "kG2TJAMOagEJ",
        "outputId": "7d0a1fd3-5467-4e4c-d15a-3c6b74afae1e"
      },
      "source": [
        "bm.dtypes"
      ],
      "execution_count": null,
      "outputs": [
        {
          "output_type": "execute_result",
          "data": {
            "text/plain": [
              "Date                   datetime64[ns]\n",
              "Country                        object\n",
              "Price in US Dollars           float64\n",
              "dtype: object"
            ]
          },
          "metadata": {
            "tags": []
          },
          "execution_count": 11
        }
      ]
    },
    {
      "cell_type": "markdown",
      "metadata": {
        "id": "j3bYUInge7Dl"
      },
      "source": [
        "# Create a Multi Index with .set_index Method"
      ]
    },
    {
      "cell_type": "code",
      "metadata": {
        "colab": {
          "base_uri": "https://localhost:8080/",
          "height": 446
        },
        "id": "Wo5i5l9kaqfJ",
        "outputId": "c907f041-8f79-438e-fa1b-cbf996f14171"
      },
      "source": [
        "bm.set_index(keys=\"Country\")"
      ],
      "execution_count": null,
      "outputs": [
        {
          "output_type": "execute_result",
          "data": {
            "text/html": [
              "<div>\n",
              "<style scoped>\n",
              "    .dataframe tbody tr th:only-of-type {\n",
              "        vertical-align: middle;\n",
              "    }\n",
              "\n",
              "    .dataframe tbody tr th {\n",
              "        vertical-align: top;\n",
              "    }\n",
              "\n",
              "    .dataframe thead th {\n",
              "        text-align: right;\n",
              "    }\n",
              "</style>\n",
              "<table border=\"1\" class=\"dataframe\">\n",
              "  <thead>\n",
              "    <tr style=\"text-align: right;\">\n",
              "      <th></th>\n",
              "      <th>Date</th>\n",
              "      <th>Price in US Dollars</th>\n",
              "    </tr>\n",
              "    <tr>\n",
              "      <th>Country</th>\n",
              "      <th></th>\n",
              "      <th></th>\n",
              "    </tr>\n",
              "  </thead>\n",
              "  <tbody>\n",
              "    <tr>\n",
              "      <th>Argentina</th>\n",
              "      <td>2016-01-01</td>\n",
              "      <td>2.39</td>\n",
              "    </tr>\n",
              "    <tr>\n",
              "      <th>Australia</th>\n",
              "      <td>2016-01-01</td>\n",
              "      <td>3.74</td>\n",
              "    </tr>\n",
              "    <tr>\n",
              "      <th>Brazil</th>\n",
              "      <td>2016-01-01</td>\n",
              "      <td>3.35</td>\n",
              "    </tr>\n",
              "    <tr>\n",
              "      <th>Britain</th>\n",
              "      <td>2016-01-01</td>\n",
              "      <td>4.22</td>\n",
              "    </tr>\n",
              "    <tr>\n",
              "      <th>Canada</th>\n",
              "      <td>2016-01-01</td>\n",
              "      <td>4.14</td>\n",
              "    </tr>\n",
              "    <tr>\n",
              "      <th>...</th>\n",
              "      <td>...</td>\n",
              "      <td>...</td>\n",
              "    </tr>\n",
              "    <tr>\n",
              "      <th>Turkey</th>\n",
              "      <td>2010-01-01</td>\n",
              "      <td>3.83</td>\n",
              "    </tr>\n",
              "    <tr>\n",
              "      <th>UAE</th>\n",
              "      <td>2010-01-01</td>\n",
              "      <td>2.99</td>\n",
              "    </tr>\n",
              "    <tr>\n",
              "      <th>Ukraine</th>\n",
              "      <td>2010-01-01</td>\n",
              "      <td>1.83</td>\n",
              "    </tr>\n",
              "    <tr>\n",
              "      <th>United States</th>\n",
              "      <td>2010-01-01</td>\n",
              "      <td>3.58</td>\n",
              "    </tr>\n",
              "    <tr>\n",
              "      <th>Uruguay</th>\n",
              "      <td>2010-01-01</td>\n",
              "      <td>3.32</td>\n",
              "    </tr>\n",
              "  </tbody>\n",
              "</table>\n",
              "<p>652 rows × 2 columns</p>\n",
              "</div>"
            ],
            "text/plain": [
              "                    Date  Price in US Dollars\n",
              "Country                                      \n",
              "Argentina     2016-01-01                 2.39\n",
              "Australia     2016-01-01                 3.74\n",
              "Brazil        2016-01-01                 3.35\n",
              "Britain       2016-01-01                 4.22\n",
              "Canada        2016-01-01                 4.14\n",
              "...                  ...                  ...\n",
              "Turkey        2010-01-01                 3.83\n",
              "UAE           2010-01-01                 2.99\n",
              "Ukraine       2010-01-01                 1.83\n",
              "United States 2010-01-01                 3.58\n",
              "Uruguay       2010-01-01                 3.32\n",
              "\n",
              "[652 rows x 2 columns]"
            ]
          },
          "metadata": {
            "tags": []
          },
          "execution_count": 12
        }
      ]
    },
    {
      "cell_type": "code",
      "metadata": {
        "id": "LrA5EVKqgDZw"
      },
      "source": [
        "bm.set_index(keys=['Date','Country'],inplace=True)"
      ],
      "execution_count": null,
      "outputs": []
    },
    {
      "cell_type": "code",
      "metadata": {
        "id": "F9B0kWN8AISJ"
      },
      "source": [
        "bm.sort_index(inplace=True)"
      ],
      "execution_count": null,
      "outputs": []
    },
    {
      "cell_type": "code",
      "metadata": {
        "colab": {
          "base_uri": "https://localhost:8080/",
          "height": 172
        },
        "id": "TPWhJX2oA-5k",
        "outputId": "42775dca-a1d2-43d5-a83b-b8d7c4e9a1b9"
      },
      "source": [
        "bm.head(3)"
      ],
      "execution_count": null,
      "outputs": [
        {
          "output_type": "execute_result",
          "data": {
            "text/html": [
              "<div>\n",
              "<style scoped>\n",
              "    .dataframe tbody tr th:only-of-type {\n",
              "        vertical-align: middle;\n",
              "    }\n",
              "\n",
              "    .dataframe tbody tr th {\n",
              "        vertical-align: top;\n",
              "    }\n",
              "\n",
              "    .dataframe thead th {\n",
              "        text-align: right;\n",
              "    }\n",
              "</style>\n",
              "<table border=\"1\" class=\"dataframe\">\n",
              "  <thead>\n",
              "    <tr style=\"text-align: right;\">\n",
              "      <th></th>\n",
              "      <th></th>\n",
              "      <th>Price in US Dollars</th>\n",
              "    </tr>\n",
              "    <tr>\n",
              "      <th>Date</th>\n",
              "      <th>Country</th>\n",
              "      <th></th>\n",
              "    </tr>\n",
              "  </thead>\n",
              "  <tbody>\n",
              "    <tr>\n",
              "      <th rowspan=\"3\" valign=\"top\">2010-01-01</th>\n",
              "      <th>Argentina</th>\n",
              "      <td>1.84</td>\n",
              "    </tr>\n",
              "    <tr>\n",
              "      <th>Australia</th>\n",
              "      <td>3.98</td>\n",
              "    </tr>\n",
              "    <tr>\n",
              "      <th>Brazil</th>\n",
              "      <td>4.76</td>\n",
              "    </tr>\n",
              "  </tbody>\n",
              "</table>\n",
              "</div>"
            ],
            "text/plain": [
              "                      Price in US Dollars\n",
              "Date       Country                       \n",
              "2010-01-01 Argentina                 1.84\n",
              "           Australia                 3.98\n",
              "           Brazil                    4.76"
            ]
          },
          "metadata": {
            "tags": []
          },
          "execution_count": 15
        }
      ]
    },
    {
      "cell_type": "code",
      "metadata": {
        "colab": {
          "base_uri": "https://localhost:8080/"
        },
        "id": "cbiAwsGqB8VW",
        "outputId": "a8b41870-2233-4c6e-d442-dac030991d15"
      },
      "source": [
        "type(bm.index)"
      ],
      "execution_count": null,
      "outputs": [
        {
          "output_type": "execute_result",
          "data": {
            "text/plain": [
              "pandas.core.indexes.multi.MultiIndex"
            ]
          },
          "metadata": {
            "tags": []
          },
          "execution_count": 16
        }
      ]
    },
    {
      "cell_type": "code",
      "metadata": {
        "colab": {
          "base_uri": "https://localhost:8080/"
        },
        "id": "mgTCtttfLzW2",
        "outputId": "45e47c26-319e-412a-8f70-1ffcee953fcf"
      },
      "source": [
        "bm.index.names"
      ],
      "execution_count": null,
      "outputs": [
        {
          "output_type": "execute_result",
          "data": {
            "text/plain": [
              "FrozenList(['Date', 'Country'])"
            ]
          },
          "metadata": {
            "tags": []
          },
          "execution_count": 17
        }
      ]
    },
    {
      "cell_type": "code",
      "metadata": {
        "colab": {
          "base_uri": "https://localhost:8080/"
        },
        "id": "FVi1FcuWLz1b",
        "outputId": "42b3ff72-000b-4a1c-b704-24ad6fec9719"
      },
      "source": [
        "bm.index[0]"
      ],
      "execution_count": null,
      "outputs": [
        {
          "output_type": "execute_result",
          "data": {
            "text/plain": [
              "(Timestamp('2010-01-01 00:00:00'), 'Argentina')"
            ]
          },
          "metadata": {
            "tags": []
          },
          "execution_count": 18
        }
      ]
    },
    {
      "cell_type": "markdown",
      "metadata": {
        "id": "r8VADZ8BSwP1"
      },
      "source": [
        "# The .get_level_values() Method"
      ]
    },
    {
      "cell_type": "code",
      "metadata": {
        "id": "rv2bZFdAf-Nw",
        "colab": {
          "base_uri": "https://localhost:8080/"
        },
        "outputId": "acec2876-0f83-4c00-9242-e1f5f5eb124f"
      },
      "source": [
        "bm= pd.read_csv('bigmac.csv',parse_dates=['Date'],index_col=['Date','Country'])\n",
        "bm.sort_index(inplace=True)\n",
        "bm.head(3)"
      ],
      "execution_count": null,
      "outputs": [
        {
          "output_type": "execute_result",
          "data": {
            "text/html": [
              "<div>\n",
              "<style scoped>\n",
              "    .dataframe tbody tr th:only-of-type {\n",
              "        vertical-align: middle;\n",
              "    }\n",
              "\n",
              "    .dataframe tbody tr th {\n",
              "        vertical-align: top;\n",
              "    }\n",
              "\n",
              "    .dataframe thead th {\n",
              "        text-align: right;\n",
              "    }\n",
              "</style>\n",
              "<table border=\"1\" class=\"dataframe\">\n",
              "  <thead>\n",
              "    <tr style=\"text-align: right;\">\n",
              "      <th></th>\n",
              "      <th></th>\n",
              "      <th>Price in US Dollars</th>\n",
              "    </tr>\n",
              "    <tr>\n",
              "      <th>Date</th>\n",
              "      <th>Country</th>\n",
              "      <th></th>\n",
              "    </tr>\n",
              "  </thead>\n",
              "  <tbody>\n",
              "    <tr>\n",
              "      <th rowspan=\"3\" valign=\"top\">2010-01-01</th>\n",
              "      <th>Argentina</th>\n",
              "      <td>1.84</td>\n",
              "    </tr>\n",
              "    <tr>\n",
              "      <th>Australia</th>\n",
              "      <td>3.98</td>\n",
              "    </tr>\n",
              "    <tr>\n",
              "      <th>Brazil</th>\n",
              "      <td>4.76</td>\n",
              "    </tr>\n",
              "  </tbody>\n",
              "</table>\n",
              "</div>"
            ],
            "text/plain": [
              "                      Price in US Dollars\n",
              "Date       Country                       \n",
              "2010-01-01 Argentina                 1.84\n",
              "           Australia                 3.98\n",
              "           Brazil                    4.76"
            ]
          },
          "metadata": {
            "tags": []
          },
          "execution_count": 19
        }
      ]
    },
    {
      "cell_type": "code",
      "metadata": {
        "id": "n3nLt_O4MPDl",
        "colab": {
          "base_uri": "https://localhost:8080/"
        },
        "outputId": "72fe2f11-6c00-424e-d55b-7e3dd611f5e9"
      },
      "source": [
        "bm.index.get_level_values(1)"
      ],
      "execution_count": null,
      "outputs": [
        {
          "output_type": "execute_result",
          "data": {
            "text/plain": [
              "Index(['Argentina', 'Australia', 'Brazil', 'Britain', 'Canada', 'Chile',\n",
              "       'China', 'Colombia', 'Costa Rica', 'Czech Republic',\n",
              "       ...\n",
              "       'Switzerland', 'Taiwan', 'Thailand', 'Turkey', 'UAE', 'Ukraine',\n",
              "       'United States', 'Uruguay', 'Venezuela', 'Vietnam'],\n",
              "      dtype='object', name='Country', length=652)"
            ]
          },
          "metadata": {
            "tags": []
          },
          "execution_count": 20
        }
      ]
    },
    {
      "cell_type": "code",
      "metadata": {
        "id": "GDKAVmgFMQY_",
        "colab": {
          "base_uri": "https://localhost:8080/"
        },
        "outputId": "8b705208-9b48-4eae-fe94-634396b4d6fd"
      },
      "source": [
        "bm.index.get_level_values('Country')"
      ],
      "execution_count": null,
      "outputs": [
        {
          "output_type": "execute_result",
          "data": {
            "text/plain": [
              "Index(['Argentina', 'Australia', 'Brazil', 'Britain', 'Canada', 'Chile',\n",
              "       'China', 'Colombia', 'Costa Rica', 'Czech Republic',\n",
              "       ...\n",
              "       'Switzerland', 'Taiwan', 'Thailand', 'Turkey', 'UAE', 'Ukraine',\n",
              "       'United States', 'Uruguay', 'Venezuela', 'Vietnam'],\n",
              "      dtype='object', name='Country', length=652)"
            ]
          },
          "metadata": {
            "tags": []
          },
          "execution_count": 21
        }
      ]
    },
    {
      "cell_type": "code",
      "metadata": {
        "id": "LZId27_CMQV7"
      },
      "source": [
        ""
      ],
      "execution_count": null,
      "outputs": []
    },
    {
      "cell_type": "code",
      "metadata": {
        "id": "wHUiGlDyMO8y"
      },
      "source": [
        ""
      ],
      "execution_count": null,
      "outputs": []
    },
    {
      "cell_type": "code",
      "metadata": {
        "id": "D6G30_R0MO1c"
      },
      "source": [
        ""
      ],
      "execution_count": null,
      "outputs": []
    },
    {
      "cell_type": "markdown",
      "metadata": {
        "id": "RA1DLLhKS74w"
      },
      "source": [
        "# The .set_names() Method"
      ]
    },
    {
      "cell_type": "code",
      "metadata": {
        "colab": {
          "base_uri": "https://localhost:8080/"
        },
        "id": "ylfd_nn2TE1P",
        "outputId": "28c2ffb6-7a6f-419c-961f-dbedd2109509"
      },
      "source": [
        "bm= pd.read_csv('bigmac.csv',parse_dates=['Date'],index_col=['Date','Country'])\n",
        "bm.sort_index(inplace=True)\n",
        "bm.head(3)"
      ],
      "execution_count": null,
      "outputs": [
        {
          "output_type": "execute_result",
          "data": {
            "text/html": [
              "<div>\n",
              "<style scoped>\n",
              "    .dataframe tbody tr th:only-of-type {\n",
              "        vertical-align: middle;\n",
              "    }\n",
              "\n",
              "    .dataframe tbody tr th {\n",
              "        vertical-align: top;\n",
              "    }\n",
              "\n",
              "    .dataframe thead th {\n",
              "        text-align: right;\n",
              "    }\n",
              "</style>\n",
              "<table border=\"1\" class=\"dataframe\">\n",
              "  <thead>\n",
              "    <tr style=\"text-align: right;\">\n",
              "      <th></th>\n",
              "      <th></th>\n",
              "      <th>Price in US Dollars</th>\n",
              "    </tr>\n",
              "    <tr>\n",
              "      <th>Date</th>\n",
              "      <th>Country</th>\n",
              "      <th></th>\n",
              "    </tr>\n",
              "  </thead>\n",
              "  <tbody>\n",
              "    <tr>\n",
              "      <th rowspan=\"3\" valign=\"top\">2010-01-01</th>\n",
              "      <th>Argentina</th>\n",
              "      <td>1.84</td>\n",
              "    </tr>\n",
              "    <tr>\n",
              "      <th>Australia</th>\n",
              "      <td>3.98</td>\n",
              "    </tr>\n",
              "    <tr>\n",
              "      <th>Brazil</th>\n",
              "      <td>4.76</td>\n",
              "    </tr>\n",
              "  </tbody>\n",
              "</table>\n",
              "</div>"
            ],
            "text/plain": [
              "                      Price in US Dollars\n",
              "Date       Country                       \n",
              "2010-01-01 Argentina                 1.84\n",
              "           Australia                 3.98\n",
              "           Brazil                    4.76"
            ]
          },
          "metadata": {
            "tags": []
          },
          "execution_count": 22
        }
      ]
    },
    {
      "cell_type": "code",
      "metadata": {
        "colab": {
          "base_uri": "https://localhost:8080/"
        },
        "id": "GCm7TIXzQf7L",
        "outputId": "c5fd9ba4-f371-41df-a6fe-7c128c0609ae"
      },
      "source": [
        "bm.index.set_names(['Date',\"Location\"],inplace=True)\n",
        "bm.head(3)"
      ],
      "execution_count": null,
      "outputs": [
        {
          "output_type": "execute_result",
          "data": {
            "text/html": [
              "<div>\n",
              "<style scoped>\n",
              "    .dataframe tbody tr th:only-of-type {\n",
              "        vertical-align: middle;\n",
              "    }\n",
              "\n",
              "    .dataframe tbody tr th {\n",
              "        vertical-align: top;\n",
              "    }\n",
              "\n",
              "    .dataframe thead th {\n",
              "        text-align: right;\n",
              "    }\n",
              "</style>\n",
              "<table border=\"1\" class=\"dataframe\">\n",
              "  <thead>\n",
              "    <tr style=\"text-align: right;\">\n",
              "      <th></th>\n",
              "      <th></th>\n",
              "      <th>Price in US Dollars</th>\n",
              "    </tr>\n",
              "    <tr>\n",
              "      <th>Date</th>\n",
              "      <th>Location</th>\n",
              "      <th></th>\n",
              "    </tr>\n",
              "  </thead>\n",
              "  <tbody>\n",
              "    <tr>\n",
              "      <th rowspan=\"3\" valign=\"top\">2010-01-01</th>\n",
              "      <th>Argentina</th>\n",
              "      <td>1.84</td>\n",
              "    </tr>\n",
              "    <tr>\n",
              "      <th>Australia</th>\n",
              "      <td>3.98</td>\n",
              "    </tr>\n",
              "    <tr>\n",
              "      <th>Brazil</th>\n",
              "      <td>4.76</td>\n",
              "    </tr>\n",
              "  </tbody>\n",
              "</table>\n",
              "</div>"
            ],
            "text/plain": [
              "                      Price in US Dollars\n",
              "Date       Location                      \n",
              "2010-01-01 Argentina                 1.84\n",
              "           Australia                 3.98\n",
              "           Brazil                    4.76"
            ]
          },
          "metadata": {
            "tags": []
          },
          "execution_count": 23
        }
      ]
    },
    {
      "cell_type": "markdown",
      "metadata": {
        "id": "AcBHyymgTPhz"
      },
      "source": [
        "# The sort_names() Method"
      ]
    },
    {
      "cell_type": "code",
      "metadata": {
        "colab": {
          "base_uri": "https://localhost:8080/"
        },
        "id": "QOXGUCNfTX1a",
        "outputId": "f97e6856-0499-4093-fc41-79f1a9f13012"
      },
      "source": [
        "bm= pd.read_csv('bigmac.csv',parse_dates=['Date'],index_col=['Date','Country'])\n",
        "bm.sort_index(inplace=True)\n",
        "bm.head(3)"
      ],
      "execution_count": null,
      "outputs": [
        {
          "output_type": "execute_result",
          "data": {
            "text/html": [
              "<div>\n",
              "<style scoped>\n",
              "    .dataframe tbody tr th:only-of-type {\n",
              "        vertical-align: middle;\n",
              "    }\n",
              "\n",
              "    .dataframe tbody tr th {\n",
              "        vertical-align: top;\n",
              "    }\n",
              "\n",
              "    .dataframe thead th {\n",
              "        text-align: right;\n",
              "    }\n",
              "</style>\n",
              "<table border=\"1\" class=\"dataframe\">\n",
              "  <thead>\n",
              "    <tr style=\"text-align: right;\">\n",
              "      <th></th>\n",
              "      <th></th>\n",
              "      <th>Price in US Dollars</th>\n",
              "    </tr>\n",
              "    <tr>\n",
              "      <th>Date</th>\n",
              "      <th>Country</th>\n",
              "      <th></th>\n",
              "    </tr>\n",
              "  </thead>\n",
              "  <tbody>\n",
              "    <tr>\n",
              "      <th rowspan=\"3\" valign=\"top\">2010-01-01</th>\n",
              "      <th>Argentina</th>\n",
              "      <td>1.84</td>\n",
              "    </tr>\n",
              "    <tr>\n",
              "      <th>Australia</th>\n",
              "      <td>3.98</td>\n",
              "    </tr>\n",
              "    <tr>\n",
              "      <th>Brazil</th>\n",
              "      <td>4.76</td>\n",
              "    </tr>\n",
              "  </tbody>\n",
              "</table>\n",
              "</div>"
            ],
            "text/plain": [
              "                      Price in US Dollars\n",
              "Date       Country                       \n",
              "2010-01-01 Argentina                 1.84\n",
              "           Australia                 3.98\n",
              "           Brazil                    4.76"
            ]
          },
          "metadata": {
            "tags": []
          },
          "execution_count": 24
        }
      ]
    },
    {
      "cell_type": "code",
      "metadata": {
        "colab": {
          "base_uri": "https://localhost:8080/"
        },
        "id": "7Tn-VY8bSsPx",
        "outputId": "965b2e68-0a1e-4620-ec62-253a0d4e344e"
      },
      "source": [
        "bm.sort_index(ascending=[True,False,True])"
      ],
      "execution_count": null,
      "outputs": [
        {
          "output_type": "execute_result",
          "data": {
            "text/html": [
              "<div>\n",
              "<style scoped>\n",
              "    .dataframe tbody tr th:only-of-type {\n",
              "        vertical-align: middle;\n",
              "    }\n",
              "\n",
              "    .dataframe tbody tr th {\n",
              "        vertical-align: top;\n",
              "    }\n",
              "\n",
              "    .dataframe thead th {\n",
              "        text-align: right;\n",
              "    }\n",
              "</style>\n",
              "<table border=\"1\" class=\"dataframe\">\n",
              "  <thead>\n",
              "    <tr style=\"text-align: right;\">\n",
              "      <th></th>\n",
              "      <th></th>\n",
              "      <th>Price in US Dollars</th>\n",
              "    </tr>\n",
              "    <tr>\n",
              "      <th>Date</th>\n",
              "      <th>Country</th>\n",
              "      <th></th>\n",
              "    </tr>\n",
              "  </thead>\n",
              "  <tbody>\n",
              "    <tr>\n",
              "      <th rowspan=\"5\" valign=\"top\">2010-01-01</th>\n",
              "      <th>Uruguay</th>\n",
              "      <td>3.32</td>\n",
              "    </tr>\n",
              "    <tr>\n",
              "      <th>United States</th>\n",
              "      <td>3.58</td>\n",
              "    </tr>\n",
              "    <tr>\n",
              "      <th>Ukraine</th>\n",
              "      <td>1.83</td>\n",
              "    </tr>\n",
              "    <tr>\n",
              "      <th>UAE</th>\n",
              "      <td>2.99</td>\n",
              "    </tr>\n",
              "    <tr>\n",
              "      <th>Turkey</th>\n",
              "      <td>3.83</td>\n",
              "    </tr>\n",
              "    <tr>\n",
              "      <th>...</th>\n",
              "      <th>...</th>\n",
              "      <td>...</td>\n",
              "    </tr>\n",
              "    <tr>\n",
              "      <th rowspan=\"5\" valign=\"top\">2016-01-01</th>\n",
              "      <th>Brazil</th>\n",
              "      <td>3.35</td>\n",
              "    </tr>\n",
              "    <tr>\n",
              "      <th>Belgium</th>\n",
              "      <td>4.25</td>\n",
              "    </tr>\n",
              "    <tr>\n",
              "      <th>Austria</th>\n",
              "      <td>3.76</td>\n",
              "    </tr>\n",
              "    <tr>\n",
              "      <th>Australia</th>\n",
              "      <td>3.74</td>\n",
              "    </tr>\n",
              "    <tr>\n",
              "      <th>Argentina</th>\n",
              "      <td>2.39</td>\n",
              "    </tr>\n",
              "  </tbody>\n",
              "</table>\n",
              "<p>652 rows × 1 columns</p>\n",
              "</div>"
            ],
            "text/plain": [
              "                          Price in US Dollars\n",
              "Date       Country                           \n",
              "2010-01-01 Uruguay                       3.32\n",
              "           United States                 3.58\n",
              "           Ukraine                       1.83\n",
              "           UAE                           2.99\n",
              "           Turkey                        3.83\n",
              "...                                       ...\n",
              "2016-01-01 Brazil                        3.35\n",
              "           Belgium                       4.25\n",
              "           Austria                       3.76\n",
              "           Australia                     3.74\n",
              "           Argentina                     2.39\n",
              "\n",
              "[652 rows x 1 columns]"
            ]
          },
          "metadata": {
            "tags": []
          },
          "execution_count": 25
        }
      ]
    },
    {
      "cell_type": "markdown",
      "metadata": {
        "id": "yqduU2cqV5j_"
      },
      "source": [
        "# Extract Rows From A multi INdex\n"
      ]
    },
    {
      "cell_type": "code",
      "metadata": {
        "id": "QeLZOLF_S4_p"
      },
      "source": [
        "# loc iloc"
      ],
      "execution_count": null,
      "outputs": []
    },
    {
      "cell_type": "code",
      "metadata": {
        "id": "2TCYlOcFbcvz",
        "colab": {
          "base_uri": "https://localhost:8080/"
        },
        "outputId": "dadf556e-7165-4796-8c59-11fd14e62cba"
      },
      "source": [
        "bm= pd.read_csv('bigmac.csv',parse_dates=['Date'],index_col=['Date','Country'])\n",
        "bm.sort_index(inplace=True)\n",
        "bm.head(3)"
      ],
      "execution_count": null,
      "outputs": [
        {
          "output_type": "execute_result",
          "data": {
            "text/html": [
              "<div>\n",
              "<style scoped>\n",
              "    .dataframe tbody tr th:only-of-type {\n",
              "        vertical-align: middle;\n",
              "    }\n",
              "\n",
              "    .dataframe tbody tr th {\n",
              "        vertical-align: top;\n",
              "    }\n",
              "\n",
              "    .dataframe thead th {\n",
              "        text-align: right;\n",
              "    }\n",
              "</style>\n",
              "<table border=\"1\" class=\"dataframe\">\n",
              "  <thead>\n",
              "    <tr style=\"text-align: right;\">\n",
              "      <th></th>\n",
              "      <th></th>\n",
              "      <th>Price in US Dollars</th>\n",
              "    </tr>\n",
              "    <tr>\n",
              "      <th>Date</th>\n",
              "      <th>Country</th>\n",
              "      <th></th>\n",
              "    </tr>\n",
              "  </thead>\n",
              "  <tbody>\n",
              "    <tr>\n",
              "      <th rowspan=\"3\" valign=\"top\">2010-01-01</th>\n",
              "      <th>Argentina</th>\n",
              "      <td>1.84</td>\n",
              "    </tr>\n",
              "    <tr>\n",
              "      <th>Australia</th>\n",
              "      <td>3.98</td>\n",
              "    </tr>\n",
              "    <tr>\n",
              "      <th>Brazil</th>\n",
              "      <td>4.76</td>\n",
              "    </tr>\n",
              "  </tbody>\n",
              "</table>\n",
              "</div>"
            ],
            "text/plain": [
              "                      Price in US Dollars\n",
              "Date       Country                       \n",
              "2010-01-01 Argentina                 1.84\n",
              "           Australia                 3.98\n",
              "           Brazil                    4.76"
            ]
          },
          "metadata": {
            "tags": []
          },
          "execution_count": 27
        }
      ]
    },
    {
      "cell_type": "code",
      "metadata": {
        "id": "9azFq4Lpb1ut",
        "colab": {
          "base_uri": "https://localhost:8080/"
        },
        "outputId": "2a8b45d9-a505-47ba-b662-af4515737a4b"
      },
      "source": [
        "bm.loc[\"2010-01-01\",\"Argentina\"]"
      ],
      "execution_count": null,
      "outputs": [
        {
          "output_type": "execute_result",
          "data": {
            "text/plain": [
              "Price in US Dollars    1.84\n",
              "Name: (2010-01-01 00:00:00, Argentina), dtype: float64"
            ]
          },
          "metadata": {
            "tags": []
          },
          "execution_count": 28
        }
      ]
    },
    {
      "cell_type": "markdown",
      "metadata": {
        "id": "RluLzOIkw_hT"
      },
      "source": [
        "# The Transpose Method"
      ]
    },
    {
      "cell_type": "code",
      "metadata": {
        "colab": {
          "base_uri": "https://localhost:8080/"
        },
        "id": "zgL3WJz8b9Pc",
        "outputId": "2e6cf4db-9d95-45e5-c1f3-0f312bc20fc9"
      },
      "source": [
        "bm= pd.read_csv('bigmac.csv',parse_dates=['Date'],index_col=['Date','Country'])\n",
        "bm.sort_index(inplace=True)\n",
        "bm.head(3)"
      ],
      "execution_count": null,
      "outputs": [
        {
          "output_type": "execute_result",
          "data": {
            "text/html": [
              "<div>\n",
              "<style scoped>\n",
              "    .dataframe tbody tr th:only-of-type {\n",
              "        vertical-align: middle;\n",
              "    }\n",
              "\n",
              "    .dataframe tbody tr th {\n",
              "        vertical-align: top;\n",
              "    }\n",
              "\n",
              "    .dataframe thead th {\n",
              "        text-align: right;\n",
              "    }\n",
              "</style>\n",
              "<table border=\"1\" class=\"dataframe\">\n",
              "  <thead>\n",
              "    <tr style=\"text-align: right;\">\n",
              "      <th></th>\n",
              "      <th></th>\n",
              "      <th>Price in US Dollars</th>\n",
              "    </tr>\n",
              "    <tr>\n",
              "      <th>Date</th>\n",
              "      <th>Country</th>\n",
              "      <th></th>\n",
              "    </tr>\n",
              "  </thead>\n",
              "  <tbody>\n",
              "    <tr>\n",
              "      <th rowspan=\"3\" valign=\"top\">2010-01-01</th>\n",
              "      <th>Argentina</th>\n",
              "      <td>1.84</td>\n",
              "    </tr>\n",
              "    <tr>\n",
              "      <th>Australia</th>\n",
              "      <td>3.98</td>\n",
              "    </tr>\n",
              "    <tr>\n",
              "      <th>Brazil</th>\n",
              "      <td>4.76</td>\n",
              "    </tr>\n",
              "  </tbody>\n",
              "</table>\n",
              "</div>"
            ],
            "text/plain": [
              "                      Price in US Dollars\n",
              "Date       Country                       \n",
              "2010-01-01 Argentina                 1.84\n",
              "           Australia                 3.98\n",
              "           Brazil                    4.76"
            ]
          },
          "metadata": {
            "tags": []
          },
          "execution_count": 29
        }
      ]
    },
    {
      "cell_type": "code",
      "metadata": {
        "colab": {
          "base_uri": "https://localhost:8080/"
        },
        "id": "VwX-YrXMxc7a",
        "outputId": "392a9626-16b4-4448-f956-d689e2e280c9"
      },
      "source": [
        "bm.transpose()"
      ],
      "execution_count": null,
      "outputs": [
        {
          "output_type": "execute_result",
          "data": {
            "text/html": [
              "<div>\n",
              "<style scoped>\n",
              "    .dataframe tbody tr th:only-of-type {\n",
              "        vertical-align: middle;\n",
              "    }\n",
              "\n",
              "    .dataframe tbody tr th {\n",
              "        vertical-align: top;\n",
              "    }\n",
              "\n",
              "    .dataframe thead tr th {\n",
              "        text-align: left;\n",
              "    }\n",
              "</style>\n",
              "<table border=\"1\" class=\"dataframe\">\n",
              "  <thead>\n",
              "    <tr>\n",
              "      <th>Date</th>\n",
              "      <th colspan=\"40\" halign=\"left\">2010-01-01</th>\n",
              "      <th>...</th>\n",
              "      <th colspan=\"40\" halign=\"left\">2016-01-01</th>\n",
              "    </tr>\n",
              "    <tr>\n",
              "      <th>Country</th>\n",
              "      <th>Argentina</th>\n",
              "      <th>Australia</th>\n",
              "      <th>Brazil</th>\n",
              "      <th>Britain</th>\n",
              "      <th>Canada</th>\n",
              "      <th>Chile</th>\n",
              "      <th>China</th>\n",
              "      <th>Colombia</th>\n",
              "      <th>Costa Rica</th>\n",
              "      <th>Czech Republic</th>\n",
              "      <th>Denmark</th>\n",
              "      <th>Egypt</th>\n",
              "      <th>Euro area</th>\n",
              "      <th>Hong Kong</th>\n",
              "      <th>Hungary</th>\n",
              "      <th>Indonesia</th>\n",
              "      <th>Israel</th>\n",
              "      <th>Japan</th>\n",
              "      <th>Latvia</th>\n",
              "      <th>Lithuania</th>\n",
              "      <th>Malaysia</th>\n",
              "      <th>Mexico</th>\n",
              "      <th>New Zealand</th>\n",
              "      <th>Norway</th>\n",
              "      <th>Pakistan</th>\n",
              "      <th>Peru</th>\n",
              "      <th>Philippines</th>\n",
              "      <th>Poland</th>\n",
              "      <th>Russia</th>\n",
              "      <th>Saudi Arabia</th>\n",
              "      <th>Singapore</th>\n",
              "      <th>South Africa</th>\n",
              "      <th>South Korea</th>\n",
              "      <th>Sri Lanka</th>\n",
              "      <th>Sweden</th>\n",
              "      <th>Switzerland</th>\n",
              "      <th>Taiwan</th>\n",
              "      <th>Thailand</th>\n",
              "      <th>Turkey</th>\n",
              "      <th>UAE</th>\n",
              "      <th>...</th>\n",
              "      <th>Finland</th>\n",
              "      <th>France</th>\n",
              "      <th>Germany</th>\n",
              "      <th>Greece</th>\n",
              "      <th>Hong Kong</th>\n",
              "      <th>Hungary</th>\n",
              "      <th>India</th>\n",
              "      <th>Indonesia</th>\n",
              "      <th>Ireland</th>\n",
              "      <th>Israel</th>\n",
              "      <th>Italy</th>\n",
              "      <th>Japan</th>\n",
              "      <th>Malaysia</th>\n",
              "      <th>Mexico</th>\n",
              "      <th>Netherlands</th>\n",
              "      <th>New Zealand</th>\n",
              "      <th>Norway</th>\n",
              "      <th>Pakistan</th>\n",
              "      <th>Peru</th>\n",
              "      <th>Philippines</th>\n",
              "      <th>Poland</th>\n",
              "      <th>Portugal</th>\n",
              "      <th>Russia</th>\n",
              "      <th>Saudi Arabia</th>\n",
              "      <th>Singapore</th>\n",
              "      <th>South Africa</th>\n",
              "      <th>South Korea</th>\n",
              "      <th>Spain</th>\n",
              "      <th>Sri Lanka</th>\n",
              "      <th>Sweden</th>\n",
              "      <th>Switzerland</th>\n",
              "      <th>Taiwan</th>\n",
              "      <th>Thailand</th>\n",
              "      <th>Turkey</th>\n",
              "      <th>UAE</th>\n",
              "      <th>Ukraine</th>\n",
              "      <th>United States</th>\n",
              "      <th>Uruguay</th>\n",
              "      <th>Venezuela</th>\n",
              "      <th>Vietnam</th>\n",
              "    </tr>\n",
              "  </thead>\n",
              "  <tbody>\n",
              "    <tr>\n",
              "      <th>Price in US Dollars</th>\n",
              "      <td>1.84</td>\n",
              "      <td>3.98</td>\n",
              "      <td>4.76</td>\n",
              "      <td>3.67</td>\n",
              "      <td>3.97</td>\n",
              "      <td>3.18</td>\n",
              "      <td>1.83</td>\n",
              "      <td>3.91</td>\n",
              "      <td>3.52</td>\n",
              "      <td>3.71</td>\n",
              "      <td>5.99</td>\n",
              "      <td>2.38</td>\n",
              "      <td>4.84</td>\n",
              "      <td>1.91</td>\n",
              "      <td>3.86</td>\n",
              "      <td>2.24</td>\n",
              "      <td>3.99</td>\n",
              "      <td>3.5</td>\n",
              "      <td>3.09</td>\n",
              "      <td>2.87</td>\n",
              "      <td>2.08</td>\n",
              "      <td>2.5</td>\n",
              "      <td>3.61</td>\n",
              "      <td>7.02</td>\n",
              "      <td>2.42</td>\n",
              "      <td>2.81</td>\n",
              "      <td>2.21</td>\n",
              "      <td>2.86</td>\n",
              "      <td>2.34</td>\n",
              "      <td>2.67</td>\n",
              "      <td>3.19</td>\n",
              "      <td>2.46</td>\n",
              "      <td>2.98</td>\n",
              "      <td>1.83</td>\n",
              "      <td>5.51</td>\n",
              "      <td>6.3</td>\n",
              "      <td>2.36</td>\n",
              "      <td>2.11</td>\n",
              "      <td>3.83</td>\n",
              "      <td>2.99</td>\n",
              "      <td>...</td>\n",
              "      <td>4.41</td>\n",
              "      <td>4.41</td>\n",
              "      <td>3.86</td>\n",
              "      <td>3.6</td>\n",
              "      <td>2.48</td>\n",
              "      <td>3.08</td>\n",
              "      <td>1.9</td>\n",
              "      <td>2.19</td>\n",
              "      <td>4.25</td>\n",
              "      <td>4.29</td>\n",
              "      <td>4.3</td>\n",
              "      <td>3.12</td>\n",
              "      <td>1.82</td>\n",
              "      <td>2.81</td>\n",
              "      <td>3.71</td>\n",
              "      <td>3.91</td>\n",
              "      <td>5.21</td>\n",
              "      <td>2.86</td>\n",
              "      <td>2.93</td>\n",
              "      <td>2.79</td>\n",
              "      <td>2.37</td>\n",
              "      <td>3.23</td>\n",
              "      <td>1.53</td>\n",
              "      <td>3.2</td>\n",
              "      <td>3.27</td>\n",
              "      <td>1.77</td>\n",
              "      <td>3.59</td>\n",
              "      <td>3.76</td>\n",
              "      <td>2.43</td>\n",
              "      <td>5.23</td>\n",
              "      <td>6.44</td>\n",
              "      <td>2.08</td>\n",
              "      <td>3.09</td>\n",
              "      <td>3.41</td>\n",
              "      <td>3.54</td>\n",
              "      <td>1.54</td>\n",
              "      <td>4.93</td>\n",
              "      <td>3.74</td>\n",
              "      <td>0.66</td>\n",
              "      <td>2.67</td>\n",
              "    </tr>\n",
              "  </tbody>\n",
              "</table>\n",
              "<p>1 rows × 652 columns</p>\n",
              "</div>"
            ],
            "text/plain": [
              "Date                2010-01-01                   ... 2016-01-01                  \n",
              "Country              Argentina Australia Brazil  ...    Uruguay Venezuela Vietnam\n",
              "Price in US Dollars       1.84      3.98   4.76  ...       3.74      0.66    2.67\n",
              "\n",
              "[1 rows x 652 columns]"
            ]
          },
          "metadata": {
            "tags": []
          },
          "execution_count": 30
        }
      ]
    },
    {
      "cell_type": "code",
      "metadata": {
        "id": "k-buYeGmxf14"
      },
      "source": [
        ""
      ],
      "execution_count": null,
      "outputs": []
    },
    {
      "cell_type": "code",
      "metadata": {
        "id": "9gokZRmWN4z8"
      },
      "source": [
        ""
      ],
      "execution_count": null,
      "outputs": []
    },
    {
      "cell_type": "markdown",
      "metadata": {
        "id": "mq05tpX8ObhP"
      },
      "source": [
        "# Swap level Method()"
      ]
    },
    {
      "cell_type": "code",
      "metadata": {
        "colab": {
          "base_uri": "https://localhost:8080/"
        },
        "id": "9NgTWUOUN6hb",
        "outputId": "c4a9e7ed-7867-4458-a09a-bc3b77a8a7a0"
      },
      "source": [
        "bm= pd.read_csv('bigmac.csv',parse_dates=['Date'],index_col=['Date','Country'])\n",
        "bm.sort_index(inplace=True)\n",
        "bm.head(3)"
      ],
      "execution_count": null,
      "outputs": [
        {
          "output_type": "execute_result",
          "data": {
            "text/html": [
              "<div>\n",
              "<style scoped>\n",
              "    .dataframe tbody tr th:only-of-type {\n",
              "        vertical-align: middle;\n",
              "    }\n",
              "\n",
              "    .dataframe tbody tr th {\n",
              "        vertical-align: top;\n",
              "    }\n",
              "\n",
              "    .dataframe thead th {\n",
              "        text-align: right;\n",
              "    }\n",
              "</style>\n",
              "<table border=\"1\" class=\"dataframe\">\n",
              "  <thead>\n",
              "    <tr style=\"text-align: right;\">\n",
              "      <th></th>\n",
              "      <th></th>\n",
              "      <th>Price in US Dollars</th>\n",
              "    </tr>\n",
              "    <tr>\n",
              "      <th>Date</th>\n",
              "      <th>Country</th>\n",
              "      <th></th>\n",
              "    </tr>\n",
              "  </thead>\n",
              "  <tbody>\n",
              "    <tr>\n",
              "      <th rowspan=\"3\" valign=\"top\">2010-01-01</th>\n",
              "      <th>Argentina</th>\n",
              "      <td>1.84</td>\n",
              "    </tr>\n",
              "    <tr>\n",
              "      <th>Australia</th>\n",
              "      <td>3.98</td>\n",
              "    </tr>\n",
              "    <tr>\n",
              "      <th>Brazil</th>\n",
              "      <td>4.76</td>\n",
              "    </tr>\n",
              "  </tbody>\n",
              "</table>\n",
              "</div>"
            ],
            "text/plain": [
              "                      Price in US Dollars\n",
              "Date       Country                       \n",
              "2010-01-01 Argentina                 1.84\n",
              "           Australia                 3.98\n",
              "           Brazil                    4.76"
            ]
          },
          "metadata": {
            "tags": []
          },
          "execution_count": 31
        }
      ]
    },
    {
      "cell_type": "code",
      "metadata": {
        "id": "OmuYQh-fOh61"
      },
      "source": [
        "bm = bm.swaplevel()"
      ],
      "execution_count": null,
      "outputs": []
    },
    {
      "cell_type": "code",
      "metadata": {
        "colab": {
          "base_uri": "https://localhost:8080/"
        },
        "id": "8G-FhQ_YOq6x",
        "outputId": "be8a7b37-1e64-4ccc-9133-a0759ee7433c"
      },
      "source": [
        "bm.head(4)"
      ],
      "execution_count": null,
      "outputs": [
        {
          "output_type": "execute_result",
          "data": {
            "text/html": [
              "<div>\n",
              "<style scoped>\n",
              "    .dataframe tbody tr th:only-of-type {\n",
              "        vertical-align: middle;\n",
              "    }\n",
              "\n",
              "    .dataframe tbody tr th {\n",
              "        vertical-align: top;\n",
              "    }\n",
              "\n",
              "    .dataframe thead th {\n",
              "        text-align: right;\n",
              "    }\n",
              "</style>\n",
              "<table border=\"1\" class=\"dataframe\">\n",
              "  <thead>\n",
              "    <tr style=\"text-align: right;\">\n",
              "      <th></th>\n",
              "      <th></th>\n",
              "      <th>Price in US Dollars</th>\n",
              "    </tr>\n",
              "    <tr>\n",
              "      <th>Country</th>\n",
              "      <th>Date</th>\n",
              "      <th></th>\n",
              "    </tr>\n",
              "  </thead>\n",
              "  <tbody>\n",
              "    <tr>\n",
              "      <th>Argentina</th>\n",
              "      <th>2010-01-01</th>\n",
              "      <td>1.84</td>\n",
              "    </tr>\n",
              "    <tr>\n",
              "      <th>Australia</th>\n",
              "      <th>2010-01-01</th>\n",
              "      <td>3.98</td>\n",
              "    </tr>\n",
              "    <tr>\n",
              "      <th>Brazil</th>\n",
              "      <th>2010-01-01</th>\n",
              "      <td>4.76</td>\n",
              "    </tr>\n",
              "    <tr>\n",
              "      <th>Britain</th>\n",
              "      <th>2010-01-01</th>\n",
              "      <td>3.67</td>\n",
              "    </tr>\n",
              "  </tbody>\n",
              "</table>\n",
              "</div>"
            ],
            "text/plain": [
              "                      Price in US Dollars\n",
              "Country   Date                           \n",
              "Argentina 2010-01-01                 1.84\n",
              "Australia 2010-01-01                 3.98\n",
              "Brazil    2010-01-01                 4.76\n",
              "Britain   2010-01-01                 3.67"
            ]
          },
          "metadata": {
            "tags": []
          },
          "execution_count": 33
        }
      ]
    },
    {
      "cell_type": "code",
      "metadata": {
        "id": "e1oOHK2vOwuC"
      },
      "source": [
        ""
      ],
      "execution_count": null,
      "outputs": []
    },
    {
      "cell_type": "markdown",
      "metadata": {
        "id": "a1yU0xrlPFBs"
      },
      "source": [
        "# The .stack() Method"
      ]
    },
    {
      "cell_type": "code",
      "metadata": {
        "colab": {
          "base_uri": "https://localhost:8080/"
        },
        "id": "F3UDM_rOPIjg",
        "outputId": "0278d5c0-d33d-48cc-c3a6-604eb7357605"
      },
      "source": [
        "world = pd.read_csv('worldstats.csv',index_col=['country','year'])\n",
        "world.head(3)"
      ],
      "execution_count": null,
      "outputs": [
        {
          "output_type": "execute_result",
          "data": {
            "text/html": [
              "<div>\n",
              "<style scoped>\n",
              "    .dataframe tbody tr th:only-of-type {\n",
              "        vertical-align: middle;\n",
              "    }\n",
              "\n",
              "    .dataframe tbody tr th {\n",
              "        vertical-align: top;\n",
              "    }\n",
              "\n",
              "    .dataframe thead th {\n",
              "        text-align: right;\n",
              "    }\n",
              "</style>\n",
              "<table border=\"1\" class=\"dataframe\">\n",
              "  <thead>\n",
              "    <tr style=\"text-align: right;\">\n",
              "      <th></th>\n",
              "      <th></th>\n",
              "      <th>Population</th>\n",
              "      <th>GDP</th>\n",
              "    </tr>\n",
              "    <tr>\n",
              "      <th>country</th>\n",
              "      <th>year</th>\n",
              "      <th></th>\n",
              "      <th></th>\n",
              "    </tr>\n",
              "  </thead>\n",
              "  <tbody>\n",
              "    <tr>\n",
              "      <th rowspan=\"3\" valign=\"top\">Arab World</th>\n",
              "      <th>2015</th>\n",
              "      <td>392022276.0</td>\n",
              "      <td>2.530102e+12</td>\n",
              "    </tr>\n",
              "    <tr>\n",
              "      <th>2014</th>\n",
              "      <td>384222592.0</td>\n",
              "      <td>2.873600e+12</td>\n",
              "    </tr>\n",
              "    <tr>\n",
              "      <th>2013</th>\n",
              "      <td>376504253.0</td>\n",
              "      <td>2.846994e+12</td>\n",
              "    </tr>\n",
              "  </tbody>\n",
              "</table>\n",
              "</div>"
            ],
            "text/plain": [
              "                  Population           GDP\n",
              "country    year                           \n",
              "Arab World 2015  392022276.0  2.530102e+12\n",
              "           2014  384222592.0  2.873600e+12\n",
              "           2013  376504253.0  2.846994e+12"
            ]
          },
          "metadata": {
            "tags": []
          },
          "execution_count": 34
        }
      ]
    },
    {
      "cell_type": "code",
      "metadata": {
        "colab": {
          "base_uri": "https://localhost:8080/"
        },
        "id": "J3hxL0ugPmKw",
        "outputId": "05dd3d84-7acb-4514-f960-5d3a813e6d3e"
      },
      "source": [
        "type(world.stack())"
      ],
      "execution_count": null,
      "outputs": [
        {
          "output_type": "execute_result",
          "data": {
            "text/plain": [
              "pandas.core.series.Series"
            ]
          },
          "metadata": {
            "tags": []
          },
          "execution_count": 35
        }
      ]
    },
    {
      "cell_type": "code",
      "metadata": {
        "colab": {
          "base_uri": "https://localhost:8080/"
        },
        "id": "rUkq0G5yPqyf",
        "outputId": "b2cd1496-e81e-4981-e025-44dbf9d44f80"
      },
      "source": [
        "type(world.stack().to_frame())"
      ],
      "execution_count": null,
      "outputs": [
        {
          "output_type": "execute_result",
          "data": {
            "text/plain": [
              "pandas.core.frame.DataFrame"
            ]
          },
          "metadata": {
            "tags": []
          },
          "execution_count": 36
        }
      ]
    },
    {
      "cell_type": "markdown",
      "metadata": {
        "id": "MO_FPtBvSvZo"
      },
      "source": [
        "# The .un stack() Method"
      ]
    },
    {
      "cell_type": "code",
      "metadata": {
        "colab": {
          "base_uri": "https://localhost:8080/"
        },
        "id": "ViIlz6WkSmru",
        "outputId": "aa39a7f7-ac68-4e13-e226-78bae834121a"
      },
      "source": [
        "world = pd.read_csv('worldstats.csv',index_col=['country','year'])\n",
        "world.head(3)"
      ],
      "execution_count": null,
      "outputs": [
        {
          "output_type": "execute_result",
          "data": {
            "text/html": [
              "<div>\n",
              "<style scoped>\n",
              "    .dataframe tbody tr th:only-of-type {\n",
              "        vertical-align: middle;\n",
              "    }\n",
              "\n",
              "    .dataframe tbody tr th {\n",
              "        vertical-align: top;\n",
              "    }\n",
              "\n",
              "    .dataframe thead th {\n",
              "        text-align: right;\n",
              "    }\n",
              "</style>\n",
              "<table border=\"1\" class=\"dataframe\">\n",
              "  <thead>\n",
              "    <tr style=\"text-align: right;\">\n",
              "      <th></th>\n",
              "      <th></th>\n",
              "      <th>Population</th>\n",
              "      <th>GDP</th>\n",
              "    </tr>\n",
              "    <tr>\n",
              "      <th>country</th>\n",
              "      <th>year</th>\n",
              "      <th></th>\n",
              "      <th></th>\n",
              "    </tr>\n",
              "  </thead>\n",
              "  <tbody>\n",
              "    <tr>\n",
              "      <th rowspan=\"3\" valign=\"top\">Arab World</th>\n",
              "      <th>2015</th>\n",
              "      <td>392022276.0</td>\n",
              "      <td>2.530102e+12</td>\n",
              "    </tr>\n",
              "    <tr>\n",
              "      <th>2014</th>\n",
              "      <td>384222592.0</td>\n",
              "      <td>2.873600e+12</td>\n",
              "    </tr>\n",
              "    <tr>\n",
              "      <th>2013</th>\n",
              "      <td>376504253.0</td>\n",
              "      <td>2.846994e+12</td>\n",
              "    </tr>\n",
              "  </tbody>\n",
              "</table>\n",
              "</div>"
            ],
            "text/plain": [
              "                  Population           GDP\n",
              "country    year                           \n",
              "Arab World 2015  392022276.0  2.530102e+12\n",
              "           2014  384222592.0  2.873600e+12\n",
              "           2013  376504253.0  2.846994e+12"
            ]
          },
          "metadata": {
            "tags": []
          },
          "execution_count": 37
        }
      ]
    },
    {
      "cell_type": "code",
      "metadata": {
        "colab": {
          "base_uri": "https://localhost:8080/"
        },
        "id": "ULa8BZW2TI4i",
        "outputId": "ceed8568-85f9-4d86-b9d2-7cf737ab4577"
      },
      "source": [
        "world.stack().index"
      ],
      "execution_count": null,
      "outputs": [
        {
          "output_type": "execute_result",
          "data": {
            "text/plain": [
              "MultiIndex([('Arab World', 2015, 'Population'),\n",
              "            ('Arab World', 2015,        'GDP'),\n",
              "            ('Arab World', 2014, 'Population'),\n",
              "            ('Arab World', 2014,        'GDP'),\n",
              "            ('Arab World', 2013, 'Population'),\n",
              "            ('Arab World', 2013,        'GDP'),\n",
              "            ('Arab World', 2012, 'Population'),\n",
              "            ('Arab World', 2012,        'GDP'),\n",
              "            ('Arab World', 2011, 'Population'),\n",
              "            ('Arab World', 2011,        'GDP'),\n",
              "            ...\n",
              "            (  'Zimbabwe', 1964, 'Population'),\n",
              "            (  'Zimbabwe', 1964,        'GDP'),\n",
              "            (  'Zimbabwe', 1963, 'Population'),\n",
              "            (  'Zimbabwe', 1963,        'GDP'),\n",
              "            (  'Zimbabwe', 1962, 'Population'),\n",
              "            (  'Zimbabwe', 1962,        'GDP'),\n",
              "            (  'Zimbabwe', 1961, 'Population'),\n",
              "            (  'Zimbabwe', 1961,        'GDP'),\n",
              "            (  'Zimbabwe', 1960, 'Population'),\n",
              "            (  'Zimbabwe', 1960,        'GDP')],\n",
              "           names=['country', 'year', None], length=22422)"
            ]
          },
          "metadata": {
            "tags": []
          },
          "execution_count": 38
        }
      ]
    },
    {
      "cell_type": "code",
      "metadata": {
        "colab": {
          "base_uri": "https://localhost:8080/"
        },
        "id": "7Srj6pXzTK_c",
        "outputId": "9f1840e6-b4e7-48c5-a2e3-c62128234b20"
      },
      "source": [
        "# Unstack Multile index\n",
        "world = pd.read_csv('worldstats.csv',index_col=['country','year'])\n",
        "s = world.stack()\n",
        "s.head(3)"
      ],
      "execution_count": null,
      "outputs": [
        {
          "output_type": "execute_result",
          "data": {
            "text/plain": [
              "country     year            \n",
              "Arab World  2015  Population    3.920223e+08\n",
              "                  GDP           2.530102e+12\n",
              "            2014  Population    3.842226e+08\n",
              "dtype: float64"
            ]
          },
          "metadata": {
            "tags": []
          },
          "execution_count": 39
        }
      ]
    },
    {
      "cell_type": "code",
      "metadata": {
        "colab": {
          "base_uri": "https://localhost:8080/"
        },
        "id": "K-1RHrOlninj",
        "outputId": "ac4572c8-e375-449e-f25f-adb812a696b0"
      },
      "source": [
        "s.unstack(level=[0,1])"
      ],
      "execution_count": null,
      "outputs": [
        {
          "output_type": "execute_result",
          "data": {
            "text/html": [
              "<div>\n",
              "<style scoped>\n",
              "    .dataframe tbody tr th:only-of-type {\n",
              "        vertical-align: middle;\n",
              "    }\n",
              "\n",
              "    .dataframe tbody tr th {\n",
              "        vertical-align: top;\n",
              "    }\n",
              "\n",
              "    .dataframe thead tr th {\n",
              "        text-align: left;\n",
              "    }\n",
              "</style>\n",
              "<table border=\"1\" class=\"dataframe\">\n",
              "  <thead>\n",
              "    <tr>\n",
              "      <th>country</th>\n",
              "      <th colspan=\"40\" halign=\"left\">Arab World</th>\n",
              "      <th>...</th>\n",
              "      <th colspan=\"40\" halign=\"left\">Zimbabwe</th>\n",
              "    </tr>\n",
              "    <tr>\n",
              "      <th>year</th>\n",
              "      <th>2015</th>\n",
              "      <th>2014</th>\n",
              "      <th>2013</th>\n",
              "      <th>2012</th>\n",
              "      <th>2011</th>\n",
              "      <th>2010</th>\n",
              "      <th>2009</th>\n",
              "      <th>2008</th>\n",
              "      <th>2007</th>\n",
              "      <th>2006</th>\n",
              "      <th>2005</th>\n",
              "      <th>2004</th>\n",
              "      <th>2003</th>\n",
              "      <th>2002</th>\n",
              "      <th>2001</th>\n",
              "      <th>2000</th>\n",
              "      <th>1999</th>\n",
              "      <th>1998</th>\n",
              "      <th>1997</th>\n",
              "      <th>1996</th>\n",
              "      <th>1995</th>\n",
              "      <th>1994</th>\n",
              "      <th>1993</th>\n",
              "      <th>1992</th>\n",
              "      <th>1991</th>\n",
              "      <th>1990</th>\n",
              "      <th>1989</th>\n",
              "      <th>1988</th>\n",
              "      <th>1987</th>\n",
              "      <th>1986</th>\n",
              "      <th>1985</th>\n",
              "      <th>1984</th>\n",
              "      <th>1983</th>\n",
              "      <th>1982</th>\n",
              "      <th>1981</th>\n",
              "      <th>1980</th>\n",
              "      <th>1979</th>\n",
              "      <th>1978</th>\n",
              "      <th>1977</th>\n",
              "      <th>1976</th>\n",
              "      <th>...</th>\n",
              "      <th>1999</th>\n",
              "      <th>1998</th>\n",
              "      <th>1997</th>\n",
              "      <th>1996</th>\n",
              "      <th>1995</th>\n",
              "      <th>1994</th>\n",
              "      <th>1993</th>\n",
              "      <th>1992</th>\n",
              "      <th>1991</th>\n",
              "      <th>1990</th>\n",
              "      <th>1989</th>\n",
              "      <th>1988</th>\n",
              "      <th>1987</th>\n",
              "      <th>1986</th>\n",
              "      <th>1985</th>\n",
              "      <th>1984</th>\n",
              "      <th>1983</th>\n",
              "      <th>1982</th>\n",
              "      <th>1981</th>\n",
              "      <th>1980</th>\n",
              "      <th>1979</th>\n",
              "      <th>1978</th>\n",
              "      <th>1977</th>\n",
              "      <th>1976</th>\n",
              "      <th>1975</th>\n",
              "      <th>1974</th>\n",
              "      <th>1973</th>\n",
              "      <th>1972</th>\n",
              "      <th>1971</th>\n",
              "      <th>1970</th>\n",
              "      <th>1969</th>\n",
              "      <th>1968</th>\n",
              "      <th>1967</th>\n",
              "      <th>1966</th>\n",
              "      <th>1965</th>\n",
              "      <th>1964</th>\n",
              "      <th>1963</th>\n",
              "      <th>1962</th>\n",
              "      <th>1961</th>\n",
              "      <th>1960</th>\n",
              "    </tr>\n",
              "  </thead>\n",
              "  <tbody>\n",
              "    <tr>\n",
              "      <th>Population</th>\n",
              "      <td>3.920223e+08</td>\n",
              "      <td>3.842226e+08</td>\n",
              "      <td>3.765043e+08</td>\n",
              "      <td>3.688026e+08</td>\n",
              "      <td>3.610318e+08</td>\n",
              "      <td>3.531122e+08</td>\n",
              "      <td>3.450542e+08</td>\n",
              "      <td>3.368865e+08</td>\n",
              "      <td>3.287666e+08</td>\n",
              "      <td>3.209067e+08</td>\n",
              "      <td>3.134309e+08</td>\n",
              "      <td>3.063874e+08</td>\n",
              "      <td>2.997320e+08</td>\n",
              "      <td>2.934026e+08</td>\n",
              "      <td>2.872918e+08</td>\n",
              "      <td>2.813262e+08</td>\n",
              "      <td>2.755036e+08</td>\n",
              "      <td>2.697953e+08</td>\n",
              "      <td>2.641539e+08</td>\n",
              "      <td>2.584232e+08</td>\n",
              "      <td>2.525910e+08</td>\n",
              "      <td>2.448934e+08</td>\n",
              "      <td>2.386289e+08</td>\n",
              "      <td>2.324172e+08</td>\n",
              "      <td>2.281710e+08</td>\n",
              "      <td>2.221173e+08</td>\n",
              "      <td>2.142505e+08</td>\n",
              "      <td>2.085463e+08</td>\n",
              "      <td>2.028519e+08</td>\n",
              "      <td>1.972021e+08</td>\n",
              "      <td>1.915643e+08</td>\n",
              "      <td>1.860057e+08</td>\n",
              "      <td>1.806063e+08</td>\n",
              "      <td>1.752377e+08</td>\n",
              "      <td>1.699266e+08</td>\n",
              "      <td>1.646707e+08</td>\n",
              "      <td>1.594559e+08</td>\n",
              "      <td>1.543039e+08</td>\n",
              "      <td>1.492963e+08</td>\n",
              "      <td>1.445420e+08</td>\n",
              "      <td>...</td>\n",
              "      <td>1.237402e+07</td>\n",
              "      <td>1.222674e+07</td>\n",
              "      <td>1.205986e+07</td>\n",
              "      <td>1.187766e+07</td>\n",
              "      <td>1.168314e+07</td>\n",
              "      <td>1.147681e+07</td>\n",
              "      <td>1.125651e+07</td>\n",
              "      <td>1.101972e+07</td>\n",
              "      <td>1.076304e+07</td>\n",
              "      <td>1.048477e+07</td>\n",
              "      <td>1.018497e+07</td>\n",
              "      <td>9.866776e+06</td>\n",
              "      <td>9.535657e+06</td>\n",
              "      <td>9.198874e+06</td>\n",
              "      <td>8.862601e+06</td>\n",
              "      <td>8.528328e+06</td>\n",
              "      <td>8.197564e+06</td>\n",
              "      <td>7.876414e+06</td>\n",
              "      <td>7.571965e+06</td>\n",
              "      <td>7.289083e+06</td>\n",
              "      <td>7.031159e+06</td>\n",
              "      <td>6.796946e+06</td>\n",
              "      <td>6.580739e+06</td>\n",
              "      <td>6.373956e+06</td>\n",
              "      <td>6.170284e+06</td>\n",
              "      <td>5.967861e+06</td>\n",
              "      <td>5.768382e+06</td>\n",
              "      <td>5.573312e+06</td>\n",
              "      <td>5.385342e+06</td>\n",
              "      <td>5.206311e+06</td>\n",
              "      <td>5.036321e+06</td>\n",
              "      <td>4.874113e+06</td>\n",
              "      <td>4.718612e+06</td>\n",
              "      <td>4.568320e+06</td>\n",
              "      <td>4.422132e+06</td>\n",
              "      <td>4.279561e+06</td>\n",
              "      <td>4.140804e+06</td>\n",
              "      <td>4.006262e+06</td>\n",
              "      <td>3.876638e+06</td>\n",
              "      <td>3.752390e+06</td>\n",
              "    </tr>\n",
              "    <tr>\n",
              "      <th>GDP</th>\n",
              "      <td>2.530102e+12</td>\n",
              "      <td>2.873600e+12</td>\n",
              "      <td>2.846994e+12</td>\n",
              "      <td>2.773270e+12</td>\n",
              "      <td>2.497945e+12</td>\n",
              "      <td>2.103825e+12</td>\n",
              "      <td>1.798878e+12</td>\n",
              "      <td>2.081343e+12</td>\n",
              "      <td>1.641666e+12</td>\n",
              "      <td>1.404190e+12</td>\n",
              "      <td>1.184735e+12</td>\n",
              "      <td>9.639180e+11</td>\n",
              "      <td>8.218702e+11</td>\n",
              "      <td>7.279939e+11</td>\n",
              "      <td>7.221506e+11</td>\n",
              "      <td>7.339481e+11</td>\n",
              "      <td>6.431349e+11</td>\n",
              "      <td>5.905141e+11</td>\n",
              "      <td>6.123037e+11</td>\n",
              "      <td>5.773078e+11</td>\n",
              "      <td>5.228684e+11</td>\n",
              "      <td>4.866723e+11</td>\n",
              "      <td>4.756916e+11</td>\n",
              "      <td>4.703749e+11</td>\n",
              "      <td>4.388799e+11</td>\n",
              "      <td>4.460181e+11</td>\n",
              "      <td>3.221911e+11</td>\n",
              "      <td>3.074560e+11</td>\n",
              "      <td>3.129250e+11</td>\n",
              "      <td>2.890606e+11</td>\n",
              "      <td>3.038083e+11</td>\n",
              "      <td>3.080804e+11</td>\n",
              "      <td>3.040181e+11</td>\n",
              "      <td>3.241990e+11</td>\n",
              "      <td>3.480645e+11</td>\n",
              "      <td>3.381542e+11</td>\n",
              "      <td>2.480520e+11</td>\n",
              "      <td>1.838423e+11</td>\n",
              "      <td>1.662786e+11</td>\n",
              "      <td>1.440150e+11</td>\n",
              "      <td>...</td>\n",
              "      <td>6.858013e+09</td>\n",
              "      <td>6.401968e+09</td>\n",
              "      <td>8.529572e+09</td>\n",
              "      <td>8.553147e+09</td>\n",
              "      <td>7.111271e+09</td>\n",
              "      <td>6.890675e+09</td>\n",
              "      <td>6.563813e+09</td>\n",
              "      <td>6.751472e+09</td>\n",
              "      <td>8.641482e+09</td>\n",
              "      <td>8.783817e+09</td>\n",
              "      <td>8.286323e+09</td>\n",
              "      <td>7.814784e+09</td>\n",
              "      <td>6.741215e+09</td>\n",
              "      <td>6.217524e+09</td>\n",
              "      <td>5.637259e+09</td>\n",
              "      <td>6.352126e+09</td>\n",
              "      <td>7.764067e+09</td>\n",
              "      <td>8.539701e+09</td>\n",
              "      <td>8.011374e+09</td>\n",
              "      <td>6.678868e+09</td>\n",
              "      <td>5.177459e+09</td>\n",
              "      <td>4.351600e+09</td>\n",
              "      <td>4.364382e+09</td>\n",
              "      <td>4.318372e+09</td>\n",
              "      <td>4.371301e+09</td>\n",
              "      <td>3.982161e+09</td>\n",
              "      <td>3.309354e+09</td>\n",
              "      <td>2.677729e+09</td>\n",
              "      <td>2.178716e+09</td>\n",
              "      <td>1.884206e+09</td>\n",
              "      <td>1.747999e+09</td>\n",
              "      <td>1.479600e+09</td>\n",
              "      <td>1.397002e+09</td>\n",
              "      <td>1.281750e+09</td>\n",
              "      <td>1.311436e+09</td>\n",
              "      <td>1.217138e+09</td>\n",
              "      <td>1.159512e+09</td>\n",
              "      <td>1.117602e+09</td>\n",
              "      <td>1.096647e+09</td>\n",
              "      <td>1.052990e+09</td>\n",
              "    </tr>\n",
              "  </tbody>\n",
              "</table>\n",
              "<p>2 rows × 11211 columns</p>\n",
              "</div>"
            ],
            "text/plain": [
              "country       Arab World                ...      Zimbabwe              \n",
              "year                2015          2014  ...          1961          1960\n",
              "Population  3.920223e+08  3.842226e+08  ...  3.876638e+06  3.752390e+06\n",
              "GDP         2.530102e+12  2.873600e+12  ...  1.096647e+09  1.052990e+09\n",
              "\n",
              "[2 rows x 11211 columns]"
            ]
          },
          "metadata": {
            "tags": []
          },
          "execution_count": 40
        }
      ]
    },
    {
      "cell_type": "markdown",
      "metadata": {
        "id": "SZgbus79pLGg"
      },
      "source": [
        "# The pivot Method\n",
        "\n",
        "## It is used to re-orient dataset and convert them to column headers\n",
        "\n",
        "Returns: DataFrame\n",
        "Returns reshaped DataFrame.\n",
        "\n",
        "Raises: ValueError- When there are any index, columns combinations with multiple values. DataFrame.pivot_table when you need to aggregate.\n",
        "\n",
        "Example:"
      ]
    },
    {
      "cell_type": "markdown",
      "metadata": {
        "id": "Pg4EfZxNRzJ2"
      },
      "source": [
        "![image.png](data:image/png;base64,iVBORw0KGgoAAAANSUhEUgAAAbAAAAH8CAYAAACw1Po9AAAgAElEQVR4Aex9CZjcRpl2ST3unhyQy85F4viYSeyZHMS5b4NzeHJ7JiYkJOQmd+IZHzlIHCfOOCfxTNhdLvMvLOzCOjMOgcR2QhJYFshyhLDcxwLmWgILmF2WxT1d1d//fFJXt7otqT6ppT7GXz/PWOoq1Vfv+6qrXlWpJAvBH1aAFWAFWAFWgBVgBVgBVoAVYAVYAVaAFWAFWAFWgBVgBVgBVoAVYAVYAVaAFWAFWAFWgBVgBVgBVoAVYAVYAVaAFWAFWAFWgBVgBVgBVoAVYAVYAVaAFWAFWAFWgBVgBVgBVoAVYAVYAVaAFWAFWAFWgBVgBVgBVoAVYAVYAVaAFWAFWAFWgBVgBVgBVoAVYAVYAVaAFWAFWAFWgBVgBVgBVoAVYAVYAVaAFWAFWIF6FBgTcNa4JV8Yt9Tr3jhPC5gxbqt1Y5Z8/ikBJ3rz2mF/XMhrnxewS9JYoVecJXutF1SvVaVX0vXUEw/miBmq114ne63nYY5wzh01rZ56SWWnwx6iW91jdam/im55JalMux7UBcdbXfIlq0tt8aVQb75v0BQSzxF7ZPvte7ID9l+n9Gfa5pxlB+yV2X57WyMxjwmYg31qCmeBQwYpgJ19rYGNWeq1DQJOGBNw9AYB5waVDUofF3DOuKX+6zMCpgYdk0b6egHZcVt9coOQ7/SLD4eKfVSP9Xs0Ir98SpqcK65tFQODueIM1WsDHCIO0dhVj/UazBEnwCHiaJgjnHNHSZO91pdUr/0JHSfNrdWtfj9ZDczqkl+yu5Wr42x1S6CBocB15lfVleYJE0Jk++3fN9IMYtFZLLLZfrs4pd++HsungrmmDi9OEGCN22rNuK0e8KbzfooK1BrYuICDxm0F9ZjP0wKOGrfkps8I2Dkp6DgS3CBg77B4OGoct9XDQcdAj9hV9lqboUe8OegYU3qLGVi3Y2AHiJ0QN8wVBznfDxblCwdqmuqx/1H12oHamXSJkj+ZDczuUv9od5V+g2hQ3epngdrUmV9VV2AlyWSkYgbJQKuKkuu3f92xSCzERAfzQOaKqgMS+OKtwy/cuCWfHRfqVr88TktYgQ1CXuUdgeHICw3saQG7J1xV7HDOlY2lvr1BwKFBQZ4WcOyYpfLPCtgj6Jgk0mWPuKplRmBdIufFgiMvx8BmiPK5o6apHnuNmituTEIjU4xJbmBrRJdydXRHWP8RqEed+XaXqtQVWEkyGe1iYNn+zJezi8RcZI2YswOZy5JRoBLFW0cltbI3JuC4MUv93wYBe1VSeS8RBdYLmDlmyY3jlvzXcVt9YsySX9IGNi7gpDFLPocGhtsxS34KBNjeitEoxi31H2OW+s6YJT8zZqmfj1nqpxuEXIzHrRcwbdxWf4cxnhHQ9YyA/cctudmJaatHtcFsEGpw3FK/HxfyUiz3lIAF45b8F6xz3JKfHbPVoxsF5NYL2GncVu/F8uOWfGnMVn/jxaP3x2z1wXFLvqy/+23VXLFC9Vr/h6MozJe94lKcUsT7WrLHelH1WltVr/VL6BVv0eXhEDFT9lgbZY/1rzjF5k61Ve6BQbeYJXus52SP9ZRzTI+4BctCj1igeqxvqx7rz7JHvAO6xDTVY/8z1uM3AoQe0at6rB8E/UGPOFZj8m5lj/W0U1+vOAlxoIGV8HwKesTJpDQhbNkrroMe0eeNHbwPHdh5OlNYXXK91SVftrvVo+XjZ6tbMc/qlhusLvn52unCioFBxu5SD9ndCsQsONop3y2vsrrUz+0u9Th+t2erR6wuVbS71D9Y3eqbVpf6i9UtvyK64Ey7S33I6lKvW13qj+U6umCe1aW+Y3WpH+IIxepW/2l1qT+J2WpZGV8XnOdgdrCrr4tZcE45z7Njz1bvs7rVD/z+EI/n0MrubHmdmA2ujq5B/cbuUv+MeKxu9VPRpe4Wuk3Vne+pq4Jgu73sosw7sgP2/2X77W/m+oXDdcqAODLbn3km1595QZwv9u/oF29xOuYB+2PZ/swr2X67ahqsbGCLRSY7YD+UG8jAlAHhnLMpizJX5Qbsn0/pt51zhgA6+sXpuf7My9n+zFO5/swXOy4S8zUwvKeWG8g8nx3IjGcH7H8Xi8W+Os+7zfbbr2YH7B/4/U0ZsJ125j0e97P99sfFmcK5/+0YWH/mmexA5ku5fvt1B8+AmKPL5BbZy3IDmRezyHnA/ka2XyzSeWF6eOvQx3u3eME9Zqnf8SjMq0pC++OW+joajA5XO4W4QcDJaBZhI7AxW42g2eCJwjjjQi3F0c96AW/C73gzUxsYfkfTHLdUcUzI8nB+TED3uC3XYz5ODY5Z6n+fEnAKfkfjGrfkV8dt9Qh+Ly0qgbAR2Jilvjtmq/fh8WEfHLFoA8PjZI/1edVj/z/YX+wMXSJXMqsv6Biqx/q66rXLenmnEEEIS/VY31I9wpkugC5xgOq1JPSKY7A8zBGHqV6rAHPFhXCUmCJ7rTHoEm/UsZPeomFtNwIjpkXC0qVWWt3q38X+eorYMbSPOTFmwdloKuLg0v3P2XCg1a3+t9ypCyEqBiaEmAH7VhmYky9f1AaGMa0uJUWXGhSzYDfRDbOsLvVLq1uOiVkwXUyDXe0u9UGrW/1Kc7C71CqrS31XvAmvgMF2Fo50qwkxAzqFgIzVpf5bdEGvc/wMmCNmy7frsoluXYP6JdbpxO2G46xulRezS/do682PADY7YH8k12//BOXUxbL99j9mFwlnViM3IM5DU8O87AXiMDQo0S8O8hxbuQe2WOzrNTA8Bo2gbGCLxZucRR+LxBFOvIHMJbkB+3fiPLHzlH5xTG7A/o2YLzowb0p/5hpxgThQ15Pk1jVd+11OzKPEFDTT7ID9I7FYOOcj22/frXHk+u1bc/12ebrXpIcJ55glv4D3403HcX4EBZzRk63gUzg+KH3iGtiYJV/UMb4uYMqYpf6ERoZptQaGaXhPbNySX9Rl8GbnUwLOdI9XQziS03mltJvHLPXfuE8xsHFLbRu31WpvDL/9AAMrXzmqueJ21WP9FMviqMcxhF5R1qvKwOaIo5z8QysNUPVaP1FzxXJdt+q1H1G91i9Ur/0E9IqTdHoa20YZmDviUbdVcZgJh+N3q0t+2u5SH/XmWV3yKUzXabEMbDZcqMvjIgm7W/2T/i664AIcpenvJQP7uv4uZsIRJZOcLg6AnRxD7JaXlPPT2nENqmoVojMq7ZafdaqsNz8C7ikD4jg0HRwZOcX6xBtz/ZmXfEOcJ6aWDOo4nV8egWGCwcBy/fbSklm6xS8QBzrx+sUxHReJM7P99l9y54suHTutbRVmNOYBcXhJg+3aYbZfXISm64vFRw/f4zyJY5YcG7Pk1zxJvFuvAjhdhyOjzwm8EnU/SRgYRhqz1Ldwqs/ZrxmBYdoGARdg3RsEzMVpSbxC0dOT47b62zFL/puLyP13XMD5eDwuJjEZWGn1IYwJ9W5vDL99o4H1iFtUj+V0Os4UI67ymyHKetUYWH9pyu4p1Wt/0vnDEVuPcIwc68eRneqxfiZ7rGf88Oi0uFOIurxTF3G05Wd03jih+wfDVMcMuuB8v+Nw5FNexFA6wO5ST+C0nj6+bgPrUh+3uzxXt91wroOpUh+OwCoGNhsOdfJnwAw8xO5Sf4PfS9ObzhS2xubdxppC9AbwMSgcWeJ0onNYvfneugj7zjTZgP3PeOiUfvtdOPWnizlTiu5U2oed0RpOEfaL43V+lRmYDezJ7ID9h2y//Un3zxn5fKejX5wqFoudsv2Zr+ISd8zrWCRO0HXUbuNMIXpjVGHGjMViVzSw7EDGuXhxTKvf/mSu3/4QTqUiJl3epIc+Lmg7ZquPjVnqR0H5nB5DgXEhr0RTwA5fF0/QwHAK7z0Y128Etl5AZtxSvxiz1RM48hoX6h6NAe9r1RqYx/D2MhnY5wR0IC9vTB27dhvJwHrElc4Iq0eU9fIamOwVlzj5s8RutfXo7zhlKHutLzpTiXPEYTo9ja2fMVHTyHjeBHs5ZtANA35l0Kh8DGyt1aW+rY9vtoE5OLrgeOceWreawPtwGluiW3+Deq/VpV516qk3PyJYNK3sgJ0XOKLoz2zW94rEfNGJhjNlUcZ9/ESPOOIb2AeyA/ZrgfDmiw6834QYsgO2yl1IvfcaGNE3YzsDWyT2QgMrTQ8elx2wJ8SFYjYWLpmZa2AEPXwr9CSO2eqfxiz1fU8S79argLNQIoUpRDQQnEIcE+oGxOhnYG66Wuks3LDlen2/DNPHhVoybqlfevmNCXULxsQ0k4E5sS31vzgt6Y3htx/FwJyFGDgCC55CdFf9zRFH+dWFaarHfh+Wl73Wp3GRB943Czq23nSqWfkdF6VunEK0u9R9fmWsLvkpu0u598NKB+D9KkzXx1cZ2GzY2zHEmVBepGJ1+9wD804h1jUCgyliJuyjsYguNWR1qR+Xvye542NQVrd8Luw5sUj5UbGeKXbJDtj/nRuwP5gbsMv3i3HVHnbsol/MckKaDGyR2BuPn3JhZWGR9x5Ytt++Kztg/0nfa6qCeb7YRxwlpui07EDm0zgC0t+T3NYamHv/DUdgYs6UAfvGXL/9C12f18AoeuhyQdsxSz49bslXgvI5PYYCeK8KjQJvLuI+hhgTakivQsTvfos4xoW6e9xSv9bLQnERh/ce2AYh3zFuqa3rBTgjkSADc1ckqsKYVbkfgnXiNOGYpf78lABnpZJnEYfzXBIu8sARlr5n5ke9tDjl7/3yvGmRDOwoMQVXJeLUIC7CwDiqRwxhDNwHITI43Ygr/fAZs1JaB5RGbDBXLFI9wrlXhKsZVY/1V1yG78WT5L6fMVHTvDjwTR6qx/oxBIws7S51v9Wt/kt0QXmKSexTevPJbFhodanfidmlZ/YqizicZ3OwnioDcxdVbMOFFgIXBR0Ae+Iqw+0WcSRlYDgF2uVZyYom0125n+vVoe79WgPrhrlWl9omZoN7D6befA9Au0utc4wYF7qEfHL99t865tMv5pUPWyT2wpFQdlHGWcyCK/BKx5TPb5UZ4EpEdwoQZ1EssVjsme3PfEUv4kCDyPbbhWy/jRc57irm84TzTKhrFOIiXXd2IDOGqxL19yS3VZjdFYofdVZduiOuRc5odLGYjgs5sv32veUpRIIeJpx4/2vcVsb+yBSH82sUeFrAm/HKAN+UgSv9cNk6riAcF+ouXPaONx/RLMZs9eGnhbsc2M/A0AjHbPURXEqP8dD4sKoxAb3jtvpAKcb7vAtGnHyML7a/f7JBwFudpf2WfMZ5vZWtHq6a6rTl+jFL/QGX5Guj9FIbs9VjyMeb5t2HGWJ31WPf5yyjx4eZe8VCfCMHGpTssb6CHT3eh8IHnVWP9T94/wvL45J32WO9onqs/5K91ldlj/Up1WPlVY+4y8mfK7plj7VJ9Vj/qXqtf5e91gY4VBwo54prVI/1c9kjnOdQ8LVOqtf6vhMnBRODXtGFqxxxSlP12B/GJfHUNK9OuK/minucqdHSasrafCGgQ+BKxC71I3eZunwFF06Uj8Nl9N3y36xuOe7cZ9Kr7txXSd2Lr5LCkYaYBe6CgtlqKa4MxHju/TL5ZatbfU90wXzRrW5zl9HL9WI2HCpmQT/eZ7O61fdFl1wsumEu3g9zRnG4VH4GzLG65ReclZBd8jJcuajveTlL/afBrs4S/y75vLu8XT6PZcrYk9yZBUeXNHjGea1Ut/pmebk/1lNvvhdrt7rH0WAWOCtgvVnefVx1iPfCvGm4nx2wH8TRGS61nzKQuTo7YP8Zl9mLhWKG07kP2H/NDmSe04tAcKGGc/yA/aMpA/YTzhL8fvt7erl8x4A4C+9h5frt/8R7Xrl++wNodriYxL23lXk6O5D5FK6ELE9l1oKq87vLKfNctj/zbKnOsfKS/cUim+vPbMr221tzA5kv4LJ8x8QH7AdD9ThHGJ8zdW5pWOp/vKuu66TCxZNUoLSMfnOSMeuNheaLKxE/JSCVJbn14mu38rLX+lqaS/7bTY92wGt1ya+JLkjtMY120KAVMLrvmFW/TfJNRK3Aa9JgqJ1CbBVizkjRrl7C3SrY2gUHHC52Ub3238i5Ip1no9pFiHbCuQ/s4kyLpvU8Wztp0WSs7uhLvjImKo99NBkSV1+rQKsaGOIcs9X9uJhDP2Rdi52/hyuABgZzxX7hR3FuSymA9x8PAj5nTT4pOOIat9VHx4RM/PVVTaY2earfIOC0cUt9b9xSv8X7Tq1oFOMCTsVXUE0e1ZkJK8AKtLoC+CL0ZwSU/2eIVsfL+FgBVoAVYAVYAVaAFWAFWAFWgBVgBVgBVoAVYAVYAVaAFWAFWAFWgBVgBVgBVoAVYAVYAVaAFWAFWAFWgBVgBVgBVoAVYAVYAVaAFWAFWAFWgBVgBVgBVoAVYAVYAVaAFWAFWAFWgBVgBVgBVoAVYAVYAVaAFWAFWAFWgBVgBVgBVoAV2NEUyGQU4N+Oxpv5sgKsACvACrS5AmxgbX4CGT4rwAqwAjuqAmxgO+qZZ96sACvACrS5AmxgbX4CGT4rwAqwAjuqAmxgO+qZZ96sACvACrS5AmxgbX4CGT4rwAqwApNdgUxGXunHMczAgsr4xeE0VoAVYAVYAVYgFQXQjGxb/X1t8CADs231ETawWrX4OyvACrACrEBTFLBttcU1MdhdA9jewGD3TEY+jcfqY3jLCrACrAArwAo0VQHbVqvQsGxbvSaEa2LVBga7Y17pmFVNBcuVswKsACvACrACFQUcg/qT18QqBlZlXn/SBlcpy3usACvACrACrEATFXDvbbmvj7Jt9TNtYDX7H2kiRK6aFWAFWAFWgBXwUwBmaNMK2goBM/xKchorwAqwAqwAK9BUBTIZ+fkg88K8poLjylkBVoAVYAVYgWAFYH6QgQkB84PLcQ4rwAqwAqwAK9BkBXCZfK2J8dL5Jp8Urp4VYAVYAVbArAA+pFxrYPzgslk3PoIVYAVYAVag6QpUltSjkdm24qXzTT8nDIAVYAVYAVaApIB+sLlkYPzgMkk1PogVYAVYAVagBRSoLKnnpfMtcDoYAivACrACrABdAXywGf/oJfhIVoAVYAVYAVagJRTAZfO8dL4lTgWDYAVYAVaAFWAFWAFWgBVgBVgBVoAVYAVYAVaAFWAFWAFWgBVgBVgBVoAVYAVYAVaAFWAFWAFWgBVgBVgBVoAVYAVYAVaAFWAFWAFWgBVgBVgBVoAVYAVYAVaAFWAFWAFWgBVgBVgBVoAVYAVYAVaAFWAFWAFWgBVgBVgBVoAVYAVYAVaAFWAFWAFWgBVgBVgBVoAVYAVYAVaAFWAFWAFWgBVgBVgBVoAVYAVYAVaAFWAFWAFWgBVgBVgBVoAVYAXiKNAp4C05Sz7VaSvIWeo7nZb8fKclv9ppqS05Sz6bFbAoTlxTmU4BM3O2Gs1ZaqLTUr8q1fsvnZb8cs5S/5Gz1d+YYnA+K8AKsAKswA6uwBQBb0YDywq4sCIF7Nppq/tyllI5W72vkh6+1yHgRCFg7/CjKrk5S/0pZ6uRSgruwX5sYNWK8DdWgBVgBVgBHwX8Dcw9MCvUSmd0JuA8n6I1SWDlLPXtrIBDazICv/obmBBZIS8JLMQZrAArwAqwAqwAKhBmYELALjlL/TVnyTFXLdij05Jf6bTVJ3OW3JSz5KeEgJ3wL2er97pTkfIlPYLKCbUsZ8kXO231sZylvlE7JRlkYFhXVsBFnZb6Tc5Wj3Ta6v5OS/18ioAjhAjEsBdOezoYbLU2Z6mf5iz1505b/VNOwLk5S34Gv+cs9ZMpAo7UZ79TwKycJZ9zplIt+a85oW7RebxlBVgBVoAVaGEFwg1MCLwnlrPUj1wKMC0n1I2lfbvTUr/rFPIK/N4pYEZpKrI8AssKdbcQ0IH5OaFu7bTUz9yy7r+1BjZFwHGdQl6pjyndG/t8h4BTckItR6xCBGPoEHAyYsA4jvkKOCNnqWJWqDuxnFPWUt/otNXH3TqcUeO3EFvp+wE5S8kpAo7RGHjLCrACrAAr0KIKmAzMGUFZ6jd+8HHhR1aoOzDPz8C8ZXBEhaM5bxoamGcRx+dzlvpurYHlbPW4WwYy2gxrYpQxaAMTAnbXx+AorlOod+nvOWd0Jl/G71MEHIWGJwQcWM631E/QLPV33rICrAArwAq0qAImA8Mpw5ylvu/Ch71x9SCOYHK2en+npf7ojm78DcyZBsTpRlt9KGfJF3KW2uaVoXYE1ilgfrCB6ZLBGAIM7Fc5oW7QpdEQcWSH37MC+p0pR3cl5idxarTTUl/PCbVUH89bVoAVYAVYgRZVINzAIOOMkmz1CYSfs+TGrK0+rKmURmB34vfaERhO4+Ey+ZyA2ZhfGoGFGpgQsFtWwBwdH42mMgJzU8MwRDcweUlpBLabrpO3rAArwAqwAm2iQJiB4dJ6Z4QiYCHS6bTUbzuFvFpTCzMwvFfWaalf6GNpBqaPdrd+BhaGIaqBdQg4AfnhVGJ1zfyNFWAFWAFWoOUVCDKwDgEnlVYBlp8Dy1nq33Hq0CUF0zst9Us9hYjPf5XM7kzMxxWHOUvlhYDpeO8qK9S9pinEWrH8DCwMQ1QDEwIypYe2nxMCdi3x6hACsrVY+DsrwAqwAqxACynQKWBBzpJPO8Zjqe91WvKL+IdL3nOWfLn2eaysgAtwBFR6W8ZjOUt+Nmep16YImIe0Om25vtNSf8hZcrMQMNVdaq+2dlryC7g8HR+M7rTVg85qQFs94UwxWup7uFQ+J6DLKw0ufUeDxFWQWSHfofOCMAgBp+ZstQ65dNpqDS63x8UY7tJ5uQlXFuYEnFV608gv9YPbOQHdiLPTUv/pmKMlN3gXdeh6ecsKsAKsACvACrACrAArwAqwAqwAK8AKsAKsACvACrACrAArwAqwAqwAK8AKTAYFQIjLQYhxEOLX+LRzE/6wXqz/sjT1zOwFl2emFcftqcVfZ6YVodF/pXrHM3tBajxXZDZfvqJj0/iKjk2/XjFlEzT8D+vt2DS+LLMpNY5p/kY4NivACrSJAiDEviDES00wrDCTfAGE2CdRCafBvpmpxZcabViG+l4Qu0BiPJeL5/Zd3rHxpYYbVphJdmx84W7xYmIcE/1NcDBWgBVobwVAiJdL5vUMCHESCFF+NVUjmWG9pfqfLeF5Mcn6M1OLLztmMrX4jNgDThK7V17BlWQ9xlhY7x5wUmZq8dkSnsR4rujY9LJjXh2bnlnesfGkJeJzTTmXWC/Wv6Jj07MlPIlxNOrLB7ACrMCOoQAIcW3JLD7dSoxBCG1i5Zcd14MvMxWuLZlFS/Esm9heUDfP5ZnN16JZLO/Y2FIctYktz2yqm2M9vwEuywpMagVgoThL9lkvqD7rdS9RWChmqIX2OtlnPQ9nihO9ee2+D0JsKhnY8a3EBYQ4PkljzUwrbkIDE3tCS/FEPEkZ6/KOTZvcqcONLcVxxZSNx7eisbbS752xsAKJKCDPEtfWGpjqs16DheIEOFscDWeKcxOpqMFB5BLRVxi0X5WD9lY5lAH9V8y6izXkLXY5Tec1dXuj7d4f21VU4xq0tzo8log+PwmDeO6x/1Znscafbn1jdTyPFs3g+7ubpjq4Dpj+q2pcMXjeu8uYs1jjL7fsUh2ryRz/58bdHFwP7v7x7XHF4NmM81R3nQaefr9lTmMFIitQa2BwtjhI9dkA88XUyMFaoAAsFpnCkL1GDtpFv0ZYGuVs37E0udNDrKHYBu1iYdBejfxQZhNPZ5QzrdiSPEOxReDpjr42tSRHI7YIPP1+x22TVsOzBboIhjCZFJBniau8IzAceZUMrCk3w+vVtrBEzA9r3KEm0WQTM2OzVWFILECNTDxDTaLJPM3YaDyNJtFEnjRsNJ5hv+f2yKvwrLd9c/kdXAE4U8yUfdZGudD6V7XQ/oRcaH1JGxj0iZPkQus5NDDcyoXWp0AIu50kk0OZzWGN2mwSlenGsDhp5BGxbcbzYeJpNonm8SRiM/KkmURzeEbAZuSZxm+tCTEdnu3UlzDWFlRALbS+rvrsv9PQtptCXChObucRmBy0Xw9rnESTaMq0FAnboO0suDHxJJpEU3iSsBF4RjCJhvMkYyPwDPs9t01eiafud3jLCkRWAM4Sxzrm1Cd6dOFJZ2CGaSOSSRhipNVpULHhuTNhIJlEk3hSsZl4kk2iCTyjYDPxNJ3rdsnXfQ5vWYFYCsizxKWl0VWnDsAG1pwpJr9Ohw2s+lzgb9RPJ50WxSR0mUZto2Az8WwU5rTr0X0Ob1mBWArIheJKx8B6RPk/dGQDq+40027EYfHZwKrPBf7Iw/SKYhJhcdLIi4LNxDMNfM2IGavT4kKsgFYAFooFPIVYeg4syrTS6lmgXlkH6vubQT55sns/hZoWoZ5GGZjadB8UJ/4K6hNX+d4bqjff1Dk2agrRxMOEs558NrDqixHUUvdDvGUFYikAR4kpqs/6peqzP4n7GEQtFEN6FSJ+h3ZfxGEwDKpJeDuv4i+/AXL0JJBPHAtq3flOp09N88Yx7VOx4XkyxTKZRPHP/xVoYBi73vwwfCZsuqyJJ8UkTDx0XUlvKdh0nSae+rh23yJP/rACdSkAZ4g3yz7rFdVn/ZdcaH0Vl8qrPiuvFoq74CzRJfusMRylqT77w9Dn//aHugCkXNjUyKkmUY6zeiYUi0WQ9+5dGa1Q0wxmWq6jdBwVG0pYW7b2u8kknI79n66scKrBWm9+LR7vdxM2fayJJ8UkTDx0XUlvKdh0nSae+rigrfrA2VD84y9A/fs4qG98Eoq//ykU838B+e6pEJYnV+wMxb/+D6jvfMYtt+XfnN+6+uA5gb+LIAyU9JSbPodnBdpfAVNDoppEOc7oSa6B3b1npVFT02pMoRwzIJ2KDc+SKZbJJJyO/R8vr3CqwVRvfhg+EzZd1sSTYhImHrqupLcUbLpOE099XNAWTUqOnOCey3v3huJf/ghq8yrnez7W7KYAACAASURBVFgeGph69s7yb6D4ky9A8cefK38Pqi9uevv3LsyAFUhZAVPjopqEE+fJU0B991n3qvS7z4L61tMg33sqLW1pR+SOgIoNJTTxNJmE07F/+1NQ/OkXofjfvwH1o5dAPtxTxlxvfhg+EzZd1sSTYhImHurTy0H98LOgvvYxKP7yVVD/b6CsQViexhi0pWDTZU089XGB2+U7gSz93tSXPgDFP/4c5B27ujzC8vCiZYX7Hkn1sUuhqCTIx48s8w+sr+Zih3pcyk2fw7MC7a+AqTFRTaIc572nbj8Co6ZFbOhUbHiWyvgC6jCZhNOxr7/e7ayW5UC9th6Kv/0hyKVTnLR688PwmbDpsiaeFJMw8VDPvRvksqzDWW24zZl+0/WH5eljgrYUbLqsiac+zrh9fJ5jQuof3r69CYXl3bGrOwX5xfdtXy7g92XE4lOu/XsXZsAKpKyAqWFRTaIch2pWfsf5NOJyXJ88KjaUMCwO5plMwunYvasQH3uza9RPnlIxsDryw/CZsOmyJp4UkzDx1HXhVn3kbVCc+D/fTjwszxtD71Ow6WNNPPVxpm3xPz4Pxf/4F1/8YXnq+Qeg+Jc/VN/n9fl9muo35afc9Dk8K9D+CpgaEdUkynH8jImaFrEToGLDs1TGF1CHySS269jvfKM7VfqxS/0NLGJ+GD4TNl3WxJNiEiaeaEy48EF9+UOgfvC883iBrj8sTx8TtKVg02VNPPVxYVv10YtLU4Dzygamp0PD8uQDM5wFHzj61PF1Of09qW379y7MgBVIWQFTY6OaRDkO1az8jgswl3LsmnwqNpQwKIZON5nEdh37PdNcA1t3gb+BRczXOPy2Jmy6jIknxSRCeY6cAMVCHuRwt8PZHWX91e3Iw/JqzpvG691SsOnjTTz1cYFbXE34h58B3v8qH4MLNF56FJyVhkF5OOrEqePffKc8jYrl1RfeW4lD4Fqu03Bsyk2fw7MC7a+AqTFRTaIcx8+YqGmGBl2uo3QcFRuepdqytd9NJrFdx772OHcKsbSQo978Wjze7yZs+lgTT4pJhPFQYze5Cx5K+nsNLCxP4wvbUrDp8iae+rigrXpmmXvx8YPn3dHkt5527uXhSsSwPPnEMU654q9ec8uhmf3y1dRWIrZ/78IMWIGUFQhq5DqdahL6eFx16DwH5l1GT01rIwNTX/2oM4Wmedd2/FHzdRy/bTMNzMsDp8qKhW2A02i4kENtWlmeQgzL8+NUm9ZIA6utu1W/p9z0OTwr0P4KmBpvJAMbPhjUN59yr27/7cPgPOBJTYtoXoibig3PkomnySTUCw86jwPgQ6zFX3zd4Snv2788dVRvfhg+EzZd1sSTYhKhPJZ3gvreRue5KVz8oMZvdVfxvfAgyLA8wrmlYKPy1Me1+7b9exdmwAqkrICpkVNNwhQnjXwqNpTQVD/VJExx0sinYjPxjGISafAIixkFm4lnWD3tlJdy0+fwrED7K2Bq0FSTMMVJI5+KDc+SqX6qSZjipJFPxWbiGcUk0uARFjMKNhPPsHraKa/9exdmwAqkrICpQVNNwhQnjXwqNpTQVD/VJExx0sinYjPxjGISafAIixkFm4lnWD3tlJdy0+fwrED7KyAH7dfDGjXVJMJipJVHwkb8L+ipJpEWl7C4JGwEnlFMIgxPGnlkbASeaeBreMwSz/bvYZgBK5CiAnIoszmscZJMgnCTPqyOuHlEbJtRPhNPkkk0iScRm5En2SSawDMCNiPPuL+nFivn8Eyx6XNoVqD9FSgMiQVhDZdoEuXVeGGxks4zY7NVYYmYj2fJxJNoEk3hacZG4xnBJBrOk4aNxjPp31nj41V4tn8PwwxYgZQVKAzaI0GN1GwS2/9PskGxkk43YSsM2au80oXxNJtE83iasFF50kyiOTwp2Kg8k/6dNTpeLU/vb5j3WQFWwEcBWCp65KC9Tg7ZW7wN1mQS3mMbve+Pzd6CPJCPD00RxNNkEo3m5q3PH1t0nhST8NbbyP1gbNF5NhJ3cnWF8/T7LXMaK8AKGBTQJmE4rCnZSWLTJtEUIoZKk8KmTcJQXVOyWxlbUwThSlmBJBSQS0RfYdB+VQ7aW5O72mrCNM2gvdXhsUT0+ekyvHZb3/BI/tXhkfzWNaN50H/aJPT3Vtr6YUP8Do+12yLx1CbRSvw0Fj9scXhqk9BxW2kbhC0Oz1biRcVi4unXZjmNFQhUABaLTGHIXiMH7WJbG1ftirJBu1gYtFcjPyS/fj1khkfza9aM5ot+jc3PJPyOa0aaAVtxzUh+NfKj8PQziWZw8qvTgI3MM8gk/OpsdBoBG5lno7EnXF8Vz8AOijNYgTAFcPXapDKuKiOzFa7KQ/4PrS3MD2uABpMoj9TCYqSVZ8I2PJJXw6MFEk+DSTSVpwkblSfBJJrGk4KNyjOt31uj4np5hvVRnMcKBCpgem5oEpib85zJ8Mi2zWEN02QSYWXTzqNgQ354kk08TSaRNpew+BRsFJ4UkwjDkWYeFRuFZ5o4GxVb8wzsoDiDFQhTwPSGirY3sNKT/sMj214Pa5QUkwgrn2YeBRvyw/Ns4kkxiTS5hMWmYKPwpJpEGJa08qjYKDzTwtjIuJpnWB/FeaxAoAJtb1BVU4b+i0aQvKlRUkzCFCOtfCo2Ck+KSaTFwxSXis3Ek2oSJjxp5EfBZuKZBr5mxESe/GEFYinABuauRKSaRDMaOBUb/gBM+KgmYYqTRj4Vm4lnFJNIg0dYzCjYTDzD6mmnvFgdFxdiBVABNjA2sFbp7NjAKo914DnB9pn0uVn09gnYfQ8Fp7y10LSFLLWcuCdmBWIrwAbGBlbboTTre7MNrPeIAhx4kIQ5vQU4aKaE004vwP2PVZtKvdq0wghs9sGSDSx2j8kFW0qBhhjYip1BffF9oL77HKgfvQzqi38HcvlODXuRKgpu6nio03SmOGnkU7FReFJNwo/HNbdMwOHzCpDJKNhvf+l08vsfIOGEUyW8e7j+jp6KzcQzikl4eR7SI2F4xOWx8pE87DlVwUnzkx2pRMFm4unFHmWfDQyV5c+kUKARBqb+ZRTU1z5eNiz1vY2gPr+2/D1tDHiiTA2cahKmOGnkU7FReFJNIojHLcsnHAO77Bq3Y0fjQhOb1V3p/IPKmtKp2Ew8o5iEFxMatPf7MSdImLaPrErz5sfZj4LNxDNO/VgGDezUBckac1wsWA558ocViKVA2uYhV+wCxfxfQH2gr2xY6iOLnTTMS73+oQzpXgLVJOppqHHLUrHhD8BUB9UkguLUGhged+HbXFNbvrK+URgVm4lnFJMI4onpaGB77zs5DeyIeRKOPl4698N2213BlTdUm3eYLknnxeq4uBArgAqkbiBPngLFYhHkg7MrZvXQHDftyVMqaYTl8HGxIk9To6OYxLKVeeg5rABzDy0428OOLMCdD7id9sVXTMCub1Bw8FwJ3XMk7LyLgj32VOC9ql92b94pi9NwM7sknH8RrdOgYEN+FJ5UkwjSy8/ALr3KnVa8YZDGJyg2FZuJZ1IGNn2GhJNOS3akEgWbiWeQjqZ0HIGhea16LA+rn8g708LI1VQurXzkyR9WIJYCcU2BWk597FLXrN69V8Ws7pnmpKl/uKSS1gYGho38zHMqHRp2btNnVhq+t2N44D15ZzEATq1hw8d7KzjVdl7JtO64Pw8dHQpuGjJ3+q1uYAvPdw3snjWTZwR245B7QaIvUJLqvFvFwLyrEHFlIo7CkuIYNU6sjosLsQKoANWI4h6nPnG1a2B37VYxq7t2dw3sE1dX0lrcwG5e5k6T4ShMN9Db73TTMA/Tam+OnztQgL2muR2DLr9iVaX81GkK+i6oGKKOW7ttZQO77Q53WfZxJ1eMvBY/9XurjMDQiA+YLuFdt5svLqjc9HGtaGD9l0zAG3djA2NHaEMF4hoTtRyOspwpxHdPrZjVvXu33Qjs0qtcs7r/8YoB4Uo1XJGHU2jYQdUaGE4R4ko2zHvH1e4oBacP8f4D/uGS7bMvbE8Dww4eR5e4cu/CiyfgwbUVXXRnHXXbCgaG5oXTwNcvSd68UA82sO1/J23YbTLkVlGAakSxj3vyZNfAhg+uGNjDPW7akydX0lp8BKbv81QZ2MN0A3v7Fa4Brnx4+wZs6uhbeQRmwh4lv9kGhtOFaMi33ZmOebGB+f/2W6UvZBxtqEBsY6Iazoqdobjtf0F96LyyWamPXtx2qxD14oWl91YaIXZ0OALDPOycwkZgNyypnm6M0rGzgVU0R92wmYXpF2WUo+PgPcl995ew6OIJZ0UersrTf0k+zBwFm4mnxh51W/s75SnENuy4GbKrQOoGNpRxnvlS3/hkxcC+vwnU50fK39PGQOkIKCZx0CwJp/dVpvxOPM19Y4PuQGo7Bu8UIk6x4XQirmC871G3Q8YVYLjYQ5cP2lKwYVkKT+ooJwiLNnL9HFjQcXHSqdhMPKOYhMb5zuvcKV68IKn9q/fxAF0HbqNgM/H0xqXuI09cHYuLj/Ae3+DdEzD3sALkOhUsviy9kWcYPuTJH1YglgJpm4cTH9/E8aUPuG/i+MELbfsmDuzIsLHjNFPP4QU4fJ6Eu1a7BoRX696OARd44HE77aQAl9hjAx66ZwLm9EpnxReuSDz0zQXwLuoIauStYmC4EOXIY6TTwePrls46r2LmQdijpDfTwKLgrOfYZhtYPdjTKhur4+JCrAAq0BADo043pnQc8jQ1PqpJmOKkkU/FRuFJNYk0eJhiUrGZeEYxCROmpPOjYDPxTBpbs+IhT/6wArEUYANzR1BUk2hGI6diwx+ACR/VJExx0sinYjPxjGISafAIixkFm4lnWD3tlBer4+JCrAAqwAbGBtYqnR0bWPX9UGyfrXJu0sTBPTErEFsBOWi/PqlNbNB+HcXB/7o8rBFSRzlhMdLKo2DT/zW7iSfVJNLiEhaXgo3CM8ooJwxPGnlUbBSeaeBrdEzNM3YHxgV3bAXkUGbzpDawoczmkoFtDmucFJMIK59mHgXb8Mg2Ek+KSaTJJSw2BRuFJ9UkwrCklUfFRuGZFsZGxtU8d+xemNnHVqAwJBZMXgOzVWGJmO8Y2GhhQVjDpJhEWPk080zYhkfy6qG1BRJPikmkySUstgkblSfVJMKwpJVHwUblmRbGRsX18ozdgXFBVqAwaI9MRhMrDNmrvGd3eHRiJKhxmkwiqFwj0k3YhkfzZJ4mk2gEn6A6TNioPCkmEYQh7XQKNirPtLGmHb+Wp7et8j4rEEkBWCp65KC9Tg7ZW9rbzOwtyAP5+Amw5sl8z5qRbeuGR7dt8TZQk0l4j230vh82B//ItnXIJwpPk0k0mpu3Pj9scXhSTMJbbyP3g7DF4dlI3EnVZeLp91vmNFaAFTAooE3CcFhTspPEpk2iKUQMlSaFTZuEobqmZLcytqYIwpWyAkkoIJeIvsKg/aoctLe29Qhs0N7q8Fgi+vx0GV67rW94JP/q8Eh+q/eqUpuEN61V9v2wIX6Hx9ptkXhqk2gVbl4cftji8NQm4Y3dKvtB2OLwbBVOUXCYePq1WU5jBQIVgMUiUxiy18hBu9jWxlX7Fo9Bu1gYtFcjPyS/fj1khkfza9aM5ot+Dc7PJPyOa0aaAVtxzUh+NfKj8PQziWZw8qvTgI3MM8gk/OpsdBoBG5lno7EnXF8Vz8AOijNYgTAFcJXepDKuKiOzFa6yRP64Si+sARpMwvjC3bDY9eaZsOFqruHRAomnwSSaytOEjcqTYBJN40nBRuVZ7++q2eW9PMP6KM5jBQIV4OfAJsebOPTzNLgN65hMJhFWNu08CjYKT4pJpM0lKD4VG4VnUB3tlK55BnZQnMEKhCnAb+KYNAZGeuMIxSSa1QFSsOk3N+A2CCfVJILKp5lOxUbhmSbORsXWPMP6KM5jBQIVmLzTh5ny/zeG5E0N0jRNZyqfZj4VG4UnxSTS5BIWm4rNxJNqEmFY0sqLgs3EMy2MjY6LPPnDCsRSgA1scozAsNPBH4Cp86GahClOGvlUbCaeUUwiDR5hMaNgM/EMq6ed8mJ1XFyIFUAFGmZgSztAPXUjFH/znfLIqFF1I09Tg6aOckxx0sinYqPwpJpEGjxMManYTDyjmIQJU9L5UbCZeCaNrVnxkCd/WIFYCjTERN5zNKhX/wmKP/4cFP/7N2xgo9X/bYap42ADq9YLf+hhmkUxCW+cI+YV4E0HSud/zT5opoQTTpGw8pHqur3Hx9mPgs3EM079tWVOO70AM7tk01ZlIp5YHRcXYgVQgYYY2D3THNNSnxpkA4toXtjA2cCqTQR/t7Udsfd7FJPwljukR8KDa926Vj2Wh2n7SDj2pGQ79yjYTDy92OPuD1wyASeeVmADYztoTwUaYmClZ7PYwKo7Ymqn00oGtvTePBxzgoRZ3RIOO7IAvYcXoPsQCf2XTMDwSDx+WodmTyG+87rqjvy4kyTsve/kNjCtfTO37dlzMuqWUIANzO10qSbRjIZOxYY/KBM+qkn4xbl1xQTsvIuCs84tVJnVnQ/kYf8DJBx5TH2dPRWbiWeUUY4fT5129AkSps+oj5OOpbdRsJl46phxtzcvmwAcde6+h+IRWEv0xgwisgJsYHQDW7YyDz2HFWDuoQVniyMQ7LyxA7n4ignY9Q0KDp4roXuOdDr6PfZUcM0tE+XOYdm9eafs4fPc+w7nX1TJC+uEWsXAZsyWgPeG/LBev2QCMhkFl11bPYrxOzYorZUM7I77807HfulV8fn48WwlA0N8F148wQYWudfkAi2jABsY3cDwavzMcyod2kmnFWC6p0OffbCEo4+XgPdPHnhPHub0FpypNuwocHoNRynnlUwLO8iODgU3DZlNrBUMDPGiQZ15boV/bQeNBo4LIWrTqd9bwcAuv7bgjLp22VXBGecUYPUT7u+DysF0HBvY9nq2TGfIQNpPATYwmoHhdAt24DgK053U7Xe6aZiHaWhgp7y10oGfO1CAvaa50zO6/IpVlfJTpynou6ByvI5bu20FA7vyBpfr268MNlwcne2zn/8IrZaT3/dWMDCN6/7H3Xt9yClJE2MDq/z+tdbt12sy4pZRgA2MZmCXXuV24Nix6YaHS6zR1PQ0U62B4RThnlNdA3vH1QXnWJw+PGKedP4OPEjC2Re2h4EhR+SKIxTNv3bbdbAEnDatTad+byUDQ8x4sYKc0bypHEzHsYFV2o/WqmU6QwbSfgqwgVENzO3AqwzsYbqBvf0K1wBXPrx9A9YNOWjbLiMwnE49YHp7jsBwZHzbHdVGtfQe9/xecX11etB5oqSzgW3/+2+/XpMRt4wCjTAw9f6FoF5+HIo//woUJ/4P1JfeD2rTfSCX5RryUDOKbepcTCZxy3LXgHAZuY51W2kKEfMwLWwEdkNpkYOebtQxKFsTNh2DwpM6ytEx9RYXq+BoxHQPbN6x7WlgeA5PXVA9upx/RsEZUSb5MDMbWKX96N9Wy3SGDKT9FGiEgTW7DkrHTjGJg2ZJOL2v0snhA6DeVXlhBoYPyOJ0Iq5gvO9RtxHjvRVc7KEbctCWgg3LUnjGNTCMj/y8fL14r7/dNfirb4o/WqFiM/GMYhKaAxo0vpGi6xAJPaVn23BBytC74/PRsb3bKNhMPL1x4+xfcX3BWTXb2angjLMLib91hIoJefKHFYilQLPNpRH1ozCmxkQxieUr8zD3sILz7Ax2cofPk3DXateA8D4J3v/BabR33T4BuMADn7HZaSflLLHH+ofumXBeU7Tb7spZkXjomwvgXdQRhJGCDctSeFJNwg/LkrsmAFfn4cIT70PL+jkwXJXpV46aRsVm4hnFJKjYkjouCjYTz6QwNTsO8uQPKxBLgUYYSLPrQGFMjZRqEqY4aeRTsVF4Uk0iiMfy+/LO65XwWTdcjDKnV0Iup0iLUYJi6nQqNhPPKCah627UNgo2E89GYU67HuTJH1YglgLNNpdG1I/CmBoh1SRMcdLIp2Kj8KSaBJUHLnzAKah995cQZ4GKtx4qNhPPKCbhrb8R+1GwmXg2Am8j6kCe/GEFYinQCANpdh0ojKkhUk3CFCeNfCo2Ck+qSUThcfl1Bcjm3GnRi985AXc/aL6v5xefis3EM4pJ+OFIMy0KNhPPNHE2Mjby5A8rEEsBOWi/3myDSbX+Qft1FCbsv6DHxko1iUY2bF0XBZv+r9lNPKkmoeumbgfvnoBzFhWcVxPdsyY9A6PwjGISVH5JHUfFRuGZFKZmxtE8Y3VeXIgVkEOZzakaSOlN9E2sY3PJwDaHNVSKSYSVTzOPgm14ZBuJZ1oGlgR/CjYKT6pJJIE5agwqNgrPqHW34vGaJ/fErEAsBQpDYkETzSXl58BsVVgi5jsGNlpYENaAKSYRVj7NPBO24ZG8emhtgcSTYhJpcgmLbcJG5Uk1iTAsaeVRsFF5poWxUXG9PGN1XlyIFUAFCoP2yGQ0scKQvcp7hodHJ0aCGqfJJILKNSLdhG14NE/maTKJRvAJqsOEjcqTYhJBGNJOp2Cj8kwba9rxa3l62yrvswKRFIClokcO2uvkkL2lvc3M3oI8kI+fAGuezPesGdm2bnh02xZvAzWZhPfYRu/7YXPwj2xbh3yi8DSZRKO5eevzwxaHJ8UkvPU2cj8IWxyejcSdVF0mnn6/ZU5jBVgBgwLaJAyHNSU7SWzaJJpCxFBpUti0SRiqa0p2K2NriiBcKSuQhAJyiegrDNqvykF7a1uPwAbtrQ6PJaLPT5fhtdv6hkfyrw6P5Ld6ryq1SXjTWmXfDxvid3is3RaJpzaJVuHmxeGHLQ5PbRLe2K2yH4QtDs9W4RQFh4mnX5vlNFYgUAFYLDKFIXuNHLSLbW1ctasdB+1iYdBejfyQ/Pr1kBkeza9ZM5ov+jU4P5PwO64ZaQZsxTUj+dXIj8LTzySawcmvTgM2Ms8gk/Crs9FpBGxkno3GnnB9VTwDOyjOYAXCFMBVepPKuKqMzFa4yhL54yq9sAZoMIm63vEXVi8lz4QNV3MNjxZIPA0m0VSeJmxUngSTaBpPCjYqT8pvp5WP8fIM66M4jxUIVICfA3MfujWZRDM7Ago2/TwNbsOwmkwirGzaeRRsFJ4Uk0ibS1B8KjYKz6A62ild8wzsoDiDFQhTgN/EMWkMjPTGEYpJNKsDpGDTb27AbRBOqkkElU8znYqNwjNNnI2KrXmG9VGcxwoEKjB5pw8z5YekkbypQVJGOaYYaeVTsVF4UkwiLR6muFRsJp5UkzDhSSM/CjYTzzTwNSMm8uQPKxBLATawyTECw44HfwCmDohqEqY4aeRTsZl4RjGJNHiExYyCzcQzrJ52yovVcXEhVgAVYANjA2uVzo4NzP0t6vOB7VPvT+Yt98SsQGwFGmFg6ltPQ/EXXwP13eeg+LNXQL34CMgVu5Sn+NLGQOkIqNN0zehIqNgoPKkm0QyeVGwmnlFGOUE8Vz6Sh72mKbj0qvr+l+na+FGwmXjWxo7z/fyLJmDaPhIeXFttnnFixS2DPPnDCsRSIG3zwPjq+5sqZnXX7lD8w89AfX6kkla19L1y7yopbCiMqXFRTcIUJ418KjYKT6pJ+PG45pYJOHxeATIZBfvtL2FWt4Q3HSidDvC00wuw+on6OkEqNhPPKCbhxxPT5h0rHZ6T3cDw/3I74ijZtMcKUOtYHRcXYgVQgaRMIiyO+rsFVWalXlkHxd/+sCotrHy9ecgzqKPS6RSTWLYyDz2HFWDuoQVne9iRBbjzAbfTvviKCdj1DQoOniuhe46EnXdRsMeeCrDT13UsuzfvlEUTmNklAa9+dV7YloINy1N4Uk0iCM8tyyecjv2yayojkxsHJ2DKFAULFlbSgsqHpVOxmXjWa2AXvWMCFp7vGvVkN7Cw89GoPDyf/GEFYilQrznEKe8a2A/azsCmz5Bw5jmVTvqk0wowfWbl6nX2wRKOPl7Cqsfy8MB78jCnt+CMUrAjGB7Jw/4HSDivZFp33J+Hjg4FNw2ZTazVDQz5HTRTwszZFS3idH6tYGBD90wAXpjgaBJHmpPZwG670+WKPOOcr6TKxOq4uBArgArEMaB6yxR//hVQ/zLaVgZ28zJ35IGjMN1wb7/TTcM8TEMDO+WtFYM7d6Dg3EfBPF1+xapK+anTFPRdUDlex63dtoOBHTBdOqPLWuxRvjfbwNC08KLjrtX5HcLA8Ny88zp3pBnlPCV9LPfErEBsBeo1o8jl1x4PxT//DuR9b2orA7v0Ktes7n+8YkB4o997lV5rYDhFuOdU9+r2HVe7HQVOHx4xTzp/Bx4k4ewL29/AUBucQrz6ZvNoMqzza7aBnbqgAFdc756PHWEExgYWu9vkgq2iQGQDqmfBxT3ToPiLr4N876kNMy/kh1qHdZyYZxrl4FQSmlWVgT1MN7C3X+Ea4MqHKwZowqTzTdj0cRSeVJPQMWu3+h4YjrgO6ZHwxt0U7La7gutvr8+8sB4qNhPPOPfArrpxAk5+S+Vigg0s+u+09rdC/d4qfSHjaEMFGmZg90wD9YMXQD55ckPNKykD0x330nsrDRvvIaCpYR421rAR2A1LqqcbqY0bj2tFA9OLOHCaFDXAhRxROPkd20wDO/QIlwdyqf3D8+qHN05aFHM1GXWc+mvL8BRiG3baDLmiQEMM7L43gfr+ZpCPHt5w80rKwLDhHzRLwul9lav0E08rOIsXdKcQZmD4nA1OJ+IKxvsedU0Qr/JxsYcuH7RtZQNDDvvsJwFHZPU+S9RMA8N7m3ghov/0PUuc4l16j/kcBZ272nQ2sO21rPRGvMcKRFQgdQNbdSAUf/MdUE/dAOoDZ1f9NephZpSktiOp/U4xieUr8zD3sIIzddZzeAEOnyedG/4Y68obJpxl87gq8V23TwAu8MAptp12UoBL7PEYXOE2p1c6U264IvHQNxfAu6ijFpP+TsGGx1J4Uk1C11271SNRPQLDfLxvhKMW38oQ0wAAIABJREFU6mMBtTH1dyo2E88oJqHrrt3yFOL2RlOrUVLfI3ZZfDgrUFEgbQNT686HYrHo+ydXz2rIiAzZmhob1SRMcdLIp2Kj8KSaRBAPPwPDY9Gs8dk3XMEXVNaUTsVm4skGRj8HPIVY6Qt5rw0VSNvAWiG+qcPDjpVqEqZOOI18KjYKT6pJ+PG4YXACcOSJoy18C4f3mbgld004z7XhVCIuWPErb0qjYjPxTMLATFjj5kfBZuIZF4O3HBsYqsyftlWgFQwmbQx4cryN1m+fahJ+ZdNOo2Kj8KSaRNqc/OJTsZl4RjEJPxxppkXBZuKZBE5cXYurSJOIFTcG8uQPKxBLgbTNoxXiozCmxkU1CVOcNPKp2Cg8qSaRBg9TTCo2E88oJmHClHR+FGwmnvVgG7h0wnlYG1+Zhfdy64lVb1nkyR9WIJYCrWAwaWNAYUyNjGoSpjhp5FOxUXhSTSINHqaYVGwmnlFMwoQp6fwo2Ew868F2weIJ6DpYOu/uxMVJ9cSqtyzy5A8rEEsBOWi/nraBNDX+oP06ChP2X9BjA6SaRL2NNU55Cjb9X7ObeFJNIg7OestQsFF4RjGJejFHLU/FRuEZte5WPF7zjNV5cSFWQA5lNjfVYOp5swet7OaSgW0Oa8AUkwgrn2YeBdvwyDYST4pJpMklLDYFG4Un1STCsKSVR8VG4ZkWxkbG1Ty5J2YFYilQGBILJq+B2aqwRMx3DGy0sCCsYVJMIqx8mnkmbMMjefXQ2gKJJ8Uk0uQSFtuEjcqTahJhWNLKo2Cj8kwLY6PiennG6ry4ECuAChQG7ZHJaGKFIXuV9wwPj06MBDVOk0kElWtEugnb8GiezNNkEo3gE1SHCRuVJ8UkgjCknU7BRuWZNta049fy9LZV3mcFIikAS0WPHLTXySF7S3ubmb0FeSAfPwHWPJnvWTOybd3w6LYt3gZqMgnvsY3e98Pm4B/Ztg75ROFpMolGc/PW54ctDk+KSXjrbeR+ELY4PBuJO6m6TDz9fsucxgqwAgYFtEkYDmtKdpLYtEk0hYih0qSwaZMwVNeU7FbG1hRBuFJWIAkF5BLRVxi0X5WD9ta2HoEN2lsdHktEn58uw2u39Q2P5F8dHslv9V5VapPwprXKvh82xO/wWLstEk9tEq3CzYvDD1scntokvLFbZT8IWxyercIpCg4TT782y2msQKACsFhkCkP2GjloF9vauGpXJA7axcKgvRr5Ifn16yEzPJpfs2Y0X/RrcH4m4XdcM9IM2IprRvKrkR+Fp59JNIOTX50GbGSeQSbhV2ej0wjYyDwbjT3h+qp4BnZQnMEKhCmAq/QmlXFVGZmtcJUl8sdVemEN0GASTX3Q04QNV3MNjxZIPA0m0VSeJmxUngSTaBpPCjYqz7DfczvkeXmG9VGcxwoEKsDPgblvITCZRDM7BAo2/TwNbsOwmkwirGzaeRRsFJ4Uk0ibS1B8KjYKz6A62ild8wzsoDiDFQhTgN/EMWkMjPTGEYpJNKsDpGDTb27AbRBOqkkElU8znYqNwjNNnI2KrXmG9VGcxwoEKjB5pw8z5f9rDMmbGiRllGOKkVY+FRuFJ8Uk0uJhikvFZuJJNQkTnjTyo2Az8UwDXzNiIk/+sAKxFGADmxwjMOx48Adg6oCoJmGKk0Y+FZuJZxSTSINHWMwo2Ew8w+ppp7xYHRcXYgVQATYwNrBW6ezYwNzfoj4f2D71/mTeck/MCsRWoBEGpl5bD8VfvQbqexuh+LNXQP3r34K8a/fyFF/aGCgdAXWarhkdCRUbhSfVJPx4XnPLBBw+z/0fmffbX8JBMyXsf4CEE06V8O7h6s7Xr7wpjYrNxDPKKMeEKen8KNhMPONgu/y6gnPOeo8oNG0lZi1u5MkfViCWAmmbB8ZX398McmmHa1h37ArF3/4Q1Jc+0HYGducDebhxaKLhDb9VDAw7nluWT0Amo+Cya9wOEI0LTWxWt4ThkfpMrNkGdkiPdLghP/133EnJ/mePzTYwPIfHnCCBDSxWd8mFWk2BhhjYuvOrzEp96f1Q/O0PqtLSxIGa11711X6nmMQJp0g4/yI2MK+BoY4Xvs01tXr/Y8RmG9jcQwtw9U0TVX+Ddyd7vtnAtr/IabU+kfG0kQJpGkdQbPVvH4biz7/SVgaGnXTnTqo8/XLNzRMwfaaEnXdRgP8tux59eDu8t10+AXvvK+GtZ7mjlWUr89BzWAGwo8TtYUcWAEd1tWZa+51irliGYtRUk6jFoL/XjsAw/dKr3GnFGwbr6+yp2Ew8o5iE5oXbuYelP60WBZuJpxd7lH0egbVRB81QwxUIMpnU0u+fDsU//QrUR97WVgaGHcSeU1XVCOyd17kdtzah1U/kYdc3KLix1JGjqeF/2647l+kzJJx5TqWTPOm0gmOCOj9o2+oGhgaOo7J71pjNOIgjprOBVevXCAN74D15wKnT7kMkvOv2+i5Aws5tWF54D8W5rECIAqkZVdUrnTKgPnyhM+oq/u/vQW1aCXJZtu0NDA1rl10VnL/YbfhXXO925Ce/xTWpm4YmYP4Z7v7Ny9xpNhyF6cZ8+51uGubpNL9tKxvYbXdMwO57KDju5IpR+3GgpDXbwOb0FuCIee7IGPdPXVBIZHGKl3urjcCW3pt3FuagkXlxNnI/pHviLFYgXIFGGVi5nhU7g3plnbMaUS7LNcTEUAFTg6SYRO0IDGMefYIsj7KOPl7CKW8tOB36g2vz8JazCqDN6dKrXLO6//FKR7HykbwzcsEpuDB8FGxYnsKTahJBePQU4gHT3YUbePV+4cUTgHyDylDTqdhMPKOYhBcbnhvN4/7H8nDkMRLedKAEvFDxHlfPfhRsJp5xcegpxHsfyjvT2CsfTo5fHEzIkz+sQCwFysZSM2JKNf3B2VAsFkF9oK/tDeyqGyego0PB8vvwSlY6W5xOu+7WCeg9vGJM+j5RlYE93L4Gplchxumwgso028BqcS25y73ouH5J+Ai5tlzY91YxMLwPi9OGeI82SYMO4x6UF6vj4kKsACqQqlGhKT5wEMhHj6g2quGDXQP74DnV6SmZKPIMajw6nTLK8RuB4RX7G96o4OC5EnDRBsabMVs69xVOO71iYHrkglM2us7bSlOImKfT/LYUbFiOwpNqEn44ME3z2BEMDB8RwIsRHD0H6RE1vVUMLJdTcNm1BWcRUt8Fld9pVD5JHM89MSsQW4HUDew9R4F6+bEqo1KffQiKf/x5wx5mpnTsFJPYZz8J88/cvrHj/Z9sTsF9j7jmhPfEsOOrfWbsoFkSTu+rlD/xtILzMLCpE6BgwxgUnmxglQsIr+6rHsuX72Xq9FtXuOfxpqWTz8D07MA5iwrO6to77vfXRWuR5jZ258UFWYHUDWzVAVD8yRdA/eglUN9+BtQPXwR8M4d8aE6VqaWJg9KxU0zi3H63seMIS680xIZ97S0Tzr0E3cjxyn3qNLXdVTs+J4VLtfG+Uc/hBWfK8a7V5o6Dgg3rpvCsx8Dwfh7eF0JzxkUOZ51XMWPNvZ4tFZuJZ5RRjsaLixi6Dqk8jI0rSI89UTqjaX1fTB9bzzYKNhPPuDj0PTAsj9OHeGF2xFH1L8KJiwd58ocViKVAmsbRKrFRGFPjopqEKU4a+VRsFJ5Uk0iDhykmFZuJZxST8GJCAzvwIOk8o4f3h9DAknhFlreOKNhMPL1xqfu4VB7fnDJ178oMAd4Pw4sS75Q3NV4SxyFP/rACsRRoFZNJEwcKY2poVJMwxUkjn4qNwpNqEmnwMMWkYjPxjGISJkxJ50fBZuKZNLZmxUOe/GEFYimQpnG0SmwUxtQ4qSZhipNGPhUbhSfVJNLgYYpJxWbiGcUkTJiSzo+CzcQzaWzNioc8+cMKxFKgVUwmTRwojKlxUk3CFCeNfCo2Ck+qSaTBwxSTis3EM4pJmDAlnR8Fm4ln0tiaFQ958ocViKWAHLRfT9M8mh570H4dhQn7L+ix4VJNohmNnIJN/9fsJp5Uk2gGTwo2Cs8oJtFonlRsFJ6Nxp5GfZpnrM6LC7ECciizuekmk9LzXyVem0sGtjmsAVJMIqx8mnkUbMMj20g8KSaRJpew2BRsFJ5UkwjDklYeFRuFZ1oYGxlX8+SemBWIpUBhSCyYvAZmq8ISMd8xsNHCgrCGSTGJsPJp5pmwDY/k1UNrCySeFJNIk0tYbBM2Kk+qSYRhSSuPgo3KMy2MjYrr5Rmr8+JCrAAqUBi0RyajiRWG7FXeMzw8OjES1DhNJhFUrhHpJmzDo3kyT5NJNIJPUB0mbFSeFJMIwpB2OgUblWfaWNOOX8vT21Z5nxWIpAAsFT1y0F4nh+wt7W1m9hbkgXz8BFjzZL5nzci2dcOj27Z4G6jJJLzHNnrfD5uDf2TbOuQThafJJBrNzVufH7Y4PCkm4a23kftB2OLwbCTupOoy8fT7LXMaK8AKGBTQJmE4rCnZSWLTJtEUIoZKk8KmTcJQXVOyWxlbUwThSlmBJBSQS0RfYdB+VQ7aW9t6BDZob3V4LBF9froMr93WNzySf3V4JL/Ve1WpTcKb1ir7ftgQv8Nj7bZIPLVJtAo3Lw4/bHF4apPwxm6V/SBscXi2CqcoOEw8/dosp7ECgQrAYpEpDNlr5KBdbGvjql3JOGgXC4P2auSH5Nevh8zwaH7NmtF80a/B+ZmE33HNSDNgK64Zya9GfhSefibRDE5+dRqwkXkGmYRfnY1OI2Aj82w09oTrq+IZ2EFxBisQpgCu0ptUxlVlZLbCVZbIH1fphTVAg0ls92LesFhJ55mw4Wqu4dECiafBJJrK04SNypNgEk3jScFG5Zn076zR8bw8w/oozmMFAhXg58Dct8GbTKLRjdtbHwWbfp4Gt96ytfsmk6g9vpHfKdgoPCkm0Uhe3rqo2Cg8vXHbdV/zDOygOIMVCFOA38QxaQyM9MYRikk0qzOkYNNvbsBtEE6qSQSVTzOdio3CM02cjYqteYb1UZzHCgQqMHmnDzPl/28MyZsaJGWUY4qRVj4VG4UnxSTS4mGKS8Vm4kk1CROeNPKjYDPxTANfM2IiT/6wArEUYAObHCMw7HjwB2DqgKgmYYqTRj4Vm4lnFJNIg0dYzCjYTDzD6mmnvFgdFxdiBVABNjA2sFbp7NjA3N+iPh/YPvX+ZN5yT8wKxFaADYwNrFU6RzawxhrYFddPwMFzJew5VTVtVSb+9mJ3XlyQFWi4gd21OxR//xNQH3lb+R5V2hjwLJs6aep9JlOcNPKp2Cg8qSYRxGPpvXk45gQJs7olHHZkAXoPL0D3IRL6L5mA4ZHqDjgoRlA6FZuJZ5Rpulos19wyAd1zJPQcVoCDZrrb2mPq+R4Fm4lnPTh02fMvmmADQ6H5054KpG0etfHVVz8KxWKxLQ3szgfycOPQRMOvVlvFwG5dMQE776LgrHMLVWaFuux/gIQjj5F1adNsA7t+yQTstruC5SsrRnzEvEJdnLRR6C0bWEVbrUl79pyMuiUUqDWYNL+rT1wF6tm72tbATjhFAl6x6obXqG2rGNiM2dIZlfjxxs4/k1Fw2bXxO/xmG9jMLgmnLqjG/+Da7TtcP/7UNDaw7fVsiY6QQbSnAmkaVlXsNYeA+uYYyGW5tjSwC982AZ07KWek0XtEAa65eQKmz5TOiGTh+ZURyeDdFYN72+UTsPe+Et56ltspLluZd6am5h5acLY4BYejF1Pn1woGdsf9ecegzjy3uoP3Yt/1DQrqGbE008DePezyu+L6YH5ernH32cC2/723Z8/JqFtCgSqTqXoNU+U5qrqPWZYD9d3nQN63P8hl2bY0MOyw8Ga3dwT2zusKTqeuTWj1E3nATvzGQdfE8J5Q18GVabXpMySceU6lgzzptIJjgqbOsBUM7Mob3BHW26+sGHQtbrxntM9+Fb61+abvzTSwd93u8jvjnIJzbw+54Lm7+uZgviY+fvlsYGxgLdHxTxYQdZsTwfTUy4+B+tC57qKNSWRgaFi77Krg/MVuJ4dX7ziNdvJbXJO6aWgC5p/h7t+8zO0gcRSmO7bb73TTME+n+W1bwcAuvcrldnnIFCF2+HvsGX9FWzMNTF+MXH5dAfS04XkDBchmFSy/r3LO/M5PlDQ2sO21nCx9KfNoggJpG5h6/0JQn19bWXE4iQwMO66jT3Cv1J394yWc8tYC7L6HcjrBt5xVAG1Ol17lmtX9j1ca8MpH3GkrNIewTrAVDIwyAsMp1QOmt+cI7Oqb3POz5K7KxcQD73HPzwWlC5Swc0TNYwOr/P61Zk3o9rjKyaJA6gb2rQ3OlCGuPNzu78efqxgbYSQXFyueK91YgrYUk6idQsRYV904AR0d7lX64fOkc7WOo7Drbp1wlpjr+vQIpsrAHm4fA8NpUuRlugc279j2NDB8PAD51U4Z7rSzgjPODr/A0OeYsmUDYwObLN7REjzimgK53IOzQT4+r/L3xDHuPbBPLwc5fHDbGxhON73hjcp5IBQXbWAnhqv1DumRcNrplY7vluXuFT52lLqju600hYh5Os1vSzFXLEcxauo0nR+O2QeHrEIs3UPCkYxfWUoaFZuJZxST8OLCC5S+CyrnDKeI0dQWXxafkzc+7kfBZuJZGzvOd34OrCW6YQYRVwGyESU1QmrjKURcoDD/zEoHpzuM406WkM0puO8R15zwnhh2fLXPjB00S8LpfZXyJ57mPiyr4wRtW8XAcHoN7/lhJ+99aFk/B4aLUoI4UNKbbWCL3j4B0/aWsOpR9zxedk3B4XvvQ5WLDgqPsGPYwLbXMm7fxeVYgca/C7GNDezc/oKzlB5HWHqlIXZW194y4axc0x0XLsmeOm37xQz4gOzcwwrO6Kzn8ALglONdq7dv0DqO3raKgSEeXNBw7EnSeVvFEfMkzOmVkMspOPvC+swLYzfbwBDDOYsKgCPNw+cVnFE1LsTR5yGJbSsZGC46wreO7LSTOzV8X8m4k+AZJQZ3w6xAbAUaPgJLaiQXIQ6KY2pQVJMwxUkjn4qNwpNqElQet90xAZ2dCvbdX8LKh81mHBaXis3EM4pJhOFJIy8KNhPPNPA1Iyby5A8rEEsBNjC306WaRDMaOBUb/gBM+KgmYYrjzcel5ziFiq+TuvidE3D3g/GMjIrNxDOKSXh5NGI/CjYTz0bgbUQdsTouLsQKoAJsYGxgSXRS+AYSnH678OIJuGcNG1iQpmxg2/82uCdmBWIrIAft1ye1iQ3ar6M4Yf8FPXY21FFOUMeUZjoFm/6v2U08qaOcNPkExaZgo/CMYhJBWNJKp2Kj8EwLYyPjap6xOzAuuGMrIIcymye1gQ1lNpcMbHNYw6SYRFj5NPMo2IZHtpF4UkwiTS5hsSnYKDypJhGGJa08KjYKz7QwNjKu5rlj98LMPrYChSGxYPIamK0KS8R8x8BGCwvCGibFJMLKp5lnwjY8klcPrS2QeFJMIk0uYbFN2Kg8qSYRhiWtPAo2Ks+0MDYqrpdn7A6MC7IChUF7ZDKaWGHIXuU9u8OjEyNBjdNkEkHlGpFuwjY8mifzNJlEI/gE1WHCRuVJMYkgDGmnU7BReaaNNe34tTy9bZX3WYFICsBS0SMH7XVyyN7S3mZmb0EeyMdPgDVP5nvWjGxbNzy6bYu3gZpMwntso/f9sDn4R7atQz5ReJpMotHcvPX5YYvDk2IS3nobuR+ELQ7PRuJOqi4TT7/fMqexAqyAQQFtEobDmpKdJDZtEk0hYqg0KWzaJAzVNSW7lbE1RRCulBVIQgG5RPQVBu1X5aC9ta1HYIP2VofHEtHnp8vw2m19wyP5V4dH8lu9V5XaJLxprbLvhw3xOzzWbovEU5tEq3Dz4vDDFoenNglv7FbZD8IWh2ercIqCw8TTr81yGisQqAAsFpnCkL1GDtrFtjau2jdzDNrFwqC9Gvkh+fXrITM8ml+zZjRf9Gtwfibhd1wz0gzYimtG8quRH4Wnn0k0g5NfnQZsZJ5BJuFXZ6PTCNjIPBuNPeH6qngGdlCcwQqEKYCr9CaVcVUZma1wlSXyx1V6YQ3QYBKJvg8vDIdfngkbruYaHi2QeBpMoqk8TdioPAkm0TSeFGxUnn6/lXZK8/IM66M4jxUIVICfA5scb+LQz9PgNqwTM5lEWNm08yjYKDwpJpE2l6D4VGwUnkF1tFO65hnYQXEGKxCmAL+JY9IYGOmNIxSTaFYHSMGm39yA2yCcVJMIKp9mOhUbhWeaOBsVW/MM66M4jxUIVGDyTh9myv9ZJpI3NUjTNJ2pfJr5VGwUnhSTSJNLWGwqNhNPqkmEYUkrLwo2E8+0MDY6LvLkDysQSwE2sMkxAsNOB38Aps6HahKmOGnkU7GZeEYxiTR4hMWMgs3EM6yedsqL1XFxIVYAFWADYwNrlc6ODcz9Lerzge1T70/mLffErEBsBRphYOr7m6BYLFb9qS+9vzzFlzYGSkdAnaZrRkdCxUbhSTUJP57X3DLh/E/FmYyC/faXMKtbwpsOlDBtHwmnnV6A1U9Ud8B+McLSqNhMPKOMcsLwpJEXBZuJZxr4mhETefKHFYilQNrmgfHVd58F9b4zq/7kwz1tZ2B3PpCHGxP+L+YpHUarGBhivWX5BKCBXXZNobwU/cbBCZgyRcGChZU0Cq/aY5ppYDvvohxeyM3795az6uNUy5ENbPuLnFgdFxdiBVCBhhjYdz7TMLPy44M8azuS2u8UkzjhFAnnXzRR7rhrY6T1nYIN66bwpJpEEBc/A8NjD5opYeZsWZc2VGwmnlFMQvNE7FffNFH1N32GhCV3JXu+o2Az8dTY232LPPnDCsRSwK/DTzpNTQIDu/BtE9C5k4L9D5DQe0QBrrl5AqbPlIBX7gvPL8DwiHtlif8zse5Q3nb5BOy9r4S3lq7il63MQ89hBZh7aMHZHnZkAXBUp48P2raDgR0wXTq8gjhQ0ptpYG+/onLeEOvSe/LQe3iyoy+Mywa2/e89VsfFhVgBVCBps/KLp777HKjX1oP65lPg7L/0KMh7927YqAx5mjpQiknsOVVVjcDeeV3BmW7SJoT3gHZ9gwKcUsP60NS6Dq6MSvCK/sxzKp3iSacVHBNMAhvGoPCkmkQQJr8R2KVXuVOIV99cbQJBMYLSqdhMPKOYRBCWY0+UgPf8gvLjpkfBZuIZBQNeTL3hjQq650jnb6edFeDv+ZIrJ+D0vgJM21tCZ6eC406u/F6jxK/nWOTJH1YglgJ+hpN42oqdQS7tcA1rxS6gvvZxKP7yGyCXZRtiYiiMqYHFMTA0rF12VXD+Yreju+J619BOfotrUjcNTcD8M9z9m5e5945wFKax3H6nm4Z5Os1vS8GG5Sg8qSbhhwPTtIHhiOuQHglv3E3BbrsruP72cA5B8bzpVGwmnlFMwlu/3scLkhmz0unIo2Az8dR4qVs0ryOOknDX6jzc+1Ae5vQWYOo05UyTrnosDxe9w/094uiTGjOJ45Anf1iBWAokblZV7yKsPExcVc8jhzorEuWTJ7e1gWHjPfoEWR5lHX28hFPeWoDd91Dw4No84AIAbU44SsHFAfc/XukcVj6Sd9IuvaoyKvPrEFrRwPQijnMHXNPWo04//NS0VjEwPIcX10wpUjmYjmu2gZ00v/JbW3TxhHPxoTGvfNj9PV53a/0XIzomZRur4+JCrAAqUGUsFPNJ4ph793EMTH304rY3sKtunICODgXL78vD4fOks0Wjwk7Aew8FTWo7Ayt1GO1sYDgK3Wc/CTgiQ9OmdFhBx7SCgeHIZN/9Zd2PBARxbCUD679kwhlBa6z3Peoa2LUpTJ3qOvy23BOzArEVSN3A7tgV1Pgt1Ub12JvdEdgTx1anJ2GOPjFQHL+G402jjHJq74Fheey08d7CwXMl4H0GTJsx251ew2ejdB166m3pvZVO/rbSFCLm6eP8thRsWI7Ck2oSfjgwTfPQIzBM01On9a7QpGIz8YxiErU8zzinAGdfWDlvtfn1fo+CzcQzKhacQvSOwNjAUGH+tLUCqRvY8k5QP3qpyqjUlz8IxZ9+sXJfzMd0ksSFJ8jU2CkmgSON+Wdu37nhje9sTsF9j7jmhPfEcLRV+8zYQbOkc8NcYznxtIKz/Fx/D9pSsGFZCk+qSQRh8TMwPBbvh+GKTLy/ElTWlE7FZuIZxSS8mPA+EN4Twqldb3qS+1GwmXhGxcUGhoryZ1IpkKRRBMVCAyv+4mugvvNpUD98EdDA5L37VJlaUNkk0vGEmRo7xSTO7S84S+lxhOW954NTLrgkXtfx7mG3I9Tf9Xb5yjzMPazgdPY9hxecKUdKh0/BhnVQeFJNQmP2bm8YnADEjeaMb+HwrqjE56VwKhWnEmuXpHtjhO1TsZl4RjEJLx68n4f3v7xpSe9HwWbiGRUbGxgqyp9JpUASBtHqMfCEmRo71SRMcdLIp2Kj8KSaRBo8TDGp2Ew8o5iExoT38vaapmDFqvRGX1hXFGwmnho7ZfvOdxVgz70UHHiQdKZ8b1o64Ty3l+t0n2PE2QN8XhEvTo46TgJehFHiJnEM8uQPKxBLgVY3nyTwoTCmhkY1CVOcNPKp2Cg8qSaRBg9TTCo2E88oJmHClHR+FGwmnklja1Y85MkfViCWAkkYRKvHQGFMjZNqEqY4aeRTsVF4Uk0iDR6mmFRsJp5RTMKEKen8KNhMPJPG1qx4yJM/rEAsBVrdfJLAh8KYGifVJExx0sinYqPwpJpEGjxMManYTDyjmIQJU9L5UbCZeCaNrVnxkCd/WIFYCshB+/UkTKJlYwzar6MwYf8FPTZcqkk0o5FTsOn/mt3Ek2oSzeBJwUbhGcUkGs2Tio3Cs9HY06hP84zVeXEhVkAOZTa3rPkks7x+c8nANoc1QIpJhJVPM4+CbXhkG4knxSTS5BIWm4KNwpNqEmFY0sqjYqPwTAtjI+NqntwTswKxFCgMiQWT18BsVVgi5jsGNlpYENYwKSa6RrBUAAAgAElEQVQRVj7NPBO24ZG8emhtgcSTYhJpcgmLbcJG5Uk1iTAsaeVRsFF5poWxUXG9PGN1XlyIFUAFCoP2yGQ0scKQvcp7hodHJ0aCGqfJJILKNSLdhG14NE/maTKJRvAJqsOEjcqTYhJBGNJOp2Cj8kwba9rxa3l62yrvswKRFIClokcO2uvkkL2lvc3M3oI8kI+fAGuezPesGdm2bnh02xZvAzWZhPfYRu/7YXPwj2xbh3yi8DSZRKO5eevzwxaHJ8UkvPU2cj8IWxyejcSdVF0mnn6/ZU5jBVgBgwIgxOslo9jTcGhDs0GIPUu4/jOJiu1pxd+gUYg3QkvxRDyIy55arJvn8o6Nv0GjGBSbW4oj4nEMrGNT3RyT+C1wDFaAFZgkCoAQm0pGcUIrUQIhTijh+kwSuDLTihsdA9sTWoqn2BNOcEZgU4t181zRsXEjGsWyjk0txRHxIK7lHRvr5pjEb4FjsAKswCRRAIQYSNIokpIFhNhYwnVmIjH3gkVJGUUieEpBPMZaN89lmU2LWtEotLEu79hYN8cktedYrAArMAkU8IzCngUhTgQhdmsGLRBir1L9z5XM6+kkcWSmFTeVTOxZsSecKPaApvAUb4C9sP7M1OJzJTyJ8VzesWlTabru2Ts6nj/xDvHZpnC8S7y4F9a/vGPTcy6ejYlxTPI3wbFYAVagzRUAIfYFIT5bMo3yw81N/v4CCLF3otJOg30zU4ufdUxjWhFaZPuC2BUS47lcPLfv8o5Nn3VMY8qm8kt0m/q9Y+MLy8TziXFM9DfBwVgBVmByKABCXAZCbAAhft0k8/oVCDGGONJUNLMXXJaZVtxgTy3+uhkmZk8t/iozrTiGONLiuSyz6bLlHZs2rOjY9OtmmNfyjo2/Wt6xcQxxpMWR47ICrAArwAqwAqwAK8AKsAI7rgIgRNeOy56ZswKsACvACrSlAiDEV0tTjvu3JQEGzQqwAqwAK7BjKgBCPF8ysHN2CAV2g1mTleed4sVJy22ynjPmxQqwAnUoAEI8XDKwe+oI0xZFM1OLX8OFH2IvmNsWgCOAXN6x8Yu44GN5x8bTIhTjQ1kBVoAVaF8FQIiLSwY23r4saMid1YP46qe94GZaifY5annHxsfdFYsbP9g+qBkpK8AKsAJ1KABCnFIysC/XEaYtiqJxlZbeP98WgCOAXDrl+aMcA+vY+MdV4nMdEYqmfmjuQtGX68+8kOu3t6ReWVIVnC/2z/XbH8oNZEBcKGYkFZbjsAKsQIIKeN5b+JUEw7ZmqKmwnz21WLSnFmWSDyC3CtkVUzb92DGxzKbzWwWTxjFlwL6lHQysY5E4A00rd744JLtIHJqGgXnr0PrwlhVgBWIoAEIcWxqBfS1G8bYrkplWfB5HYfZUWNJ24A2AV3Rsus+5DzZl47ffJb4+xXB4Q7PbxcByA6LbMa3FYqeygfWLg5IUy1tHknE5FiuwwykAQswrGdirOwL5zDS42DWw4jcmG98l4nO76/+WZUVm09+2Er92MTDRJ3K5fvt11M5jYAckqqWnjkTjcjBWYEdTAIR4a8nAXt5RuNvTir9zViPuCWdMNs7LOzafsrxjU9EZiWU2nZ0Uv1y//SSOTLIDmaexY8e42QFxYbbf/nZuwP4b/J5bZC/LDWRezA7YH8sO2N/I9otFuv4qA7tAHJgdyIxnB+z/dfJxtNNv35Ptt4u5ReJcXSa3yB7Ee2fZ/syGXH9mk1gspjt554mds/32JzA9O5B5zsnThTzb7IDozQ7YPwj6m3KhONZzeHkXOeIXbWDZfvvvswP2a7kB+zfZAfsjYnHlhdnZAfufs/2ZZ7L99iez/ZmvZAfEHB0oTA9dhz6Wt6wAKxBDARDi2pKBfThG8bYsYk+FwdJijlfakoAB9IqOzQ86BtaxceudYlNSCxCs3ID9U+zMPdXb2GmL+cJZNJLtt+/W+7l++9Zcv/0zfWyVgTnmkHl72cBKB2UHbKkNLNsvLsr1278QZ4pdMDvXb38g25951tkf+P/tfQmYHFW1/+nbPRNZs0w3IGsgPUB6WGSTJYCTrg4aRSQzBBDX9wR5ImgmSU8gbIEwQRDJhD/K8wmI4gIIhrV7EpBFUUBWZV80EcImS1AEMum6df7fqa7bU9NT1dPdU1XTy8n3TarqLuee86u699fn3lO3RLq1K/wbJbu1SyxR514eFYFNmAO7mnKPgq1bu8TzrV3iatVOa7c4Z+g8fJMdn1J4qDp8ZAQYgTEggAAXWgTW8O+BDcGEH6OvKJteWBQLv/iH8uv7bC7cEO5tyTxmkdjri2Bgby8sap0jFrV2iQ9gNmxJ8iLHwBGtXWKZk2wioNZu8ZHKq5jAusO3tXaLwo+qlq7wVxThUZutXeJRRW6qDa+PisDsUYgT5ojvtHaLQQAQxe2RJ+rqDRbhUVyXrxkBRqAKBBDgeovAmmrncRVSL6KNtxZGj8F8WLVDuiX7LJFYbyT7/qJI9tNVPB7Dq8yFGA3eLd3iW5TR2iV+AUfDNFXIJK0ucZ0Zfm5O/YkNKq9yAhN/be0Wz+an5sR1E7rDmdZu8RTMhU3MCMEu8faELvFWS7foL0wtqsasY7VTiEqMM4HBkWaQRxd8nLxNk9S7xfWmh9gtnprQFR4o1CfScsFDleEjI8AIjAEBBHjBIjBzXWMMouqsKraIqPEP0wtrw646U74sdU+DzJbpSPZPliem94YH/qusiiUKtXaLX9H6Fq0DtXaHb1NFW7rhwNZusVERmkVm1RNYl3i+pUssV/JHHI+GSUSkrd3i6dZu8Q4QoXj8z4nAWruh2ySwo2CL1i7RS+1DJ3yMmrY8MJPARsPDY1VZHCPQfAggwNYWeb3TfNYDhKN4IhGYiBpPN6r9S+Dp1nQke7PpieW3mrq1F+6seiutSBccTgP4hG7xf61d4eMUbkQm5pqVlTAqgXWHj23tFh+q+nS0r4FN6A6vshOkvRx8AXYoXJNH1iXebJ0T/lIhzaMTJwKb0C3SFMxBTeQDOMTPVXPDCaw0HqoOHxkBRqBKBBDgeIvAbq5SRJ1Xw7CIGS+aAR1R/GKdG1NCfQylI9lLFYn1RjKytyV7DU0zlqjkmkVTeTR9B3OhVRWiiENzbYgiBWlqrUuc3drlPoUY6YIZRIREiAAQomlAO4G1dIVPbO0SOVpnU22oNa+WbnFpwePaD1omdInXInPg0EI5j05GEBh5XeTxUbAKALR0ixWt3eIvFHoPpkcWvl1NIY6Gh0cqshhGoHkRQIArLAKb36wohNvwq6YXFjNehy2wrZFxSEcyM1RwhzWtuIGI7Qy4qyK7aT3LJBE7WHOhlQIYWrvE+gnd4d9TmdZuIVu7xQUTuuGzZnh9l/h3a7c4E+bC5kRard3hGygwo7U7/DCFnLd2i/fJ84IuoPeuQhO6xILWbvEC7eAxoSt8P8mkJlu6xMmtXeIRikSc0BW+k0Lw7ap4dj4H2ihsnjxB07Zuc13u+4VIy6MgToSWD68P30iY0Dtkrd3hLxK5u+HhmX4siBFoZgQQYJ1FYJ5EqdUrluGocVfeCzPuqlcbKtG7N5w5Ot2SeVp5ZOlIZkNvJHt3byR7xoKW7AFLAEdE2FUin8syAowAI+ArAgigWeT1rJ8NhcMS6c/PNsYsewtsEzHj9fx6GKbHLK9OBPSGs99It2RfVkSmjulIZn06kv1tOpJZ3Nsy8D/pcHbuwkgmSeH41U471gkkrCYjwAjUAwII8HOLwBb5qW9dEBgBMBlniKghRdTIQRse4CcmtSa7t+WO/XsjmQXpSPaO3kjm34rIRj1GMu/2tmT+0duSfSodyTyYjmTv7I1kVva2ZH9OW1mlI5mLeiOZM9MtmdN6w9mvLQxn59D3ynpgYEqtYcD6MAKMQJ0ggAATEOAjBDAQvA8/tsNQNwRGb6ZG8Zy8F2a8ApNxot2OZjpPw8C+6ZaB71qBH9f0RrK39EayfzCnHSPZ10YlNnr3bJS/dCT7Zm8kszodyV64KJw9Pg2ZwvtkzYQ128oIMAIVIoAA8yzva3WFVSsuXk8ERsbZ1sPuqNjYJquwBG7b9HS4ffJiuGvrRXDnjqfDQHwRDHScDpl9elsyBy2KrDo8Hc5+MR3JnJNuyf4q3ZJ9lF6qdiO3dCTzr3Qkc9ui8MCxTQYlm8sIMALlIGB5X29bBDa7nDpjKVNvBAabY8y2HnbuWGznus4I9MLqbXsjAzPz62uZHxW+Y2b32iKZd9ORTP/CllUHOkvhVEaAEWg6BBCg1yKvQL7/VXcERk9EFDvNqER6yTmGZzbdQzIOBvdCZvt0eODE3pbMLwqfhBkitDXkxZHHNw6qcZOMACNQCwggwKYIoLyvGV7qFA7rX3eSV4rA3Oo4yQk8bQp+WkSNQXNNrA19DXQJ3LY6aHAhrNojHc5ebp9uTEcy63rDmWPqQH1WkRFgBLxGAAHOtLyv33ktm8hICGn/1IbZhBuBCSGvqWkCI+2ZxLx+TCqWR+trZjBJJPOBIrN0S+a6JXCPuf9gxQK5AiPACNQfAggwFQH+gwCDCEMf3fPSEiHk2jyJ4SQldySB4aRwWF9JZVWZmj4yidXE7TkDMrHeSGa5IjEzdJ8jF2vi3rASjICvCCBAGAEes7wvcx83PxoUQi4hwhJCPg6QJ7HhBIaTKM8q48tHCP2wa7gnJq8CwE18aYeFjooAhfj3qlD+SPbtNKxuH7USF2AEGIH6RQABllrk9QTSxqm+/TMJ6j07iQ0R2DDyek8RnG+qeC24DQ8QUWOd9Z7YMxDDuNdNsLzyEFgA90TTkezvTW8skn11IazaubyaXIoRYATqCgEE+CQC0F5Ovk0d2gHJr23lt48SQq5RBFZ0fo29Tt2cT8TJ4ahxr0liMeM/4Ybewb627wp9dTodyfyOSIy2w5oHA55/D6y2EWDtGIEGRwABdkCANyzvK6BIOpyqSMvtCIBT6xd6FCImLxRRw7BC7W+EKG5bv/bUr+YUVq92109Hsn8GQB9nF+oXJ9acEag7BJBi6ABessjrFn+nDofDEw7r97qRF+UNL12nV1PwMyJq/Nvyxt4XUVwAgOE6taZu1aZ9FdMtmZdMTyyS8W19t24BYsUZgXpDwHrfSwVt/AEBWoK1ATvdCAwAO4PVxcfWoritiMrrLU8s/2XnKXiwjy2yaAcEzHfGIlmjN5LNLYBVuzsU4SRGgBGoBwQQYCICPGR5Xk8imB8PDFx1CpMvJrG6CZ2vFK0YHiaixnOmNxY1DBGTVzf6xzErhcjv8r2R7AorxP4JWh/zuz2WzwgwAh4jgAAxBHjWIq9XEWArj5soWxy9pFxMYDX/4nLZ1jkVxIiI4vxh04ox+f8ghhzm7QSXx2mnwD2bqy2oFoUzJ3ksnsUxAoyAnwggwE4IsMYiL1r72tHP9kaXPRRST0QmhKy/0PnRjRxZYiJOps+yiJjxlvLIwjEjC1PwMxxkMBIuL1PSLZlv5b2wzDNeymVZjAAj4CMCCLAbArxpkdfDCDDZx+bKFq1ebLYIrH5eXC7bwlIFcRPRht8WMePvtjWyl0VULocpeAiTWSnsqsv7JjzS0mt+ZDOLi8IDn6tOCtdiBBiBwBBAgLkI8L5FXnfS51ICa3zUhoZC6us7dH5UQ0sUQBGO4XEiajyqiMzyzNaJNtlPX4JmMisBX4VZtGu96YVFsndXWJWLMwKMQFAIIMDHEOBKi7joy8p9tGVUUO2X2w692Ex/5ZZv6HKTcG8RleeLqPHMMDKLGW+Ho8ZKEcV5EMV9AVA0NA4+GjcP7pmUjmQ+JBLjl5t9BJpFMwLVIoAAuyLAcxZ5vYMAWrWy/K9HYfMNFDrvFWBtuLuI4VkiZjxhJzPLO3svHDXuEG3YC1PwIH6/rDLQabd6KyLxO5XV5NKMACPgGwIIEEGAsxDgI4u8KFyed4HwDfGABG+OW0EbzhFReXE4avy+mNAsUlsXjhoPhaPGLSIqr6BAkXAUT4QYzoYYHgpR3B8m4x4wEadBG26XD+PHzQKyoKaa6Q1nvsTTiDV1S1iZZkcAAQ62eV00Zfh9IrRmx6Vh7afNg2N4mojKX4mY8VcRM953IrZq00geRUqKqPGKiBkviqjxlIgaj9Bej/k2cTFE8UiYiLvUG8anQWbLdCRrpCMZnc7rTX/WlxFoGAQQYJK11kWkhRaJ8W4PDXOHKzBkc4xBG34yHMXjRQzPEFH5f+GYsSocMx4QMeNxETWeFTFjjYgar4mo8a6IGR9WS3D2esLcuNh4SLTJq0QbngKTan8vS7Vb/cLwwBcqQJiLMgKMgBcI0A4a1nThuxZx0ccoe9nr8gJdlgGTcSJshlvDJNwJorgbxPAT5npbGyZpapI2LA7HjN+KmPGkiBkf2QmNzmnnERGTl0EUjwKovanKdCS7lKYR6ch3mxFgBAJCwCKuxQhAwRnkcdHfSl7rCugGcDPOCEzBHfIf9pSXqG2zhpFa1LjTnHJ0rh146sJwdo61DjYQeOPcICPQbAhYG/CejgBv24jrcQQ4vNmwYHvrAIFJuBNNJ4ajxu0iZnygyIymMum9t/F+FWAB3LGTRWDv1QGarCIjUJ8I0E7xCHCqbScN8rheRIDjgvwESn2ix1rXBAJR3EJEcSGtvdmI7KVwFE8CwHF7sT4dyawnEjsdsnX8/bmauMOsBCMwHAEiJwQ43vbNLiIu+vjkt3mdazhWfFUvCGCLuX4WNV6wExlMxr3Gw4LeSPaP+XWwgc+MR/vcJiPQkAggwCwEeNQ2VUhbQS1BgKZ8b6chb3JTG4VCRDGtgj9E1BgUUewJGpLeluyvicB4d/qgkef2GhIBBNgCAW6yEddGBLicPoPSkAazUc2NwEScFo4Z9ytvjEL+gV7aDuhfOpK5KO+BZc4LqEluhhFoTASsF5HXWeRF73RdhwA8N9+Yt5utKiCAIdGGp5rvkuXD71+GGG5TyPbxpLcle4pJYC2Zq3xshkUzAo2LgLX90wUIoFvk9ToCHNa4FrNljIADApNwp3DUuIe8MRE1XoAtMOpQytOkdHjVkZYHtspTwSyMEWgGBBBgZwR4zDZlmEWAic1ge83aOA1nh9r11aG4XFuzOnqlWLv+xVBcviTaXb4GMNb8KvSkl6MtEnsGpqCv2zz1tmQOyntg2UeqUJWrMALNiwAC7I0A/7LI6wMEOLl50agxy6fJUxuWwBLYGopLA9ql+byF2vUbXQkMAMaUX9RWeXeZIhWN+ywSe8TPXTwWQnYvawrx6fJ041KMACMAReS1HgE+wbDUEAKNTGAmKclXYRqaoeMWQf3UDf2x5w+15dbGiHTzvTHj2TyJyWtH5HuUcDoMxInAeluyazwSyWIYgcZGoIi8XkOA3Rrb4jq0rtEJLK7/CdpxOt0Zk6Di8kq3uzTmfFtbbm04pkdxVxE1ckRiEMVPOZYZY2IvrN7WJLBI5o0xiuLqjEDjI4AAH7ftYbgGAbZvfKvHycJpuJVol78OxfW7RVxeF2rXH4S4fqypzU64c6hdvy3Urt9hHW+EnfDjBU3tBDYNdwi16zeF2uV/zPztcRNol2flp+HwSNgO20Lt+u2iXaKIy+Whdvn3ULt8X7TLX0E7HpmXL98Ptcu/QRz3MWW06yeE2uXb5lpbu35XKC7Xh+LyFZiGMws6mG3oq6y2/wJTnSPzQnH5aKhdPuf0B9PkqQV5thMRl7+ArfMb7BJBETbWut/Lobj8K+mtio81396WklnuUUTleaYXFjP+DoCt5dYrtxx9ndmcQoxk/lVuHS7HCDQlAla0oXo5+Vl+t8vfxyAU138n4vInhVba8UCIy3l0HWrX/0wkpPJEu1wRatcfUtc08A9bA5umH18gMKtQKC71wkC/Cx5KBAbUBhFDO84yCS4uT4c4xugvFJePmYN5ob5+r4jLq2Fb3BTiOCEU1zOhdv33ZvYueEAoLl8HwPz33OL6N2Aa7lDQz8MT08MislX/4nJeqF3mII7TKGms+UpsdUcMq42BRZu8oDoZ7rWWwNOteQ8sm3MvxTmMACNA614/sgI2aDPewF7WbErod8a9TELZ2b5FEUYgjgmI475m3k64cwGbOHaYaXHc10yrlsCm4iQl0ySgafKb6tr0zuL63eo6FDcJ7BJ1De3yu+S9mddxPCIUlx/ANIwX8n06sQjqmiHxGA61y7dgmjyT0saaPyS3yrMpeJAV0JGDKO5apRTXatYaGLoW4AxGoNkRQIAvWuRFLyh3Njsevtsfx2MsQhoZhh3X55p5U/FjBT3iuKVV/hgzzQsCa5froF3+j2pDxOUlRFrqegSB2dvcHjchLzEUlxto+hPi6PqB0mqmEJUOdBxJUAChuHxEtMsfe5Fvb6vacxGVP7ICOn5ZrQy3ekxgbshwOiMAQJ7XHgiwwSIw/nheEE9FO3abhLQdto1oTpGbncB2wYlm+XbsNsvbyYQSyp1CtHtgYyEwUwmMwDScE4rrA6G4lDANZ4+wxYMEFwJ7UsTlD0j8WPM9UJE+3bqViBoG7Z0IgJt6ItMSwgTmJZosq+EQsL2ofD9//iSg26umEOMO0Wvt+AnL2zLXeEyNpuEeFoHlX2coJrC4fmwoLj+0a++4BuYVge2MWwNgi2ovFNdvHbaepzI8OI4kKIyE4vI99/fEKsv3QEVTRDhmrM57YVjwar2QzQTmBYosoyERsHaVp8+gSNp1oyGNrFGjQu36faG4/gDsitsVVFSRd3H9ARGXS1S6aJeXmVGKKqGYwKbhDIvgDgfAEOyCO/pKYHE8BujP+kckYw86UeleHEcQWFz/71C7fAd2wy1I/ljzvdCRZITb8KtEYOGoMRRs44FwJjAPQGQRjYkAAjxgTR3+rDEtrGGrdsWoiMufUXg6hbCb609qinAqTqXQ9/z0nOndXF8IU98FPxui0PZ2+W8zkCGGmxNpibh+A0UihuL6wzBNLqRQ+VBcXwU74XQRl1cSwYm4XAY74mRol2krPwu74AEQx09ba1oUKn+0eW3qpT8Eu+ChEMcOUxdqs10/gaIZzbWtuL4yFNdvFnH5SxX27jniZki/frsZ7h/X7w/F9fvNaErV0FjzlZyxHmO4uYgZHxKJQRQ9e3eSCWysN4brNyQCFKxhkRdt0sveV0PeZTYqSAREVP7SCuY436t2mcC8QpLlNBQCCPBri8D4Uw0NdWfZmPFCIBzFE6xpxLu80oEJzCskWU7DIIAALQjwoUVg+zeMYWwIIzCeCEzEXUwPLGZ8aK5FeqALE5gHILKIxkIAAT5nkdfrjWUZW8MIjC8CIma8Za6DTba/pF69Tkxg1WPHNRsUAQS4yiKwFQ1qIpvFCIwLAuGocWt+GhGP90IBJjAvUGQZDYWAbcNeX3bRbiiw2BhGoAIERFReZE4jRjFdQTXXokxgrtBwRjMigADTLe/rnWa0n21mBPxEQESxxySwNunJ7AYTmJ93i2XXHQII8HmLwO6oO+VZYUagxhEIR/F4cwoxZtzkhapMYF6gyDIaBgEEmGcR2OUNYxQbwgjUCgIxnJ1fAzMKO/uPRTUmsLGg12B1MQGby4Q4T3aE/iMT4OmeZV5CJRNwmuwQ18mEMHfcJtnlpo2mBwJcbhHY/NHKcj4jwAhUiEAbpiwCu6/Cmo7FmcAcYanfRNkhvqcnQn8YiwUyEVpXKwSmd4T+KDvEr5U9OB2O1jtCq+haJoS5H145aTIh+mQiNGpYPAJkLQKbo9rkIyPACHiEQBQ/ZU0h/tELiUxgXqBYQzL06fANmRCXjUWlWiIwmRC/JFJW9siE+KnsEMOm98pJ0zvgJD0RelDJcTsiwIsWgeV3NncryOmMACPgjkAUO2HS0AdCCwWn4MGWB+bJpr5MYAVk+UQhIBOhf9SKByYTYpmcDt9SupH3JTtEv7qmYzlpuDscIRPiens9p3MEeNMisKHPdTgV5DRGgBFwRyCGnwhHjZtHFFAeWNTgKcQR4DR5Ak6Hfc3BPBFaR1DgLjBRT4SyMhEyZIe4VCZCL8qO0Ad6QtyAAELBJafDd2Ui9LieCN0sE+IXMhF6305gsgN69I7Qar0j9FuShwnYEafCx2SHWC47BOododtwN9gWO6BbdoRekdOhV8m2H2VCXCEToecc/zrEz+1l1Tl5TpgA82OAMiEulInQP2VH6G+kq94BJ5SbhrvDrnZPTskvPiLAWovAdi/O42tGgBEoHwHT02rDrw+rMRm/aXlgK4elqwsnr03lORzZA3MApZ6TiHhoClDZgLtDJ5EM7gq70wcZcXf4lHndAUkqgx3weQrawHbYRdWxTyFiBxwjO0Iv416wGeVT4ITeEbq9UNYMpgg9igBhk8AScKrK8+OoJ0J3jfDAykwrRx8EeM4isD3LKc9lGAFGwBmBcNS4V0SN9TAJp5olJuFUIi8RpT955bBaMfyEiOK8YWllXDCBlQFSPRVxJbAEbK7skB2h9fp0+Cpd64lQhjwylUdHO4GRdyUTorAjuz4dvkKEp8pjAraRidB7eU9IXKvS/ToGQGBPWAS2n182sFxGoBkQEG2y3ySsmPG4aW8bHm0jsIvNtEk4ScTkT0XUeM9xzWwUoJjARgGo3rLLIrBE6G09AaZrLxOhF4qn1uwEJhOhv8qO0LNm2HqHuI4ITyZCT+H2sInCRk6HU0yvLgH7qDSnYzVTiMVyAiAw9RHLg4rb5mtGgBGoAAGLsPKkJZcUCI08sDZcRB4XeWiUDxT0UcU/JrAqQKvlKlUQ2FoKMbfbVERgz9Nalz2/+Fwm4DtmnQ5xXXGe19cBENjtlgd2hNe6szxGoKkQsKYMiaAsz8skq/wUovHPQnqbHBaUVQlGTGCVoFUHZSslMHpnbJQpxFU0jehmOq2tyYT4X9wN9peJkMTpMMutrBfpARDYZRaBfdsLfVkGI9DMCNDUoCIqp6OIGU+MBR8msLGgV4N1KyUwClGXidBHmIADyRyaGpQdoSJAWG4AACAASURBVDdIDl3r0+FE2RHKURi6MlcFdCBARO8I3YRx2JLyKMCDpiQxDhNUWa+PARDYdywCK+l1em0Xy2MEGhEBCuRwIi5KM9e9Yjim9y2ZwBroqcHp8FkKdze3guqAc3An+LhMiKtpfYq2iCLCkQk4lQiLwtBxV9iOogetUPR1FGavJ0IrKRRe7wj9Gfcwd2YPyQQsMNfKEqG1ekfofpJhhaXTmtgduAfsQBGOhbD6ROg3uBvs7DW0Ftm+LjtCz5j2xGHLctPK1QUBZlsE5up1liuLyzECzY6AiMolbgQWLg6xrwIsJrAqQOMqjYsAArRbBPZM41rJljECASFgC+QYRmROLzlXoRITWBWgcZXGRYBe8EYAHQFyjWslW8YIBIRAUSCHOXUYM96uJmTeSWMmMCdUOK2pEUAAejEbEWCvpgaCjWcEPECgOJADJuPxHog1RTCBeYUky2kYBBDg+xaBLag1o/R5MDvXIx7Ve8R6fX4Y6/avR6w37ZiX3yasGGe2s87ubYn7aQ/kEG1yTBuNFz8nTGDFiPB10yOAAJ+xCGygVsDAuRDOzRfL9B5h1C1pORFujzByPWIp2UdYs511RlzF97ToftI9VYEcYw2Zd+qLTGBOqHBaUyOAABNoDQwBNlCUZjEYCPldTIrT/bzOzYPOhiKuYQOfkLn5oBF+bGedE5h5X4fup9kn2vBoa6uo/J6IHnYUJjAPwWRRjYMAAvzB8sJm2q1CgKkIcK89LYhzfX54oHEJzBy0TW+X7WwEAhu6n2bfoEAOD0LmnfoZE5gTKpzW9AggwDyLwH5oB8NKD4TAwm34lXDMuElEjVeHhSBbW/NwWn6LIsahtnGwnt+bwm34ZXtf8uKcCcwLFFlGwyGAABMRYCMCfIQArcpABKDd6tera1+OMdwmHDV+xwNzbQ/MfH+quj+rYTPc2qt+wwTmFZIsp+EQsH3c8idknDV9SOH16Kex4ahxtzk4Ro1bYDLOoHdmGnz60IymJEzZzoaZQhzqI/SRysk4Ixw1bree67u86j9MYF4hyXIaDgEE+IE1jUgBHZNs04pDndNjq8NRPNHq5LfaRfPA3lgDe7PcT/szTOcFEvNoTYwJrBhhvm46BCzPita8RmwsigCDFonRLvVrrXPywkaU9QK4cMzIEoHBFBz2PbJmGfDYzsYi6hF9Ygoe5PQDbUS5MhOYwMoEios1NgJESAjwHq1vIcBKBPiulXatRVqKyMwpRASo6gN8o6Godi0AwM3sZf0c2OWPNJSP34CGYaDx2pNorHkAjVf/gvIPl6N+9taBvSxN9vppp97XjvKBK9F46V6UT9yI8smbUT5/F8rrTwrMRrLPLztH3MeX7kXjlcfQePN5lHd9D/WFrYHbaX+GzfMtcQoRGAV2jMirIoEJrArQuEpjImBNE95r87KIrIjUFGnZj74QmPnrlDywon++Duz07s4l+5oEJq/uyg9yZ2+NxronzMHe97atd8LIZN/aumQfND5cj/KOM4cP4ku2z5P1w9cOTx/2npq3XpG/dhbdR7Kj/2A0chtQDpwXmI2KqIseY/PS7Rl3KjtaGhPYaAhxftMhgAD9LqRlJ7Cv+wGMW+f2bWBXA3Uxgc0Po7zxFJPU9KW7BDLwEZ5+2Wn8/X7Ts3SUf9mhefK+ak7d2znih4h1f02v+m9/CMQ+hbFb/3B7xt3Kl0pnAiuFDuc1LQK020YJ74uIbIkf4Lh1bjUo+HZ0IrBrjs0T2IpDAhn4CE9f7DtvxzxBZc5ytcN4/5/mNKov7asfCdbRNztJvsN9JJuMVx5F+fTtrvb7Ybdb/3B7xt3Kl0pnAiuFDuc1NQLWGhi992X3vNR54xPY7WegISXqZ8UCGfjoYfNjIJU//myewH7+RVc7TA/l9add873Uyy87TR0dCEz+7Lj8FOIVswKxT2HlNngwgbkhw+mMgMcIWOtiNzuQ2DUeN2WKc+vcalDw7Vg88F28NxrvrUN5/xWBDXoEgB/2ScuTlFcd7WqLfOFuNN79h2u+l3r5Zaepo3UfTY/r2QE0/v0GGv96DfXLDgvENjtObv3D7Rl3K18qnT2wUuhwHiNgIUBThkUk5st2Um6d2z4w+HJuG/jMKL1nsyh/8y3UF7QENvAR1H7YJn88e3QPbO2D5jSbH+0Xy/TLTrOdoh8icuW8vBfdf3Bg91HZ6zZ4uD3jbuVLpTOBlUKH8xgBGwIUOm9bF2tIAitEIRat26hByc8jQe2LfIo0NAyUo62B/fnngQzyvtnptAa2sBWNN55B4+VHUF8QCcQ+dQ9tXWfYKRPYMDj4ghEIDgHrpWdaF1vjR6tunVsNCr4di365+9ZOCWIkPP1q13jxnhJRiIflCe6KIwIZ4P200ymIQ/7kyLx9N50WiH3qHrr1D7dn3K18Opx1jfh188BK1XFrh9MZgaZBAAEaew2sBNGoAcrrIz08XsssyLtoDzT+8zbK2xYNH8TP3c58303et2J4uo/2+2qnyw8R+WzWfA9OP+fjgdrpNCBUQ2DpluxPi2Up8qKjPa+3JXsNE5gdET5vCAQQ4GsIcI+124aKJgzqSDt8UNtfKwWmiBmvUweHLXGKvVxhIPZjYL30AJQP/yL/K/3pO1DesTiwQc5uF9lrv/b8fOnOKP/4Y5TP34nysetQPpNBY/ADlLemA7XXNztXHILyyVvM+2i8dB/KzNlDdhGB6xvNqUR57QlD6X48T5ZM+/NbOB/aieO1QloZJ+mWzFoisXlwzyRVvJjAKK83kllJZVUZPjICdY+AFUlI5BEUWY3WDulS6Ih2gMMxI2MS2BQ82J7u+WDu48BVra5kb7V1q6pHkZYb3kfj9adQXzw5kEGd9AzcznG61/bnt3A+BQ82PbCocVshrYyT3kh2CRFWuiXzuCIxO4FRGuWZaZGsL6+4lKEmF2EEvEfA8nyIVCgcngIxHMnD+5aHS7TaVltV3TM817pqwzlOHbyqAXqcBq5qdSUEqq1bbT155RfQ2PhhfjupX3wZ9XO28Z3IxsPOavEZSz2n59v2A+0Ip3y3tLx3lX3PTmKKwIrI6z1FcG6yOJ0RqBsErB01TPKqFaURQJGY4+K02pGePj0BU/AQmIwTxzKQ1Etduj/jouuF01HesiD/2sCZUSYwj374FPrbFthGz3E4atxh/ThbWcir4ITWthRp9bZk17ic+7I2XYGaXJQR8A4BG1n4svluNZpanhiRqnMofv6LzHeanT1W1VdvkesybjX6DKyGzXGravrN6ZCdaiMtdDqnMtXI5jqMQE0ioAI2akk5a02OCGx9Kb3CbfjlcMz4LX16okYHIyZK/oEx6jMgosa6cMy4kZ7nUs97OXnpSOZeJ+KiNMorRwaXYQTqBgEVuFFrCleqV24+aOMyvebRdFJp3YXMzct/X43t9PbTLaVx96utofvpdb9bGMl2uhEY5XndHstjBMYVgUqJIihlq9Er1yP6x2dA8mugy8vNzRfDosbYTn/x9vsZKr6fXvcpCpMvJjEOnfcaZZZXEwhUQxRBKF6tXrgAEnqPuFKfL9b6PRD5K1+sJTvIHie82c56I7HS99PpHlebRi8pjyCwErt1VNsO12MExh2BaonCb8VrVS+/7Wb5jMBYEbCH1JtEFsly6PxYQeX644uAPg9m53rEo3qPWG/3HBRR2NNq4dxVrx6x3rRjHsx2QrRv+YbZff2Dj/b1D65ftmIQ6/WP9DftWL6B7WyC++n0LI8lTb3YbBHYsCnoscjluoxAoAjgXAjn5otleo8wnIjJlSgCCU5wnwYaVa8eYeR6xFKyjwC94QYM960YXLZsxaBRr6TlorexrH9wKdnHdtbvDxLbvR12P/0aDOwh9Rw67xfKLNd3BCh6zYm4VNqoRDFORFaeXkJSVB6BeOHyXKdtkKhbz8vJhr7+Qdm3Isd21rFHbb+v9vvp5wBgvdjMLy77CTLL9hcBfX54QJGV07E8onD3lJxkepFWgV4DhGBf/4YB+yBRfL7kKy/jmfs8gqe3/c7xBc/iRW++zjJOLXWGQST7am8ke9PCcNZ8n4zC5jl03t/xlaX7jIDeI94oRSgVEIXvWwjZ9Sxbrx7xhkVgbxSTFl1fsPR9XLz7AzwY19tgzPqO7ZmNZFYvhru29nl4YfGMgL8I2EnB6bxsogh4KrESvQhBJ/KiNEVeZ+79MJ7f80/s+94HdTu9WMpON/vrMb2Z7PSy95ub9kYyM3oj2dut4I27vJTPshiBwBFwIi17WiVEYa/n93klehGoTgP1ki+uNX/FLt77z3VLWna73Oy0l2mE82ay068BQZEYf7jSL4RZbiAIjEY0lRDFaLK8zK9ELwLSaeBevMdDJoEtnf8WE1gdBUC43U+ne1zPaX4OAL0tmYPIC0tHMrf62Q7LZgR8RWA0UqmEKEaT5WV+JXoRgE4DWe8Wq00C67u4fqcN7Xa52Wkv0wjnQdh5zkWD2BaTeMJ/5cbtx42fHb8HBqZY04iv+tkOy2YEfEVgNFKphChGk+VlfiV6EYBOA7eKJHTKqzatY+8c7rCTjrt35HCnnXX8VCqH530/mPeT3Oys1hanenvvm8PtdiD7dNO+gw/TkQZ7p7J+pQVh576f1DEcblwCIwzV80/n/I8RqEsERiOVSohiNFle5leiF90Yp8FUdWCnvGrTdkvo2NefH9BpYJ8SlTijM5hf8W52VmuLUz2y74LlefuWfH8QY1vr+MkZekMR2DFf2oifOSrHBFaXIxor3VQIjEYqlRDFaLK8zK9EL7eB3Q8C+8apG4cN5gccrJuDvBMZeJ3mZqeX7Xz1pOFkfOAMHbfapnEIbP5ZG3HPfXK49NJBJrCmGgnZ2LpEYDRSKUkUF0xD+dStKJ++PX984jeon7ud+T6YvPZLaLz/FsrnVqF8/k40PngXjXdfRvkjbeh9sQvi+bqP34DG336P8qbThvJGCcsvqVdRXbeB3Q8CKyYLIrCgBng3O4t18vJ6/4N13HFqYxAYkRZN/Z6xdJAJrC5HM1a66RAYC4EZ/3gIZebsAunI+1agsfbBwrXx4j0oH7wa9UWbo57eBOXTd6Dx0n1D+a/+BeVvv5O/Pm9HNPQc6ssPLOSX0q1eCIwG9xmfGu61eEkgdllBE9ii8wZx0uTg14n8svNwLYdfOzl/r9gDa7qhkA2uRwRKkQTluRLFD/ZHwzBQv2DaEOFctGc+7Qf7m2kmgd19SSFfrpyHxtt/y19fekC+7Pk7FfKNt15CeWtv4bqUbq56FXlfJMNtwPPbA/vW/I24+RYSTz8/mCAHNzvtJOfF+VdOzJle12abS5z1ufx0mxdyy5Xhh53/9a2NeOjMoR8aTGD1OJqxzk2HQCmSKEVg8mfH5Qmod9MhwjljkpkmrznWTBtBYDedhsY7a8w8+dNj8mUfvwHlY9eZf8bLD6O8ZeGQPAcyUvrWOoGdtWwQt99Rx29+d/iaWLmDdDXl/BjYS+lx3iWDSFOkFG1JA36psl7m+WHnHnvngzYo8rD4b9quwU6RKqz8HozUDzi/22H5jIBvCChCcDu6EQWRlOmB2Qls8WSLwOaOTmDXnpCvv3hyWYRVrJ+bXsXl6JrAU4OC/ag6sD3Ni3Mir12n63jyvODIi/R2s9MLm9xkLDwnH+zw9f8JzlY/7CQ7Tk1vLPx9e+FGk8g+e3QOF5wVHDnbcfat01uC1fPvdzssnxHwDQGnAd+e5koUl+ybJ6C+9iECunivfNol+45KYPqKGfmylx4wVL+Ex2XXic5d9XKQQeDZBwZ1rjqwuvbiSNOFFGr+ndODG9CV3m52qvyxHnuXDOJ3Fg23iwZ38li+dvLw9LG2Vaq+33ZS2zyF6NuQw4IZAe8QKCaG4utSRGGs+RPKgSUFApL3XYbGmgcK16WmEPUFLeZ0IkUw6qdvma+zsBX19McK9Yt1sV+X0stejs4JLacB0WsCo6CGbbbVcc5xG5E8EvtfEC8zu9npZHs1aeShUKCDvW7nrBxOniIDfZnZbzvJPiYw78YYlsQI+IZA8WBffF2SKJbugvKp21A+m0X55C0oH7se9XO3NQlI/ni2GTZvRiX+v8NRv2hPs5zx0b+QQuzNdpbthvKZDBrvvYrGuidQ/uUm1G1BHcW62K9L6lXkhRF49kFXnXtNYPSOVPH6ibpOn+P/NJSbncresR7Ju9w5rmN8Nx0Te+WwfTcdaWeO+WcG532RDX7bOVacvKrvW6e3BKvn3+92WD4j4BsCdlJwOq+EKJzq+5VWiV4EntOgojqwU149prnZWY+2lNK5mez0rePzVlJ+Qsuyg0JgNIKphChGk+VlfiV6EZZOAyITmP9eoRPuY01zu59jlVtr9f0eA9Tz73c7LJ8R8A2B0UilEqIYTZaX+ZXoReA5DU6qAzvl1WOam531aEspnZvJTt86PntgfkLLsoNCQO8Rb5QilkqIopQcr/PK1qtHvEFY9vVveKN4UGwkAiP73Owstruer5vNTj/HAfX8+9kGy2YEfEVAnx8eKEUuZRNFUeBEKZle5FWg1wAB2Ne/YaB44FYduDi9Hq/JPjc769EeN52bzU4/O796/v1sg2UzAr4ikJsPWilCqYAoygp/L9VWJXnl6SVkbh50EoB9K3Ja8aCoOnBxer1d9/UPyguX51ztrDd73PRtRjv97Pzq+fezDZbNCPiOQK5H9LuRR3lEEQ6UvEjXcvTKzRdL7OD1rdjYbx8cVQe2p9Xjed+KwZJ21qNNTjo3q532Z9jLc/X8eymTZTEC44IALoCE3iOu1OeLtXYyK4co7OWDOnfXS6wlO8geJyCXXTaYWNa/4cq+FRvWqg7sNFjWehrpT3aQPaPZWeu2lNKP7XS6u96kqeffG2kshRGoQQQUUdSaal7oxR241u4q6xMkAvz8B4k2t+UrAvo8mJ3rEY/qPWK93YtSRGFPq4VzV716xHrTjnkw2wmwvuUbZvf1Dz7a1z+4XnXgUh5AreaR/qYdyzeMamet2lCOXmyn01PsTZp6/r2RxlIYgXFAAOdCODdfLNN7hOFETK5EEXDUYbFuo+rVI4xcj1hK9hGsN9yA4b4Vg8uWrRg01MCpOrC6rtOjsax/cCnZ52Znndo1bM9F8741oZ1+Dgnq+fezDZbNCPiKAEXpFZOD/XpUohgnIitPLyEpypIApCi94oFcdeDi9Hq7pug8irJ0s7Pe7HHTtxnt9LPzq+ffzzZYNiPgKwL8Hli2+Jd+XV432/tRTu/1uRFfPaar++ln52cC8xNdlh0IArwTR8MQGO/EsaI+93Z0Ili144ifgwATmJ/osuxAELBPFzqdlzdVV5vvgSl7CEinQUJ1YKe8ekxzs7MebSmlczPZ6ecgoJ5/P9tg2YyArwioQd7tyARWP7/q6UEpNfA3Sl4z2eln52cC8xNdlh0IAm7EpdKZwJjAao34qGPUmk5+6OP3AMAE5jfCLN93BBRRuR1LEtiS7VFfflDg20iRriX1KoqMJBCdBhjVgZ3y6jHNzc56tKWUzn7Zuelm0vGL2jM/nRuXwB6/O796/v1uh+UzAr4h4EZcKr0UUcg//BDlTacxgVnBA7sl9BED4IEz9MAGP3pISg38jZLnl507T9Pxv0/ZOOxvx6k6zjtjY2D30H6PfOv0lmAmML8RZvm+I6CIyu3oRmDyxlPQ+OjfaKx7AuVfV6L+Qw2NtQ+i8eF6lLefMURq30sUzuUvv4LGm8+hXLU0n3bBNJRP3Yry6dvzxyd+g/q52xXKu+lE6W56OdUhEO0DgzpXHVhdj/U4fY/csMGPBsOexcENfm52jtUue/1vnLoR23fXMbFnDnfaOX+05wdx7pedx39t+L1acNYgduw1Pt4X4eh351fPv9/tsHxGwDcEnAZ8e1opojDeWTPMA5NXHoWGlEMktLAVjff/iXr/wQVSki/cXTg3/vEQyszZhWt53wqTBO3tu52X0qu4DoHnNLCqDuyUV03a9D3Hb7BTA141epdb5+R5G3HiJInpc4bWBffeN3ib3e5nuXaUW+6Th+hIhF1uea/L+dbpLcHq+fe7HZbPCPiGQPFgX3xdiiiKCUxfOAGND95BedOpJinJnxyJhtRR3rs8T1LLD0R554X58x/sj4ZhoH7BtAKB6RftmU/7wf5DaUXrWUq/UnqpMupI4DkNLqoDO+VVk9boBLZzXMfDteGEdcHyITKrBrNq6rjdz2pkudU5/fxBnLpLcNO/Tnr41uktwer597sdls8I+IaAGuTdjqWIYgSBzQ+jfPAqVF6WfPBqlHdfgsb6V1BfEEG5+gLULz3AJCf5s+PyZNW76RBZnTHJTJPXHDuUVkcEtntHDskj2XOfHNI5DfZn9gU3wNND4jQQepFGdoTDEr928nAC80J2pTL8tFPpclgyh8cVTSmqvKCOvnV6SzATmN8Is3zfEXAjLpVeMYH972fQ0HOoL90Z5WPXm0dzWvHyTpRP3lwgJiIp0wOzE9jiyRaBzS2UU3oUH0vpVVyWQHQadFQHdsqrJu28SwZReSTnfX8Q9zlAx+120HHppcGQmJud1dhSXOeb391oEtisz+UJmta/4rvq+N/fDn6KzU87ye6zLxzEbbYN7r4VY62u/e786vn3ux2Wzwj4hkDxYF98XYoonDwwfUELGv9+E+Vzq1H+8qsmERl/vx/ls1mUd100REyX7JsnsL72obSL98qnXbLvUFodeWBq4FFHil4jr4XWjlSan0d6SPyS/9WTcqYtXzkpVyDpz3fnsLVVYvrcYAha2eanndQGkfRnj64NT9O3jg8ATGB+osuyA0GgmLCKr0sS2OtPo7xz2QiykfdfgcbGD1E/Y6KZR2tiprdV9M6YseZPKAeWFOrL+y5DY80DhetiXezXpfSyl6NzAlINfvaj6sD2NC/P1bTbCf9V/wRGEZVExvaQ8vN/kJ9W/MLcYOxT98btfqr8sRyXfH8QozGJ51wULCk76ez3AKCef7/bYfmMgG8IFA/2xdeliELe3JMPpf/7/cMjDX+YREkh8cp7OntrNN56aehapS/dBeVTt+W9sydvyU85nrvtyHKqvO1YSq9Cu1Z5As9pgFAd2Cmv0jQa+I4qGshP680P+qcsCGaAd7OzUlucyi84O09WxVOGm2wqcdZng/VW/LTzyO4c0vqXEwZBp/nW6S3B6vn3ux2Wzwj4hkDxYF98XQlRFNf187oSvQg8p8FHdWCnvErTyBuJ76ZjX3/+lzsdKQx76jS9MOVWqcxKy7vZWakct/JTohJnf2FocKe1PfLK5n45GIJWevllJ9nTFpPYu2T8vS+y1bdObwlWz7/f7bB8RsA3BEYjmUqIYjRZXuZXoheBpwY/+1F1YHvaWM6JwHbYKf9yb/tuuklgjRKFSLjMOX4jxrbSccnF+QH+y9/I4WabSzPoYSy4VVrX7X5WKqfWy/vW6S3B6vn3ux2Wzwj4hsBopFIJUYwmy8v8SvQi8JwGq0VTfofUiS9Y9p+amDJy0rGSNDc7K5ExWtnPzcnhtF113GvfHO46XcdT5gfrfZF+Qdg5Gg5B5PvW6QGgBwammAQWyb7mZzssmxHwFYHRSKUSohhNlpf5lehFADoNOIv3eMgksPPnv8UEVkcfg3S7n073uJ7T/Oz4CyPZg4nA0pHMbX62w7IZAV8RGI1UKiGK0WR5mV+JXgSg00C25MR1JoEt3uvPTGBMYDX3DPjZ8XsjmYxFYEf42Q7LZgR8RUDvEW+UIpZKiKKUHK/zytarR7xBANIn2p1ITHlhi/f8My7teQv7Lvqg5gYyJ72L09Qn6N3sLC5fr9fNZqeXnf8MuKttUWTVIelI9o789GFmpZfyWRYjEDgC+vzwQClyKZsobCHupeR5lVeBXgMEal//hgGnQfuCpe/j4sSDpidmduqWLJ8zBo3/DEQyqxfCqq0CH3C4QUbASwRy80ErRSoVEEVZ72+VaquSvPL0EjI3DzoJr74VOc2JwFTakq++jIv3eQRPb8sHdjCZMZE32jOQjmTWpSOZGxeGs1/2cgxhWYzAuCKQ6xH9buRRHlGEAyUv0rUcvXLzxRI7sH0rNvYrwmqkY9+KQbazjtbwRnv2iu+n/Rnmc0aAEXBAABdAQu8RV+rzxVo7mZVDFPbyQZ276yXWkh1kj4OZsOyywcSy/g1X9q3YsHa0gaSW8039+zdcSfawnY1/P53uMacxAozAKAgoohilWODZtapX4EBwg4wAI8AIMALOCNQqUdSqXs4ociojwAgwAoxA4AjUKlHUql6B3yBukBFgBBgBRsAZgVolilrVyxlFTmUEGAFGgBEIHIFaJYpa1SvwG8QNMgKMACPACDgjgADvEVk4545PKgJMsgjsvfHRgFtlBJoTAU3TjtM07RpN05ZpWvLWZDI5pzmRYKvrAgEEuNciC/OF4FpQGgE6LZ3urQV9WAdGoFkQ0DQttd9++7WQvZqmHZxKJV9sFtvZzjpEAAG+bpFFzeybhgD3WDp9vQ4hZZUZgZpEQNO0Pk1LvqJp2gGkIJEVHTs7O3fXtOTvVLpSPpWa2aVpyQwAhFKp5I80TbszlUou1zTtx52dnVFNS16radr5mpb8bWdn5/apVGrHVCp5E3lvqVTyl5bsSZZHd34qlfxVMpmcO3v27Amapl2laTMvpzLJZPJUTUs+59TOfvvtt2kqlfw/yyO8JJlMnknlNC3Zn0olL0ylktcnk8mk0lkdk8nkEZZ+52malu3s7JxEf8W6UHlN065MpZJPapr2m1RKe0HTtB9asu9PpZL3zp07N6zk8rEGEbB5YSsR4FM0hTcealptK/Ji72s8bgK32bAIdHZ2fiyVSr5L5JNIJFo1Lbk+lTp8ep4QtIuV4alUak9NS/5U05J/1DRtV0rXNO3oVEq7mc5Tqc6DNC35PU3TTrbyFljXC1KpmWkrzXwBn4gnmUwuorQjjjhiM01LvnHooYdOTiaTJyoCp+cTsQAAA2NJREFU6+zsnGoRmEM72jmpVPICqk//rCnOz2ha8td0PXPmzP1SqeSD+dz8/wceeOCWqZT2Kh0pJZWa+elUKjXRTRdN047UNO1GKmuR+StKnqZpz8+cOXM3dc3HGkTAWnNSU4mFbZwsL2g8rkmXcSHRGrw9rBIj4BkC5JWkUsmTZs6ceRR5VJqmnZdMJg9JpWZ+obgRi1jWWoP/0ZqmXafKaFpytaZpv0ilkktSqeQVqVTyLJpyJFLUtOQl5I1RWcuzO3KonvZYKtV5aCkCs7eTSiXvIl1V/bxMbXEqlSTviNq+UJGPKkPyNU17TF2ro5suRQS2uaZpb6s6RI6zZnV+Ql3zsYYRsKYTiTzMwI6ACYzapLZ52rCGnxFWrb4RyA/WydXk1Vie1nNEPuSdkWXF02WalnzKIoQRBOYU4HH44YfvQKSYSmlvkqdFBJRMJj+vUEultMdnzpw5o1wCI5ItbkfTtMWapq1QMouPJF/Tkn8pTnfThQmsGCm+ZgQYAUagBhGgAA0iF02beQapR2s/tL6lVCUyU+c05ZdKJf/Z2dm5DU0h2j0jTdMu0rTkT1TZvKyZn1bXRBaapu2VJ8rk6ZRO61malnzdWov6MnmDlF48hVjUznm0Bqbk0jGZTM7WNO1pmgYtSp87a9asbfMeY/ItkmvPL6GLfQqRPTA7aHzOCDACjEAtIUBBC52dnXuQTkRkFKyh9CMCU0ETFHSRSs3stoIrlqdS2sO05kRlDzvssBgFeGiatpK8oZkzZ+6d96q0K/MemEk6gsgqldJ+lkolz02lkj+35EGeaMyAid+kUsmlNG13+OGHH0JBIvZ2ZsyYsQUFhKRS2kAqlbya1sDya3YzL9e05N2apv0vkWveFu1PytuzvKo/0VoZBXyQvm660JQnTTlqmpZIpWYem0pp/5k1a6Y2a1bn/pqWXJNKJecpfPjICDACjAAjwAgwAowAI8AIMAKMACPACDACjAAjwAgwAowAI8AIMAKMACPACDACjAAjwAgwAowAI8AIMAKMACPACDACjAAjwAgwAowAI8AIMAKMACPACDACjAAjwAgwAowAI8AIMAKMACPACDACjAAjwAgwAowAI8AIMAKMACPACDACjAAjwAgwAowAI8AIMAKMACPACDACPiHw/wHoqk02XTXFBQAAAABJRU5ErkJggg==)"
      ]
    },
    {
      "cell_type": "code",
      "metadata": {
        "colab": {
          "base_uri": "https://localhost:8080/",
          "height": 141
        },
        "id": "spVinwb2n6JM",
        "outputId": "6fbda5e1-c9fb-43f7-b3ff-56c3917c34c3"
      },
      "source": [
        "sales = pd.read_csv('salesmen.csv',parse_dates=['Date'])\n",
        "sales['Salesman'] = sales[\"Salesman\"].astype(\"category\")\n",
        "sales.head(3)"
      ],
      "execution_count": null,
      "outputs": [
        {
          "output_type": "execute_result",
          "data": {
            "text/html": [
              "<div>\n",
              "<style scoped>\n",
              "    .dataframe tbody tr th:only-of-type {\n",
              "        vertical-align: middle;\n",
              "    }\n",
              "\n",
              "    .dataframe tbody tr th {\n",
              "        vertical-align: top;\n",
              "    }\n",
              "\n",
              "    .dataframe thead th {\n",
              "        text-align: right;\n",
              "    }\n",
              "</style>\n",
              "<table border=\"1\" class=\"dataframe\">\n",
              "  <thead>\n",
              "    <tr style=\"text-align: right;\">\n",
              "      <th></th>\n",
              "      <th>Date</th>\n",
              "      <th>Salesman</th>\n",
              "      <th>Revenue</th>\n",
              "    </tr>\n",
              "  </thead>\n",
              "  <tbody>\n",
              "    <tr>\n",
              "      <th>0</th>\n",
              "      <td>2016-01-01</td>\n",
              "      <td>Bob</td>\n",
              "      <td>7172</td>\n",
              "    </tr>\n",
              "    <tr>\n",
              "      <th>1</th>\n",
              "      <td>2016-01-02</td>\n",
              "      <td>Bob</td>\n",
              "      <td>6362</td>\n",
              "    </tr>\n",
              "    <tr>\n",
              "      <th>2</th>\n",
              "      <td>2016-01-03</td>\n",
              "      <td>Bob</td>\n",
              "      <td>5982</td>\n",
              "    </tr>\n",
              "  </tbody>\n",
              "</table>\n",
              "</div>"
            ],
            "text/plain": [
              "        Date Salesman  Revenue\n",
              "0 2016-01-01      Bob     7172\n",
              "1 2016-01-02      Bob     6362\n",
              "2 2016-01-03      Bob     5982"
            ]
          },
          "metadata": {
            "tags": []
          },
          "execution_count": 41
        }
      ]
    },
    {
      "cell_type": "code",
      "metadata": {
        "id": "E61n_wcNqRA5"
      },
      "source": [
        "ss = sales.pivot(index=\"Date\",columns=\"Salesman\",values=\"Revenue\")"
      ],
      "execution_count": null,
      "outputs": []
    },
    {
      "cell_type": "code",
      "metadata": {
        "id": "V55DqOo0rySY",
        "colab": {
          "base_uri": "https://localhost:8080/"
        },
        "outputId": "8a74e661-7235-4f7b-c233-2a345838f0e0"
      },
      "source": [
        "len(ss.index)"
      ],
      "execution_count": null,
      "outputs": [
        {
          "output_type": "execute_result",
          "data": {
            "text/plain": [
              "366"
            ]
          },
          "metadata": {
            "tags": []
          },
          "execution_count": 43
        }
      ]
    },
    {
      "cell_type": "code",
      "metadata": {
        "colab": {
          "base_uri": "https://localhost:8080/"
        },
        "id": "neYQFbe-L3WW",
        "outputId": "5859f7e4-8164-4643-dae4-d24e73a35708"
      },
      "source": [
        "type(ss)"
      ],
      "execution_count": null,
      "outputs": [
        {
          "output_type": "execute_result",
          "data": {
            "text/plain": [
              "pandas.core.frame.DataFrame"
            ]
          },
          "metadata": {
            "tags": []
          },
          "execution_count": 44
        }
      ]
    },
    {
      "cell_type": "markdown",
      "metadata": {
        "id": "SrhRiQrgUMcH"
      },
      "source": [
        "# The Pivot Table Method"
      ]
    },
    {
      "cell_type": "code",
      "metadata": {
        "colab": {
          "base_uri": "https://localhost:8080/",
          "height": 141
        },
        "id": "keBPdUo1M5kt",
        "outputId": "69ff6cdb-f982-4f44-e913-6d341c49a794"
      },
      "source": [
        "foods = pd.read_csv('foods.csv')\n",
        "foods.head(3)"
      ],
      "execution_count": null,
      "outputs": [
        {
          "output_type": "execute_result",
          "data": {
            "text/html": [
              "<div>\n",
              "<style scoped>\n",
              "    .dataframe tbody tr th:only-of-type {\n",
              "        vertical-align: middle;\n",
              "    }\n",
              "\n",
              "    .dataframe tbody tr th {\n",
              "        vertical-align: top;\n",
              "    }\n",
              "\n",
              "    .dataframe thead th {\n",
              "        text-align: right;\n",
              "    }\n",
              "</style>\n",
              "<table border=\"1\" class=\"dataframe\">\n",
              "  <thead>\n",
              "    <tr style=\"text-align: right;\">\n",
              "      <th></th>\n",
              "      <th>First Name</th>\n",
              "      <th>Gender</th>\n",
              "      <th>City</th>\n",
              "      <th>Frequency</th>\n",
              "      <th>Item</th>\n",
              "      <th>Spend</th>\n",
              "    </tr>\n",
              "  </thead>\n",
              "  <tbody>\n",
              "    <tr>\n",
              "      <th>0</th>\n",
              "      <td>Wanda</td>\n",
              "      <td>Female</td>\n",
              "      <td>Stamford</td>\n",
              "      <td>Weekly</td>\n",
              "      <td>Burger</td>\n",
              "      <td>15.66</td>\n",
              "    </tr>\n",
              "    <tr>\n",
              "      <th>1</th>\n",
              "      <td>Eric</td>\n",
              "      <td>Male</td>\n",
              "      <td>Stamford</td>\n",
              "      <td>Daily</td>\n",
              "      <td>Chalupa</td>\n",
              "      <td>10.56</td>\n",
              "    </tr>\n",
              "    <tr>\n",
              "      <th>2</th>\n",
              "      <td>Charles</td>\n",
              "      <td>Male</td>\n",
              "      <td>New York</td>\n",
              "      <td>Never</td>\n",
              "      <td>Sushi</td>\n",
              "      <td>42.14</td>\n",
              "    </tr>\n",
              "  </tbody>\n",
              "</table>\n",
              "</div>"
            ],
            "text/plain": [
              "  First Name  Gender      City Frequency     Item  Spend\n",
              "0      Wanda  Female  Stamford    Weekly   Burger  15.66\n",
              "1       Eric    Male  Stamford     Daily  Chalupa  10.56\n",
              "2    Charles    Male  New York     Never    Sushi  42.14"
            ]
          },
          "metadata": {
            "tags": []
          },
          "execution_count": 45
        }
      ]
    },
    {
      "cell_type": "code",
      "metadata": {
        "colab": {
          "base_uri": "https://localhost:8080/",
          "height": 516
        },
        "id": "Y-JNdI99b62C",
        "outputId": "627e5665-889b-47cd-83d3-08e65ad1b766"
      },
      "source": [
        "foods.pivot_table(index=['Gender','Item'],columns=[\"Frequency\",\"City\"],values='Spend',aggfunc=\"sum\")"
      ],
      "execution_count": null,
      "outputs": [
        {
          "output_type": "execute_result",
          "data": {
            "text/html": [
              "<div>\n",
              "<style scoped>\n",
              "    .dataframe tbody tr th:only-of-type {\n",
              "        vertical-align: middle;\n",
              "    }\n",
              "\n",
              "    .dataframe tbody tr th {\n",
              "        vertical-align: top;\n",
              "    }\n",
              "\n",
              "    .dataframe thead tr th {\n",
              "        text-align: left;\n",
              "    }\n",
              "\n",
              "    .dataframe thead tr:last-of-type th {\n",
              "        text-align: right;\n",
              "    }\n",
              "</style>\n",
              "<table border=\"1\" class=\"dataframe\">\n",
              "  <thead>\n",
              "    <tr>\n",
              "      <th></th>\n",
              "      <th>Frequency</th>\n",
              "      <th colspan=\"3\" halign=\"left\">Daily</th>\n",
              "      <th colspan=\"3\" halign=\"left\">Monthly</th>\n",
              "      <th colspan=\"3\" halign=\"left\">Never</th>\n",
              "      <th colspan=\"3\" halign=\"left\">Often</th>\n",
              "      <th colspan=\"3\" halign=\"left\">Once</th>\n",
              "      <th colspan=\"3\" halign=\"left\">Seldom</th>\n",
              "      <th colspan=\"3\" halign=\"left\">Weekly</th>\n",
              "      <th colspan=\"3\" halign=\"left\">Yearly</th>\n",
              "    </tr>\n",
              "    <tr>\n",
              "      <th></th>\n",
              "      <th>City</th>\n",
              "      <th>New York</th>\n",
              "      <th>Philadelphia</th>\n",
              "      <th>Stamford</th>\n",
              "      <th>New York</th>\n",
              "      <th>Philadelphia</th>\n",
              "      <th>Stamford</th>\n",
              "      <th>New York</th>\n",
              "      <th>Philadelphia</th>\n",
              "      <th>Stamford</th>\n",
              "      <th>New York</th>\n",
              "      <th>Philadelphia</th>\n",
              "      <th>Stamford</th>\n",
              "      <th>New York</th>\n",
              "      <th>Philadelphia</th>\n",
              "      <th>Stamford</th>\n",
              "      <th>New York</th>\n",
              "      <th>Philadelphia</th>\n",
              "      <th>Stamford</th>\n",
              "      <th>New York</th>\n",
              "      <th>Philadelphia</th>\n",
              "      <th>Stamford</th>\n",
              "      <th>New York</th>\n",
              "      <th>Philadelphia</th>\n",
              "      <th>Stamford</th>\n",
              "    </tr>\n",
              "    <tr>\n",
              "      <th>Gender</th>\n",
              "      <th>Item</th>\n",
              "      <th></th>\n",
              "      <th></th>\n",
              "      <th></th>\n",
              "      <th></th>\n",
              "      <th></th>\n",
              "      <th></th>\n",
              "      <th></th>\n",
              "      <th></th>\n",
              "      <th></th>\n",
              "      <th></th>\n",
              "      <th></th>\n",
              "      <th></th>\n",
              "      <th></th>\n",
              "      <th></th>\n",
              "      <th></th>\n",
              "      <th></th>\n",
              "      <th></th>\n",
              "      <th></th>\n",
              "      <th></th>\n",
              "      <th></th>\n",
              "      <th></th>\n",
              "      <th></th>\n",
              "      <th></th>\n",
              "      <th></th>\n",
              "    </tr>\n",
              "  </thead>\n",
              "  <tbody>\n",
              "    <tr>\n",
              "      <th rowspan=\"6\" valign=\"top\">Female</th>\n",
              "      <th>Burger</th>\n",
              "      <td>262.67</td>\n",
              "      <td>231.68</td>\n",
              "      <td>144.66</td>\n",
              "      <td>171.86</td>\n",
              "      <td>215.05</td>\n",
              "      <td>238.49</td>\n",
              "      <td>97.89</td>\n",
              "      <td>218.97</td>\n",
              "      <td>90.97</td>\n",
              "      <td>94.96</td>\n",
              "      <td>288.81</td>\n",
              "      <td>87.27</td>\n",
              "      <td>104.85</td>\n",
              "      <td>120.51</td>\n",
              "      <td>95.05</td>\n",
              "      <td>63.16</td>\n",
              "      <td>409.05</td>\n",
              "      <td>97.53</td>\n",
              "      <td>184.35</td>\n",
              "      <td>32.00</td>\n",
              "      <td>155.02</td>\n",
              "      <td>259.30</td>\n",
              "      <td>123.17</td>\n",
              "      <td>307.03</td>\n",
              "    </tr>\n",
              "    <tr>\n",
              "      <th>Burrito</th>\n",
              "      <td>224.45</td>\n",
              "      <td>321.57</td>\n",
              "      <td>195.63</td>\n",
              "      <td>122.74</td>\n",
              "      <td>34.28</td>\n",
              "      <td>67.94</td>\n",
              "      <td>189.73</td>\n",
              "      <td>382.30</td>\n",
              "      <td>366.34</td>\n",
              "      <td>103.60</td>\n",
              "      <td>244.91</td>\n",
              "      <td>383.81</td>\n",
              "      <td>59.94</td>\n",
              "      <td>98.02</td>\n",
              "      <td>168.01</td>\n",
              "      <td>167.54</td>\n",
              "      <td>198.11</td>\n",
              "      <td>234.49</td>\n",
              "      <td>39.69</td>\n",
              "      <td>62.82</td>\n",
              "      <td>230.91</td>\n",
              "      <td>71.26</td>\n",
              "      <td>116.75</td>\n",
              "      <td>172.98</td>\n",
              "    </tr>\n",
              "    <tr>\n",
              "      <th>Chalupa</th>\n",
              "      <td>43.19</td>\n",
              "      <td>23.49</td>\n",
              "      <td>95.70</td>\n",
              "      <td>158.37</td>\n",
              "      <td>289.96</td>\n",
              "      <td>161.98</td>\n",
              "      <td>35.15</td>\n",
              "      <td>121.97</td>\n",
              "      <td>156.36</td>\n",
              "      <td>39.73</td>\n",
              "      <td>175.35</td>\n",
              "      <td>419.62</td>\n",
              "      <td>110.80</td>\n",
              "      <td>199.20</td>\n",
              "      <td>40.59</td>\n",
              "      <td>160.00</td>\n",
              "      <td>274.51</td>\n",
              "      <td>175.25</td>\n",
              "      <td>171.52</td>\n",
              "      <td>84.41</td>\n",
              "      <td>204.69</td>\n",
              "      <td>157.82</td>\n",
              "      <td>504.44</td>\n",
              "      <td>348.16</td>\n",
              "    </tr>\n",
              "    <tr>\n",
              "      <th>Donut</th>\n",
              "      <td>478.10</td>\n",
              "      <td>247.40</td>\n",
              "      <td>124.35</td>\n",
              "      <td>284.53</td>\n",
              "      <td>50.25</td>\n",
              "      <td>229.30</td>\n",
              "      <td>56.07</td>\n",
              "      <td>433.58</td>\n",
              "      <td>157.33</td>\n",
              "      <td>130.63</td>\n",
              "      <td>175.78</td>\n",
              "      <td>218.54</td>\n",
              "      <td>58.13</td>\n",
              "      <td>164.97</td>\n",
              "      <td>158.24</td>\n",
              "      <td>90.81</td>\n",
              "      <td>183.25</td>\n",
              "      <td>104.66</td>\n",
              "      <td>285.56</td>\n",
              "      <td>208.80</td>\n",
              "      <td>440.06</td>\n",
              "      <td>62.95</td>\n",
              "      <td>175.23</td>\n",
              "      <td>224.48</td>\n",
              "    </tr>\n",
              "    <tr>\n",
              "      <th>Ice Cream</th>\n",
              "      <td>262.19</td>\n",
              "      <td>177.69</td>\n",
              "      <td>92.88</td>\n",
              "      <td>92.53</td>\n",
              "      <td>74.51</td>\n",
              "      <td>125.85</td>\n",
              "      <td>206.15</td>\n",
              "      <td>156.03</td>\n",
              "      <td>77.66</td>\n",
              "      <td>232.26</td>\n",
              "      <td>107.92</td>\n",
              "      <td>198.31</td>\n",
              "      <td>106.85</td>\n",
              "      <td>314.83</td>\n",
              "      <td>279.33</td>\n",
              "      <td>242.35</td>\n",
              "      <td>203.10</td>\n",
              "      <td>117.73</td>\n",
              "      <td>227.62</td>\n",
              "      <td>285.28</td>\n",
              "      <td>125.03</td>\n",
              "      <td>151.67</td>\n",
              "      <td>159.86</td>\n",
              "      <td>15.24</td>\n",
              "    </tr>\n",
              "    <tr>\n",
              "      <th>Sushi</th>\n",
              "      <td>81.07</td>\n",
              "      <td>348.53</td>\n",
              "      <td>393.27</td>\n",
              "      <td>93.16</td>\n",
              "      <td>78.71</td>\n",
              "      <td>108.39</td>\n",
              "      <td>69.33</td>\n",
              "      <td>190.58</td>\n",
              "      <td>19.56</td>\n",
              "      <td>343.94</td>\n",
              "      <td>85.87</td>\n",
              "      <td>38.02</td>\n",
              "      <td>161.79</td>\n",
              "      <td>245.10</td>\n",
              "      <td>194.75</td>\n",
              "      <td>87.70</td>\n",
              "      <td>314.24</td>\n",
              "      <td>27.82</td>\n",
              "      <td>410.89</td>\n",
              "      <td>334.00</td>\n",
              "      <td>315.36</td>\n",
              "      <td>232.41</td>\n",
              "      <td>145.85</td>\n",
              "      <td>362.74</td>\n",
              "    </tr>\n",
              "    <tr>\n",
              "      <th rowspan=\"6\" valign=\"top\">Male</th>\n",
              "      <th>Burger</th>\n",
              "      <td>319.46</td>\n",
              "      <td>112.70</td>\n",
              "      <td>197.72</td>\n",
              "      <td>187.29</td>\n",
              "      <td>213.14</td>\n",
              "      <td>27.16</td>\n",
              "      <td>90.32</td>\n",
              "      <td>17.31</td>\n",
              "      <td>NaN</td>\n",
              "      <td>55.47</td>\n",
              "      <td>73.84</td>\n",
              "      <td>192.61</td>\n",
              "      <td>296.57</td>\n",
              "      <td>35.88</td>\n",
              "      <td>326.64</td>\n",
              "      <td>225.68</td>\n",
              "      <td>188.06</td>\n",
              "      <td>159.75</td>\n",
              "      <td>69.69</td>\n",
              "      <td>99.89</td>\n",
              "      <td>310.21</td>\n",
              "      <td>49.61</td>\n",
              "      <td>197.36</td>\n",
              "      <td>225.07</td>\n",
              "    </tr>\n",
              "    <tr>\n",
              "      <th>Burrito</th>\n",
              "      <td>236.21</td>\n",
              "      <td>165.76</td>\n",
              "      <td>276.23</td>\n",
              "      <td>147.54</td>\n",
              "      <td>89.58</td>\n",
              "      <td>119.60</td>\n",
              "      <td>86.78</td>\n",
              "      <td>378.32</td>\n",
              "      <td>351.84</td>\n",
              "      <td>189.92</td>\n",
              "      <td>54.77</td>\n",
              "      <td>88.14</td>\n",
              "      <td>59.11</td>\n",
              "      <td>189.03</td>\n",
              "      <td>30.15</td>\n",
              "      <td>202.40</td>\n",
              "      <td>27.71</td>\n",
              "      <td>9.84</td>\n",
              "      <td>256.74</td>\n",
              "      <td>289.25</td>\n",
              "      <td>161.85</td>\n",
              "      <td>220.70</td>\n",
              "      <td>118.51</td>\n",
              "      <td>262.64</td>\n",
              "    </tr>\n",
              "    <tr>\n",
              "      <th>Chalupa</th>\n",
              "      <td>54.09</td>\n",
              "      <td>274.81</td>\n",
              "      <td>192.64</td>\n",
              "      <td>333.76</td>\n",
              "      <td>90.70</td>\n",
              "      <td>343.76</td>\n",
              "      <td>199.09</td>\n",
              "      <td>242.98</td>\n",
              "      <td>138.70</td>\n",
              "      <td>251.52</td>\n",
              "      <td>1.94</td>\n",
              "      <td>140.58</td>\n",
              "      <td>46.68</td>\n",
              "      <td>168.56</td>\n",
              "      <td>NaN</td>\n",
              "      <td>11.69</td>\n",
              "      <td>130.75</td>\n",
              "      <td>174.02</td>\n",
              "      <td>163.20</td>\n",
              "      <td>135.68</td>\n",
              "      <td>44.37</td>\n",
              "      <td>167.74</td>\n",
              "      <td>68.81</td>\n",
              "      <td>116.19</td>\n",
              "    </tr>\n",
              "    <tr>\n",
              "      <th>Donut</th>\n",
              "      <td>230.00</td>\n",
              "      <td>190.71</td>\n",
              "      <td>129.42</td>\n",
              "      <td>183.73</td>\n",
              "      <td>259.29</td>\n",
              "      <td>119.53</td>\n",
              "      <td>219.63</td>\n",
              "      <td>53.65</td>\n",
              "      <td>219.64</td>\n",
              "      <td>139.80</td>\n",
              "      <td>262.41</td>\n",
              "      <td>321.55</td>\n",
              "      <td>338.32</td>\n",
              "      <td>223.88</td>\n",
              "      <td>139.89</td>\n",
              "      <td>16.25</td>\n",
              "      <td>99.01</td>\n",
              "      <td>163.31</td>\n",
              "      <td>74.44</td>\n",
              "      <td>115.80</td>\n",
              "      <td>311.27</td>\n",
              "      <td>143.10</td>\n",
              "      <td>44.61</td>\n",
              "      <td>16.52</td>\n",
              "    </tr>\n",
              "    <tr>\n",
              "      <th>Ice Cream</th>\n",
              "      <td>178.22</td>\n",
              "      <td>148.69</td>\n",
              "      <td>15.17</td>\n",
              "      <td>152.20</td>\n",
              "      <td>386.55</td>\n",
              "      <td>74.36</td>\n",
              "      <td>57.54</td>\n",
              "      <td>321.94</td>\n",
              "      <td>119.77</td>\n",
              "      <td>347.55</td>\n",
              "      <td>356.73</td>\n",
              "      <td>290.64</td>\n",
              "      <td>214.14</td>\n",
              "      <td>377.74</td>\n",
              "      <td>182.71</td>\n",
              "      <td>270.42</td>\n",
              "      <td>138.44</td>\n",
              "      <td>40.83</td>\n",
              "      <td>223.86</td>\n",
              "      <td>221.24</td>\n",
              "      <td>239.42</td>\n",
              "      <td>159.70</td>\n",
              "      <td>239.94</td>\n",
              "      <td>96.32</td>\n",
              "    </tr>\n",
              "    <tr>\n",
              "      <th>Sushi</th>\n",
              "      <td>225.57</td>\n",
              "      <td>280.93</td>\n",
              "      <td>NaN</td>\n",
              "      <td>430.86</td>\n",
              "      <td>155.59</td>\n",
              "      <td>93.03</td>\n",
              "      <td>164.01</td>\n",
              "      <td>245.77</td>\n",
              "      <td>204.90</td>\n",
              "      <td>9.31</td>\n",
              "      <td>167.11</td>\n",
              "      <td>44.22</td>\n",
              "      <td>136.32</td>\n",
              "      <td>161.09</td>\n",
              "      <td>314.65</td>\n",
              "      <td>160.49</td>\n",
              "      <td>91.26</td>\n",
              "      <td>224.15</td>\n",
              "      <td>150.15</td>\n",
              "      <td>260.33</td>\n",
              "      <td>338.16</td>\n",
              "      <td>119.44</td>\n",
              "      <td>33.80</td>\n",
              "      <td>48.71</td>\n",
              "    </tr>\n",
              "  </tbody>\n",
              "</table>\n",
              "</div>"
            ],
            "text/plain": [
              "Frequency           Daily                        ...   Yearly                      \n",
              "City             New York Philadelphia Stamford  ... New York Philadelphia Stamford\n",
              "Gender Item                                      ...                               \n",
              "Female Burger      262.67       231.68   144.66  ...   259.30       123.17   307.03\n",
              "       Burrito     224.45       321.57   195.63  ...    71.26       116.75   172.98\n",
              "       Chalupa      43.19        23.49    95.70  ...   157.82       504.44   348.16\n",
              "       Donut       478.10       247.40   124.35  ...    62.95       175.23   224.48\n",
              "       Ice Cream   262.19       177.69    92.88  ...   151.67       159.86    15.24\n",
              "       Sushi        81.07       348.53   393.27  ...   232.41       145.85   362.74\n",
              "Male   Burger      319.46       112.70   197.72  ...    49.61       197.36   225.07\n",
              "       Burrito     236.21       165.76   276.23  ...   220.70       118.51   262.64\n",
              "       Chalupa      54.09       274.81   192.64  ...   167.74        68.81   116.19\n",
              "       Donut       230.00       190.71   129.42  ...   143.10        44.61    16.52\n",
              "       Ice Cream   178.22       148.69    15.17  ...   159.70       239.94    96.32\n",
              "       Sushi       225.57       280.93      NaN  ...   119.44        33.80    48.71\n",
              "\n",
              "[12 rows x 24 columns]"
            ]
          },
          "metadata": {
            "tags": []
          },
          "execution_count": 46
        }
      ]
    },
    {
      "cell_type": "code",
      "metadata": {
        "colab": {
          "base_uri": "https://localhost:8080/",
          "height": 448
        },
        "id": "5JaT0lXscdw4",
        "outputId": "cd235701-3676-42d6-fdb1-931b70f32c72"
      },
      "source": [
        "foods.pivot_table(index=['Gender','Item'],columns=\"City\",values='Spend',aggfunc=\"max\")"
      ],
      "execution_count": null,
      "outputs": [
        {
          "output_type": "execute_result",
          "data": {
            "text/html": [
              "<div>\n",
              "<style scoped>\n",
              "    .dataframe tbody tr th:only-of-type {\n",
              "        vertical-align: middle;\n",
              "    }\n",
              "\n",
              "    .dataframe tbody tr th {\n",
              "        vertical-align: top;\n",
              "    }\n",
              "\n",
              "    .dataframe thead th {\n",
              "        text-align: right;\n",
              "    }\n",
              "</style>\n",
              "<table border=\"1\" class=\"dataframe\">\n",
              "  <thead>\n",
              "    <tr style=\"text-align: right;\">\n",
              "      <th></th>\n",
              "      <th>City</th>\n",
              "      <th>New York</th>\n",
              "      <th>Philadelphia</th>\n",
              "      <th>Stamford</th>\n",
              "    </tr>\n",
              "    <tr>\n",
              "      <th>Gender</th>\n",
              "      <th>Item</th>\n",
              "      <th></th>\n",
              "      <th></th>\n",
              "      <th></th>\n",
              "    </tr>\n",
              "  </thead>\n",
              "  <tbody>\n",
              "    <tr>\n",
              "      <th rowspan=\"6\" valign=\"top\">Female</th>\n",
              "      <th>Burger</th>\n",
              "      <td>98.96</td>\n",
              "      <td>97.79</td>\n",
              "      <td>85.06</td>\n",
              "    </tr>\n",
              "    <tr>\n",
              "      <th>Burrito</th>\n",
              "      <td>92.25</td>\n",
              "      <td>96.79</td>\n",
              "      <td>99.21</td>\n",
              "    </tr>\n",
              "    <tr>\n",
              "      <th>Chalupa</th>\n",
              "      <td>98.43</td>\n",
              "      <td>99.29</td>\n",
              "      <td>98.78</td>\n",
              "    </tr>\n",
              "    <tr>\n",
              "      <th>Donut</th>\n",
              "      <td>95.63</td>\n",
              "      <td>96.52</td>\n",
              "      <td>91.75</td>\n",
              "    </tr>\n",
              "    <tr>\n",
              "      <th>Ice Cream</th>\n",
              "      <td>97.83</td>\n",
              "      <td>88.14</td>\n",
              "      <td>97.44</td>\n",
              "    </tr>\n",
              "    <tr>\n",
              "      <th>Sushi</th>\n",
              "      <td>99.51</td>\n",
              "      <td>99.02</td>\n",
              "      <td>95.43</td>\n",
              "    </tr>\n",
              "    <tr>\n",
              "      <th rowspan=\"6\" valign=\"top\">Male</th>\n",
              "      <th>Burger</th>\n",
              "      <td>90.32</td>\n",
              "      <td>99.68</td>\n",
              "      <td>97.20</td>\n",
              "    </tr>\n",
              "    <tr>\n",
              "      <th>Burrito</th>\n",
              "      <td>98.04</td>\n",
              "      <td>93.27</td>\n",
              "      <td>95.07</td>\n",
              "    </tr>\n",
              "    <tr>\n",
              "      <th>Chalupa</th>\n",
              "      <td>96.44</td>\n",
              "      <td>98.40</td>\n",
              "      <td>99.87</td>\n",
              "    </tr>\n",
              "    <tr>\n",
              "      <th>Donut</th>\n",
              "      <td>86.70</td>\n",
              "      <td>93.12</td>\n",
              "      <td>99.26</td>\n",
              "    </tr>\n",
              "    <tr>\n",
              "      <th>Ice Cream</th>\n",
              "      <td>97.65</td>\n",
              "      <td>99.24</td>\n",
              "      <td>99.17</td>\n",
              "    </tr>\n",
              "    <tr>\n",
              "      <th>Sushi</th>\n",
              "      <td>93.85</td>\n",
              "      <td>97.12</td>\n",
              "      <td>98.48</td>\n",
              "    </tr>\n",
              "  </tbody>\n",
              "</table>\n",
              "</div>"
            ],
            "text/plain": [
              "City              New York  Philadelphia  Stamford\n",
              "Gender Item                                       \n",
              "Female Burger        98.96         97.79     85.06\n",
              "       Burrito       92.25         96.79     99.21\n",
              "       Chalupa       98.43         99.29     98.78\n",
              "       Donut         95.63         96.52     91.75\n",
              "       Ice Cream     97.83         88.14     97.44\n",
              "       Sushi         99.51         99.02     95.43\n",
              "Male   Burger        90.32         99.68     97.20\n",
              "       Burrito       98.04         93.27     95.07\n",
              "       Chalupa       96.44         98.40     99.87\n",
              "       Donut         86.70         93.12     99.26\n",
              "       Ice Cream     97.65         99.24     99.17\n",
              "       Sushi         93.85         97.12     98.48"
            ]
          },
          "metadata": {
            "tags": []
          },
          "execution_count": 47
        }
      ]
    },
    {
      "cell_type": "markdown",
      "metadata": {
        "id": "eYtdaQmvm9uI"
      },
      "source": [
        "# The Melt Method"
      ]
    },
    {
      "cell_type": "code",
      "metadata": {
        "colab": {
          "base_uri": "https://localhost:8080/",
          "height": 141
        },
        "id": "fpFEsESpiWci",
        "outputId": "3eca0e86-44db-4d5b-a7d5-4ad9e4c05cd9"
      },
      "source": [
        "sales = pd.read_csv('quarters.csv')\n",
        "sales.head(3)"
      ],
      "execution_count": null,
      "outputs": [
        {
          "output_type": "execute_result",
          "data": {
            "text/html": [
              "<div>\n",
              "<style scoped>\n",
              "    .dataframe tbody tr th:only-of-type {\n",
              "        vertical-align: middle;\n",
              "    }\n",
              "\n",
              "    .dataframe tbody tr th {\n",
              "        vertical-align: top;\n",
              "    }\n",
              "\n",
              "    .dataframe thead th {\n",
              "        text-align: right;\n",
              "    }\n",
              "</style>\n",
              "<table border=\"1\" class=\"dataframe\">\n",
              "  <thead>\n",
              "    <tr style=\"text-align: right;\">\n",
              "      <th></th>\n",
              "      <th>Salesman</th>\n",
              "      <th>Q1</th>\n",
              "      <th>Q2</th>\n",
              "      <th>Q3</th>\n",
              "      <th>Q4</th>\n",
              "    </tr>\n",
              "  </thead>\n",
              "  <tbody>\n",
              "    <tr>\n",
              "      <th>0</th>\n",
              "      <td>Boris</td>\n",
              "      <td>602908</td>\n",
              "      <td>233879</td>\n",
              "      <td>354479</td>\n",
              "      <td>32704</td>\n",
              "    </tr>\n",
              "    <tr>\n",
              "      <th>1</th>\n",
              "      <td>Bob</td>\n",
              "      <td>43790</td>\n",
              "      <td>514863</td>\n",
              "      <td>297151</td>\n",
              "      <td>544493</td>\n",
              "    </tr>\n",
              "    <tr>\n",
              "      <th>2</th>\n",
              "      <td>Tommy</td>\n",
              "      <td>392668</td>\n",
              "      <td>113579</td>\n",
              "      <td>430882</td>\n",
              "      <td>247231</td>\n",
              "    </tr>\n",
              "  </tbody>\n",
              "</table>\n",
              "</div>"
            ],
            "text/plain": [
              "  Salesman      Q1      Q2      Q3      Q4\n",
              "0    Boris  602908  233879  354479   32704\n",
              "1      Bob   43790  514863  297151  544493\n",
              "2    Tommy  392668  113579  430882  247231"
            ]
          },
          "metadata": {
            "tags": []
          },
          "execution_count": 48
        }
      ]
    },
    {
      "cell_type": "code",
      "metadata": {
        "colab": {
          "base_uri": "https://localhost:8080/",
          "height": 1000
        },
        "id": "NqJhwKkBoXg8",
        "outputId": "7e9784f6-f7be-4bea-be2a-e59e8ace1f6b"
      },
      "source": [
        "pd.melt(sales,id_vars=\"Salesman\",var_name=\"Quarter\",value_name=\"Revenue\")"
      ],
      "execution_count": null,
      "outputs": [
        {
          "output_type": "execute_result",
          "data": {
            "text/html": [
              "<div>\n",
              "<style scoped>\n",
              "    .dataframe tbody tr th:only-of-type {\n",
              "        vertical-align: middle;\n",
              "    }\n",
              "\n",
              "    .dataframe tbody tr th {\n",
              "        vertical-align: top;\n",
              "    }\n",
              "\n",
              "    .dataframe thead th {\n",
              "        text-align: right;\n",
              "    }\n",
              "</style>\n",
              "<table border=\"1\" class=\"dataframe\">\n",
              "  <thead>\n",
              "    <tr style=\"text-align: right;\">\n",
              "      <th></th>\n",
              "      <th>Salesman</th>\n",
              "      <th>Quarter</th>\n",
              "      <th>Revenue</th>\n",
              "    </tr>\n",
              "  </thead>\n",
              "  <tbody>\n",
              "    <tr>\n",
              "      <th>0</th>\n",
              "      <td>Boris</td>\n",
              "      <td>Q1</td>\n",
              "      <td>602908</td>\n",
              "    </tr>\n",
              "    <tr>\n",
              "      <th>1</th>\n",
              "      <td>Bob</td>\n",
              "      <td>Q1</td>\n",
              "      <td>43790</td>\n",
              "    </tr>\n",
              "    <tr>\n",
              "      <th>2</th>\n",
              "      <td>Tommy</td>\n",
              "      <td>Q1</td>\n",
              "      <td>392668</td>\n",
              "    </tr>\n",
              "    <tr>\n",
              "      <th>3</th>\n",
              "      <td>Travis</td>\n",
              "      <td>Q1</td>\n",
              "      <td>834663</td>\n",
              "    </tr>\n",
              "    <tr>\n",
              "      <th>4</th>\n",
              "      <td>Donald</td>\n",
              "      <td>Q1</td>\n",
              "      <td>580935</td>\n",
              "    </tr>\n",
              "    <tr>\n",
              "      <th>5</th>\n",
              "      <td>Ted</td>\n",
              "      <td>Q1</td>\n",
              "      <td>656644</td>\n",
              "    </tr>\n",
              "    <tr>\n",
              "      <th>6</th>\n",
              "      <td>Jeb</td>\n",
              "      <td>Q1</td>\n",
              "      <td>486141</td>\n",
              "    </tr>\n",
              "    <tr>\n",
              "      <th>7</th>\n",
              "      <td>Stacy</td>\n",
              "      <td>Q1</td>\n",
              "      <td>479662</td>\n",
              "    </tr>\n",
              "    <tr>\n",
              "      <th>8</th>\n",
              "      <td>Morgan</td>\n",
              "      <td>Q1</td>\n",
              "      <td>992673</td>\n",
              "    </tr>\n",
              "    <tr>\n",
              "      <th>9</th>\n",
              "      <td>Boris</td>\n",
              "      <td>Q2</td>\n",
              "      <td>233879</td>\n",
              "    </tr>\n",
              "    <tr>\n",
              "      <th>10</th>\n",
              "      <td>Bob</td>\n",
              "      <td>Q2</td>\n",
              "      <td>514863</td>\n",
              "    </tr>\n",
              "    <tr>\n",
              "      <th>11</th>\n",
              "      <td>Tommy</td>\n",
              "      <td>Q2</td>\n",
              "      <td>113579</td>\n",
              "    </tr>\n",
              "    <tr>\n",
              "      <th>12</th>\n",
              "      <td>Travis</td>\n",
              "      <td>Q2</td>\n",
              "      <td>266785</td>\n",
              "    </tr>\n",
              "    <tr>\n",
              "      <th>13</th>\n",
              "      <td>Donald</td>\n",
              "      <td>Q2</td>\n",
              "      <td>411379</td>\n",
              "    </tr>\n",
              "    <tr>\n",
              "      <th>14</th>\n",
              "      <td>Ted</td>\n",
              "      <td>Q2</td>\n",
              "      <td>70803</td>\n",
              "    </tr>\n",
              "    <tr>\n",
              "      <th>15</th>\n",
              "      <td>Jeb</td>\n",
              "      <td>Q2</td>\n",
              "      <td>600753</td>\n",
              "    </tr>\n",
              "    <tr>\n",
              "      <th>16</th>\n",
              "      <td>Stacy</td>\n",
              "      <td>Q2</td>\n",
              "      <td>742806</td>\n",
              "    </tr>\n",
              "    <tr>\n",
              "      <th>17</th>\n",
              "      <td>Morgan</td>\n",
              "      <td>Q2</td>\n",
              "      <td>879183</td>\n",
              "    </tr>\n",
              "    <tr>\n",
              "      <th>18</th>\n",
              "      <td>Boris</td>\n",
              "      <td>Q3</td>\n",
              "      <td>354479</td>\n",
              "    </tr>\n",
              "    <tr>\n",
              "      <th>19</th>\n",
              "      <td>Bob</td>\n",
              "      <td>Q3</td>\n",
              "      <td>297151</td>\n",
              "    </tr>\n",
              "    <tr>\n",
              "      <th>20</th>\n",
              "      <td>Tommy</td>\n",
              "      <td>Q3</td>\n",
              "      <td>430882</td>\n",
              "    </tr>\n",
              "    <tr>\n",
              "      <th>21</th>\n",
              "      <td>Travis</td>\n",
              "      <td>Q3</td>\n",
              "      <td>749238</td>\n",
              "    </tr>\n",
              "    <tr>\n",
              "      <th>22</th>\n",
              "      <td>Donald</td>\n",
              "      <td>Q3</td>\n",
              "      <td>110390</td>\n",
              "    </tr>\n",
              "    <tr>\n",
              "      <th>23</th>\n",
              "      <td>Ted</td>\n",
              "      <td>Q3</td>\n",
              "      <td>375948</td>\n",
              "    </tr>\n",
              "    <tr>\n",
              "      <th>24</th>\n",
              "      <td>Jeb</td>\n",
              "      <td>Q3</td>\n",
              "      <td>742716</td>\n",
              "    </tr>\n",
              "    <tr>\n",
              "      <th>25</th>\n",
              "      <td>Stacy</td>\n",
              "      <td>Q3</td>\n",
              "      <td>770712</td>\n",
              "    </tr>\n",
              "    <tr>\n",
              "      <th>26</th>\n",
              "      <td>Morgan</td>\n",
              "      <td>Q3</td>\n",
              "      <td>37945</td>\n",
              "    </tr>\n",
              "    <tr>\n",
              "      <th>27</th>\n",
              "      <td>Boris</td>\n",
              "      <td>Q4</td>\n",
              "      <td>32704</td>\n",
              "    </tr>\n",
              "    <tr>\n",
              "      <th>28</th>\n",
              "      <td>Bob</td>\n",
              "      <td>Q4</td>\n",
              "      <td>544493</td>\n",
              "    </tr>\n",
              "    <tr>\n",
              "      <th>29</th>\n",
              "      <td>Tommy</td>\n",
              "      <td>Q4</td>\n",
              "      <td>247231</td>\n",
              "    </tr>\n",
              "    <tr>\n",
              "      <th>30</th>\n",
              "      <td>Travis</td>\n",
              "      <td>Q4</td>\n",
              "      <td>570524</td>\n",
              "    </tr>\n",
              "    <tr>\n",
              "      <th>31</th>\n",
              "      <td>Donald</td>\n",
              "      <td>Q4</td>\n",
              "      <td>651572</td>\n",
              "    </tr>\n",
              "    <tr>\n",
              "      <th>32</th>\n",
              "      <td>Ted</td>\n",
              "      <td>Q4</td>\n",
              "      <td>321388</td>\n",
              "    </tr>\n",
              "    <tr>\n",
              "      <th>33</th>\n",
              "      <td>Jeb</td>\n",
              "      <td>Q4</td>\n",
              "      <td>404995</td>\n",
              "    </tr>\n",
              "    <tr>\n",
              "      <th>34</th>\n",
              "      <td>Stacy</td>\n",
              "      <td>Q4</td>\n",
              "      <td>2501</td>\n",
              "    </tr>\n",
              "    <tr>\n",
              "      <th>35</th>\n",
              "      <td>Morgan</td>\n",
              "      <td>Q4</td>\n",
              "      <td>293710</td>\n",
              "    </tr>\n",
              "  </tbody>\n",
              "</table>\n",
              "</div>"
            ],
            "text/plain": [
              "   Salesman Quarter  Revenue\n",
              "0     Boris      Q1   602908\n",
              "1       Bob      Q1    43790\n",
              "2     Tommy      Q1   392668\n",
              "3    Travis      Q1   834663\n",
              "4    Donald      Q1   580935\n",
              "5       Ted      Q1   656644\n",
              "6       Jeb      Q1   486141\n",
              "7     Stacy      Q1   479662\n",
              "8    Morgan      Q1   992673\n",
              "9     Boris      Q2   233879\n",
              "10      Bob      Q2   514863\n",
              "11    Tommy      Q2   113579\n",
              "12   Travis      Q2   266785\n",
              "13   Donald      Q2   411379\n",
              "14      Ted      Q2    70803\n",
              "15      Jeb      Q2   600753\n",
              "16    Stacy      Q2   742806\n",
              "17   Morgan      Q2   879183\n",
              "18    Boris      Q3   354479\n",
              "19      Bob      Q3   297151\n",
              "20    Tommy      Q3   430882\n",
              "21   Travis      Q3   749238\n",
              "22   Donald      Q3   110390\n",
              "23      Ted      Q3   375948\n",
              "24      Jeb      Q3   742716\n",
              "25    Stacy      Q3   770712\n",
              "26   Morgan      Q3    37945\n",
              "27    Boris      Q4    32704\n",
              "28      Bob      Q4   544493\n",
              "29    Tommy      Q4   247231\n",
              "30   Travis      Q4   570524\n",
              "31   Donald      Q4   651572\n",
              "32      Ted      Q4   321388\n",
              "33      Jeb      Q4   404995\n",
              "34    Stacy      Q4     2501\n",
              "35   Morgan      Q4   293710"
            ]
          },
          "metadata": {
            "tags": []
          },
          "execution_count": 49
        }
      ]
    },
    {
      "cell_type": "code",
      "metadata": {
        "id": "A4N43tNCogpb"
      },
      "source": [
        ""
      ],
      "execution_count": null,
      "outputs": []
    }
  ]
}