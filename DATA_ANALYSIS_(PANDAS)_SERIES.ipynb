{
  "nbformat": 4,
  "nbformat_minor": 0,
  "metadata": {
    "colab": {
      "name": "DATA_ANALYSIS (PANDAS) SERIES.ipynb",
      "provenance": [],
      "collapsed_sections": [],
      "authorship_tag": "ABX9TyNVTRYQ1ysa8MwVKcMFikZd",
      "include_colab_link": true
    },
    "kernelspec": {
      "name": "python3",
      "display_name": "Python 3"
    }
  },
  "cells": [
    {
      "cell_type": "markdown",
      "metadata": {
        "id": "view-in-github",
        "colab_type": "text"
      },
      "source": [
        "<a href=\"https://colab.research.google.com/github/Kamranbarlas/Data-Visualization-pandas/blob/main/DATA_ANALYSIS_(PANDAS)_SERIES.ipynb\" target=\"_parent\"><img src=\"https://colab.research.google.com/assets/colab-badge.svg\" alt=\"Open In Colab\"/></a>"
      ]
    },
    {
      "cell_type": "markdown",
      "metadata": {
        "id": "tADTlVhFFKwn"
      },
      "source": [
        "# SERIES"
      ]
    },
    {
      "cell_type": "code",
      "metadata": {
        "id": "vzFm2KJwFO9f"
      },
      "source": [
        "import pandas as pd\n"
      ],
      "execution_count": null,
      "outputs": []
    },
    {
      "cell_type": "markdown",
      "metadata": {
        "id": "bdkIg4zNF5yM"
      },
      "source": [
        "## Creating A series object from a python list\n"
      ]
    },
    {
      "cell_type": "code",
      "metadata": {
        "colab": {
          "base_uri": "https://localhost:8080/"
        },
        "id": "08kI2zvzFgF_",
        "outputId": "b54e0de7-38ae-4df2-9f2f-bd0e50e27c20"
      },
      "source": [
        "ice_cream = [\"walls\",1,\"omore\",\"Random\"]\n",
        "pd.Series(ice_cream)"
      ],
      "execution_count": null,
      "outputs": [
        {
          "output_type": "execute_result",
          "data": {
            "text/plain": [
              "0     walls\n",
              "1         1\n",
              "2     omore\n",
              "3    Random\n",
              "dtype: object"
            ]
          },
          "metadata": {
            "tags": []
          },
          "execution_count": 23
        }
      ]
    },
    {
      "cell_type": "code",
      "metadata": {
        "colab": {
          "base_uri": "https://localhost:8080/"
        },
        "id": "dO_3WfyCFmnz",
        "outputId": "3acfc299-df4f-4de7-8154-ac23cbf2342a"
      },
      "source": [
        "numbers = [1,2,3,4,5,6]\n",
        "pd.Series(numbers)"
      ],
      "execution_count": null,
      "outputs": [
        {
          "output_type": "execute_result",
          "data": {
            "text/plain": [
              "0    1\n",
              "1    2\n",
              "2    3\n",
              "3    4\n",
              "4    5\n",
              "5    6\n",
              "dtype: int64"
            ]
          },
          "metadata": {
            "tags": []
          },
          "execution_count": 24
        }
      ]
    },
    {
      "cell_type": "markdown",
      "metadata": {
        "id": "Rn9004BpJaVB"
      },
      "source": [
        "## Creating A series object from a python dictionary\n"
      ]
    },
    {
      "cell_type": "code",
      "metadata": {
        "id": "Pk7EtG21Fnwq"
      },
      "source": [
        "#index doesnot have to be a numeric"
      ],
      "execution_count": null,
      "outputs": []
    },
    {
      "cell_type": "code",
      "metadata": {
        "colab": {
          "base_uri": "https://localhost:8080/"
        },
        "id": "oZyhTgpMFoG2",
        "outputId": "b7fc12ce-e35f-49bb-eeec-6b3e40ceb492"
      },
      "source": [
        "webster ={\n",
        "    'Aardvark':'An animal',\n",
        "    'Banana':'A delicious fruit',\n",
        "    'Cyan':'A color'\n",
        "}\n",
        "pd.Series(webster)"
      ],
      "execution_count": null,
      "outputs": [
        {
          "output_type": "execute_result",
          "data": {
            "text/plain": [
              "Aardvark            An animal\n",
              "Banana      A delicious fruit\n",
              "Cyan                  A color\n",
              "dtype: object"
            ]
          },
          "metadata": {
            "tags": []
          },
          "execution_count": 26
        }
      ]
    },
    {
      "cell_type": "code",
      "metadata": {
        "id": "W2hY9b3EFoMl"
      },
      "source": [
        ""
      ],
      "execution_count": null,
      "outputs": []
    },
    {
      "cell_type": "markdown",
      "metadata": {
        "id": "nSnnHl1BUA2F"
      },
      "source": [
        "# Intro to Attributes"
      ]
    },
    {
      "cell_type": "code",
      "metadata": {
        "id": "sgL9QgaXFoRF"
      },
      "source": [
        "about_me= ['smart','handsome','royal','overrated','truth lover','muslim']\n",
        "\n",
        "s = pd.Series(about_me)"
      ],
      "execution_count": null,
      "outputs": []
    },
    {
      "cell_type": "code",
      "metadata": {
        "colab": {
          "base_uri": "https://localhost:8080/"
        },
        "id": "Fi0_pqPLFoV3",
        "outputId": "be99b5c3-170f-4d64-ee11-31d2199eae5e"
      },
      "source": [
        "#methods of series using  variable\n",
        "\n",
        "s.index"
      ],
      "execution_count": null,
      "outputs": [
        {
          "output_type": "execute_result",
          "data": {
            "text/plain": [
              "RangeIndex(start=0, stop=6, step=1)"
            ]
          },
          "metadata": {
            "tags": []
          },
          "execution_count": 28
        }
      ]
    },
    {
      "cell_type": "code",
      "metadata": {
        "colab": {
          "base_uri": "https://localhost:8080/"
        },
        "id": "XMlFEKJOFoaj",
        "outputId": "bdf1f315-933d-417a-cfdb-e9bba57042be"
      },
      "source": [
        "s.dtype"
      ],
      "execution_count": null,
      "outputs": [
        {
          "output_type": "execute_result",
          "data": {
            "text/plain": [
              "dtype('O')"
            ]
          },
          "metadata": {
            "tags": []
          },
          "execution_count": 29
        }
      ]
    },
    {
      "cell_type": "code",
      "metadata": {
        "id": "HuyoGrmhVZ_G"
      },
      "source": [
        ""
      ],
      "execution_count": null,
      "outputs": []
    },
    {
      "cell_type": "markdown",
      "metadata": {
        "id": "dO09kWbzVmK0"
      },
      "source": [
        "# Intro to methods"
      ]
    },
    {
      "cell_type": "code",
      "metadata": {
        "id": "zUOuBzlzVqLk"
      },
      "source": [
        "# series of floating point numbers"
      ],
      "execution_count": null,
      "outputs": []
    },
    {
      "cell_type": "code",
      "metadata": {
        "id": "AOdqBNOtVu-i"
      },
      "source": [
        "prices = [5,100,500,100.0]\n",
        "s = pd.Series(prices)"
      ],
      "execution_count": null,
      "outputs": []
    },
    {
      "cell_type": "code",
      "metadata": {
        "colab": {
          "base_uri": "https://localhost:8080/"
        },
        "id": "uXDW-tLWV59G",
        "outputId": "dc89be3e-820e-4245-dbca-b5c513373b4b"
      },
      "source": [
        "s.mean()  "
      ],
      "execution_count": null,
      "outputs": [
        {
          "output_type": "execute_result",
          "data": {
            "text/plain": [
              "176.25"
            ]
          },
          "metadata": {
            "tags": []
          },
          "execution_count": 32
        }
      ]
    },
    {
      "cell_type": "code",
      "metadata": {
        "colab": {
          "base_uri": "https://localhost:8080/"
        },
        "id": "KAIOJZ47WC2T",
        "outputId": "9909e617-15dd-4bd2-d8f2-12c9860ca78a"
      },
      "source": [
        "s.sum()"
      ],
      "execution_count": null,
      "outputs": [
        {
          "output_type": "execute_result",
          "data": {
            "text/plain": [
              "705.0"
            ]
          },
          "metadata": {
            "tags": []
          },
          "execution_count": 33
        }
      ]
    },
    {
      "cell_type": "code",
      "metadata": {
        "colab": {
          "base_uri": "https://localhost:8080/"
        },
        "id": "_zoP3r1IWrOF",
        "outputId": "e620ea8e-c88e-4a96-fb43-f598091e3b49"
      },
      "source": [
        "s.product()"
      ],
      "execution_count": null,
      "outputs": [
        {
          "output_type": "execute_result",
          "data": {
            "text/plain": [
              "25000000.0"
            ]
          },
          "metadata": {
            "tags": []
          },
          "execution_count": 34
        }
      ]
    },
    {
      "cell_type": "code",
      "metadata": {
        "colab": {
          "base_uri": "https://localhost:8080/"
        },
        "id": "zGEOiQ8rWs2b",
        "outputId": "c299564d-2cab-4dac-802f-71ff5bd09a62"
      },
      "source": [
        "s.median()"
      ],
      "execution_count": null,
      "outputs": [
        {
          "output_type": "execute_result",
          "data": {
            "text/plain": [
              "100.0"
            ]
          },
          "metadata": {
            "tags": []
          },
          "execution_count": 35
        }
      ]
    },
    {
      "cell_type": "code",
      "metadata": {
        "colab": {
          "base_uri": "https://localhost:8080/"
        },
        "id": "TpqOIrfEWuxs",
        "outputId": "1d7add88-468a-4706-ac22-f3e7f58dba82"
      },
      "source": [
        "s.std()"
      ],
      "execution_count": null,
      "outputs": [
        {
          "output_type": "execute_result",
          "data": {
            "text/plain": [
              "220.43045010463808"
            ]
          },
          "metadata": {
            "tags": []
          },
          "execution_count": 36
        }
      ]
    },
    {
      "cell_type": "code",
      "metadata": {
        "id": "nqVbek2nWxQg"
      },
      "source": [
        ""
      ],
      "execution_count": null,
      "outputs": []
    },
    {
      "cell_type": "markdown",
      "metadata": {
        "id": "j1eNLTHUWzxb"
      },
      "source": [
        "# Parameters And Arguements"
      ]
    },
    {
      "cell_type": "code",
      "metadata": {
        "id": "pR9ro_NSLX0J"
      },
      "source": [
        "fruits = ['apple','banana','peach','plum','blueberry']\n",
        "weekdays = ['mon','tue','wed','thurs','fri']\n",
        "\n",
        "s = pd.Series(weekdays,fruits)"
      ],
      "execution_count": null,
      "outputs": []
    },
    {
      "cell_type": "code",
      "metadata": {
        "colab": {
          "base_uri": "https://localhost:8080/"
        },
        "id": "1xGABS-yW9XZ",
        "outputId": "cad74819-dde8-4749-af1d-847ef5aa7543"
      },
      "source": [
        "print(s)"
      ],
      "execution_count": null,
      "outputs": [
        {
          "output_type": "stream",
          "text": [
            "apple          mon\n",
            "banana         tue\n",
            "peach          wed\n",
            "plum         thurs\n",
            "blueberry      fri\n",
            "dtype: object\n"
          ],
          "name": "stdout"
        }
      ]
    },
    {
      "cell_type": "code",
      "metadata": {
        "id": "3DbPbfd-XB3G"
      },
      "source": [
        ""
      ],
      "execution_count": null,
      "outputs": []
    },
    {
      "cell_type": "markdown",
      "metadata": {
        "id": "VT4otVZ4YvOF"
      },
      "source": [
        "# Import Series with CSV read_csv Method"
      ]
    },
    {
      "cell_type": "code",
      "metadata": {
        "colab": {
          "base_uri": "https://localhost:8080/"
        },
        "id": "5Ku9XrGw_A4j",
        "outputId": "c0794efc-7772-4e1d-8911-544990a57821"
      },
      "source": [
        "from google.colab import drive\n",
        "drive.mount('/content/drive')\n",
        "!ls"
      ],
      "execution_count": null,
      "outputs": [
        {
          "output_type": "stream",
          "text": [
            "Drive already mounted at /content/drive; to attempt to forcibly remount, call drive.mount(\"/content/drive\", force_remount=True).\n",
            " bigmac.csv\t\t\t    nba.csv\n",
            " chicago.csv\t\t\t    pokemon.csv\n",
            "'Data - Multiple Worksheets.xlsx'   quarters.csv\n",
            "'Data - Single Worksheet.xlsx'\t   'Restaurant - Customers.csv'\n",
            " ecommerce.csv\t\t\t   'Restaurant - Foods.csv'\n",
            " employees.csv\t\t\t   'Restaurant - Week 1 Sales.csv'\n",
            " foods.csv\t\t\t   'Restaurant - Week 1 Satisfaction.csv'\n",
            " fortune1000.csv\t\t   'Restaurant - Week 2 Sales.csv'\n",
            " google_stock_price.csv\t\t    revenue.csv\n",
            " jamesbond.csv\t\t\t    salesmen.csv\n",
            " __MACOSX\t\t\t    worldstats.csv\n"
          ],
          "name": "stdout"
        }
      ]
    },
    {
      "cell_type": "code",
      "metadata": {
        "colab": {
          "base_uri": "https://localhost:8080/"
        },
        "id": "4QMGchHAY29Y",
        "outputId": "8959be26-a06d-43c1-e37a-34807b46693f"
      },
      "source": [
        "import os\n",
        "# os.chdir('drive/My Drive/pandas')\n",
        "!ls"
      ],
      "execution_count": null,
      "outputs": [
        {
          "output_type": "stream",
          "text": [
            " bigmac.csv\t\t\t    nba.csv\n",
            " chicago.csv\t\t\t    pokemon.csv\n",
            "'Data - Multiple Worksheets.xlsx'   quarters.csv\n",
            "'Data - Single Worksheet.xlsx'\t   'Restaurant - Customers.csv'\n",
            " ecommerce.csv\t\t\t   'Restaurant - Foods.csv'\n",
            " employees.csv\t\t\t   'Restaurant - Week 1 Sales.csv'\n",
            " foods.csv\t\t\t   'Restaurant - Week 1 Satisfaction.csv'\n",
            " fortune1000.csv\t\t   'Restaurant - Week 2 Sales.csv'\n",
            " google_stock_price.csv\t\t    revenue.csv\n",
            " jamesbond.csv\t\t\t    salesmen.csv\n",
            " __MACOSX\t\t\t    worldstats.csv\n"
          ],
          "name": "stdout"
        }
      ]
    },
    {
      "cell_type": "code",
      "metadata": {
        "id": "fgnjPgQtbRq1"
      },
      "source": [
        "pokemon = pd.read_csv('pokemon.csv',usecols=['Pokemon'],squeeze=True)\n",
        "google = pd.read_csv('google_stock_price.csv',squeeze=True)"
      ],
      "execution_count": null,
      "outputs": []
    },
    {
      "cell_type": "code",
      "metadata": {
        "colab": {
          "base_uri": "https://localhost:8080/"
        },
        "id": "mPOASuovbmCL",
        "outputId": "ab7cf72e-29c2-4421-88ff-9a6c1e3b3af6"
      },
      "source": [
        "pokemon"
      ],
      "execution_count": null,
      "outputs": [
        {
          "output_type": "execute_result",
          "data": {
            "text/plain": [
              "0       Bulbasaur\n",
              "1         Ivysaur\n",
              "2        Venusaur\n",
              "3      Charmander\n",
              "4      Charmeleon\n",
              "          ...    \n",
              "716       Yveltal\n",
              "717       Zygarde\n",
              "718       Diancie\n",
              "719         Hoopa\n",
              "720     Volcanion\n",
              "Name: Pokemon, Length: 721, dtype: object"
            ]
          },
          "metadata": {
            "tags": []
          },
          "execution_count": 43
        }
      ]
    },
    {
      "cell_type": "code",
      "metadata": {
        "colab": {
          "base_uri": "https://localhost:8080/"
        },
        "id": "96722NVEcP0R",
        "outputId": "28efc050-67c7-4ba6-df8c-4b1aa24cd91b"
      },
      "source": [
        "pd.read_csv('google_stock_price.csv',squeeze=True) # using squeeze to display the col from data frame to Series object"
      ],
      "execution_count": null,
      "outputs": [
        {
          "output_type": "execute_result",
          "data": {
            "text/plain": [
              "0        50.12\n",
              "1        54.10\n",
              "2        54.65\n",
              "3        52.38\n",
              "4        52.95\n",
              "         ...  \n",
              "3007    772.88\n",
              "3008    771.07\n",
              "3009    773.18\n",
              "3010    771.61\n",
              "3011    782.22\n",
              "Name: Stock Price, Length: 3012, dtype: float64"
            ]
          },
          "metadata": {
            "tags": []
          },
          "execution_count": 44
        }
      ]
    },
    {
      "cell_type": "code",
      "metadata": {
        "id": "heNLXCYocrFT"
      },
      "source": [
        ""
      ],
      "execution_count": null,
      "outputs": []
    },
    {
      "cell_type": "code",
      "metadata": {
        "id": "uDqinGDjKQ0M"
      },
      "source": [
        "# This is formatted as code"
      ],
      "execution_count": null,
      "outputs": []
    },
    {
      "cell_type": "markdown",
      "metadata": {
        "id": "2favhxFNKOsO"
      },
      "source": [
        "# The Head() and Tail() Methods\n",
        "\n",
        "\n"
      ]
    },
    {
      "cell_type": "code",
      "metadata": {
        "colab": {
          "base_uri": "https://localhost:8080/"
        },
        "id": "HH2Jq4zL7NC6",
        "outputId": "12859a7e-0016-469a-aaf5-92552492c949"
      },
      "source": [
        "# pokemon.tail()\n",
        "pokemon.head()"
      ],
      "execution_count": null,
      "outputs": [
        {
          "output_type": "execute_result",
          "data": {
            "text/plain": [
              "0     Bulbasaur\n",
              "1       Ivysaur\n",
              "2      Venusaur\n",
              "3    Charmander\n",
              "4    Charmeleon\n",
              "Name: Pokemon, dtype: object"
            ]
          },
          "metadata": {
            "tags": []
          },
          "execution_count": 46
        }
      ]
    },
    {
      "cell_type": "markdown",
      "metadata": {
        "id": "_TJLfsRqKzId"
      },
      "source": [
        "Return rows from start or end using the two methods,\n",
        "head for start and tail for end."
      ]
    },
    {
      "cell_type": "code",
      "metadata": {
        "id": "SUqJcoRJ7SSi"
      },
      "source": [
        ""
      ],
      "execution_count": null,
      "outputs": []
    },
    {
      "cell_type": "markdown",
      "metadata": {
        "id": "j9SnYe6sL3lx"
      },
      "source": [
        "# Python Builtin Functions"
      ]
    },
    {
      "cell_type": "code",
      "metadata": {
        "colab": {
          "base_uri": "https://localhost:8080/"
        },
        "id": "dkVDhYJFL81N",
        "outputId": "8e4c3e44-456d-483b-fe11-f06bc07d17fc"
      },
      "source": [
        "len(pokemon)"
      ],
      "execution_count": null,
      "outputs": [
        {
          "output_type": "execute_result",
          "data": {
            "text/plain": [
              "721"
            ]
          },
          "metadata": {
            "tags": []
          },
          "execution_count": 47
        }
      ]
    },
    {
      "cell_type": "code",
      "metadata": {
        "colab": {
          "base_uri": "https://localhost:8080/"
        },
        "id": "ZIjuWpkGMJsN",
        "outputId": "54e92520-0f03-43ff-a49d-57ad3c928ebb"
      },
      "source": [
        "type(pokemon)"
      ],
      "execution_count": null,
      "outputs": [
        {
          "output_type": "execute_result",
          "data": {
            "text/plain": [
              "pandas.core.series.Series"
            ]
          },
          "metadata": {
            "tags": []
          },
          "execution_count": 48
        }
      ]
    },
    {
      "cell_type": "code",
      "metadata": {
        "colab": {
          "base_uri": "https://localhost:8080/"
        },
        "id": "IC31aEv5MOuf",
        "outputId": "b865cdc3-bdd5-4f5b-86c4-88e6d9d49b43"
      },
      "source": [
        "dir(pokemon)"
      ],
      "execution_count": null,
      "outputs": [
        {
          "output_type": "execute_result",
          "data": {
            "text/plain": [
              "['T',\n",
              " '_AXIS_LEN',\n",
              " '_AXIS_NAMES',\n",
              " '_AXIS_NUMBERS',\n",
              " '_AXIS_ORDERS',\n",
              " '_AXIS_REVERSED',\n",
              " '_AXIS_TO_AXIS_NUMBER',\n",
              " '_HANDLED_TYPES',\n",
              " '__abs__',\n",
              " '__add__',\n",
              " '__and__',\n",
              " '__annotations__',\n",
              " '__array__',\n",
              " '__array_priority__',\n",
              " '__array_ufunc__',\n",
              " '__array_wrap__',\n",
              " '__bool__',\n",
              " '__class__',\n",
              " '__contains__',\n",
              " '__copy__',\n",
              " '__deepcopy__',\n",
              " '__delattr__',\n",
              " '__delitem__',\n",
              " '__dict__',\n",
              " '__dir__',\n",
              " '__div__',\n",
              " '__divmod__',\n",
              " '__doc__',\n",
              " '__eq__',\n",
              " '__finalize__',\n",
              " '__float__',\n",
              " '__floordiv__',\n",
              " '__format__',\n",
              " '__ge__',\n",
              " '__getattr__',\n",
              " '__getattribute__',\n",
              " '__getitem__',\n",
              " '__getstate__',\n",
              " '__gt__',\n",
              " '__hash__',\n",
              " '__iadd__',\n",
              " '__iand__',\n",
              " '__ifloordiv__',\n",
              " '__imod__',\n",
              " '__imul__',\n",
              " '__init__',\n",
              " '__init_subclass__',\n",
              " '__int__',\n",
              " '__invert__',\n",
              " '__ior__',\n",
              " '__ipow__',\n",
              " '__isub__',\n",
              " '__iter__',\n",
              " '__itruediv__',\n",
              " '__ixor__',\n",
              " '__le__',\n",
              " '__len__',\n",
              " '__long__',\n",
              " '__lt__',\n",
              " '__matmul__',\n",
              " '__mod__',\n",
              " '__module__',\n",
              " '__mul__',\n",
              " '__ne__',\n",
              " '__neg__',\n",
              " '__new__',\n",
              " '__nonzero__',\n",
              " '__or__',\n",
              " '__pos__',\n",
              " '__pow__',\n",
              " '__radd__',\n",
              " '__rand__',\n",
              " '__rdiv__',\n",
              " '__rdivmod__',\n",
              " '__reduce__',\n",
              " '__reduce_ex__',\n",
              " '__repr__',\n",
              " '__rfloordiv__',\n",
              " '__rmatmul__',\n",
              " '__rmod__',\n",
              " '__rmul__',\n",
              " '__ror__',\n",
              " '__round__',\n",
              " '__rpow__',\n",
              " '__rsub__',\n",
              " '__rtruediv__',\n",
              " '__rxor__',\n",
              " '__setattr__',\n",
              " '__setitem__',\n",
              " '__setstate__',\n",
              " '__sizeof__',\n",
              " '__str__',\n",
              " '__sub__',\n",
              " '__subclasshook__',\n",
              " '__truediv__',\n",
              " '__weakref__',\n",
              " '__xor__',\n",
              " '_accessors',\n",
              " '_add_numeric_operations',\n",
              " '_add_series_or_dataframe_operations',\n",
              " '_agg_by_level',\n",
              " '_agg_examples_doc',\n",
              " '_agg_see_also_doc',\n",
              " '_aggregate',\n",
              " '_aggregate_multiple_funcs',\n",
              " '_align_frame',\n",
              " '_align_series',\n",
              " '_binop',\n",
              " '_builtin_table',\n",
              " '_can_hold_na',\n",
              " '_check_inplace_setting',\n",
              " '_check_is_chained_assignment_possible',\n",
              " '_check_label_or_level_ambiguity',\n",
              " '_check_setitem_copy',\n",
              " '_clear_item_cache',\n",
              " '_clip_with_one_bound',\n",
              " '_clip_with_scalar',\n",
              " '_consolidate',\n",
              " '_consolidate_inplace',\n",
              " '_construct_axes_dict',\n",
              " '_construct_axes_from_arguments',\n",
              " '_construct_result',\n",
              " '_constructor',\n",
              " '_constructor_expanddim',\n",
              " '_constructor_sliced',\n",
              " '_convert',\n",
              " '_convert_dtypes',\n",
              " '_cython_table',\n",
              " '_data',\n",
              " '_deprecations',\n",
              " '_dir_additions',\n",
              " '_dir_deletions',\n",
              " '_drop_axis',\n",
              " '_drop_labels_or_levels',\n",
              " '_find_valid_index',\n",
              " '_get_axis',\n",
              " '_get_axis_name',\n",
              " '_get_axis_number',\n",
              " '_get_axis_resolvers',\n",
              " '_get_block_manager_axis',\n",
              " '_get_bool_data',\n",
              " '_get_cacher',\n",
              " '_get_cleaned_column_resolvers',\n",
              " '_get_cython_func',\n",
              " '_get_index_resolvers',\n",
              " '_get_item_cache',\n",
              " '_get_label_or_level_values',\n",
              " '_get_numeric_data',\n",
              " '_get_value',\n",
              " '_get_values',\n",
              " '_get_values_tuple',\n",
              " '_get_with',\n",
              " '_gotitem',\n",
              " '_index',\n",
              " '_indexed_same',\n",
              " '_info_axis',\n",
              " '_info_axis_name',\n",
              " '_info_axis_number',\n",
              " '_init_dict',\n",
              " '_init_mgr',\n",
              " '_internal_names',\n",
              " '_internal_names_set',\n",
              " '_is_builtin_func',\n",
              " '_is_cached',\n",
              " '_is_copy',\n",
              " '_is_label_or_level_reference',\n",
              " '_is_label_reference',\n",
              " '_is_level_reference',\n",
              " '_is_mixed_type',\n",
              " '_is_view',\n",
              " '_iset_item',\n",
              " '_ix',\n",
              " '_ixs',\n",
              " '_map_values',\n",
              " '_maybe_cache_changed',\n",
              " '_maybe_update_cacher',\n",
              " '_metadata',\n",
              " '_needs_reindex_multi',\n",
              " '_obj_with_exclusions',\n",
              " '_protect_consolidate',\n",
              " '_reduce',\n",
              " '_reindex_axes',\n",
              " '_reindex_indexer',\n",
              " '_reindex_multi',\n",
              " '_reindex_with_indexers',\n",
              " '_repr_data_resource_',\n",
              " '_repr_latex_',\n",
              " '_reset_cache',\n",
              " '_reset_cacher',\n",
              " '_selected_obj',\n",
              " '_selection',\n",
              " '_selection_list',\n",
              " '_selection_name',\n",
              " '_set_as_cached',\n",
              " '_set_axis',\n",
              " '_set_axis_name',\n",
              " '_set_is_copy',\n",
              " '_set_item',\n",
              " '_set_labels',\n",
              " '_set_name',\n",
              " '_set_value',\n",
              " '_set_values',\n",
              " '_set_with',\n",
              " '_set_with_engine',\n",
              " '_slice',\n",
              " '_stat_axis',\n",
              " '_stat_axis_name',\n",
              " '_stat_axis_number',\n",
              " '_take_with_is_copy',\n",
              " '_to_dict_of_blocks',\n",
              " '_try_aggregate_string_function',\n",
              " '_typ',\n",
              " '_update_inplace',\n",
              " '_validate_dtype',\n",
              " '_values',\n",
              " '_where',\n",
              " 'abs',\n",
              " 'add',\n",
              " 'add_prefix',\n",
              " 'add_suffix',\n",
              " 'agg',\n",
              " 'aggregate',\n",
              " 'align',\n",
              " 'all',\n",
              " 'any',\n",
              " 'append',\n",
              " 'apply',\n",
              " 'argmax',\n",
              " 'argmin',\n",
              " 'argsort',\n",
              " 'array',\n",
              " 'asfreq',\n",
              " 'asof',\n",
              " 'astype',\n",
              " 'at',\n",
              " 'at_time',\n",
              " 'attrs',\n",
              " 'autocorr',\n",
              " 'axes',\n",
              " 'backfill',\n",
              " 'between',\n",
              " 'between_time',\n",
              " 'bfill',\n",
              " 'bool',\n",
              " 'clip',\n",
              " 'combine',\n",
              " 'combine_first',\n",
              " 'compare',\n",
              " 'convert_dtypes',\n",
              " 'copy',\n",
              " 'corr',\n",
              " 'count',\n",
              " 'cov',\n",
              " 'cummax',\n",
              " 'cummin',\n",
              " 'cumprod',\n",
              " 'cumsum',\n",
              " 'describe',\n",
              " 'diff',\n",
              " 'div',\n",
              " 'divide',\n",
              " 'divmod',\n",
              " 'dot',\n",
              " 'drop',\n",
              " 'drop_duplicates',\n",
              " 'droplevel',\n",
              " 'dropna',\n",
              " 'dtype',\n",
              " 'dtypes',\n",
              " 'duplicated',\n",
              " 'empty',\n",
              " 'eq',\n",
              " 'equals',\n",
              " 'ewm',\n",
              " 'expanding',\n",
              " 'explode',\n",
              " 'factorize',\n",
              " 'ffill',\n",
              " 'fillna',\n",
              " 'filter',\n",
              " 'first',\n",
              " 'first_valid_index',\n",
              " 'floordiv',\n",
              " 'ge',\n",
              " 'get',\n",
              " 'groupby',\n",
              " 'gt',\n",
              " 'hasnans',\n",
              " 'head',\n",
              " 'hist',\n",
              " 'iat',\n",
              " 'idxmax',\n",
              " 'idxmin',\n",
              " 'iloc',\n",
              " 'index',\n",
              " 'infer_objects',\n",
              " 'interpolate',\n",
              " 'is_monotonic',\n",
              " 'is_monotonic_decreasing',\n",
              " 'is_monotonic_increasing',\n",
              " 'is_unique',\n",
              " 'isin',\n",
              " 'isna',\n",
              " 'isnull',\n",
              " 'item',\n",
              " 'items',\n",
              " 'iteritems',\n",
              " 'keys',\n",
              " 'kurt',\n",
              " 'kurtosis',\n",
              " 'last',\n",
              " 'last_valid_index',\n",
              " 'le',\n",
              " 'loc',\n",
              " 'lt',\n",
              " 'mad',\n",
              " 'map',\n",
              " 'mask',\n",
              " 'max',\n",
              " 'mean',\n",
              " 'median',\n",
              " 'memory_usage',\n",
              " 'min',\n",
              " 'mod',\n",
              " 'mode',\n",
              " 'mul',\n",
              " 'multiply',\n",
              " 'name',\n",
              " 'nbytes',\n",
              " 'ndim',\n",
              " 'ne',\n",
              " 'nlargest',\n",
              " 'notna',\n",
              " 'notnull',\n",
              " 'nsmallest',\n",
              " 'nunique',\n",
              " 'pad',\n",
              " 'pct_change',\n",
              " 'pipe',\n",
              " 'plot',\n",
              " 'pop',\n",
              " 'pow',\n",
              " 'prod',\n",
              " 'product',\n",
              " 'quantile',\n",
              " 'radd',\n",
              " 'rank',\n",
              " 'ravel',\n",
              " 'rdiv',\n",
              " 'rdivmod',\n",
              " 'reindex',\n",
              " 'reindex_like',\n",
              " 'rename',\n",
              " 'rename_axis',\n",
              " 'reorder_levels',\n",
              " 'repeat',\n",
              " 'replace',\n",
              " 'resample',\n",
              " 'reset_index',\n",
              " 'rfloordiv',\n",
              " 'rmod',\n",
              " 'rmul',\n",
              " 'rolling',\n",
              " 'round',\n",
              " 'rpow',\n",
              " 'rsub',\n",
              " 'rtruediv',\n",
              " 'sample',\n",
              " 'searchsorted',\n",
              " 'sem',\n",
              " 'set_axis',\n",
              " 'shape',\n",
              " 'shift',\n",
              " 'size',\n",
              " 'skew',\n",
              " 'slice_shift',\n",
              " 'sort_index',\n",
              " 'sort_values',\n",
              " 'squeeze',\n",
              " 'std',\n",
              " 'str',\n",
              " 'sub',\n",
              " 'subtract',\n",
              " 'sum',\n",
              " 'swapaxes',\n",
              " 'swaplevel',\n",
              " 'tail',\n",
              " 'take',\n",
              " 'to_clipboard',\n",
              " 'to_csv',\n",
              " 'to_dict',\n",
              " 'to_excel',\n",
              " 'to_frame',\n",
              " 'to_hdf',\n",
              " 'to_json',\n",
              " 'to_latex',\n",
              " 'to_list',\n",
              " 'to_markdown',\n",
              " 'to_numpy',\n",
              " 'to_period',\n",
              " 'to_pickle',\n",
              " 'to_sql',\n",
              " 'to_string',\n",
              " 'to_timestamp',\n",
              " 'to_xarray',\n",
              " 'transform',\n",
              " 'transpose',\n",
              " 'truediv',\n",
              " 'truncate',\n",
              " 'tz_convert',\n",
              " 'tz_localize',\n",
              " 'unique',\n",
              " 'unstack',\n",
              " 'update',\n",
              " 'value_counts',\n",
              " 'values',\n",
              " 'var',\n",
              " 'view',\n",
              " 'where',\n",
              " 'xs']"
            ]
          },
          "metadata": {
            "tags": []
          },
          "execution_count": 49
        }
      ]
    },
    {
      "cell_type": "code",
      "metadata": {
        "colab": {
          "base_uri": "https://localhost:8080/"
        },
        "id": "R_JxnJc5MQdO",
        "outputId": "362dc920-db95-4ddc-a2ef-add64ab9510b"
      },
      "source": [
        "sorted(pokemon)"
      ],
      "execution_count": null,
      "outputs": [
        {
          "output_type": "execute_result",
          "data": {
            "text/plain": [
              "['Abomasnow',\n",
              " 'Abra',\n",
              " 'Absol',\n",
              " 'Accelgor',\n",
              " 'Aegislash',\n",
              " 'Aerodactyl',\n",
              " 'Aggron',\n",
              " 'Aipom',\n",
              " 'Alakazam',\n",
              " 'Alomomola',\n",
              " 'Altaria',\n",
              " 'Amaura',\n",
              " 'Ambipom',\n",
              " 'Amoonguss',\n",
              " 'Ampharos',\n",
              " 'Anorith',\n",
              " 'Arbok',\n",
              " 'Arcanine',\n",
              " 'Arceus',\n",
              " 'Archen',\n",
              " 'Archeops',\n",
              " 'Ariados',\n",
              " 'Armaldo',\n",
              " 'Aromatisse',\n",
              " 'Aron',\n",
              " 'Articuno',\n",
              " 'Audino',\n",
              " 'Aurorus',\n",
              " 'Avalugg',\n",
              " 'Axew',\n",
              " 'Azelf',\n",
              " 'Azumarill',\n",
              " 'Azurill',\n",
              " 'Bagon',\n",
              " 'Baltoy',\n",
              " 'Banette',\n",
              " 'Barbaracle',\n",
              " 'Barboach',\n",
              " 'Basculin',\n",
              " 'Bastiodon',\n",
              " 'Bayleef',\n",
              " 'Beartic',\n",
              " 'Beautifly',\n",
              " 'Beedrill',\n",
              " 'Beheeyem',\n",
              " 'Beldum',\n",
              " 'Bellossom',\n",
              " 'Bellsprout',\n",
              " 'Bergmite',\n",
              " 'Bibarel',\n",
              " 'Bidoof',\n",
              " 'Binacle',\n",
              " 'Bisharp',\n",
              " 'Blastoise',\n",
              " 'Blaziken',\n",
              " 'Blissey',\n",
              " 'Blitzle',\n",
              " 'Boldore',\n",
              " 'Bonsly',\n",
              " 'Bouffalant',\n",
              " 'Braixen',\n",
              " 'Braviary',\n",
              " 'Breloom',\n",
              " 'Bronzong',\n",
              " 'Bronzor',\n",
              " 'Budew',\n",
              " 'Buizel',\n",
              " 'Bulbasaur',\n",
              " 'Buneary',\n",
              " 'Bunnelby',\n",
              " 'Burmy',\n",
              " 'Butterfree',\n",
              " 'Cacnea',\n",
              " 'Cacturne',\n",
              " 'Camerupt',\n",
              " 'Carbink',\n",
              " 'Carnivine',\n",
              " 'Carracosta',\n",
              " 'Carvanha',\n",
              " 'Cascoon',\n",
              " 'Castform',\n",
              " 'Caterpie',\n",
              " 'Celebi',\n",
              " 'Chandelure',\n",
              " 'Chansey',\n",
              " 'Charizard',\n",
              " 'Charmander',\n",
              " 'Charmeleon',\n",
              " 'Chatot',\n",
              " 'Cherrim',\n",
              " 'Cherubi',\n",
              " 'Chesnaught',\n",
              " 'Chespin',\n",
              " 'Chikorita',\n",
              " 'Chimchar',\n",
              " 'Chimecho',\n",
              " 'Chinchou',\n",
              " 'Chingling',\n",
              " 'Cinccino',\n",
              " 'Clamperl',\n",
              " 'Clauncher',\n",
              " 'Clawitzer',\n",
              " 'Claydol',\n",
              " 'Clefable',\n",
              " 'Clefairy',\n",
              " 'Cleffa',\n",
              " 'Cloyster',\n",
              " 'Cobalion',\n",
              " 'Cofagrigus',\n",
              " 'Combee',\n",
              " 'Combusken',\n",
              " 'Conkeldurr',\n",
              " 'Corphish',\n",
              " 'Corsola',\n",
              " 'Cottonee',\n",
              " 'Cradily',\n",
              " 'Cranidos',\n",
              " 'Crawdaunt',\n",
              " 'Cresselia',\n",
              " 'Croagunk',\n",
              " 'Crobat',\n",
              " 'Croconaw',\n",
              " 'Crustle',\n",
              " 'Cryogonal',\n",
              " 'Cubchoo',\n",
              " 'Cubone',\n",
              " 'Cyndaquil',\n",
              " 'Darkrai',\n",
              " 'Darmanitan',\n",
              " 'Darumaka',\n",
              " 'Dedenne',\n",
              " 'Deerling',\n",
              " 'Deino',\n",
              " 'Delcatty',\n",
              " 'Delibird',\n",
              " 'Delphox',\n",
              " 'Deoxys',\n",
              " 'Dewgong',\n",
              " 'Dewott',\n",
              " 'Dialga',\n",
              " 'Diancie',\n",
              " 'Diggersby',\n",
              " 'Diglett',\n",
              " 'Ditto',\n",
              " 'Dodrio',\n",
              " 'Doduo',\n",
              " 'Donphan',\n",
              " 'Doublade',\n",
              " 'Dragalge',\n",
              " 'Dragonair',\n",
              " 'Dragonite',\n",
              " 'Drapion',\n",
              " 'Dratini',\n",
              " 'Drifblim',\n",
              " 'Drifloon',\n",
              " 'Drilbur',\n",
              " 'Drowzee',\n",
              " 'Druddigon',\n",
              " 'Ducklett',\n",
              " 'Dugtrio',\n",
              " 'Dunsparce',\n",
              " 'Duosion',\n",
              " 'Durant',\n",
              " 'Dusclops',\n",
              " 'Dusknoir',\n",
              " 'Duskull',\n",
              " 'Dustox',\n",
              " 'Dwebble',\n",
              " 'Eelektrik',\n",
              " 'Eelektross',\n",
              " 'Eevee',\n",
              " 'Ekans',\n",
              " 'Electabuzz',\n",
              " 'Electivire',\n",
              " 'Electrike',\n",
              " 'Electrode',\n",
              " 'Elekid',\n",
              " 'Elgyem',\n",
              " 'Emboar',\n",
              " 'Emolga',\n",
              " 'Empoleon',\n",
              " 'Entei',\n",
              " 'Escavalier',\n",
              " 'Espeon',\n",
              " 'Espurr',\n",
              " 'Excadrill',\n",
              " 'Exeggcute',\n",
              " 'Exeggutor',\n",
              " 'Exploud',\n",
              " \"Farfetch'd\",\n",
              " 'Fearow',\n",
              " 'Feebas',\n",
              " 'Fennekin',\n",
              " 'Feraligatr',\n",
              " 'Ferroseed',\n",
              " 'Ferrothorn',\n",
              " 'Finneon',\n",
              " 'Flaaffy',\n",
              " 'Flabébé',\n",
              " 'Flareon',\n",
              " 'Fletchinder',\n",
              " 'Fletchling',\n",
              " 'Floatzel',\n",
              " 'Floette',\n",
              " 'Florges',\n",
              " 'Flygon',\n",
              " 'Foongus',\n",
              " 'Forretress',\n",
              " 'Fraxure',\n",
              " 'Frillish',\n",
              " 'Froakie',\n",
              " 'Frogadier',\n",
              " 'Froslass',\n",
              " 'Furfrou',\n",
              " 'Furret',\n",
              " 'Gabite',\n",
              " 'Gallade',\n",
              " 'Galvantula',\n",
              " 'Garbodor',\n",
              " 'Garchomp',\n",
              " 'Gardevoir',\n",
              " 'Gastly',\n",
              " 'Gastrodon',\n",
              " 'Genesect',\n",
              " 'Gengar',\n",
              " 'Geodude',\n",
              " 'Gible',\n",
              " 'Gigalith',\n",
              " 'Girafarig',\n",
              " 'Giratina',\n",
              " 'Glaceon',\n",
              " 'Glalie',\n",
              " 'Glameow',\n",
              " 'Gligar',\n",
              " 'Gliscor',\n",
              " 'Gloom',\n",
              " 'Gogoat',\n",
              " 'Golbat',\n",
              " 'Goldeen',\n",
              " 'Golduck',\n",
              " 'Golem',\n",
              " 'Golett',\n",
              " 'Golurk',\n",
              " 'Goodra',\n",
              " 'Goomy',\n",
              " 'Gorebyss',\n",
              " 'Gothita',\n",
              " 'Gothitelle',\n",
              " 'Gothorita',\n",
              " 'Gourgeist',\n",
              " 'Granbull',\n",
              " 'Graveler',\n",
              " 'Greninja',\n",
              " 'Grimer',\n",
              " 'Grotle',\n",
              " 'Groudon',\n",
              " 'Grovyle',\n",
              " 'Growlithe',\n",
              " 'Grumpig',\n",
              " 'Gulpin',\n",
              " 'Gurdurr',\n",
              " 'Gyarados',\n",
              " 'Happiny',\n",
              " 'Hariyama',\n",
              " 'Haunter',\n",
              " 'Hawlucha',\n",
              " 'Haxorus',\n",
              " 'Heatmor',\n",
              " 'Heatran',\n",
              " 'Heliolisk',\n",
              " 'Helioptile',\n",
              " 'Heracross',\n",
              " 'Herdier',\n",
              " 'Hippopotas',\n",
              " 'Hippowdon',\n",
              " 'Hitmonchan',\n",
              " 'Hitmonlee',\n",
              " 'Hitmontop',\n",
              " 'Ho-oh',\n",
              " 'Honchkrow',\n",
              " 'Honedge',\n",
              " 'Hoopa',\n",
              " 'Hoothoot',\n",
              " 'Hoppip',\n",
              " 'Horsea',\n",
              " 'Houndoom',\n",
              " 'Houndour',\n",
              " 'Huntail',\n",
              " 'Hydreigon',\n",
              " 'Hypno',\n",
              " 'Igglybuff',\n",
              " 'Illumise',\n",
              " 'Infernape',\n",
              " 'Inkay',\n",
              " 'Ivysaur',\n",
              " 'Jellicent',\n",
              " 'Jigglypuff',\n",
              " 'Jirachi',\n",
              " 'Jolteon',\n",
              " 'Joltik',\n",
              " 'Jumpluff',\n",
              " 'Jynx',\n",
              " 'Kabuto',\n",
              " 'Kabutops',\n",
              " 'Kadabra',\n",
              " 'Kakuna',\n",
              " 'Kangaskhan',\n",
              " 'Karrablast',\n",
              " 'Kecleon',\n",
              " 'Keldeo',\n",
              " 'Kingdra',\n",
              " 'Kingler',\n",
              " 'Kirlia',\n",
              " 'Klang',\n",
              " 'Klefki',\n",
              " 'Klink',\n",
              " 'Klinklang',\n",
              " 'Koffing',\n",
              " 'Krabby',\n",
              " 'Kricketot',\n",
              " 'Kricketune',\n",
              " 'Krokorok',\n",
              " 'Krookodile',\n",
              " 'Kyogre',\n",
              " 'Kyurem',\n",
              " 'Lairon',\n",
              " 'Lampent',\n",
              " 'Landorus',\n",
              " 'Lanturn',\n",
              " 'Lapras',\n",
              " 'Larvesta',\n",
              " 'Larvitar',\n",
              " 'Latias',\n",
              " 'Latios',\n",
              " 'Leafeon',\n",
              " 'Leavanny',\n",
              " 'Ledian',\n",
              " 'Ledyba',\n",
              " 'Lickilicky',\n",
              " 'Lickitung',\n",
              " 'Liepard',\n",
              " 'Lileep',\n",
              " 'Lilligant',\n",
              " 'Lillipup',\n",
              " 'Linoone',\n",
              " 'Litleo',\n",
              " 'Litwick',\n",
              " 'Lombre',\n",
              " 'Lopunny',\n",
              " 'Lotad',\n",
              " 'Loudred',\n",
              " 'Lucario',\n",
              " 'Ludicolo',\n",
              " 'Lugia',\n",
              " 'Lumineon',\n",
              " 'Lunatone',\n",
              " 'Luvdisc',\n",
              " 'Luxio',\n",
              " 'Luxray',\n",
              " 'Machamp',\n",
              " 'Machoke',\n",
              " 'Machop',\n",
              " 'Magby',\n",
              " 'Magcargo',\n",
              " 'Magikarp',\n",
              " 'Magmar',\n",
              " 'Magmortar',\n",
              " 'Magnemite',\n",
              " 'Magneton',\n",
              " 'Magnezone',\n",
              " 'Makuhita',\n",
              " 'Malamar',\n",
              " 'Mamoswine',\n",
              " 'Manaphy',\n",
              " 'Mandibuzz',\n",
              " 'Manectric',\n",
              " 'Mankey',\n",
              " 'Mantine',\n",
              " 'Mantyke',\n",
              " 'Maractus',\n",
              " 'Mareep',\n",
              " 'Marill',\n",
              " 'Marowak',\n",
              " 'Marshtomp',\n",
              " 'Masquerain',\n",
              " 'Mawile',\n",
              " 'Medicham',\n",
              " 'Meditite',\n",
              " 'Meganium',\n",
              " 'Meloetta',\n",
              " 'Meowstic',\n",
              " 'Meowth',\n",
              " 'Mesprit',\n",
              " 'Metagross',\n",
              " 'Metang',\n",
              " 'Metapod',\n",
              " 'Mew',\n",
              " 'Mewtwo',\n",
              " 'Mienfoo',\n",
              " 'Mienshao',\n",
              " 'Mightyena',\n",
              " 'Milotic',\n",
              " 'Miltank',\n",
              " 'Mime Jr.',\n",
              " 'Minccino',\n",
              " 'Minun',\n",
              " 'Misdreavus',\n",
              " 'Mismagius',\n",
              " 'Moltres',\n",
              " 'Monferno',\n",
              " 'Mothim',\n",
              " 'Mr. Mime',\n",
              " 'Mudkip',\n",
              " 'Muk',\n",
              " 'Munchlax',\n",
              " 'Munna',\n",
              " 'Murkrow',\n",
              " 'Musharna',\n",
              " 'Natu',\n",
              " 'Nidoking',\n",
              " 'Nidoqueen',\n",
              " 'Nidoran',\n",
              " 'Nidoran♂',\n",
              " 'Nidorina',\n",
              " 'Nidorino',\n",
              " 'Nincada',\n",
              " 'Ninetales',\n",
              " 'Ninjask',\n",
              " 'Noctowl',\n",
              " 'Noibat',\n",
              " 'Noivern',\n",
              " 'Nosepass',\n",
              " 'Numel',\n",
              " 'Nuzleaf',\n",
              " 'Octillery',\n",
              " 'Oddish',\n",
              " 'Omanyte',\n",
              " 'Omastar',\n",
              " 'Onix',\n",
              " 'Oshawott',\n",
              " 'Pachirisu',\n",
              " 'Palkia',\n",
              " 'Palpitoad',\n",
              " 'Pancham',\n",
              " 'Pangoro',\n",
              " 'Panpour',\n",
              " 'Pansage',\n",
              " 'Pansear',\n",
              " 'Paras',\n",
              " 'Parasect',\n",
              " 'Patrat',\n",
              " 'Pawniard',\n",
              " 'Pelipper',\n",
              " 'Persian',\n",
              " 'Petilil',\n",
              " 'Phanpy',\n",
              " 'Phantump',\n",
              " 'Phione',\n",
              " 'Pichu',\n",
              " 'Pidgeot',\n",
              " 'Pidgeotto',\n",
              " 'Pidgey',\n",
              " 'Pidove',\n",
              " 'Pignite',\n",
              " 'Pikachu',\n",
              " 'Piloswine',\n",
              " 'Pineco',\n",
              " 'Pinsir',\n",
              " 'Piplup',\n",
              " 'Plusle',\n",
              " 'Politoed',\n",
              " 'Poliwag',\n",
              " 'Poliwhirl',\n",
              " 'Poliwrath',\n",
              " 'Ponyta',\n",
              " 'Poochyena',\n",
              " 'Porygon',\n",
              " 'Porygon-Z',\n",
              " 'Porygon2',\n",
              " 'Primeape',\n",
              " 'Prinplup',\n",
              " 'Probopass',\n",
              " 'Psyduck',\n",
              " 'Pumpkaboo',\n",
              " 'Pupitar',\n",
              " 'Purrloin',\n",
              " 'Purugly',\n",
              " 'Pyroar',\n",
              " 'Quagsire',\n",
              " 'Quilava',\n",
              " 'Quilladin',\n",
              " 'Qwilfish',\n",
              " 'Raichu',\n",
              " 'Raikou',\n",
              " 'Ralts',\n",
              " 'Rampardos',\n",
              " 'Rapidash',\n",
              " 'Raticate',\n",
              " 'Rattata',\n",
              " 'Rayquaza',\n",
              " 'Regice',\n",
              " 'Regigigas',\n",
              " 'Regirock',\n",
              " 'Registeel',\n",
              " 'Relicanth',\n",
              " 'Remoraid',\n",
              " 'Reshiram',\n",
              " 'Reuniclus',\n",
              " 'Rhydon',\n",
              " 'Rhyhorn',\n",
              " 'Rhyperior',\n",
              " 'Riolu',\n",
              " 'Roggenrola',\n",
              " 'Roselia',\n",
              " 'Roserade',\n",
              " 'Rotom',\n",
              " 'Rufflet',\n",
              " 'Sableye',\n",
              " 'Salamence',\n",
              " 'Samurott',\n",
              " 'Sandile',\n",
              " 'Sandshrew',\n",
              " 'Sandslash',\n",
              " 'Sawk',\n",
              " 'Sawsbuck',\n",
              " 'Scatterbug',\n",
              " 'Sceptile',\n",
              " 'Scizor',\n",
              " 'Scolipede',\n",
              " 'Scrafty',\n",
              " 'Scraggy',\n",
              " 'Scyther',\n",
              " 'Seadra',\n",
              " 'Seaking',\n",
              " 'Sealeo',\n",
              " 'Seedot',\n",
              " 'Seel',\n",
              " 'Seismitoad',\n",
              " 'Sentret',\n",
              " 'Serperior',\n",
              " 'Servine',\n",
              " 'Seviper',\n",
              " 'Sewaddle',\n",
              " 'Sharpedo',\n",
              " 'Shaymin',\n",
              " 'Shedinja',\n",
              " 'Shelgon',\n",
              " 'Shellder',\n",
              " 'Shellos',\n",
              " 'Shelmet',\n",
              " 'Shieldon',\n",
              " 'Shiftry',\n",
              " 'Shinx',\n",
              " 'Shroomish',\n",
              " 'Shuckle',\n",
              " 'Shuppet',\n",
              " 'Sigilyph',\n",
              " 'Silcoon',\n",
              " 'Simipour',\n",
              " 'Simisage',\n",
              " 'Simisear',\n",
              " 'Skarmory',\n",
              " 'Skiddo',\n",
              " 'Skiploom',\n",
              " 'Skitty',\n",
              " 'Skorupi',\n",
              " 'Skrelp',\n",
              " 'Skuntank',\n",
              " 'Slaking',\n",
              " 'Slakoth',\n",
              " 'Sliggoo',\n",
              " 'Slowbro',\n",
              " 'Slowking',\n",
              " 'Slowpoke',\n",
              " 'Slugma',\n",
              " 'Slurpuff',\n",
              " 'Smeargle',\n",
              " 'Smoochum',\n",
              " 'Sneasel',\n",
              " 'Snivy',\n",
              " 'Snorlax',\n",
              " 'Snorunt',\n",
              " 'Snover',\n",
              " 'Snubbull',\n",
              " 'Solosis',\n",
              " 'Solrock',\n",
              " 'Spearow',\n",
              " 'Spewpa',\n",
              " 'Spheal',\n",
              " 'Spinarak',\n",
              " 'Spinda',\n",
              " 'Spiritomb',\n",
              " 'Spoink',\n",
              " 'Spritzee',\n",
              " 'Squirtle',\n",
              " 'Stantler',\n",
              " 'Staraptor',\n",
              " 'Staravia',\n",
              " 'Starly',\n",
              " 'Starmie',\n",
              " 'Staryu',\n",
              " 'Steelix',\n",
              " 'Stoutland',\n",
              " 'Stunfisk',\n",
              " 'Stunky',\n",
              " 'Sudowoodo',\n",
              " 'Suicune',\n",
              " 'Sunflora',\n",
              " 'Sunkern',\n",
              " 'Surskit',\n",
              " 'Swablu',\n",
              " 'Swadloon',\n",
              " 'Swalot',\n",
              " 'Swampert',\n",
              " 'Swanna',\n",
              " 'Swellow',\n",
              " 'Swinub',\n",
              " 'Swirlix',\n",
              " 'Swoobat',\n",
              " 'Sylveon',\n",
              " 'Taillow',\n",
              " 'Talonflame',\n",
              " 'Tangela',\n",
              " 'Tangrowth',\n",
              " 'Tauros',\n",
              " 'Teddiursa',\n",
              " 'Tentacool',\n",
              " 'Tentacruel',\n",
              " 'Tepig',\n",
              " 'Terrakion',\n",
              " 'Throh',\n",
              " 'Thundurus',\n",
              " 'Timburr',\n",
              " 'Tirtouga',\n",
              " 'Togekiss',\n",
              " 'Togepi',\n",
              " 'Togetic',\n",
              " 'Torchic',\n",
              " 'Torkoal',\n",
              " 'Tornadus',\n",
              " 'Torterra',\n",
              " 'Totodile',\n",
              " 'Toxicroak',\n",
              " 'Tranquill',\n",
              " 'Trapinch',\n",
              " 'Treecko',\n",
              " 'Trevenant',\n",
              " 'Tropius',\n",
              " 'Trubbish',\n",
              " 'Turtwig',\n",
              " 'Tympole',\n",
              " 'Tynamo',\n",
              " 'Typhlosion',\n",
              " 'Tyranitar',\n",
              " 'Tyrantrum',\n",
              " 'Tyrogue',\n",
              " 'Tyrunt',\n",
              " 'Umbreon',\n",
              " 'Unfezant',\n",
              " 'Unown',\n",
              " 'Ursaring',\n",
              " 'Uxie',\n",
              " 'Vanillish',\n",
              " 'Vanillite',\n",
              " 'Vanilluxe',\n",
              " 'Vaporeon',\n",
              " 'Venipede',\n",
              " 'Venomoth',\n",
              " 'Venonat',\n",
              " 'Venusaur',\n",
              " 'Vespiquen',\n",
              " 'Vibrava',\n",
              " 'Victini',\n",
              " 'Victreebel',\n",
              " 'Vigoroth',\n",
              " 'Vileplume',\n",
              " 'Virizion',\n",
              " 'Vivillon',\n",
              " 'Volbeat',\n",
              " 'Volcanion',\n",
              " 'Volcarona',\n",
              " 'Voltorb',\n",
              " 'Vullaby',\n",
              " 'Vulpix',\n",
              " 'Wailmer',\n",
              " 'Wailord',\n",
              " 'Walrein',\n",
              " 'Wartortle',\n",
              " 'Watchog',\n",
              " 'Weavile',\n",
              " 'Weedle',\n",
              " 'Weepinbell',\n",
              " 'Weezing',\n",
              " 'Whimsicott',\n",
              " 'Whirlipede',\n",
              " 'Whiscash',\n",
              " 'Whismur',\n",
              " 'Wigglytuff',\n",
              " 'Wingull',\n",
              " 'Wobbuffet',\n",
              " 'Woobat',\n",
              " 'Wooper',\n",
              " 'Wormadam',\n",
              " 'Wurmple',\n",
              " 'Wynaut',\n",
              " 'Xatu',\n",
              " 'Xerneas',\n",
              " 'Yamask',\n",
              " 'Yanma',\n",
              " 'Yanmega',\n",
              " 'Yveltal',\n",
              " 'Zangoose',\n",
              " 'Zapdos',\n",
              " 'Zebstrika',\n",
              " 'Zekrom',\n",
              " 'Zigzagoon',\n",
              " 'Zoroark',\n",
              " 'Zorua',\n",
              " 'Zubat',\n",
              " 'Zweilous',\n",
              " 'Zygarde']"
            ]
          },
          "metadata": {
            "tags": []
          },
          "execution_count": 50
        }
      ]
    },
    {
      "cell_type": "code",
      "metadata": {
        "colab": {
          "base_uri": "https://localhost:8080/"
        },
        "id": "yuAawVENMaJ4",
        "outputId": "275bcc3a-3d1a-4afb-801a-cf0dd3f95d47"
      },
      "source": [
        "list(pokemon)"
      ],
      "execution_count": null,
      "outputs": [
        {
          "output_type": "execute_result",
          "data": {
            "text/plain": [
              "['Bulbasaur',\n",
              " 'Ivysaur',\n",
              " 'Venusaur',\n",
              " 'Charmander',\n",
              " 'Charmeleon',\n",
              " 'Charizard',\n",
              " 'Squirtle',\n",
              " 'Wartortle',\n",
              " 'Blastoise',\n",
              " 'Caterpie',\n",
              " 'Metapod',\n",
              " 'Butterfree',\n",
              " 'Weedle',\n",
              " 'Kakuna',\n",
              " 'Beedrill',\n",
              " 'Pidgey',\n",
              " 'Pidgeotto',\n",
              " 'Pidgeot',\n",
              " 'Rattata',\n",
              " 'Raticate',\n",
              " 'Spearow',\n",
              " 'Fearow',\n",
              " 'Ekans',\n",
              " 'Arbok',\n",
              " 'Pikachu',\n",
              " 'Raichu',\n",
              " 'Sandshrew',\n",
              " 'Sandslash',\n",
              " 'Nidoran',\n",
              " 'Nidorina',\n",
              " 'Nidoqueen',\n",
              " 'Nidoran♂',\n",
              " 'Nidorino',\n",
              " 'Nidoking',\n",
              " 'Clefairy',\n",
              " 'Clefable',\n",
              " 'Vulpix',\n",
              " 'Ninetales',\n",
              " 'Jigglypuff',\n",
              " 'Wigglytuff',\n",
              " 'Zubat',\n",
              " 'Golbat',\n",
              " 'Oddish',\n",
              " 'Gloom',\n",
              " 'Vileplume',\n",
              " 'Paras',\n",
              " 'Parasect',\n",
              " 'Venonat',\n",
              " 'Venomoth',\n",
              " 'Diglett',\n",
              " 'Dugtrio',\n",
              " 'Meowth',\n",
              " 'Persian',\n",
              " 'Psyduck',\n",
              " 'Golduck',\n",
              " 'Mankey',\n",
              " 'Primeape',\n",
              " 'Growlithe',\n",
              " 'Arcanine',\n",
              " 'Poliwag',\n",
              " 'Poliwhirl',\n",
              " 'Poliwrath',\n",
              " 'Abra',\n",
              " 'Kadabra',\n",
              " 'Alakazam',\n",
              " 'Machop',\n",
              " 'Machoke',\n",
              " 'Machamp',\n",
              " 'Bellsprout',\n",
              " 'Weepinbell',\n",
              " 'Victreebel',\n",
              " 'Tentacool',\n",
              " 'Tentacruel',\n",
              " 'Geodude',\n",
              " 'Graveler',\n",
              " 'Golem',\n",
              " 'Ponyta',\n",
              " 'Rapidash',\n",
              " 'Slowpoke',\n",
              " 'Slowbro',\n",
              " 'Magnemite',\n",
              " 'Magneton',\n",
              " \"Farfetch'd\",\n",
              " 'Doduo',\n",
              " 'Dodrio',\n",
              " 'Seel',\n",
              " 'Dewgong',\n",
              " 'Grimer',\n",
              " 'Muk',\n",
              " 'Shellder',\n",
              " 'Cloyster',\n",
              " 'Gastly',\n",
              " 'Haunter',\n",
              " 'Gengar',\n",
              " 'Onix',\n",
              " 'Drowzee',\n",
              " 'Hypno',\n",
              " 'Krabby',\n",
              " 'Kingler',\n",
              " 'Voltorb',\n",
              " 'Electrode',\n",
              " 'Exeggcute',\n",
              " 'Exeggutor',\n",
              " 'Cubone',\n",
              " 'Marowak',\n",
              " 'Hitmonlee',\n",
              " 'Hitmonchan',\n",
              " 'Lickitung',\n",
              " 'Koffing',\n",
              " 'Weezing',\n",
              " 'Rhyhorn',\n",
              " 'Rhydon',\n",
              " 'Chansey',\n",
              " 'Tangela',\n",
              " 'Kangaskhan',\n",
              " 'Horsea',\n",
              " 'Seadra',\n",
              " 'Goldeen',\n",
              " 'Seaking',\n",
              " 'Staryu',\n",
              " 'Starmie',\n",
              " 'Mr. Mime',\n",
              " 'Scyther',\n",
              " 'Jynx',\n",
              " 'Electabuzz',\n",
              " 'Magmar',\n",
              " 'Pinsir',\n",
              " 'Tauros',\n",
              " 'Magikarp',\n",
              " 'Gyarados',\n",
              " 'Lapras',\n",
              " 'Ditto',\n",
              " 'Eevee',\n",
              " 'Vaporeon',\n",
              " 'Jolteon',\n",
              " 'Flareon',\n",
              " 'Porygon',\n",
              " 'Omanyte',\n",
              " 'Omastar',\n",
              " 'Kabuto',\n",
              " 'Kabutops',\n",
              " 'Aerodactyl',\n",
              " 'Snorlax',\n",
              " 'Articuno',\n",
              " 'Zapdos',\n",
              " 'Moltres',\n",
              " 'Dratini',\n",
              " 'Dragonair',\n",
              " 'Dragonite',\n",
              " 'Mewtwo',\n",
              " 'Mew',\n",
              " 'Chikorita',\n",
              " 'Bayleef',\n",
              " 'Meganium',\n",
              " 'Cyndaquil',\n",
              " 'Quilava',\n",
              " 'Typhlosion',\n",
              " 'Totodile',\n",
              " 'Croconaw',\n",
              " 'Feraligatr',\n",
              " 'Sentret',\n",
              " 'Furret',\n",
              " 'Hoothoot',\n",
              " 'Noctowl',\n",
              " 'Ledyba',\n",
              " 'Ledian',\n",
              " 'Spinarak',\n",
              " 'Ariados',\n",
              " 'Crobat',\n",
              " 'Chinchou',\n",
              " 'Lanturn',\n",
              " 'Pichu',\n",
              " 'Cleffa',\n",
              " 'Igglybuff',\n",
              " 'Togepi',\n",
              " 'Togetic',\n",
              " 'Natu',\n",
              " 'Xatu',\n",
              " 'Mareep',\n",
              " 'Flaaffy',\n",
              " 'Ampharos',\n",
              " 'Bellossom',\n",
              " 'Marill',\n",
              " 'Azumarill',\n",
              " 'Sudowoodo',\n",
              " 'Politoed',\n",
              " 'Hoppip',\n",
              " 'Skiploom',\n",
              " 'Jumpluff',\n",
              " 'Aipom',\n",
              " 'Sunkern',\n",
              " 'Sunflora',\n",
              " 'Yanma',\n",
              " 'Wooper',\n",
              " 'Quagsire',\n",
              " 'Espeon',\n",
              " 'Umbreon',\n",
              " 'Murkrow',\n",
              " 'Slowking',\n",
              " 'Misdreavus',\n",
              " 'Unown',\n",
              " 'Wobbuffet',\n",
              " 'Girafarig',\n",
              " 'Pineco',\n",
              " 'Forretress',\n",
              " 'Dunsparce',\n",
              " 'Gligar',\n",
              " 'Steelix',\n",
              " 'Snubbull',\n",
              " 'Granbull',\n",
              " 'Qwilfish',\n",
              " 'Scizor',\n",
              " 'Shuckle',\n",
              " 'Heracross',\n",
              " 'Sneasel',\n",
              " 'Teddiursa',\n",
              " 'Ursaring',\n",
              " 'Slugma',\n",
              " 'Magcargo',\n",
              " 'Swinub',\n",
              " 'Piloswine',\n",
              " 'Corsola',\n",
              " 'Remoraid',\n",
              " 'Octillery',\n",
              " 'Delibird',\n",
              " 'Mantine',\n",
              " 'Skarmory',\n",
              " 'Houndour',\n",
              " 'Houndoom',\n",
              " 'Kingdra',\n",
              " 'Phanpy',\n",
              " 'Donphan',\n",
              " 'Porygon2',\n",
              " 'Stantler',\n",
              " 'Smeargle',\n",
              " 'Tyrogue',\n",
              " 'Hitmontop',\n",
              " 'Smoochum',\n",
              " 'Elekid',\n",
              " 'Magby',\n",
              " 'Miltank',\n",
              " 'Blissey',\n",
              " 'Raikou',\n",
              " 'Entei',\n",
              " 'Suicune',\n",
              " 'Larvitar',\n",
              " 'Pupitar',\n",
              " 'Tyranitar',\n",
              " 'Lugia',\n",
              " 'Ho-oh',\n",
              " 'Celebi',\n",
              " 'Treecko',\n",
              " 'Grovyle',\n",
              " 'Sceptile',\n",
              " 'Torchic',\n",
              " 'Combusken',\n",
              " 'Blaziken',\n",
              " 'Mudkip',\n",
              " 'Marshtomp',\n",
              " 'Swampert',\n",
              " 'Poochyena',\n",
              " 'Mightyena',\n",
              " 'Zigzagoon',\n",
              " 'Linoone',\n",
              " 'Wurmple',\n",
              " 'Silcoon',\n",
              " 'Beautifly',\n",
              " 'Cascoon',\n",
              " 'Dustox',\n",
              " 'Lotad',\n",
              " 'Lombre',\n",
              " 'Ludicolo',\n",
              " 'Seedot',\n",
              " 'Nuzleaf',\n",
              " 'Shiftry',\n",
              " 'Taillow',\n",
              " 'Swellow',\n",
              " 'Wingull',\n",
              " 'Pelipper',\n",
              " 'Ralts',\n",
              " 'Kirlia',\n",
              " 'Gardevoir',\n",
              " 'Surskit',\n",
              " 'Masquerain',\n",
              " 'Shroomish',\n",
              " 'Breloom',\n",
              " 'Slakoth',\n",
              " 'Vigoroth',\n",
              " 'Slaking',\n",
              " 'Nincada',\n",
              " 'Ninjask',\n",
              " 'Shedinja',\n",
              " 'Whismur',\n",
              " 'Loudred',\n",
              " 'Exploud',\n",
              " 'Makuhita',\n",
              " 'Hariyama',\n",
              " 'Azurill',\n",
              " 'Nosepass',\n",
              " 'Skitty',\n",
              " 'Delcatty',\n",
              " 'Sableye',\n",
              " 'Mawile',\n",
              " 'Aron',\n",
              " 'Lairon',\n",
              " 'Aggron',\n",
              " 'Meditite',\n",
              " 'Medicham',\n",
              " 'Electrike',\n",
              " 'Manectric',\n",
              " 'Plusle',\n",
              " 'Minun',\n",
              " 'Volbeat',\n",
              " 'Illumise',\n",
              " 'Roselia',\n",
              " 'Gulpin',\n",
              " 'Swalot',\n",
              " 'Carvanha',\n",
              " 'Sharpedo',\n",
              " 'Wailmer',\n",
              " 'Wailord',\n",
              " 'Numel',\n",
              " 'Camerupt',\n",
              " 'Torkoal',\n",
              " 'Spoink',\n",
              " 'Grumpig',\n",
              " 'Spinda',\n",
              " 'Trapinch',\n",
              " 'Vibrava',\n",
              " 'Flygon',\n",
              " 'Cacnea',\n",
              " 'Cacturne',\n",
              " 'Swablu',\n",
              " 'Altaria',\n",
              " 'Zangoose',\n",
              " 'Seviper',\n",
              " 'Lunatone',\n",
              " 'Solrock',\n",
              " 'Barboach',\n",
              " 'Whiscash',\n",
              " 'Corphish',\n",
              " 'Crawdaunt',\n",
              " 'Baltoy',\n",
              " 'Claydol',\n",
              " 'Lileep',\n",
              " 'Cradily',\n",
              " 'Anorith',\n",
              " 'Armaldo',\n",
              " 'Feebas',\n",
              " 'Milotic',\n",
              " 'Castform',\n",
              " 'Kecleon',\n",
              " 'Shuppet',\n",
              " 'Banette',\n",
              " 'Duskull',\n",
              " 'Dusclops',\n",
              " 'Tropius',\n",
              " 'Chimecho',\n",
              " 'Absol',\n",
              " 'Wynaut',\n",
              " 'Snorunt',\n",
              " 'Glalie',\n",
              " 'Spheal',\n",
              " 'Sealeo',\n",
              " 'Walrein',\n",
              " 'Clamperl',\n",
              " 'Huntail',\n",
              " 'Gorebyss',\n",
              " 'Relicanth',\n",
              " 'Luvdisc',\n",
              " 'Bagon',\n",
              " 'Shelgon',\n",
              " 'Salamence',\n",
              " 'Beldum',\n",
              " 'Metang',\n",
              " 'Metagross',\n",
              " 'Regirock',\n",
              " 'Regice',\n",
              " 'Registeel',\n",
              " 'Latias',\n",
              " 'Latios',\n",
              " 'Kyogre',\n",
              " 'Groudon',\n",
              " 'Rayquaza',\n",
              " 'Jirachi',\n",
              " 'Deoxys',\n",
              " 'Turtwig',\n",
              " 'Grotle',\n",
              " 'Torterra',\n",
              " 'Chimchar',\n",
              " 'Monferno',\n",
              " 'Infernape',\n",
              " 'Piplup',\n",
              " 'Prinplup',\n",
              " 'Empoleon',\n",
              " 'Starly',\n",
              " 'Staravia',\n",
              " 'Staraptor',\n",
              " 'Bidoof',\n",
              " 'Bibarel',\n",
              " 'Kricketot',\n",
              " 'Kricketune',\n",
              " 'Shinx',\n",
              " 'Luxio',\n",
              " 'Luxray',\n",
              " 'Budew',\n",
              " 'Roserade',\n",
              " 'Cranidos',\n",
              " 'Rampardos',\n",
              " 'Shieldon',\n",
              " 'Bastiodon',\n",
              " 'Burmy',\n",
              " 'Wormadam',\n",
              " 'Mothim',\n",
              " 'Combee',\n",
              " 'Vespiquen',\n",
              " 'Pachirisu',\n",
              " 'Buizel',\n",
              " 'Floatzel',\n",
              " 'Cherubi',\n",
              " 'Cherrim',\n",
              " 'Shellos',\n",
              " 'Gastrodon',\n",
              " 'Ambipom',\n",
              " 'Drifloon',\n",
              " 'Drifblim',\n",
              " 'Buneary',\n",
              " 'Lopunny',\n",
              " 'Mismagius',\n",
              " 'Honchkrow',\n",
              " 'Glameow',\n",
              " 'Purugly',\n",
              " 'Chingling',\n",
              " 'Stunky',\n",
              " 'Skuntank',\n",
              " 'Bronzor',\n",
              " 'Bronzong',\n",
              " 'Bonsly',\n",
              " 'Mime Jr.',\n",
              " 'Happiny',\n",
              " 'Chatot',\n",
              " 'Spiritomb',\n",
              " 'Gible',\n",
              " 'Gabite',\n",
              " 'Garchomp',\n",
              " 'Munchlax',\n",
              " 'Riolu',\n",
              " 'Lucario',\n",
              " 'Hippopotas',\n",
              " 'Hippowdon',\n",
              " 'Skorupi',\n",
              " 'Drapion',\n",
              " 'Croagunk',\n",
              " 'Toxicroak',\n",
              " 'Carnivine',\n",
              " 'Finneon',\n",
              " 'Lumineon',\n",
              " 'Mantyke',\n",
              " 'Snover',\n",
              " 'Abomasnow',\n",
              " 'Weavile',\n",
              " 'Magnezone',\n",
              " 'Lickilicky',\n",
              " 'Rhyperior',\n",
              " 'Tangrowth',\n",
              " 'Electivire',\n",
              " 'Magmortar',\n",
              " 'Togekiss',\n",
              " 'Yanmega',\n",
              " 'Leafeon',\n",
              " 'Glaceon',\n",
              " 'Gliscor',\n",
              " 'Mamoswine',\n",
              " 'Porygon-Z',\n",
              " 'Gallade',\n",
              " 'Probopass',\n",
              " 'Dusknoir',\n",
              " 'Froslass',\n",
              " 'Rotom',\n",
              " 'Uxie',\n",
              " 'Mesprit',\n",
              " 'Azelf',\n",
              " 'Dialga',\n",
              " 'Palkia',\n",
              " 'Heatran',\n",
              " 'Regigigas',\n",
              " 'Giratina',\n",
              " 'Cresselia',\n",
              " 'Phione',\n",
              " 'Manaphy',\n",
              " 'Darkrai',\n",
              " 'Shaymin',\n",
              " 'Arceus',\n",
              " 'Victini',\n",
              " 'Snivy',\n",
              " 'Servine',\n",
              " 'Serperior',\n",
              " 'Tepig',\n",
              " 'Pignite',\n",
              " 'Emboar',\n",
              " 'Oshawott',\n",
              " 'Dewott',\n",
              " 'Samurott',\n",
              " 'Patrat',\n",
              " 'Watchog',\n",
              " 'Lillipup',\n",
              " 'Herdier',\n",
              " 'Stoutland',\n",
              " 'Purrloin',\n",
              " 'Liepard',\n",
              " 'Pansage',\n",
              " 'Simisage',\n",
              " 'Pansear',\n",
              " 'Simisear',\n",
              " 'Panpour',\n",
              " 'Simipour',\n",
              " 'Munna',\n",
              " 'Musharna',\n",
              " 'Pidove',\n",
              " 'Tranquill',\n",
              " 'Unfezant',\n",
              " 'Blitzle',\n",
              " 'Zebstrika',\n",
              " 'Roggenrola',\n",
              " 'Boldore',\n",
              " 'Gigalith',\n",
              " 'Woobat',\n",
              " 'Swoobat',\n",
              " 'Drilbur',\n",
              " 'Excadrill',\n",
              " 'Audino',\n",
              " 'Timburr',\n",
              " 'Gurdurr',\n",
              " 'Conkeldurr',\n",
              " 'Tympole',\n",
              " 'Palpitoad',\n",
              " 'Seismitoad',\n",
              " 'Throh',\n",
              " 'Sawk',\n",
              " 'Sewaddle',\n",
              " 'Swadloon',\n",
              " 'Leavanny',\n",
              " 'Venipede',\n",
              " 'Whirlipede',\n",
              " 'Scolipede',\n",
              " 'Cottonee',\n",
              " 'Whimsicott',\n",
              " 'Petilil',\n",
              " 'Lilligant',\n",
              " 'Basculin',\n",
              " 'Sandile',\n",
              " 'Krokorok',\n",
              " 'Krookodile',\n",
              " 'Darumaka',\n",
              " 'Darmanitan',\n",
              " 'Maractus',\n",
              " 'Dwebble',\n",
              " 'Crustle',\n",
              " 'Scraggy',\n",
              " 'Scrafty',\n",
              " 'Sigilyph',\n",
              " 'Yamask',\n",
              " 'Cofagrigus',\n",
              " 'Tirtouga',\n",
              " 'Carracosta',\n",
              " 'Archen',\n",
              " 'Archeops',\n",
              " 'Trubbish',\n",
              " 'Garbodor',\n",
              " 'Zorua',\n",
              " 'Zoroark',\n",
              " 'Minccino',\n",
              " 'Cinccino',\n",
              " 'Gothita',\n",
              " 'Gothorita',\n",
              " 'Gothitelle',\n",
              " 'Solosis',\n",
              " 'Duosion',\n",
              " 'Reuniclus',\n",
              " 'Ducklett',\n",
              " 'Swanna',\n",
              " 'Vanillite',\n",
              " 'Vanillish',\n",
              " 'Vanilluxe',\n",
              " 'Deerling',\n",
              " 'Sawsbuck',\n",
              " 'Emolga',\n",
              " 'Karrablast',\n",
              " 'Escavalier',\n",
              " 'Foongus',\n",
              " 'Amoonguss',\n",
              " 'Frillish',\n",
              " 'Jellicent',\n",
              " 'Alomomola',\n",
              " 'Joltik',\n",
              " 'Galvantula',\n",
              " 'Ferroseed',\n",
              " 'Ferrothorn',\n",
              " 'Klink',\n",
              " 'Klang',\n",
              " 'Klinklang',\n",
              " 'Tynamo',\n",
              " 'Eelektrik',\n",
              " 'Eelektross',\n",
              " 'Elgyem',\n",
              " 'Beheeyem',\n",
              " 'Litwick',\n",
              " 'Lampent',\n",
              " 'Chandelure',\n",
              " 'Axew',\n",
              " 'Fraxure',\n",
              " 'Haxorus',\n",
              " 'Cubchoo',\n",
              " 'Beartic',\n",
              " 'Cryogonal',\n",
              " 'Shelmet',\n",
              " 'Accelgor',\n",
              " 'Stunfisk',\n",
              " 'Mienfoo',\n",
              " 'Mienshao',\n",
              " 'Druddigon',\n",
              " 'Golett',\n",
              " 'Golurk',\n",
              " 'Pawniard',\n",
              " 'Bisharp',\n",
              " 'Bouffalant',\n",
              " 'Rufflet',\n",
              " 'Braviary',\n",
              " 'Vullaby',\n",
              " 'Mandibuzz',\n",
              " 'Heatmor',\n",
              " 'Durant',\n",
              " 'Deino',\n",
              " 'Zweilous',\n",
              " 'Hydreigon',\n",
              " 'Larvesta',\n",
              " 'Volcarona',\n",
              " 'Cobalion',\n",
              " 'Terrakion',\n",
              " 'Virizion',\n",
              " 'Tornadus',\n",
              " 'Thundurus',\n",
              " 'Reshiram',\n",
              " 'Zekrom',\n",
              " 'Landorus',\n",
              " 'Kyurem',\n",
              " 'Keldeo',\n",
              " 'Meloetta',\n",
              " 'Genesect',\n",
              " 'Chespin',\n",
              " 'Quilladin',\n",
              " 'Chesnaught',\n",
              " 'Fennekin',\n",
              " 'Braixen',\n",
              " 'Delphox',\n",
              " 'Froakie',\n",
              " 'Frogadier',\n",
              " 'Greninja',\n",
              " 'Bunnelby',\n",
              " 'Diggersby',\n",
              " 'Fletchling',\n",
              " 'Fletchinder',\n",
              " 'Talonflame',\n",
              " 'Scatterbug',\n",
              " 'Spewpa',\n",
              " 'Vivillon',\n",
              " 'Litleo',\n",
              " 'Pyroar',\n",
              " 'Flabébé',\n",
              " 'Floette',\n",
              " 'Florges',\n",
              " 'Skiddo',\n",
              " 'Gogoat',\n",
              " 'Pancham',\n",
              " 'Pangoro',\n",
              " 'Furfrou',\n",
              " 'Espurr',\n",
              " 'Meowstic',\n",
              " 'Honedge',\n",
              " 'Doublade',\n",
              " 'Aegislash',\n",
              " 'Spritzee',\n",
              " 'Aromatisse',\n",
              " 'Swirlix',\n",
              " 'Slurpuff',\n",
              " 'Inkay',\n",
              " 'Malamar',\n",
              " 'Binacle',\n",
              " 'Barbaracle',\n",
              " 'Skrelp',\n",
              " 'Dragalge',\n",
              " 'Clauncher',\n",
              " 'Clawitzer',\n",
              " 'Helioptile',\n",
              " 'Heliolisk',\n",
              " 'Tyrunt',\n",
              " 'Tyrantrum',\n",
              " 'Amaura',\n",
              " 'Aurorus',\n",
              " 'Sylveon',\n",
              " 'Hawlucha',\n",
              " 'Dedenne',\n",
              " 'Carbink',\n",
              " 'Goomy',\n",
              " 'Sliggoo',\n",
              " 'Goodra',\n",
              " 'Klefki',\n",
              " 'Phantump',\n",
              " 'Trevenant',\n",
              " 'Pumpkaboo',\n",
              " 'Gourgeist',\n",
              " 'Bergmite',\n",
              " 'Avalugg',\n",
              " 'Noibat',\n",
              " 'Noivern',\n",
              " 'Xerneas',\n",
              " 'Yveltal',\n",
              " 'Zygarde',\n",
              " 'Diancie',\n",
              " 'Hoopa',\n",
              " 'Volcanion']"
            ]
          },
          "metadata": {
            "tags": []
          },
          "execution_count": 51
        }
      ]
    },
    {
      "cell_type": "code",
      "metadata": {
        "colab": {
          "base_uri": "https://localhost:8080/"
        },
        "id": "kNRtoS-LMjj9",
        "outputId": "801e2b82-683a-4c9e-e26d-b53458cd0330"
      },
      "source": [
        "dict(pokemon)"
      ],
      "execution_count": null,
      "outputs": [
        {
          "output_type": "execute_result",
          "data": {
            "text/plain": [
              "{0: 'Bulbasaur',\n",
              " 1: 'Ivysaur',\n",
              " 2: 'Venusaur',\n",
              " 3: 'Charmander',\n",
              " 4: 'Charmeleon',\n",
              " 5: 'Charizard',\n",
              " 6: 'Squirtle',\n",
              " 7: 'Wartortle',\n",
              " 8: 'Blastoise',\n",
              " 9: 'Caterpie',\n",
              " 10: 'Metapod',\n",
              " 11: 'Butterfree',\n",
              " 12: 'Weedle',\n",
              " 13: 'Kakuna',\n",
              " 14: 'Beedrill',\n",
              " 15: 'Pidgey',\n",
              " 16: 'Pidgeotto',\n",
              " 17: 'Pidgeot',\n",
              " 18: 'Rattata',\n",
              " 19: 'Raticate',\n",
              " 20: 'Spearow',\n",
              " 21: 'Fearow',\n",
              " 22: 'Ekans',\n",
              " 23: 'Arbok',\n",
              " 24: 'Pikachu',\n",
              " 25: 'Raichu',\n",
              " 26: 'Sandshrew',\n",
              " 27: 'Sandslash',\n",
              " 28: 'Nidoran',\n",
              " 29: 'Nidorina',\n",
              " 30: 'Nidoqueen',\n",
              " 31: 'Nidoran♂',\n",
              " 32: 'Nidorino',\n",
              " 33: 'Nidoking',\n",
              " 34: 'Clefairy',\n",
              " 35: 'Clefable',\n",
              " 36: 'Vulpix',\n",
              " 37: 'Ninetales',\n",
              " 38: 'Jigglypuff',\n",
              " 39: 'Wigglytuff',\n",
              " 40: 'Zubat',\n",
              " 41: 'Golbat',\n",
              " 42: 'Oddish',\n",
              " 43: 'Gloom',\n",
              " 44: 'Vileplume',\n",
              " 45: 'Paras',\n",
              " 46: 'Parasect',\n",
              " 47: 'Venonat',\n",
              " 48: 'Venomoth',\n",
              " 49: 'Diglett',\n",
              " 50: 'Dugtrio',\n",
              " 51: 'Meowth',\n",
              " 52: 'Persian',\n",
              " 53: 'Psyduck',\n",
              " 54: 'Golduck',\n",
              " 55: 'Mankey',\n",
              " 56: 'Primeape',\n",
              " 57: 'Growlithe',\n",
              " 58: 'Arcanine',\n",
              " 59: 'Poliwag',\n",
              " 60: 'Poliwhirl',\n",
              " 61: 'Poliwrath',\n",
              " 62: 'Abra',\n",
              " 63: 'Kadabra',\n",
              " 64: 'Alakazam',\n",
              " 65: 'Machop',\n",
              " 66: 'Machoke',\n",
              " 67: 'Machamp',\n",
              " 68: 'Bellsprout',\n",
              " 69: 'Weepinbell',\n",
              " 70: 'Victreebel',\n",
              " 71: 'Tentacool',\n",
              " 72: 'Tentacruel',\n",
              " 73: 'Geodude',\n",
              " 74: 'Graveler',\n",
              " 75: 'Golem',\n",
              " 76: 'Ponyta',\n",
              " 77: 'Rapidash',\n",
              " 78: 'Slowpoke',\n",
              " 79: 'Slowbro',\n",
              " 80: 'Magnemite',\n",
              " 81: 'Magneton',\n",
              " 82: \"Farfetch'd\",\n",
              " 83: 'Doduo',\n",
              " 84: 'Dodrio',\n",
              " 85: 'Seel',\n",
              " 86: 'Dewgong',\n",
              " 87: 'Grimer',\n",
              " 88: 'Muk',\n",
              " 89: 'Shellder',\n",
              " 90: 'Cloyster',\n",
              " 91: 'Gastly',\n",
              " 92: 'Haunter',\n",
              " 93: 'Gengar',\n",
              " 94: 'Onix',\n",
              " 95: 'Drowzee',\n",
              " 96: 'Hypno',\n",
              " 97: 'Krabby',\n",
              " 98: 'Kingler',\n",
              " 99: 'Voltorb',\n",
              " 100: 'Electrode',\n",
              " 101: 'Exeggcute',\n",
              " 102: 'Exeggutor',\n",
              " 103: 'Cubone',\n",
              " 104: 'Marowak',\n",
              " 105: 'Hitmonlee',\n",
              " 106: 'Hitmonchan',\n",
              " 107: 'Lickitung',\n",
              " 108: 'Koffing',\n",
              " 109: 'Weezing',\n",
              " 110: 'Rhyhorn',\n",
              " 111: 'Rhydon',\n",
              " 112: 'Chansey',\n",
              " 113: 'Tangela',\n",
              " 114: 'Kangaskhan',\n",
              " 115: 'Horsea',\n",
              " 116: 'Seadra',\n",
              " 117: 'Goldeen',\n",
              " 118: 'Seaking',\n",
              " 119: 'Staryu',\n",
              " 120: 'Starmie',\n",
              " 121: 'Mr. Mime',\n",
              " 122: 'Scyther',\n",
              " 123: 'Jynx',\n",
              " 124: 'Electabuzz',\n",
              " 125: 'Magmar',\n",
              " 126: 'Pinsir',\n",
              " 127: 'Tauros',\n",
              " 128: 'Magikarp',\n",
              " 129: 'Gyarados',\n",
              " 130: 'Lapras',\n",
              " 131: 'Ditto',\n",
              " 132: 'Eevee',\n",
              " 133: 'Vaporeon',\n",
              " 134: 'Jolteon',\n",
              " 135: 'Flareon',\n",
              " 136: 'Porygon',\n",
              " 137: 'Omanyte',\n",
              " 138: 'Omastar',\n",
              " 139: 'Kabuto',\n",
              " 140: 'Kabutops',\n",
              " 141: 'Aerodactyl',\n",
              " 142: 'Snorlax',\n",
              " 143: 'Articuno',\n",
              " 144: 'Zapdos',\n",
              " 145: 'Moltres',\n",
              " 146: 'Dratini',\n",
              " 147: 'Dragonair',\n",
              " 148: 'Dragonite',\n",
              " 149: 'Mewtwo',\n",
              " 150: 'Mew',\n",
              " 151: 'Chikorita',\n",
              " 152: 'Bayleef',\n",
              " 153: 'Meganium',\n",
              " 154: 'Cyndaquil',\n",
              " 155: 'Quilava',\n",
              " 156: 'Typhlosion',\n",
              " 157: 'Totodile',\n",
              " 158: 'Croconaw',\n",
              " 159: 'Feraligatr',\n",
              " 160: 'Sentret',\n",
              " 161: 'Furret',\n",
              " 162: 'Hoothoot',\n",
              " 163: 'Noctowl',\n",
              " 164: 'Ledyba',\n",
              " 165: 'Ledian',\n",
              " 166: 'Spinarak',\n",
              " 167: 'Ariados',\n",
              " 168: 'Crobat',\n",
              " 169: 'Chinchou',\n",
              " 170: 'Lanturn',\n",
              " 171: 'Pichu',\n",
              " 172: 'Cleffa',\n",
              " 173: 'Igglybuff',\n",
              " 174: 'Togepi',\n",
              " 175: 'Togetic',\n",
              " 176: 'Natu',\n",
              " 177: 'Xatu',\n",
              " 178: 'Mareep',\n",
              " 179: 'Flaaffy',\n",
              " 180: 'Ampharos',\n",
              " 181: 'Bellossom',\n",
              " 182: 'Marill',\n",
              " 183: 'Azumarill',\n",
              " 184: 'Sudowoodo',\n",
              " 185: 'Politoed',\n",
              " 186: 'Hoppip',\n",
              " 187: 'Skiploom',\n",
              " 188: 'Jumpluff',\n",
              " 189: 'Aipom',\n",
              " 190: 'Sunkern',\n",
              " 191: 'Sunflora',\n",
              " 192: 'Yanma',\n",
              " 193: 'Wooper',\n",
              " 194: 'Quagsire',\n",
              " 195: 'Espeon',\n",
              " 196: 'Umbreon',\n",
              " 197: 'Murkrow',\n",
              " 198: 'Slowking',\n",
              " 199: 'Misdreavus',\n",
              " 200: 'Unown',\n",
              " 201: 'Wobbuffet',\n",
              " 202: 'Girafarig',\n",
              " 203: 'Pineco',\n",
              " 204: 'Forretress',\n",
              " 205: 'Dunsparce',\n",
              " 206: 'Gligar',\n",
              " 207: 'Steelix',\n",
              " 208: 'Snubbull',\n",
              " 209: 'Granbull',\n",
              " 210: 'Qwilfish',\n",
              " 211: 'Scizor',\n",
              " 212: 'Shuckle',\n",
              " 213: 'Heracross',\n",
              " 214: 'Sneasel',\n",
              " 215: 'Teddiursa',\n",
              " 216: 'Ursaring',\n",
              " 217: 'Slugma',\n",
              " 218: 'Magcargo',\n",
              " 219: 'Swinub',\n",
              " 220: 'Piloswine',\n",
              " 221: 'Corsola',\n",
              " 222: 'Remoraid',\n",
              " 223: 'Octillery',\n",
              " 224: 'Delibird',\n",
              " 225: 'Mantine',\n",
              " 226: 'Skarmory',\n",
              " 227: 'Houndour',\n",
              " 228: 'Houndoom',\n",
              " 229: 'Kingdra',\n",
              " 230: 'Phanpy',\n",
              " 231: 'Donphan',\n",
              " 232: 'Porygon2',\n",
              " 233: 'Stantler',\n",
              " 234: 'Smeargle',\n",
              " 235: 'Tyrogue',\n",
              " 236: 'Hitmontop',\n",
              " 237: 'Smoochum',\n",
              " 238: 'Elekid',\n",
              " 239: 'Magby',\n",
              " 240: 'Miltank',\n",
              " 241: 'Blissey',\n",
              " 242: 'Raikou',\n",
              " 243: 'Entei',\n",
              " 244: 'Suicune',\n",
              " 245: 'Larvitar',\n",
              " 246: 'Pupitar',\n",
              " 247: 'Tyranitar',\n",
              " 248: 'Lugia',\n",
              " 249: 'Ho-oh',\n",
              " 250: 'Celebi',\n",
              " 251: 'Treecko',\n",
              " 252: 'Grovyle',\n",
              " 253: 'Sceptile',\n",
              " 254: 'Torchic',\n",
              " 255: 'Combusken',\n",
              " 256: 'Blaziken',\n",
              " 257: 'Mudkip',\n",
              " 258: 'Marshtomp',\n",
              " 259: 'Swampert',\n",
              " 260: 'Poochyena',\n",
              " 261: 'Mightyena',\n",
              " 262: 'Zigzagoon',\n",
              " 263: 'Linoone',\n",
              " 264: 'Wurmple',\n",
              " 265: 'Silcoon',\n",
              " 266: 'Beautifly',\n",
              " 267: 'Cascoon',\n",
              " 268: 'Dustox',\n",
              " 269: 'Lotad',\n",
              " 270: 'Lombre',\n",
              " 271: 'Ludicolo',\n",
              " 272: 'Seedot',\n",
              " 273: 'Nuzleaf',\n",
              " 274: 'Shiftry',\n",
              " 275: 'Taillow',\n",
              " 276: 'Swellow',\n",
              " 277: 'Wingull',\n",
              " 278: 'Pelipper',\n",
              " 279: 'Ralts',\n",
              " 280: 'Kirlia',\n",
              " 281: 'Gardevoir',\n",
              " 282: 'Surskit',\n",
              " 283: 'Masquerain',\n",
              " 284: 'Shroomish',\n",
              " 285: 'Breloom',\n",
              " 286: 'Slakoth',\n",
              " 287: 'Vigoroth',\n",
              " 288: 'Slaking',\n",
              " 289: 'Nincada',\n",
              " 290: 'Ninjask',\n",
              " 291: 'Shedinja',\n",
              " 292: 'Whismur',\n",
              " 293: 'Loudred',\n",
              " 294: 'Exploud',\n",
              " 295: 'Makuhita',\n",
              " 296: 'Hariyama',\n",
              " 297: 'Azurill',\n",
              " 298: 'Nosepass',\n",
              " 299: 'Skitty',\n",
              " 300: 'Delcatty',\n",
              " 301: 'Sableye',\n",
              " 302: 'Mawile',\n",
              " 303: 'Aron',\n",
              " 304: 'Lairon',\n",
              " 305: 'Aggron',\n",
              " 306: 'Meditite',\n",
              " 307: 'Medicham',\n",
              " 308: 'Electrike',\n",
              " 309: 'Manectric',\n",
              " 310: 'Plusle',\n",
              " 311: 'Minun',\n",
              " 312: 'Volbeat',\n",
              " 313: 'Illumise',\n",
              " 314: 'Roselia',\n",
              " 315: 'Gulpin',\n",
              " 316: 'Swalot',\n",
              " 317: 'Carvanha',\n",
              " 318: 'Sharpedo',\n",
              " 319: 'Wailmer',\n",
              " 320: 'Wailord',\n",
              " 321: 'Numel',\n",
              " 322: 'Camerupt',\n",
              " 323: 'Torkoal',\n",
              " 324: 'Spoink',\n",
              " 325: 'Grumpig',\n",
              " 326: 'Spinda',\n",
              " 327: 'Trapinch',\n",
              " 328: 'Vibrava',\n",
              " 329: 'Flygon',\n",
              " 330: 'Cacnea',\n",
              " 331: 'Cacturne',\n",
              " 332: 'Swablu',\n",
              " 333: 'Altaria',\n",
              " 334: 'Zangoose',\n",
              " 335: 'Seviper',\n",
              " 336: 'Lunatone',\n",
              " 337: 'Solrock',\n",
              " 338: 'Barboach',\n",
              " 339: 'Whiscash',\n",
              " 340: 'Corphish',\n",
              " 341: 'Crawdaunt',\n",
              " 342: 'Baltoy',\n",
              " 343: 'Claydol',\n",
              " 344: 'Lileep',\n",
              " 345: 'Cradily',\n",
              " 346: 'Anorith',\n",
              " 347: 'Armaldo',\n",
              " 348: 'Feebas',\n",
              " 349: 'Milotic',\n",
              " 350: 'Castform',\n",
              " 351: 'Kecleon',\n",
              " 352: 'Shuppet',\n",
              " 353: 'Banette',\n",
              " 354: 'Duskull',\n",
              " 355: 'Dusclops',\n",
              " 356: 'Tropius',\n",
              " 357: 'Chimecho',\n",
              " 358: 'Absol',\n",
              " 359: 'Wynaut',\n",
              " 360: 'Snorunt',\n",
              " 361: 'Glalie',\n",
              " 362: 'Spheal',\n",
              " 363: 'Sealeo',\n",
              " 364: 'Walrein',\n",
              " 365: 'Clamperl',\n",
              " 366: 'Huntail',\n",
              " 367: 'Gorebyss',\n",
              " 368: 'Relicanth',\n",
              " 369: 'Luvdisc',\n",
              " 370: 'Bagon',\n",
              " 371: 'Shelgon',\n",
              " 372: 'Salamence',\n",
              " 373: 'Beldum',\n",
              " 374: 'Metang',\n",
              " 375: 'Metagross',\n",
              " 376: 'Regirock',\n",
              " 377: 'Regice',\n",
              " 378: 'Registeel',\n",
              " 379: 'Latias',\n",
              " 380: 'Latios',\n",
              " 381: 'Kyogre',\n",
              " 382: 'Groudon',\n",
              " 383: 'Rayquaza',\n",
              " 384: 'Jirachi',\n",
              " 385: 'Deoxys',\n",
              " 386: 'Turtwig',\n",
              " 387: 'Grotle',\n",
              " 388: 'Torterra',\n",
              " 389: 'Chimchar',\n",
              " 390: 'Monferno',\n",
              " 391: 'Infernape',\n",
              " 392: 'Piplup',\n",
              " 393: 'Prinplup',\n",
              " 394: 'Empoleon',\n",
              " 395: 'Starly',\n",
              " 396: 'Staravia',\n",
              " 397: 'Staraptor',\n",
              " 398: 'Bidoof',\n",
              " 399: 'Bibarel',\n",
              " 400: 'Kricketot',\n",
              " 401: 'Kricketune',\n",
              " 402: 'Shinx',\n",
              " 403: 'Luxio',\n",
              " 404: 'Luxray',\n",
              " 405: 'Budew',\n",
              " 406: 'Roserade',\n",
              " 407: 'Cranidos',\n",
              " 408: 'Rampardos',\n",
              " 409: 'Shieldon',\n",
              " 410: 'Bastiodon',\n",
              " 411: 'Burmy',\n",
              " 412: 'Wormadam',\n",
              " 413: 'Mothim',\n",
              " 414: 'Combee',\n",
              " 415: 'Vespiquen',\n",
              " 416: 'Pachirisu',\n",
              " 417: 'Buizel',\n",
              " 418: 'Floatzel',\n",
              " 419: 'Cherubi',\n",
              " 420: 'Cherrim',\n",
              " 421: 'Shellos',\n",
              " 422: 'Gastrodon',\n",
              " 423: 'Ambipom',\n",
              " 424: 'Drifloon',\n",
              " 425: 'Drifblim',\n",
              " 426: 'Buneary',\n",
              " 427: 'Lopunny',\n",
              " 428: 'Mismagius',\n",
              " 429: 'Honchkrow',\n",
              " 430: 'Glameow',\n",
              " 431: 'Purugly',\n",
              " 432: 'Chingling',\n",
              " 433: 'Stunky',\n",
              " 434: 'Skuntank',\n",
              " 435: 'Bronzor',\n",
              " 436: 'Bronzong',\n",
              " 437: 'Bonsly',\n",
              " 438: 'Mime Jr.',\n",
              " 439: 'Happiny',\n",
              " 440: 'Chatot',\n",
              " 441: 'Spiritomb',\n",
              " 442: 'Gible',\n",
              " 443: 'Gabite',\n",
              " 444: 'Garchomp',\n",
              " 445: 'Munchlax',\n",
              " 446: 'Riolu',\n",
              " 447: 'Lucario',\n",
              " 448: 'Hippopotas',\n",
              " 449: 'Hippowdon',\n",
              " 450: 'Skorupi',\n",
              " 451: 'Drapion',\n",
              " 452: 'Croagunk',\n",
              " 453: 'Toxicroak',\n",
              " 454: 'Carnivine',\n",
              " 455: 'Finneon',\n",
              " 456: 'Lumineon',\n",
              " 457: 'Mantyke',\n",
              " 458: 'Snover',\n",
              " 459: 'Abomasnow',\n",
              " 460: 'Weavile',\n",
              " 461: 'Magnezone',\n",
              " 462: 'Lickilicky',\n",
              " 463: 'Rhyperior',\n",
              " 464: 'Tangrowth',\n",
              " 465: 'Electivire',\n",
              " 466: 'Magmortar',\n",
              " 467: 'Togekiss',\n",
              " 468: 'Yanmega',\n",
              " 469: 'Leafeon',\n",
              " 470: 'Glaceon',\n",
              " 471: 'Gliscor',\n",
              " 472: 'Mamoswine',\n",
              " 473: 'Porygon-Z',\n",
              " 474: 'Gallade',\n",
              " 475: 'Probopass',\n",
              " 476: 'Dusknoir',\n",
              " 477: 'Froslass',\n",
              " 478: 'Rotom',\n",
              " 479: 'Uxie',\n",
              " 480: 'Mesprit',\n",
              " 481: 'Azelf',\n",
              " 482: 'Dialga',\n",
              " 483: 'Palkia',\n",
              " 484: 'Heatran',\n",
              " 485: 'Regigigas',\n",
              " 486: 'Giratina',\n",
              " 487: 'Cresselia',\n",
              " 488: 'Phione',\n",
              " 489: 'Manaphy',\n",
              " 490: 'Darkrai',\n",
              " 491: 'Shaymin',\n",
              " 492: 'Arceus',\n",
              " 493: 'Victini',\n",
              " 494: 'Snivy',\n",
              " 495: 'Servine',\n",
              " 496: 'Serperior',\n",
              " 497: 'Tepig',\n",
              " 498: 'Pignite',\n",
              " 499: 'Emboar',\n",
              " 500: 'Oshawott',\n",
              " 501: 'Dewott',\n",
              " 502: 'Samurott',\n",
              " 503: 'Patrat',\n",
              " 504: 'Watchog',\n",
              " 505: 'Lillipup',\n",
              " 506: 'Herdier',\n",
              " 507: 'Stoutland',\n",
              " 508: 'Purrloin',\n",
              " 509: 'Liepard',\n",
              " 510: 'Pansage',\n",
              " 511: 'Simisage',\n",
              " 512: 'Pansear',\n",
              " 513: 'Simisear',\n",
              " 514: 'Panpour',\n",
              " 515: 'Simipour',\n",
              " 516: 'Munna',\n",
              " 517: 'Musharna',\n",
              " 518: 'Pidove',\n",
              " 519: 'Tranquill',\n",
              " 520: 'Unfezant',\n",
              " 521: 'Blitzle',\n",
              " 522: 'Zebstrika',\n",
              " 523: 'Roggenrola',\n",
              " 524: 'Boldore',\n",
              " 525: 'Gigalith',\n",
              " 526: 'Woobat',\n",
              " 527: 'Swoobat',\n",
              " 528: 'Drilbur',\n",
              " 529: 'Excadrill',\n",
              " 530: 'Audino',\n",
              " 531: 'Timburr',\n",
              " 532: 'Gurdurr',\n",
              " 533: 'Conkeldurr',\n",
              " 534: 'Tympole',\n",
              " 535: 'Palpitoad',\n",
              " 536: 'Seismitoad',\n",
              " 537: 'Throh',\n",
              " 538: 'Sawk',\n",
              " 539: 'Sewaddle',\n",
              " 540: 'Swadloon',\n",
              " 541: 'Leavanny',\n",
              " 542: 'Venipede',\n",
              " 543: 'Whirlipede',\n",
              " 544: 'Scolipede',\n",
              " 545: 'Cottonee',\n",
              " 546: 'Whimsicott',\n",
              " 547: 'Petilil',\n",
              " 548: 'Lilligant',\n",
              " 549: 'Basculin',\n",
              " 550: 'Sandile',\n",
              " 551: 'Krokorok',\n",
              " 552: 'Krookodile',\n",
              " 553: 'Darumaka',\n",
              " 554: 'Darmanitan',\n",
              " 555: 'Maractus',\n",
              " 556: 'Dwebble',\n",
              " 557: 'Crustle',\n",
              " 558: 'Scraggy',\n",
              " 559: 'Scrafty',\n",
              " 560: 'Sigilyph',\n",
              " 561: 'Yamask',\n",
              " 562: 'Cofagrigus',\n",
              " 563: 'Tirtouga',\n",
              " 564: 'Carracosta',\n",
              " 565: 'Archen',\n",
              " 566: 'Archeops',\n",
              " 567: 'Trubbish',\n",
              " 568: 'Garbodor',\n",
              " 569: 'Zorua',\n",
              " 570: 'Zoroark',\n",
              " 571: 'Minccino',\n",
              " 572: 'Cinccino',\n",
              " 573: 'Gothita',\n",
              " 574: 'Gothorita',\n",
              " 575: 'Gothitelle',\n",
              " 576: 'Solosis',\n",
              " 577: 'Duosion',\n",
              " 578: 'Reuniclus',\n",
              " 579: 'Ducklett',\n",
              " 580: 'Swanna',\n",
              " 581: 'Vanillite',\n",
              " 582: 'Vanillish',\n",
              " 583: 'Vanilluxe',\n",
              " 584: 'Deerling',\n",
              " 585: 'Sawsbuck',\n",
              " 586: 'Emolga',\n",
              " 587: 'Karrablast',\n",
              " 588: 'Escavalier',\n",
              " 589: 'Foongus',\n",
              " 590: 'Amoonguss',\n",
              " 591: 'Frillish',\n",
              " 592: 'Jellicent',\n",
              " 593: 'Alomomola',\n",
              " 594: 'Joltik',\n",
              " 595: 'Galvantula',\n",
              " 596: 'Ferroseed',\n",
              " 597: 'Ferrothorn',\n",
              " 598: 'Klink',\n",
              " 599: 'Klang',\n",
              " 600: 'Klinklang',\n",
              " 601: 'Tynamo',\n",
              " 602: 'Eelektrik',\n",
              " 603: 'Eelektross',\n",
              " 604: 'Elgyem',\n",
              " 605: 'Beheeyem',\n",
              " 606: 'Litwick',\n",
              " 607: 'Lampent',\n",
              " 608: 'Chandelure',\n",
              " 609: 'Axew',\n",
              " 610: 'Fraxure',\n",
              " 611: 'Haxorus',\n",
              " 612: 'Cubchoo',\n",
              " 613: 'Beartic',\n",
              " 614: 'Cryogonal',\n",
              " 615: 'Shelmet',\n",
              " 616: 'Accelgor',\n",
              " 617: 'Stunfisk',\n",
              " 618: 'Mienfoo',\n",
              " 619: 'Mienshao',\n",
              " 620: 'Druddigon',\n",
              " 621: 'Golett',\n",
              " 622: 'Golurk',\n",
              " 623: 'Pawniard',\n",
              " 624: 'Bisharp',\n",
              " 625: 'Bouffalant',\n",
              " 626: 'Rufflet',\n",
              " 627: 'Braviary',\n",
              " 628: 'Vullaby',\n",
              " 629: 'Mandibuzz',\n",
              " 630: 'Heatmor',\n",
              " 631: 'Durant',\n",
              " 632: 'Deino',\n",
              " 633: 'Zweilous',\n",
              " 634: 'Hydreigon',\n",
              " 635: 'Larvesta',\n",
              " 636: 'Volcarona',\n",
              " 637: 'Cobalion',\n",
              " 638: 'Terrakion',\n",
              " 639: 'Virizion',\n",
              " 640: 'Tornadus',\n",
              " 641: 'Thundurus',\n",
              " 642: 'Reshiram',\n",
              " 643: 'Zekrom',\n",
              " 644: 'Landorus',\n",
              " 645: 'Kyurem',\n",
              " 646: 'Keldeo',\n",
              " 647: 'Meloetta',\n",
              " 648: 'Genesect',\n",
              " 649: 'Chespin',\n",
              " 650: 'Quilladin',\n",
              " 651: 'Chesnaught',\n",
              " 652: 'Fennekin',\n",
              " 653: 'Braixen',\n",
              " 654: 'Delphox',\n",
              " 655: 'Froakie',\n",
              " 656: 'Frogadier',\n",
              " 657: 'Greninja',\n",
              " 658: 'Bunnelby',\n",
              " 659: 'Diggersby',\n",
              " 660: 'Fletchling',\n",
              " 661: 'Fletchinder',\n",
              " 662: 'Talonflame',\n",
              " 663: 'Scatterbug',\n",
              " 664: 'Spewpa',\n",
              " 665: 'Vivillon',\n",
              " 666: 'Litleo',\n",
              " 667: 'Pyroar',\n",
              " 668: 'Flabébé',\n",
              " 669: 'Floette',\n",
              " 670: 'Florges',\n",
              " 671: 'Skiddo',\n",
              " 672: 'Gogoat',\n",
              " 673: 'Pancham',\n",
              " 674: 'Pangoro',\n",
              " 675: 'Furfrou',\n",
              " 676: 'Espurr',\n",
              " 677: 'Meowstic',\n",
              " 678: 'Honedge',\n",
              " 679: 'Doublade',\n",
              " 680: 'Aegislash',\n",
              " 681: 'Spritzee',\n",
              " 682: 'Aromatisse',\n",
              " 683: 'Swirlix',\n",
              " 684: 'Slurpuff',\n",
              " 685: 'Inkay',\n",
              " 686: 'Malamar',\n",
              " 687: 'Binacle',\n",
              " 688: 'Barbaracle',\n",
              " 689: 'Skrelp',\n",
              " 690: 'Dragalge',\n",
              " 691: 'Clauncher',\n",
              " 692: 'Clawitzer',\n",
              " 693: 'Helioptile',\n",
              " 694: 'Heliolisk',\n",
              " 695: 'Tyrunt',\n",
              " 696: 'Tyrantrum',\n",
              " 697: 'Amaura',\n",
              " 698: 'Aurorus',\n",
              " 699: 'Sylveon',\n",
              " 700: 'Hawlucha',\n",
              " 701: 'Dedenne',\n",
              " 702: 'Carbink',\n",
              " 703: 'Goomy',\n",
              " 704: 'Sliggoo',\n",
              " 705: 'Goodra',\n",
              " 706: 'Klefki',\n",
              " 707: 'Phantump',\n",
              " 708: 'Trevenant',\n",
              " 709: 'Pumpkaboo',\n",
              " 710: 'Gourgeist',\n",
              " 711: 'Bergmite',\n",
              " 712: 'Avalugg',\n",
              " 713: 'Noibat',\n",
              " 714: 'Noivern',\n",
              " 715: 'Xerneas',\n",
              " 716: 'Yveltal',\n",
              " 717: 'Zygarde',\n",
              " 718: 'Diancie',\n",
              " 719: 'Hoopa',\n",
              " 720: 'Volcanion'}"
            ]
          },
          "metadata": {
            "tags": []
          },
          "execution_count": 52
        }
      ]
    },
    {
      "cell_type": "code",
      "metadata": {
        "colab": {
          "base_uri": "https://localhost:8080/",
          "height": 35
        },
        "id": "Vvzhn9ddMm4c",
        "outputId": "5144383f-eca0-4821-af90-1620b3052d58"
      },
      "source": [
        "max(pokemon)"
      ],
      "execution_count": null,
      "outputs": [
        {
          "output_type": "execute_result",
          "data": {
            "application/vnd.google.colaboratory.intrinsic+json": {
              "type": "string"
            },
            "text/plain": [
              "'Zygarde'"
            ]
          },
          "metadata": {
            "tags": []
          },
          "execution_count": 53
        }
      ]
    },
    {
      "cell_type": "code",
      "metadata": {
        "colab": {
          "base_uri": "https://localhost:8080/",
          "height": 35
        },
        "id": "s115Zm1oMvTD",
        "outputId": "b293e674-2547-4262-cad9-68c22680385e"
      },
      "source": [
        "min(pokemon)"
      ],
      "execution_count": null,
      "outputs": [
        {
          "output_type": "execute_result",
          "data": {
            "application/vnd.google.colaboratory.intrinsic+json": {
              "type": "string"
            },
            "text/plain": [
              "'Abomasnow'"
            ]
          },
          "metadata": {
            "tags": []
          },
          "execution_count": 54
        }
      ]
    },
    {
      "cell_type": "code",
      "metadata": {
        "id": "DQjx1jkiMz7r"
      },
      "source": [
        ""
      ],
      "execution_count": null,
      "outputs": []
    },
    {
      "cell_type": "markdown",
      "metadata": {
        "id": "JokOkJPUNKFD"
      },
      "source": [
        "# More Series Attributes"
      ]
    },
    {
      "cell_type": "code",
      "metadata": {
        "colab": {
          "base_uri": "https://localhost:8080/"
        },
        "id": "dt_1nuOqNOKH",
        "outputId": "6eb50f2e-b93c-4d57-c314-d35d536f62e5"
      },
      "source": [
        "pokemon.values"
      ],
      "execution_count": null,
      "outputs": [
        {
          "output_type": "execute_result",
          "data": {
            "text/plain": [
              "array(['Bulbasaur', 'Ivysaur', 'Venusaur', 'Charmander', 'Charmeleon',\n",
              "       'Charizard', 'Squirtle', 'Wartortle', 'Blastoise', 'Caterpie',\n",
              "       'Metapod', 'Butterfree', 'Weedle', 'Kakuna', 'Beedrill', 'Pidgey',\n",
              "       'Pidgeotto', 'Pidgeot', 'Rattata', 'Raticate', 'Spearow', 'Fearow',\n",
              "       'Ekans', 'Arbok', 'Pikachu', 'Raichu', 'Sandshrew', 'Sandslash',\n",
              "       'Nidoran', 'Nidorina', 'Nidoqueen', 'Nidoran♂', 'Nidorino',\n",
              "       'Nidoking', 'Clefairy', 'Clefable', 'Vulpix', 'Ninetales',\n",
              "       'Jigglypuff', 'Wigglytuff', 'Zubat', 'Golbat', 'Oddish', 'Gloom',\n",
              "       'Vileplume', 'Paras', 'Parasect', 'Venonat', 'Venomoth', 'Diglett',\n",
              "       'Dugtrio', 'Meowth', 'Persian', 'Psyduck', 'Golduck', 'Mankey',\n",
              "       'Primeape', 'Growlithe', 'Arcanine', 'Poliwag', 'Poliwhirl',\n",
              "       'Poliwrath', 'Abra', 'Kadabra', 'Alakazam', 'Machop', 'Machoke',\n",
              "       'Machamp', 'Bellsprout', 'Weepinbell', 'Victreebel', 'Tentacool',\n",
              "       'Tentacruel', 'Geodude', 'Graveler', 'Golem', 'Ponyta', 'Rapidash',\n",
              "       'Slowpoke', 'Slowbro', 'Magnemite', 'Magneton', \"Farfetch'd\",\n",
              "       'Doduo', 'Dodrio', 'Seel', 'Dewgong', 'Grimer', 'Muk', 'Shellder',\n",
              "       'Cloyster', 'Gastly', 'Haunter', 'Gengar', 'Onix', 'Drowzee',\n",
              "       'Hypno', 'Krabby', 'Kingler', 'Voltorb', 'Electrode', 'Exeggcute',\n",
              "       'Exeggutor', 'Cubone', 'Marowak', 'Hitmonlee', 'Hitmonchan',\n",
              "       'Lickitung', 'Koffing', 'Weezing', 'Rhyhorn', 'Rhydon', 'Chansey',\n",
              "       'Tangela', 'Kangaskhan', 'Horsea', 'Seadra', 'Goldeen', 'Seaking',\n",
              "       'Staryu', 'Starmie', 'Mr. Mime', 'Scyther', 'Jynx', 'Electabuzz',\n",
              "       'Magmar', 'Pinsir', 'Tauros', 'Magikarp', 'Gyarados', 'Lapras',\n",
              "       'Ditto', 'Eevee', 'Vaporeon', 'Jolteon', 'Flareon', 'Porygon',\n",
              "       'Omanyte', 'Omastar', 'Kabuto', 'Kabutops', 'Aerodactyl',\n",
              "       'Snorlax', 'Articuno', 'Zapdos', 'Moltres', 'Dratini', 'Dragonair',\n",
              "       'Dragonite', 'Mewtwo', 'Mew', 'Chikorita', 'Bayleef', 'Meganium',\n",
              "       'Cyndaquil', 'Quilava', 'Typhlosion', 'Totodile', 'Croconaw',\n",
              "       'Feraligatr', 'Sentret', 'Furret', 'Hoothoot', 'Noctowl', 'Ledyba',\n",
              "       'Ledian', 'Spinarak', 'Ariados', 'Crobat', 'Chinchou', 'Lanturn',\n",
              "       'Pichu', 'Cleffa', 'Igglybuff', 'Togepi', 'Togetic', 'Natu',\n",
              "       'Xatu', 'Mareep', 'Flaaffy', 'Ampharos', 'Bellossom', 'Marill',\n",
              "       'Azumarill', 'Sudowoodo', 'Politoed', 'Hoppip', 'Skiploom',\n",
              "       'Jumpluff', 'Aipom', 'Sunkern', 'Sunflora', 'Yanma', 'Wooper',\n",
              "       'Quagsire', 'Espeon', 'Umbreon', 'Murkrow', 'Slowking',\n",
              "       'Misdreavus', 'Unown', 'Wobbuffet', 'Girafarig', 'Pineco',\n",
              "       'Forretress', 'Dunsparce', 'Gligar', 'Steelix', 'Snubbull',\n",
              "       'Granbull', 'Qwilfish', 'Scizor', 'Shuckle', 'Heracross',\n",
              "       'Sneasel', 'Teddiursa', 'Ursaring', 'Slugma', 'Magcargo', 'Swinub',\n",
              "       'Piloswine', 'Corsola', 'Remoraid', 'Octillery', 'Delibird',\n",
              "       'Mantine', 'Skarmory', 'Houndour', 'Houndoom', 'Kingdra', 'Phanpy',\n",
              "       'Donphan', 'Porygon2', 'Stantler', 'Smeargle', 'Tyrogue',\n",
              "       'Hitmontop', 'Smoochum', 'Elekid', 'Magby', 'Miltank', 'Blissey',\n",
              "       'Raikou', 'Entei', 'Suicune', 'Larvitar', 'Pupitar', 'Tyranitar',\n",
              "       'Lugia', 'Ho-oh', 'Celebi', 'Treecko', 'Grovyle', 'Sceptile',\n",
              "       'Torchic', 'Combusken', 'Blaziken', 'Mudkip', 'Marshtomp',\n",
              "       'Swampert', 'Poochyena', 'Mightyena', 'Zigzagoon', 'Linoone',\n",
              "       'Wurmple', 'Silcoon', 'Beautifly', 'Cascoon', 'Dustox', 'Lotad',\n",
              "       'Lombre', 'Ludicolo', 'Seedot', 'Nuzleaf', 'Shiftry', 'Taillow',\n",
              "       'Swellow', 'Wingull', 'Pelipper', 'Ralts', 'Kirlia', 'Gardevoir',\n",
              "       'Surskit', 'Masquerain', 'Shroomish', 'Breloom', 'Slakoth',\n",
              "       'Vigoroth', 'Slaking', 'Nincada', 'Ninjask', 'Shedinja', 'Whismur',\n",
              "       'Loudred', 'Exploud', 'Makuhita', 'Hariyama', 'Azurill',\n",
              "       'Nosepass', 'Skitty', 'Delcatty', 'Sableye', 'Mawile', 'Aron',\n",
              "       'Lairon', 'Aggron', 'Meditite', 'Medicham', 'Electrike',\n",
              "       'Manectric', 'Plusle', 'Minun', 'Volbeat', 'Illumise', 'Roselia',\n",
              "       'Gulpin', 'Swalot', 'Carvanha', 'Sharpedo', 'Wailmer', 'Wailord',\n",
              "       'Numel', 'Camerupt', 'Torkoal', 'Spoink', 'Grumpig', 'Spinda',\n",
              "       'Trapinch', 'Vibrava', 'Flygon', 'Cacnea', 'Cacturne', 'Swablu',\n",
              "       'Altaria', 'Zangoose', 'Seviper', 'Lunatone', 'Solrock',\n",
              "       'Barboach', 'Whiscash', 'Corphish', 'Crawdaunt', 'Baltoy',\n",
              "       'Claydol', 'Lileep', 'Cradily', 'Anorith', 'Armaldo', 'Feebas',\n",
              "       'Milotic', 'Castform', 'Kecleon', 'Shuppet', 'Banette', 'Duskull',\n",
              "       'Dusclops', 'Tropius', 'Chimecho', 'Absol', 'Wynaut', 'Snorunt',\n",
              "       'Glalie', 'Spheal', 'Sealeo', 'Walrein', 'Clamperl', 'Huntail',\n",
              "       'Gorebyss', 'Relicanth', 'Luvdisc', 'Bagon', 'Shelgon',\n",
              "       'Salamence', 'Beldum', 'Metang', 'Metagross', 'Regirock', 'Regice',\n",
              "       'Registeel', 'Latias', 'Latios', 'Kyogre', 'Groudon', 'Rayquaza',\n",
              "       'Jirachi', 'Deoxys', 'Turtwig', 'Grotle', 'Torterra', 'Chimchar',\n",
              "       'Monferno', 'Infernape', 'Piplup', 'Prinplup', 'Empoleon',\n",
              "       'Starly', 'Staravia', 'Staraptor', 'Bidoof', 'Bibarel',\n",
              "       'Kricketot', 'Kricketune', 'Shinx', 'Luxio', 'Luxray', 'Budew',\n",
              "       'Roserade', 'Cranidos', 'Rampardos', 'Shieldon', 'Bastiodon',\n",
              "       'Burmy', 'Wormadam', 'Mothim', 'Combee', 'Vespiquen', 'Pachirisu',\n",
              "       'Buizel', 'Floatzel', 'Cherubi', 'Cherrim', 'Shellos', 'Gastrodon',\n",
              "       'Ambipom', 'Drifloon', 'Drifblim', 'Buneary', 'Lopunny',\n",
              "       'Mismagius', 'Honchkrow', 'Glameow', 'Purugly', 'Chingling',\n",
              "       'Stunky', 'Skuntank', 'Bronzor', 'Bronzong', 'Bonsly', 'Mime Jr.',\n",
              "       'Happiny', 'Chatot', 'Spiritomb', 'Gible', 'Gabite', 'Garchomp',\n",
              "       'Munchlax', 'Riolu', 'Lucario', 'Hippopotas', 'Hippowdon',\n",
              "       'Skorupi', 'Drapion', 'Croagunk', 'Toxicroak', 'Carnivine',\n",
              "       'Finneon', 'Lumineon', 'Mantyke', 'Snover', 'Abomasnow', 'Weavile',\n",
              "       'Magnezone', 'Lickilicky', 'Rhyperior', 'Tangrowth', 'Electivire',\n",
              "       'Magmortar', 'Togekiss', 'Yanmega', 'Leafeon', 'Glaceon',\n",
              "       'Gliscor', 'Mamoswine', 'Porygon-Z', 'Gallade', 'Probopass',\n",
              "       'Dusknoir', 'Froslass', 'Rotom', 'Uxie', 'Mesprit', 'Azelf',\n",
              "       'Dialga', 'Palkia', 'Heatran', 'Regigigas', 'Giratina',\n",
              "       'Cresselia', 'Phione', 'Manaphy', 'Darkrai', 'Shaymin', 'Arceus',\n",
              "       'Victini', 'Snivy', 'Servine', 'Serperior', 'Tepig', 'Pignite',\n",
              "       'Emboar', 'Oshawott', 'Dewott', 'Samurott', 'Patrat', 'Watchog',\n",
              "       'Lillipup', 'Herdier', 'Stoutland', 'Purrloin', 'Liepard',\n",
              "       'Pansage', 'Simisage', 'Pansear', 'Simisear', 'Panpour',\n",
              "       'Simipour', 'Munna', 'Musharna', 'Pidove', 'Tranquill', 'Unfezant',\n",
              "       'Blitzle', 'Zebstrika', 'Roggenrola', 'Boldore', 'Gigalith',\n",
              "       'Woobat', 'Swoobat', 'Drilbur', 'Excadrill', 'Audino', 'Timburr',\n",
              "       'Gurdurr', 'Conkeldurr', 'Tympole', 'Palpitoad', 'Seismitoad',\n",
              "       'Throh', 'Sawk', 'Sewaddle', 'Swadloon', 'Leavanny', 'Venipede',\n",
              "       'Whirlipede', 'Scolipede', 'Cottonee', 'Whimsicott', 'Petilil',\n",
              "       'Lilligant', 'Basculin', 'Sandile', 'Krokorok', 'Krookodile',\n",
              "       'Darumaka', 'Darmanitan', 'Maractus', 'Dwebble', 'Crustle',\n",
              "       'Scraggy', 'Scrafty', 'Sigilyph', 'Yamask', 'Cofagrigus',\n",
              "       'Tirtouga', 'Carracosta', 'Archen', 'Archeops', 'Trubbish',\n",
              "       'Garbodor', 'Zorua', 'Zoroark', 'Minccino', 'Cinccino', 'Gothita',\n",
              "       'Gothorita', 'Gothitelle', 'Solosis', 'Duosion', 'Reuniclus',\n",
              "       'Ducklett', 'Swanna', 'Vanillite', 'Vanillish', 'Vanilluxe',\n",
              "       'Deerling', 'Sawsbuck', 'Emolga', 'Karrablast', 'Escavalier',\n",
              "       'Foongus', 'Amoonguss', 'Frillish', 'Jellicent', 'Alomomola',\n",
              "       'Joltik', 'Galvantula', 'Ferroseed', 'Ferrothorn', 'Klink',\n",
              "       'Klang', 'Klinklang', 'Tynamo', 'Eelektrik', 'Eelektross',\n",
              "       'Elgyem', 'Beheeyem', 'Litwick', 'Lampent', 'Chandelure', 'Axew',\n",
              "       'Fraxure', 'Haxorus', 'Cubchoo', 'Beartic', 'Cryogonal', 'Shelmet',\n",
              "       'Accelgor', 'Stunfisk', 'Mienfoo', 'Mienshao', 'Druddigon',\n",
              "       'Golett', 'Golurk', 'Pawniard', 'Bisharp', 'Bouffalant', 'Rufflet',\n",
              "       'Braviary', 'Vullaby', 'Mandibuzz', 'Heatmor', 'Durant', 'Deino',\n",
              "       'Zweilous', 'Hydreigon', 'Larvesta', 'Volcarona', 'Cobalion',\n",
              "       'Terrakion', 'Virizion', 'Tornadus', 'Thundurus', 'Reshiram',\n",
              "       'Zekrom', 'Landorus', 'Kyurem', 'Keldeo', 'Meloetta', 'Genesect',\n",
              "       'Chespin', 'Quilladin', 'Chesnaught', 'Fennekin', 'Braixen',\n",
              "       'Delphox', 'Froakie', 'Frogadier', 'Greninja', 'Bunnelby',\n",
              "       'Diggersby', 'Fletchling', 'Fletchinder', 'Talonflame',\n",
              "       'Scatterbug', 'Spewpa', 'Vivillon', 'Litleo', 'Pyroar', 'Flabébé',\n",
              "       'Floette', 'Florges', 'Skiddo', 'Gogoat', 'Pancham', 'Pangoro',\n",
              "       'Furfrou', 'Espurr', 'Meowstic', 'Honedge', 'Doublade',\n",
              "       'Aegislash', 'Spritzee', 'Aromatisse', 'Swirlix', 'Slurpuff',\n",
              "       'Inkay', 'Malamar', 'Binacle', 'Barbaracle', 'Skrelp', 'Dragalge',\n",
              "       'Clauncher', 'Clawitzer', 'Helioptile', 'Heliolisk', 'Tyrunt',\n",
              "       'Tyrantrum', 'Amaura', 'Aurorus', 'Sylveon', 'Hawlucha', 'Dedenne',\n",
              "       'Carbink', 'Goomy', 'Sliggoo', 'Goodra', 'Klefki', 'Phantump',\n",
              "       'Trevenant', 'Pumpkaboo', 'Gourgeist', 'Bergmite', 'Avalugg',\n",
              "       'Noibat', 'Noivern', 'Xerneas', 'Yveltal', 'Zygarde', 'Diancie',\n",
              "       'Hoopa', 'Volcanion'], dtype=object)"
            ]
          },
          "metadata": {
            "tags": []
          },
          "execution_count": 55
        }
      ]
    },
    {
      "cell_type": "code",
      "metadata": {
        "colab": {
          "base_uri": "https://localhost:8080/"
        },
        "id": "W-3moyR7NYC7",
        "outputId": "fab85c52-4def-432d-babf-87b9a8b052d7"
      },
      "source": [
        "pokemon.is_unique"
      ],
      "execution_count": null,
      "outputs": [
        {
          "output_type": "execute_result",
          "data": {
            "text/plain": [
              "True"
            ]
          },
          "metadata": {
            "tags": []
          },
          "execution_count": 56
        }
      ]
    },
    {
      "cell_type": "code",
      "metadata": {
        "colab": {
          "base_uri": "https://localhost:8080/"
        },
        "id": "CURsvJD4OMUK",
        "outputId": "262e5338-f30f-46e5-bcd5-1be8918c088a"
      },
      "source": [
        "pokemon.ndim"
      ],
      "execution_count": null,
      "outputs": [
        {
          "output_type": "execute_result",
          "data": {
            "text/plain": [
              "1"
            ]
          },
          "metadata": {
            "tags": []
          },
          "execution_count": 57
        }
      ]
    },
    {
      "cell_type": "code",
      "metadata": {
        "colab": {
          "base_uri": "https://localhost:8080/"
        },
        "id": "WcXJ7V69OPIw",
        "outputId": "eda9397d-152f-4ca5-a2a0-9fa5c4337461"
      },
      "source": [
        "pokemon.shape"
      ],
      "execution_count": null,
      "outputs": [
        {
          "output_type": "execute_result",
          "data": {
            "text/plain": [
              "(721,)"
            ]
          },
          "metadata": {
            "tags": []
          },
          "execution_count": 58
        }
      ]
    },
    {
      "cell_type": "code",
      "metadata": {
        "colab": {
          "base_uri": "https://localhost:8080/"
        },
        "id": "VRNiV2c4OSl7",
        "outputId": "4af8340b-bc85-4218-a0a3-5de97007a526"
      },
      "source": [
        "pokemon.size"
      ],
      "execution_count": null,
      "outputs": [
        {
          "output_type": "execute_result",
          "data": {
            "text/plain": [
              "721"
            ]
          },
          "metadata": {
            "tags": []
          },
          "execution_count": 59
        }
      ]
    },
    {
      "cell_type": "code",
      "metadata": {
        "id": "URD9aNzZOenH"
      },
      "source": [
        ""
      ],
      "execution_count": null,
      "outputs": []
    },
    {
      "cell_type": "markdown",
      "metadata": {
        "id": "fxAxN1wcRfHx"
      },
      "source": [
        "# The .sort_values() Method"
      ]
    },
    {
      "cell_type": "code",
      "metadata": {
        "colab": {
          "base_uri": "https://localhost:8080/"
        },
        "id": "hnTpwnl8Rkec",
        "outputId": "ebab862b-8ec3-4d65-b98b-94f57f1b1efc"
      },
      "source": [
        "pokemon.sort_values().head(5)"
      ],
      "execution_count": null,
      "outputs": [
        {
          "output_type": "execute_result",
          "data": {
            "text/plain": [
              "459    Abomasnow\n",
              "62          Abra\n",
              "358        Absol\n",
              "616     Accelgor\n",
              "680    Aegislash\n",
              "Name: Pokemon, dtype: object"
            ]
          },
          "metadata": {
            "tags": []
          },
          "execution_count": 60
        }
      ]
    },
    {
      "cell_type": "code",
      "metadata": {
        "colab": {
          "base_uri": "https://localhost:8080/"
        },
        "id": "QRf6muu9TKes",
        "outputId": "915f68c7-8472-405b-90f5-5ad34307b67a"
      },
      "source": [
        "pokemon.sort_values(ascending=False).tail(5)"
      ],
      "execution_count": null,
      "outputs": [
        {
          "output_type": "execute_result",
          "data": {
            "text/plain": [
              "680    Aegislash\n",
              "616     Accelgor\n",
              "358        Absol\n",
              "62          Abra\n",
              "459    Abomasnow\n",
              "Name: Pokemon, dtype: object"
            ]
          },
          "metadata": {
            "tags": []
          },
          "execution_count": 61
        }
      ]
    },
    {
      "cell_type": "markdown",
      "metadata": {
        "id": "FtlXsMsDZfLH"
      },
      "source": [
        "# The Inplace Parameter"
      ]
    },
    {
      "cell_type": "code",
      "metadata": {
        "id": "pduWWfqTTvgt"
      },
      "source": [
        "google = google.sort_values()"
      ],
      "execution_count": null,
      "outputs": []
    },
    {
      "cell_type": "code",
      "metadata": {
        "colab": {
          "base_uri": "https://localhost:8080/"
        },
        "id": "gDCqsBXFZ-Op",
        "outputId": "41cb0a40-43cb-4243-def2-0e247a40f22d"
      },
      "source": [
        "google.head(3)"
      ],
      "execution_count": null,
      "outputs": [
        {
          "output_type": "execute_result",
          "data": {
            "text/plain": [
              "11    49.95\n",
              "9     50.07\n",
              "0     50.12\n",
              "Name: Stock Price, dtype: float64"
            ]
          },
          "metadata": {
            "tags": []
          },
          "execution_count": 63
        }
      ]
    },
    {
      "cell_type": "code",
      "metadata": {
        "id": "is4IFjm_aHuX"
      },
      "source": [
        "google.sort_values(ascending=False,inplace=True)"
      ],
      "execution_count": null,
      "outputs": []
    },
    {
      "cell_type": "code",
      "metadata": {
        "colab": {
          "base_uri": "https://localhost:8080/"
        },
        "id": "XtDfPcfAaN8M",
        "outputId": "53cb8757-a502-4f2f-a32a-1d7346df790a"
      },
      "source": [
        "google.head()"
      ],
      "execution_count": null,
      "outputs": [
        {
          "output_type": "execute_result",
          "data": {
            "text/plain": [
              "3011    782.22\n",
              "2859    776.60\n",
              "3009    773.18\n",
              "3007    772.88\n",
              "3010    771.61\n",
              "Name: Stock Price, dtype: float64"
            ]
          },
          "metadata": {
            "tags": []
          },
          "execution_count": 65
        }
      ]
    },
    {
      "cell_type": "code",
      "metadata": {
        "id": "Fn7G4Zn7as-6"
      },
      "source": [
        ""
      ],
      "execution_count": null,
      "outputs": []
    },
    {
      "cell_type": "markdown",
      "metadata": {
        "id": "3fHMXR18sb3D"
      },
      "source": [
        "# .sort_index() Method\n",
        "## sorting columns through their index value"
      ]
    },
    {
      "cell_type": "code",
      "metadata": {
        "id": "zfvTkcTHu6Hs"
      },
      "source": [
        "pokemon = pd.read_csv('pokemon.csv',usecols=['Pokemon'],squeeze=True)\n",
        "google = pd.read_csv('google_stock_price.csv',squeeze=True)"
      ],
      "execution_count": null,
      "outputs": []
    },
    {
      "cell_type": "code",
      "metadata": {
        "id": "uTjrMwvJwRWa"
      },
      "source": [
        "pokemon.sort_values(inplace=True)"
      ],
      "execution_count": null,
      "outputs": []
    },
    {
      "cell_type": "code",
      "metadata": {
        "colab": {
          "base_uri": "https://localhost:8080/"
        },
        "id": "aYSUbezfwWQ-",
        "outputId": "90c14df8-07ba-4d61-a617-16f0928d76de"
      },
      "source": [
        "pokemon.head()"
      ],
      "execution_count": null,
      "outputs": [
        {
          "output_type": "execute_result",
          "data": {
            "text/plain": [
              "459    Abomasnow\n",
              "62          Abra\n",
              "358        Absol\n",
              "616     Accelgor\n",
              "680    Aegislash\n",
              "Name: Pokemon, dtype: object"
            ]
          },
          "metadata": {
            "tags": []
          },
          "execution_count": 68
        }
      ]
    },
    {
      "cell_type": "code",
      "metadata": {
        "id": "DOPKvJcfwdyN"
      },
      "source": [
        "pokemon.sort_index(inplace=True)"
      ],
      "execution_count": null,
      "outputs": []
    },
    {
      "cell_type": "markdown",
      "metadata": {
        "id": "hE4QEhIBxRf5"
      },
      "source": [
        "# Python's in keyword\n",
        "## To check the value is present or not"
      ]
    },
    {
      "cell_type": "code",
      "metadata": {
        "id": "Y8AzyjRYwjS1"
      },
      "source": [
        "pokemon = pd.read_csv('pokemon.csv',usecols=['Pokemon'],squeeze=True)\n",
        "google = pd.read_csv('google_stock_price.csv',squeeze=True)"
      ],
      "execution_count": null,
      "outputs": []
    },
    {
      "cell_type": "code",
      "metadata": {
        "colab": {
          "base_uri": "https://localhost:8080/"
        },
        "id": "aATAF9_vxic5",
        "outputId": "1c0d3478-9bf8-4e3c-c190-890e0fd7a9a9"
      },
      "source": [
        "pokemon.head()"
      ],
      "execution_count": null,
      "outputs": [
        {
          "output_type": "execute_result",
          "data": {
            "text/plain": [
              "0     Bulbasaur\n",
              "1       Ivysaur\n",
              "2      Venusaur\n",
              "3    Charmander\n",
              "4    Charmeleon\n",
              "Name: Pokemon, dtype: object"
            ]
          },
          "metadata": {
            "tags": []
          },
          "execution_count": 71
        }
      ]
    },
    {
      "cell_type": "code",
      "metadata": {
        "colab": {
          "base_uri": "https://localhost:8080/"
        },
        "id": "dOvtl1uUxkhF",
        "outputId": "5ff21481-d48c-4c68-ba04-dfc10e73c4c2"
      },
      "source": [
        "pokemon.head()"
      ],
      "execution_count": null,
      "outputs": [
        {
          "output_type": "execute_result",
          "data": {
            "text/plain": [
              "0     Bulbasaur\n",
              "1       Ivysaur\n",
              "2      Venusaur\n",
              "3    Charmander\n",
              "4    Charmeleon\n",
              "Name: Pokemon, dtype: object"
            ]
          },
          "metadata": {
            "tags": []
          },
          "execution_count": 72
        }
      ]
    },
    {
      "cell_type": "code",
      "metadata": {
        "colab": {
          "base_uri": "https://localhost:8080/"
        },
        "id": "CXqbQ_5Jxn4g",
        "outputId": "55060095-9f5f-44b5-9ea9-dcdaae7f0535"
      },
      "source": [
        "'Bulbasaur' in pokemon"
      ],
      "execution_count": null,
      "outputs": [
        {
          "output_type": "execute_result",
          "data": {
            "text/plain": [
              "False"
            ]
          },
          "metadata": {
            "tags": []
          },
          "execution_count": 73
        }
      ]
    },
    {
      "cell_type": "markdown",
      "metadata": {
        "id": "d4cqcTjcyAAN"
      },
      "source": [
        "The reason it is false because the pandas is looking for its index and not the value."
      ]
    },
    {
      "cell_type": "code",
      "metadata": {
        "colab": {
          "base_uri": "https://localhost:8080/"
        },
        "id": "dtc-NlFFxwQE",
        "outputId": "165e7a74-2d2d-48e5-961a-9c878cc1d6ae"
      },
      "source": [
        "10 in pokemon"
      ],
      "execution_count": null,
      "outputs": [
        {
          "output_type": "execute_result",
          "data": {
            "text/plain": [
              "True"
            ]
          },
          "metadata": {
            "tags": []
          },
          "execution_count": 74
        }
      ]
    },
    {
      "cell_type": "code",
      "metadata": {
        "colab": {
          "base_uri": "https://localhost:8080/"
        },
        "id": "dyNZcrCwy9QK",
        "outputId": "122eac3d-0c14-4a49-9b21-01df4f72d109"
      },
      "source": [
        "10 in pokemon.index"
      ],
      "execution_count": null,
      "outputs": [
        {
          "output_type": "execute_result",
          "data": {
            "text/plain": [
              "True"
            ]
          },
          "metadata": {
            "tags": []
          },
          "execution_count": 75
        }
      ]
    },
    {
      "cell_type": "code",
      "metadata": {
        "colab": {
          "base_uri": "https://localhost:8080/"
        },
        "id": "PL0r1qXqzAT0",
        "outputId": "a88ab760-8984-4a52-faef-f2be12eaccae"
      },
      "source": [
        "'Bulbasaur' in pokemon.values"
      ],
      "execution_count": null,
      "outputs": [
        {
          "output_type": "execute_result",
          "data": {
            "text/plain": [
              "True"
            ]
          },
          "metadata": {
            "tags": []
          },
          "execution_count": 76
        }
      ]
    },
    {
      "cell_type": "code",
      "metadata": {
        "id": "nqs-_WDfzFfy"
      },
      "source": [
        ""
      ],
      "execution_count": null,
      "outputs": []
    },
    {
      "cell_type": "markdown",
      "metadata": {
        "id": "2lEZ7CiF2gj8"
      },
      "source": [
        "# Extract Values by Index Position\n",
        "\n"
      ]
    },
    {
      "cell_type": "code",
      "metadata": {
        "colab": {
          "base_uri": "https://localhost:8080/"
        },
        "id": "7FQOYBaz2pG0",
        "outputId": "7a1ace29-e86c-4c01-e8e8-6b4d1e54c78e"
      },
      "source": [
        "pokemon[[1,100,200]]"
      ],
      "execution_count": null,
      "outputs": [
        {
          "output_type": "execute_result",
          "data": {
            "text/plain": [
              "1        Ivysaur\n",
              "100    Electrode\n",
              "200        Unown\n",
              "Name: Pokemon, dtype: object"
            ]
          },
          "metadata": {
            "tags": []
          },
          "execution_count": 77
        }
      ]
    },
    {
      "cell_type": "code",
      "metadata": {
        "colab": {
          "base_uri": "https://localhost:8080/"
        },
        "id": "g1dwzIZuMkUb",
        "outputId": "950b0204-22b7-4266-b12f-2ffab3199769"
      },
      "source": [
        "pokemon[:]"
      ],
      "execution_count": null,
      "outputs": [
        {
          "output_type": "execute_result",
          "data": {
            "text/plain": [
              "0       Bulbasaur\n",
              "1         Ivysaur\n",
              "2        Venusaur\n",
              "3      Charmander\n",
              "4      Charmeleon\n",
              "          ...    \n",
              "716       Yveltal\n",
              "717       Zygarde\n",
              "718       Diancie\n",
              "719         Hoopa\n",
              "720     Volcanion\n",
              "Name: Pokemon, Length: 721, dtype: object"
            ]
          },
          "metadata": {
            "tags": []
          },
          "execution_count": 78
        }
      ]
    },
    {
      "cell_type": "code",
      "metadata": {
        "colab": {
          "base_uri": "https://localhost:8080/"
        },
        "id": "2W7eSV-CQiN_",
        "outputId": "4e7035a3-0bfb-45ff-84ce-6a05249bf39f"
      },
      "source": [
        "pokemon[50:100]"
      ],
      "execution_count": null,
      "outputs": [
        {
          "output_type": "execute_result",
          "data": {
            "text/plain": [
              "50       Dugtrio\n",
              "51        Meowth\n",
              "52       Persian\n",
              "53       Psyduck\n",
              "54       Golduck\n",
              "55        Mankey\n",
              "56      Primeape\n",
              "57     Growlithe\n",
              "58      Arcanine\n",
              "59       Poliwag\n",
              "60     Poliwhirl\n",
              "61     Poliwrath\n",
              "62          Abra\n",
              "63       Kadabra\n",
              "64      Alakazam\n",
              "65        Machop\n",
              "66       Machoke\n",
              "67       Machamp\n",
              "68    Bellsprout\n",
              "69    Weepinbell\n",
              "70    Victreebel\n",
              "71     Tentacool\n",
              "72    Tentacruel\n",
              "73       Geodude\n",
              "74      Graveler\n",
              "75         Golem\n",
              "76        Ponyta\n",
              "77      Rapidash\n",
              "78      Slowpoke\n",
              "79       Slowbro\n",
              "80     Magnemite\n",
              "81      Magneton\n",
              "82    Farfetch'd\n",
              "83         Doduo\n",
              "84        Dodrio\n",
              "85          Seel\n",
              "86       Dewgong\n",
              "87        Grimer\n",
              "88           Muk\n",
              "89      Shellder\n",
              "90      Cloyster\n",
              "91        Gastly\n",
              "92       Haunter\n",
              "93        Gengar\n",
              "94          Onix\n",
              "95       Drowzee\n",
              "96         Hypno\n",
              "97        Krabby\n",
              "98       Kingler\n",
              "99       Voltorb\n",
              "Name: Pokemon, dtype: object"
            ]
          },
          "metadata": {
            "tags": []
          },
          "execution_count": 79
        }
      ]
    },
    {
      "cell_type": "code",
      "metadata": {
        "id": "fBIKIoiUQmuY"
      },
      "source": [
        "#using list functionalities in this section"
      ],
      "execution_count": null,
      "outputs": []
    },
    {
      "cell_type": "code",
      "metadata": {
        "id": "611jiAy5SkH5"
      },
      "source": [
        ""
      ],
      "execution_count": null,
      "outputs": []
    },
    {
      "cell_type": "markdown",
      "metadata": {
        "id": "dZzmLA3PTVPJ"
      },
      "source": [
        "# Extract Values by Index Label\n",
        "## make any col into index col by doing this \n"
      ]
    },
    {
      "cell_type": "code",
      "metadata": {
        "colab": {
          "base_uri": "https://localhost:8080/"
        },
        "id": "u0Y_5ONKTgPn",
        "outputId": "f973c7e0-96ff-4054-e73d-e42d37d5fa03"
      },
      "source": [
        "pokemon = pd.read_csv('pokemon.csv',index_col= 'Pokemon',squeeze=True)\n",
        "pokemon.head(3)"
      ],
      "execution_count": null,
      "outputs": [
        {
          "output_type": "execute_result",
          "data": {
            "text/plain": [
              "Pokemon\n",
              "Bulbasaur    Grass\n",
              "Ivysaur      Grass\n",
              "Venusaur     Grass\n",
              "Name: Type, dtype: object"
            ]
          },
          "metadata": {
            "tags": []
          },
          "execution_count": 81
        }
      ]
    },
    {
      "cell_type": "code",
      "metadata": {
        "colab": {
          "base_uri": "https://localhost:8080/",
          "height": 35
        },
        "id": "upZHPCW2T6Qf",
        "outputId": "2c1c5765-7de2-46a2-fc2e-bca7e8026ad7"
      },
      "source": [
        "pokemon['Bulbasaur']"
      ],
      "execution_count": null,
      "outputs": [
        {
          "output_type": "execute_result",
          "data": {
            "application/vnd.google.colaboratory.intrinsic+json": {
              "type": "string"
            },
            "text/plain": [
              "'Grass'"
            ]
          },
          "metadata": {
            "tags": []
          },
          "execution_count": 82
        }
      ]
    },
    {
      "cell_type": "code",
      "metadata": {
        "colab": {
          "base_uri": "https://localhost:8080/",
          "height": 35
        },
        "id": "UfRingCgVntV",
        "outputId": "1083ae77-458b-49c3-f75c-1f00ef6c0070"
      },
      "source": [
        "pokemon['Pikachu']"
      ],
      "execution_count": null,
      "outputs": [
        {
          "output_type": "execute_result",
          "data": {
            "application/vnd.google.colaboratory.intrinsic+json": {
              "type": "string"
            },
            "text/plain": [
              "'Electric'"
            ]
          },
          "metadata": {
            "tags": []
          },
          "execution_count": 83
        }
      ]
    },
    {
      "cell_type": "code",
      "metadata": {
        "colab": {
          "base_uri": "https://localhost:8080/"
        },
        "id": "7ebnxfobWOMa",
        "outputId": "55d44e2c-2ca4-41f3-f1a9-ffedaf8c9ab6"
      },
      "source": [
        "pokemon[1:20]"
      ],
      "execution_count": null,
      "outputs": [
        {
          "output_type": "execute_result",
          "data": {
            "text/plain": [
              "Pokemon\n",
              "Ivysaur        Grass\n",
              "Venusaur       Grass\n",
              "Charmander      Fire\n",
              "Charmeleon      Fire\n",
              "Charizard       Fire\n",
              "Squirtle       Water\n",
              "Wartortle      Water\n",
              "Blastoise      Water\n",
              "Caterpie         Bug\n",
              "Metapod          Bug\n",
              "Butterfree       Bug\n",
              "Weedle           Bug\n",
              "Kakuna           Bug\n",
              "Beedrill         Bug\n",
              "Pidgey        Normal\n",
              "Pidgeotto     Normal\n",
              "Pidgeot       Normal\n",
              "Rattata       Normal\n",
              "Raticate      Normal\n",
              "Name: Type, dtype: object"
            ]
          },
          "metadata": {
            "tags": []
          },
          "execution_count": 84
        }
      ]
    },
    {
      "cell_type": "code",
      "metadata": {
        "id": "N2nJ3EKBWVoN"
      },
      "source": [
        ""
      ],
      "execution_count": null,
      "outputs": []
    },
    {
      "cell_type": "markdown",
      "metadata": {
        "id": "5RXddEYJYOEA"
      },
      "source": [
        "# The .get() Method on a Series"
      ]
    },
    {
      "cell_type": "code",
      "metadata": {
        "colab": {
          "base_uri": "https://localhost:8080/"
        },
        "id": "DXeFt7_JYVVE",
        "outputId": "3c66454e-d1dd-4fac-84ad-d76b1f729965"
      },
      "source": [
        "pokemon = pd.read_csv(\"pokemon.csv\",index_col= \"Pokemon\", squeeze=True)\n",
        "pokemon.sort_index(inplace=True)\n",
        "pokemon.head()"
      ],
      "execution_count": null,
      "outputs": [
        {
          "output_type": "execute_result",
          "data": {
            "text/plain": [
              "Pokemon\n",
              "Abomasnow      Grass\n",
              "Abra         Psychic\n",
              "Absol           Dark\n",
              "Accelgor         Bug\n",
              "Aegislash      Steel\n",
              "Name: Type, dtype: object"
            ]
          },
          "metadata": {
            "tags": []
          },
          "execution_count": 85
        }
      ]
    },
    {
      "cell_type": "code",
      "metadata": {
        "colab": {
          "base_uri": "https://localhost:8080/",
          "height": 35
        },
        "id": "ufWCKTSEZRLv",
        "outputId": "c3d4c7bc-a974-470a-b858-104b7c08d004"
      },
      "source": [
        "pokemon.get(key = \" \",default = \"Not A POKEMON\") # default does not work with list because it works with one key not many"
      ],
      "execution_count": null,
      "outputs": [
        {
          "output_type": "execute_result",
          "data": {
            "application/vnd.google.colaboratory.intrinsic+json": {
              "type": "string"
            },
            "text/plain": [
              "'Not A POKEMON'"
            ]
          },
          "metadata": {
            "tags": []
          },
          "execution_count": 86
        }
      ]
    },
    {
      "cell_type": "code",
      "metadata": {
        "colab": {
          "base_uri": "https://localhost:8080/",
          "height": 35
        },
        "id": "aj8LFjiMhIvs",
        "outputId": "6ec4433e-2ed0-4488-ed67-bd86eaff9733"
      },
      "source": [
        "pokemon.get(key=\"Wobbuffet\",default=\"NOt A POKEMON\")"
      ],
      "execution_count": null,
      "outputs": [
        {
          "output_type": "execute_result",
          "data": {
            "application/vnd.google.colaboratory.intrinsic+json": {
              "type": "string"
            },
            "text/plain": [
              "'Psychic'"
            ]
          },
          "metadata": {
            "tags": []
          },
          "execution_count": 87
        }
      ]
    },
    {
      "cell_type": "code",
      "metadata": {
        "id": "Q2CAJR-7hrBC"
      },
      "source": [
        ""
      ],
      "execution_count": null,
      "outputs": []
    },
    {
      "cell_type": "code",
      "metadata": {
        "id": "PyHHhj1Ro08O"
      },
      "source": [
        ""
      ],
      "execution_count": null,
      "outputs": []
    },
    {
      "cell_type": "markdown",
      "metadata": {
        "id": "tBQFSiRTo0pP"
      },
      "source": [
        "# Math Methods on Series Objects"
      ]
    },
    {
      "cell_type": "code",
      "metadata": {
        "colab": {
          "base_uri": "https://localhost:8080/"
        },
        "id": "GeeMEwGKo6C3",
        "outputId": "64a11b3b-0dae-4b4f-ac71-640d9ddd42bb"
      },
      "source": [
        "google.describe()"
      ],
      "execution_count": null,
      "outputs": [
        {
          "output_type": "execute_result",
          "data": {
            "text/plain": [
              "count    3012.000000\n",
              "mean      334.310093\n",
              "std       173.187205\n",
              "min        49.950000\n",
              "25%       218.045000\n",
              "50%       283.315000\n",
              "75%       443.000000\n",
              "max       782.220000\n",
              "Name: Stock Price, dtype: float64"
            ]
          },
          "metadata": {
            "tags": []
          },
          "execution_count": 88
        }
      ]
    },
    {
      "cell_type": "code",
      "metadata": {
        "colab": {
          "base_uri": "https://localhost:8080/"
        },
        "id": "pq7huojRo9a5",
        "outputId": "9ffe09b2-4dae-4ae0-e01b-6afdbbd2545f"
      },
      "source": [
        "google.count()"
      ],
      "execution_count": null,
      "outputs": [
        {
          "output_type": "execute_result",
          "data": {
            "text/plain": [
              "3012"
            ]
          },
          "metadata": {
            "tags": []
          },
          "execution_count": 89
        }
      ]
    },
    {
      "cell_type": "markdown",
      "metadata": {
        "id": "JTbJ4tXmrqJO"
      },
      "source": [
        "What count does it returns the count of the number valid series\n",
        "\n",
        "count excludes the null values while len does not"
      ]
    },
    {
      "cell_type": "code",
      "metadata": {
        "colab": {
          "base_uri": "https://localhost:8080/"
        },
        "id": "oTt7SvfdrLbZ",
        "outputId": "3ab17a9a-d7f1-4e5d-c48e-91be748e59e3"
      },
      "source": [
        "len(google)"
      ],
      "execution_count": null,
      "outputs": [
        {
          "output_type": "execute_result",
          "data": {
            "text/plain": [
              "3012"
            ]
          },
          "metadata": {
            "tags": []
          },
          "execution_count": 90
        }
      ]
    },
    {
      "cell_type": "code",
      "metadata": {
        "id": "KlCT9zusrO9s"
      },
      "source": [
        ""
      ],
      "execution_count": null,
      "outputs": []
    },
    {
      "cell_type": "markdown",
      "metadata": {
        "id": "mDtqh18KxeBh"
      },
      "source": [
        "# The idxmax and idxmin Methods"
      ]
    },
    {
      "cell_type": "code",
      "metadata": {
        "colab": {
          "base_uri": "https://localhost:8080/"
        },
        "id": "9dlFtRPK0ocJ",
        "outputId": "1a7c156e-50f9-4cda-b3ef-a2eaff3b1101"
      },
      "source": [
        "google = pd.read_csv('google_stock_price.csv',squeeze=True)\n",
        "google"
      ],
      "execution_count": null,
      "outputs": [
        {
          "output_type": "execute_result",
          "data": {
            "text/plain": [
              "0        50.12\n",
              "1        54.10\n",
              "2        54.65\n",
              "3        52.38\n",
              "4        52.95\n",
              "         ...  \n",
              "3007    772.88\n",
              "3008    771.07\n",
              "3009    773.18\n",
              "3010    771.61\n",
              "3011    782.22\n",
              "Name: Stock Price, Length: 3012, dtype: float64"
            ]
          },
          "metadata": {
            "tags": []
          },
          "execution_count": 91
        }
      ]
    },
    {
      "cell_type": "code",
      "metadata": {
        "colab": {
          "base_uri": "https://localhost:8080/"
        },
        "id": "Z7R4qV3k7fck",
        "outputId": "614d2a85-6d6a-4db3-ed2f-2619560994b2"
      },
      "source": [
        "google.min()"
      ],
      "execution_count": null,
      "outputs": [
        {
          "output_type": "execute_result",
          "data": {
            "text/plain": [
              "49.95"
            ]
          },
          "metadata": {
            "tags": []
          },
          "execution_count": 92
        }
      ]
    },
    {
      "cell_type": "code",
      "metadata": {
        "colab": {
          "base_uri": "https://localhost:8080/"
        },
        "id": "nQsNLuRB7ixt",
        "outputId": "3a683715-b710-40f9-a864-da3e76f07d42"
      },
      "source": [
        "google.max()"
      ],
      "execution_count": null,
      "outputs": [
        {
          "output_type": "execute_result",
          "data": {
            "text/plain": [
              "782.22"
            ]
          },
          "metadata": {
            "tags": []
          },
          "execution_count": 93
        }
      ]
    },
    {
      "cell_type": "code",
      "metadata": {
        "colab": {
          "base_uri": "https://localhost:8080/"
        },
        "id": "AMZJJaXw7oJd",
        "outputId": "7ddeab16-8297-4458-e2a6-22691595365b"
      },
      "source": [
        "google.idxmin()"
      ],
      "execution_count": null,
      "outputs": [
        {
          "output_type": "execute_result",
          "data": {
            "text/plain": [
              "11"
            ]
          },
          "metadata": {
            "tags": []
          },
          "execution_count": 94
        }
      ]
    },
    {
      "cell_type": "code",
      "metadata": {
        "colab": {
          "base_uri": "https://localhost:8080/"
        },
        "id": "QPPKf1hC7smQ",
        "outputId": "e54d2843-6e3c-4eff-a17b-7d47e486b55a"
      },
      "source": [
        "google.idxmax()"
      ],
      "execution_count": null,
      "outputs": [
        {
          "output_type": "execute_result",
          "data": {
            "text/plain": [
              "3011"
            ]
          },
          "metadata": {
            "tags": []
          },
          "execution_count": 95
        }
      ]
    },
    {
      "cell_type": "code",
      "metadata": {
        "colab": {
          "base_uri": "https://localhost:8080/"
        },
        "id": "7zzIVj_n7vnq",
        "outputId": "68985132-1581-49ee-a7f4-c4c8142b5c71"
      },
      "source": [
        "google[[google.idxmin(),google.idxmax()]]"
      ],
      "execution_count": null,
      "outputs": [
        {
          "output_type": "execute_result",
          "data": {
            "text/plain": [
              "11       49.95\n",
              "3011    782.22\n",
              "Name: Stock Price, dtype: float64"
            ]
          },
          "metadata": {
            "tags": []
          },
          "execution_count": 96
        }
      ]
    },
    {
      "cell_type": "code",
      "metadata": {
        "id": "HL-e1kV78g0e"
      },
      "source": [
        ""
      ],
      "execution_count": null,
      "outputs": []
    },
    {
      "cell_type": "markdown",
      "metadata": {
        "id": "M-rcTHWrEEKa"
      },
      "source": [
        "# value_counts()\n",
        "\n",
        "## to check duplicates in data"
      ]
    },
    {
      "cell_type": "code",
      "metadata": {
        "colab": {
          "base_uri": "https://localhost:8080/"
        },
        "id": "R2ynsg8HENw7",
        "outputId": "e9b07c7f-e870-4e36-9de4-58fc2efb4510"
      },
      "source": [
        "pokemon = pd.read_csv('pokemon.csv' ,index_col=\"Pokemon\",squeeze=True)\n",
        "pokemon.is_unique"
      ],
      "execution_count": null,
      "outputs": [
        {
          "output_type": "execute_result",
          "data": {
            "text/plain": [
              "False"
            ]
          },
          "metadata": {
            "tags": []
          },
          "execution_count": 117
        }
      ]
    },
    {
      "cell_type": "code",
      "metadata": {
        "colab": {
          "base_uri": "https://localhost:8080/"
        },
        "id": "uu_2NCV9HdQv",
        "outputId": "aa1b6647-f0b7-43c8-b52f-5cd289d04781"
      },
      "source": [
        "pokemon.value_counts(ascending=True)"
      ],
      "execution_count": null,
      "outputs": [
        {
          "output_type": "execute_result",
          "data": {
            "text/plain": [
              "Flying        3\n",
              "Fairy        17\n",
              "Steel        22\n",
              "Ice          23\n",
              "Ghost        23\n",
              "Dragon       24\n",
              "Fighting     25\n",
              "Dark         28\n",
              "Poison       28\n",
              "Ground       30\n",
              "Electric     36\n",
              "Rock         41\n",
              "Psychic      47\n",
              "Fire         47\n",
              "Bug          63\n",
              "Grass        66\n",
              "Normal       93\n",
              "Water       105\n",
              "Name: Type, dtype: int64"
            ]
          },
          "metadata": {
            "tags": []
          },
          "execution_count": 98
        }
      ]
    },
    {
      "cell_type": "code",
      "metadata": {
        "id": "I6AaIuzCIaU_"
      },
      "source": [
        ""
      ],
      "execution_count": null,
      "outputs": []
    },
    {
      "cell_type": "markdown",
      "metadata": {
        "id": "rPds1uYNNmHG"
      },
      "source": [
        "\n",
        "# The .apply() Method."
      ]
    },
    {
      "cell_type": "code",
      "metadata": {
        "colab": {
          "base_uri": "https://localhost:8080/"
        },
        "id": "PfejMPaPNuXp",
        "outputId": "49e1ff45-ff1a-4b5b-cbf0-693fb1fa6a11"
      },
      "source": [
        "google = pd.read_csv('google_stock_price.csv',squeeze=True)\n",
        "google.head()"
      ],
      "execution_count": null,
      "outputs": [
        {
          "output_type": "execute_result",
          "data": {
            "text/plain": [
              "0    50.12\n",
              "1    54.10\n",
              "2    54.65\n",
              "3    52.38\n",
              "4    52.95\n",
              "Name: Stock Price, dtype: float64"
            ]
          },
          "metadata": {
            "tags": []
          },
          "execution_count": 99
        }
      ]
    },
    {
      "cell_type": "code",
      "metadata": {
        "id": "uRKJa9mUN-KV"
      },
      "source": [
        "def classify_prices(number):\n",
        "    if number < 300:\n",
        "        return \"Okay\"\n",
        "    elif number >= 300 and number <= 650:\n",
        "        return \"Satifactory\"\n",
        "    else:\n",
        "        return \"Incredible\""
      ],
      "execution_count": null,
      "outputs": []
    },
    {
      "cell_type": "code",
      "metadata": {
        "colab": {
          "base_uri": "https://localhost:8080/"
        },
        "id": "iUxv8wghOjaE",
        "outputId": "f8ccdc87-83ac-4d8b-dd3d-725824625c73"
      },
      "source": [
        "google.apply(classify_prices).head(10)"
      ],
      "execution_count": null,
      "outputs": [
        {
          "output_type": "execute_result",
          "data": {
            "text/plain": [
              "0    Okay\n",
              "1    Okay\n",
              "2    Okay\n",
              "3    Okay\n",
              "4    Okay\n",
              "5    Okay\n",
              "6    Okay\n",
              "7    Okay\n",
              "8    Okay\n",
              "9    Okay\n",
              "Name: Stock Price, dtype: object"
            ]
          },
          "metadata": {
            "tags": []
          },
          "execution_count": 101
        }
      ]
    },
    {
      "cell_type": "code",
      "metadata": {
        "colab": {
          "base_uri": "https://localhost:8080/"
        },
        "id": "ALtf_yUzOuMy",
        "outputId": "53bc5296-5426-42e0-b0a7-b986d2877c2c"
      },
      "source": [
        "google.apply(lambda stock_price: stock_price +1)"
      ],
      "execution_count": null,
      "outputs": [
        {
          "output_type": "execute_result",
          "data": {
            "text/plain": [
              "0        51.12\n",
              "1        55.10\n",
              "2        55.65\n",
              "3        53.38\n",
              "4        53.95\n",
              "         ...  \n",
              "3007    773.88\n",
              "3008    772.07\n",
              "3009    774.18\n",
              "3010    772.61\n",
              "3011    783.22\n",
              "Name: Stock Price, Length: 3012, dtype: float64"
            ]
          },
          "metadata": {
            "tags": []
          },
          "execution_count": 102
        }
      ]
    },
    {
      "cell_type": "code",
      "metadata": {
        "id": "8eNjV9IjSt1y"
      },
      "source": [
        ""
      ],
      "execution_count": null,
      "outputs": []
    },
    {
      "cell_type": "markdown",
      "metadata": {
        "id": "v9SigjM8aPhS"
      },
      "source": [
        "# The .map() Method."
      ]
    },
    {
      "cell_type": "code",
      "metadata": {
        "colab": {
          "base_uri": "https://localhost:8080/"
        },
        "id": "RC969NtMaeIQ",
        "outputId": "130bc1f7-4e7f-4a3c-d03c-4121fc5e3b3f"
      },
      "source": [
        "pokemon_names = pd.read_csv('pokemon.csv',usecols=[\"Pokemon\"], squeeze=True)\n",
        "pokemon_names.head(3)"
      ],
      "execution_count": null,
      "outputs": [
        {
          "output_type": "execute_result",
          "data": {
            "text/plain": [
              "0    Bulbasaur\n",
              "1      Ivysaur\n",
              "2     Venusaur\n",
              "Name: Pokemon, dtype: object"
            ]
          },
          "metadata": {
            "tags": []
          },
          "execution_count": 103
        }
      ]
    },
    {
      "cell_type": "code",
      "metadata": {
        "colab": {
          "base_uri": "https://localhost:8080/"
        },
        "id": "-tODxhF-bow_",
        "outputId": "7ec12a06-36db-4e2b-a057-80e71a48dce8"
      },
      "source": [
        "pokemon_types = pd.read_csv('pokemon.csv',index_col='Pokemon',squeeze=True)\n",
        "pokemon_types.head(3)"
      ],
      "execution_count": null,
      "outputs": [
        {
          "output_type": "execute_result",
          "data": {
            "text/plain": [
              "Pokemon\n",
              "Bulbasaur    Grass\n",
              "Ivysaur      Grass\n",
              "Venusaur     Grass\n",
              "Name: Type, dtype: object"
            ]
          },
          "metadata": {
            "tags": []
          },
          "execution_count": 104
        }
      ]
    },
    {
      "cell_type": "code",
      "metadata": {
        "colab": {
          "base_uri": "https://localhost:8080/"
        },
        "id": "TuAfblfyb7z1",
        "outputId": "18ba229e-c4b2-405f-af6b-f511cfea226b"
      },
      "source": [
        "pokemon_names.map(pokemon_types)"
      ],
      "execution_count": null,
      "outputs": [
        {
          "output_type": "execute_result",
          "data": {
            "text/plain": [
              "0        Grass\n",
              "1        Grass\n",
              "2        Grass\n",
              "3         Fire\n",
              "4         Fire\n",
              "        ...   \n",
              "716       Dark\n",
              "717     Dragon\n",
              "718       Rock\n",
              "719    Psychic\n",
              "720       Fire\n",
              "Name: Pokemon, Length: 721, dtype: object"
            ]
          },
          "metadata": {
            "tags": []
          },
          "execution_count": 105
        }
      ]
    },
    {
      "cell_type": "code",
      "metadata": {
        "id": "fKi7SwLqcFnJ"
      },
      "source": [
        "pokemon_names = pd.read_csv('pokemon.csv',usecols=[\"Pokemon\"], squeeze=True)\n",
        "pokemon_types = pd.read_csv('pokemon.csv',index_col='Pokemon',squeeze=True).to_dict()"
      ],
      "execution_count": null,
      "outputs": []
    },
    {
      "cell_type": "code",
      "metadata": {
        "colab": {
          "base_uri": "https://localhost:8080/"
        },
        "id": "1cLC38JZcc7n",
        "outputId": "695abd0e-0152-4472-f06b-7a5d98463136"
      },
      "source": [
        "pokemon_names.head()"
      ],
      "execution_count": null,
      "outputs": [
        {
          "output_type": "execute_result",
          "data": {
            "text/plain": [
              "0     Bulbasaur\n",
              "1       Ivysaur\n",
              "2      Venusaur\n",
              "3    Charmander\n",
              "4    Charmeleon\n",
              "Name: Pokemon, dtype: object"
            ]
          },
          "metadata": {
            "tags": []
          },
          "execution_count": 107
        }
      ]
    },
    {
      "cell_type": "code",
      "metadata": {
        "colab": {
          "base_uri": "https://localhost:8080/"
        },
        "id": "9vTOcqEWcjk_",
        "outputId": "3e562dd5-35d8-4d35-c060-0f63ee3c3ed2"
      },
      "source": [
        "pokemon_types"
      ],
      "execution_count": null,
      "outputs": [
        {
          "output_type": "execute_result",
          "data": {
            "text/plain": [
              "{'Abomasnow': 'Grass',\n",
              " 'Abra': 'Psychic',\n",
              " 'Absol': 'Dark',\n",
              " 'Accelgor': 'Bug',\n",
              " 'Aegislash': 'Steel',\n",
              " 'Aerodactyl': 'Rock',\n",
              " 'Aggron': 'Steel',\n",
              " 'Aipom': 'Normal',\n",
              " 'Alakazam': 'Psychic',\n",
              " 'Alomomola': 'Water',\n",
              " 'Altaria': 'Dragon',\n",
              " 'Amaura': 'Rock',\n",
              " 'Ambipom': 'Normal',\n",
              " 'Amoonguss': 'Grass',\n",
              " 'Ampharos': 'Electric',\n",
              " 'Anorith': 'Rock',\n",
              " 'Arbok': 'Poison',\n",
              " 'Arcanine': 'Fire',\n",
              " 'Arceus': 'Normal',\n",
              " 'Archen': 'Rock',\n",
              " 'Archeops': 'Rock',\n",
              " 'Ariados': 'Bug',\n",
              " 'Armaldo': 'Rock',\n",
              " 'Aromatisse': 'Fairy',\n",
              " 'Aron': 'Steel',\n",
              " 'Articuno': 'Ice',\n",
              " 'Audino': 'Normal',\n",
              " 'Aurorus': 'Rock',\n",
              " 'Avalugg': 'Ice',\n",
              " 'Axew': 'Dragon',\n",
              " 'Azelf': 'Psychic',\n",
              " 'Azumarill': 'Water',\n",
              " 'Azurill': 'Normal',\n",
              " 'Bagon': 'Dragon',\n",
              " 'Baltoy': 'Ground',\n",
              " 'Banette': 'Ghost',\n",
              " 'Barbaracle': 'Rock',\n",
              " 'Barboach': 'Water',\n",
              " 'Basculin': 'Water',\n",
              " 'Bastiodon': 'Rock',\n",
              " 'Bayleef': 'Grass',\n",
              " 'Beartic': 'Ice',\n",
              " 'Beautifly': 'Bug',\n",
              " 'Beedrill': 'Bug',\n",
              " 'Beheeyem': 'Psychic',\n",
              " 'Beldum': 'Steel',\n",
              " 'Bellossom': 'Grass',\n",
              " 'Bellsprout': 'Grass',\n",
              " 'Bergmite': 'Ice',\n",
              " 'Bibarel': 'Normal',\n",
              " 'Bidoof': 'Normal',\n",
              " 'Binacle': 'Rock',\n",
              " 'Bisharp': 'Dark',\n",
              " 'Blastoise': 'Water',\n",
              " 'Blaziken': 'Fire',\n",
              " 'Blissey': 'Normal',\n",
              " 'Blitzle': 'Electric',\n",
              " 'Boldore': 'Rock',\n",
              " 'Bonsly': 'Rock',\n",
              " 'Bouffalant': 'Normal',\n",
              " 'Braixen': 'Fire',\n",
              " 'Braviary': 'Normal',\n",
              " 'Breloom': 'Grass',\n",
              " 'Bronzong': 'Steel',\n",
              " 'Bronzor': 'Steel',\n",
              " 'Budew': 'Grass',\n",
              " 'Buizel': 'Water',\n",
              " 'Bulbasaur': 'Grass',\n",
              " 'Buneary': 'Normal',\n",
              " 'Bunnelby': 'Normal',\n",
              " 'Burmy': 'Bug',\n",
              " 'Butterfree': 'Bug',\n",
              " 'Cacnea': 'Grass',\n",
              " 'Cacturne': 'Grass',\n",
              " 'Camerupt': 'Fire',\n",
              " 'Carbink': 'Rock',\n",
              " 'Carnivine': 'Grass',\n",
              " 'Carracosta': 'Water',\n",
              " 'Carvanha': 'Water',\n",
              " 'Cascoon': 'Bug',\n",
              " 'Castform': 'Normal',\n",
              " 'Caterpie': 'Bug',\n",
              " 'Celebi': 'Psychic',\n",
              " 'Chandelure': 'Ghost',\n",
              " 'Chansey': 'Normal',\n",
              " 'Charizard': 'Fire',\n",
              " 'Charmander': 'Fire',\n",
              " 'Charmeleon': 'Fire',\n",
              " 'Chatot': 'Normal',\n",
              " 'Cherrim': 'Grass',\n",
              " 'Cherubi': 'Grass',\n",
              " 'Chesnaught': 'Grass',\n",
              " 'Chespin': 'Grass',\n",
              " 'Chikorita': 'Grass',\n",
              " 'Chimchar': 'Fire',\n",
              " 'Chimecho': 'Psychic',\n",
              " 'Chinchou': 'Water',\n",
              " 'Chingling': 'Psychic',\n",
              " 'Cinccino': 'Normal',\n",
              " 'Clamperl': 'Water',\n",
              " 'Clauncher': 'Water',\n",
              " 'Clawitzer': 'Water',\n",
              " 'Claydol': 'Ground',\n",
              " 'Clefable': 'Fairy',\n",
              " 'Clefairy': 'Fairy',\n",
              " 'Cleffa': 'Fairy',\n",
              " 'Cloyster': 'Water',\n",
              " 'Cobalion': 'Steel',\n",
              " 'Cofagrigus': 'Ghost',\n",
              " 'Combee': 'Bug',\n",
              " 'Combusken': 'Fire',\n",
              " 'Conkeldurr': 'Fighting',\n",
              " 'Corphish': 'Water',\n",
              " 'Corsola': 'Water',\n",
              " 'Cottonee': 'Grass',\n",
              " 'Cradily': 'Rock',\n",
              " 'Cranidos': 'Rock',\n",
              " 'Crawdaunt': 'Water',\n",
              " 'Cresselia': 'Psychic',\n",
              " 'Croagunk': 'Poison',\n",
              " 'Crobat': 'Poison',\n",
              " 'Croconaw': 'Water',\n",
              " 'Crustle': 'Bug',\n",
              " 'Cryogonal': 'Ice',\n",
              " 'Cubchoo': 'Ice',\n",
              " 'Cubone': 'Ground',\n",
              " 'Cyndaquil': 'Fire',\n",
              " 'Darkrai': 'Dark',\n",
              " 'Darmanitan': 'Fire',\n",
              " 'Darumaka': 'Fire',\n",
              " 'Dedenne': 'Electric',\n",
              " 'Deerling': 'Normal',\n",
              " 'Deino': 'Dark',\n",
              " 'Delcatty': 'Normal',\n",
              " 'Delibird': 'Ice',\n",
              " 'Delphox': 'Fire',\n",
              " 'Deoxys': 'Psychic',\n",
              " 'Dewgong': 'Water',\n",
              " 'Dewott': 'Water',\n",
              " 'Dialga': 'Steel',\n",
              " 'Diancie': 'Rock',\n",
              " 'Diggersby': 'Normal',\n",
              " 'Diglett': 'Ground',\n",
              " 'Ditto': 'Normal',\n",
              " 'Dodrio': 'Normal',\n",
              " 'Doduo': 'Normal',\n",
              " 'Donphan': 'Ground',\n",
              " 'Doublade': 'Steel',\n",
              " 'Dragalge': 'Poison',\n",
              " 'Dragonair': 'Dragon',\n",
              " 'Dragonite': 'Dragon',\n",
              " 'Drapion': 'Poison',\n",
              " 'Dratini': 'Dragon',\n",
              " 'Drifblim': 'Ghost',\n",
              " 'Drifloon': 'Ghost',\n",
              " 'Drilbur': 'Ground',\n",
              " 'Drowzee': 'Psychic',\n",
              " 'Druddigon': 'Dragon',\n",
              " 'Ducklett': 'Water',\n",
              " 'Dugtrio': 'Ground',\n",
              " 'Dunsparce': 'Normal',\n",
              " 'Duosion': 'Psychic',\n",
              " 'Durant': 'Bug',\n",
              " 'Dusclops': 'Ghost',\n",
              " 'Dusknoir': 'Ghost',\n",
              " 'Duskull': 'Ghost',\n",
              " 'Dustox': 'Bug',\n",
              " 'Dwebble': 'Bug',\n",
              " 'Eelektrik': 'Electric',\n",
              " 'Eelektross': 'Electric',\n",
              " 'Eevee': 'Normal',\n",
              " 'Ekans': 'Poison',\n",
              " 'Electabuzz': 'Electric',\n",
              " 'Electivire': 'Electric',\n",
              " 'Electrike': 'Electric',\n",
              " 'Electrode': 'Electric',\n",
              " 'Elekid': 'Electric',\n",
              " 'Elgyem': 'Psychic',\n",
              " 'Emboar': 'Fire',\n",
              " 'Emolga': 'Electric',\n",
              " 'Empoleon': 'Water',\n",
              " 'Entei': 'Fire',\n",
              " 'Escavalier': 'Bug',\n",
              " 'Espeon': 'Psychic',\n",
              " 'Espurr': 'Psychic',\n",
              " 'Excadrill': 'Ground',\n",
              " 'Exeggcute': 'Grass',\n",
              " 'Exeggutor': 'Grass',\n",
              " 'Exploud': 'Normal',\n",
              " \"Farfetch'd\": 'Normal',\n",
              " 'Fearow': 'Normal',\n",
              " 'Feebas': 'Water',\n",
              " 'Fennekin': 'Fire',\n",
              " 'Feraligatr': 'Water',\n",
              " 'Ferroseed': 'Grass',\n",
              " 'Ferrothorn': 'Grass',\n",
              " 'Finneon': 'Water',\n",
              " 'Flaaffy': 'Electric',\n",
              " 'Flabébé': 'Fairy',\n",
              " 'Flareon': 'Fire',\n",
              " 'Fletchinder': 'Fire',\n",
              " 'Fletchling': 'Normal',\n",
              " 'Floatzel': 'Water',\n",
              " 'Floette': 'Fairy',\n",
              " 'Florges': 'Fairy',\n",
              " 'Flygon': 'Ground',\n",
              " 'Foongus': 'Grass',\n",
              " 'Forretress': 'Bug',\n",
              " 'Fraxure': 'Dragon',\n",
              " 'Frillish': 'Water',\n",
              " 'Froakie': 'Water',\n",
              " 'Frogadier': 'Water',\n",
              " 'Froslass': 'Ice',\n",
              " 'Furfrou': 'Normal',\n",
              " 'Furret': 'Normal',\n",
              " 'Gabite': 'Dragon',\n",
              " 'Gallade': 'Psychic',\n",
              " 'Galvantula': 'Bug',\n",
              " 'Garbodor': 'Poison',\n",
              " 'Garchomp': 'Dragon',\n",
              " 'Gardevoir': 'Psychic',\n",
              " 'Gastly': 'Ghost',\n",
              " 'Gastrodon': 'Water',\n",
              " 'Genesect': 'Bug',\n",
              " 'Gengar': 'Ghost',\n",
              " 'Geodude': 'Rock',\n",
              " 'Gible': 'Dragon',\n",
              " 'Gigalith': 'Rock',\n",
              " 'Girafarig': 'Normal',\n",
              " 'Giratina': 'Ghost',\n",
              " 'Glaceon': 'Ice',\n",
              " 'Glalie': 'Ice',\n",
              " 'Glameow': 'Normal',\n",
              " 'Gligar': 'Ground',\n",
              " 'Gliscor': 'Ground',\n",
              " 'Gloom': 'Grass',\n",
              " 'Gogoat': 'Grass',\n",
              " 'Golbat': 'Poison',\n",
              " 'Goldeen': 'Water',\n",
              " 'Golduck': 'Water',\n",
              " 'Golem': 'Rock',\n",
              " 'Golett': 'Ground',\n",
              " 'Golurk': 'Ground',\n",
              " 'Goodra': 'Dragon',\n",
              " 'Goomy': 'Dragon',\n",
              " 'Gorebyss': 'Water',\n",
              " 'Gothita': 'Psychic',\n",
              " 'Gothitelle': 'Psychic',\n",
              " 'Gothorita': 'Psychic',\n",
              " 'Gourgeist': 'Ghost',\n",
              " 'Granbull': 'Fairy',\n",
              " 'Graveler': 'Rock',\n",
              " 'Greninja': 'Water',\n",
              " 'Grimer': 'Poison',\n",
              " 'Grotle': 'Grass',\n",
              " 'Groudon': 'Ground',\n",
              " 'Grovyle': 'Grass',\n",
              " 'Growlithe': 'Fire',\n",
              " 'Grumpig': 'Psychic',\n",
              " 'Gulpin': 'Poison',\n",
              " 'Gurdurr': 'Fighting',\n",
              " 'Gyarados': 'Water',\n",
              " 'Happiny': 'Normal',\n",
              " 'Hariyama': 'Fighting',\n",
              " 'Haunter': 'Ghost',\n",
              " 'Hawlucha': 'Fighting',\n",
              " 'Haxorus': 'Dragon',\n",
              " 'Heatmor': 'Fire',\n",
              " 'Heatran': 'Fire',\n",
              " 'Heliolisk': 'Electric',\n",
              " 'Helioptile': 'Electric',\n",
              " 'Heracross': 'Bug',\n",
              " 'Herdier': 'Normal',\n",
              " 'Hippopotas': 'Ground',\n",
              " 'Hippowdon': 'Ground',\n",
              " 'Hitmonchan': 'Fighting',\n",
              " 'Hitmonlee': 'Fighting',\n",
              " 'Hitmontop': 'Fighting',\n",
              " 'Ho-oh': 'Fire',\n",
              " 'Honchkrow': 'Dark',\n",
              " 'Honedge': 'Steel',\n",
              " 'Hoopa': 'Psychic',\n",
              " 'Hoothoot': 'Normal',\n",
              " 'Hoppip': 'Grass',\n",
              " 'Horsea': 'Water',\n",
              " 'Houndoom': 'Dark',\n",
              " 'Houndour': 'Dark',\n",
              " 'Huntail': 'Water',\n",
              " 'Hydreigon': 'Dark',\n",
              " 'Hypno': 'Psychic',\n",
              " 'Igglybuff': 'Normal',\n",
              " 'Illumise': 'Bug',\n",
              " 'Infernape': 'Fire',\n",
              " 'Inkay': 'Dark',\n",
              " 'Ivysaur': 'Grass',\n",
              " 'Jellicent': 'Water',\n",
              " 'Jigglypuff': 'Normal',\n",
              " 'Jirachi': 'Steel',\n",
              " 'Jolteon': 'Electric',\n",
              " 'Joltik': 'Bug',\n",
              " 'Jumpluff': 'Grass',\n",
              " 'Jynx': 'Ice',\n",
              " 'Kabuto': 'Rock',\n",
              " 'Kabutops': 'Rock',\n",
              " 'Kadabra': 'Psychic',\n",
              " 'Kakuna': 'Bug',\n",
              " 'Kangaskhan': 'Normal',\n",
              " 'Karrablast': 'Bug',\n",
              " 'Kecleon': 'Normal',\n",
              " 'Keldeo': 'Water',\n",
              " 'Kingdra': 'Water',\n",
              " 'Kingler': 'Water',\n",
              " 'Kirlia': 'Psychic',\n",
              " 'Klang': 'Steel',\n",
              " 'Klefki': 'Steel',\n",
              " 'Klink': 'Steel',\n",
              " 'Klinklang': 'Steel',\n",
              " 'Koffing': 'Poison',\n",
              " 'Krabby': 'Water',\n",
              " 'Kricketot': 'Bug',\n",
              " 'Kricketune': 'Bug',\n",
              " 'Krokorok': 'Ground',\n",
              " 'Krookodile': 'Ground',\n",
              " 'Kyogre': 'Water',\n",
              " 'Kyurem': 'Dragon',\n",
              " 'Lairon': 'Steel',\n",
              " 'Lampent': 'Ghost',\n",
              " 'Landorus': 'Ground',\n",
              " 'Lanturn': 'Water',\n",
              " 'Lapras': 'Water',\n",
              " 'Larvesta': 'Bug',\n",
              " 'Larvitar': 'Rock',\n",
              " 'Latias': 'Dragon',\n",
              " 'Latios': 'Dragon',\n",
              " 'Leafeon': 'Grass',\n",
              " 'Leavanny': 'Bug',\n",
              " 'Ledian': 'Bug',\n",
              " 'Ledyba': 'Bug',\n",
              " 'Lickilicky': 'Normal',\n",
              " 'Lickitung': 'Normal',\n",
              " 'Liepard': 'Dark',\n",
              " 'Lileep': 'Rock',\n",
              " 'Lilligant': 'Grass',\n",
              " 'Lillipup': 'Normal',\n",
              " 'Linoone': 'Normal',\n",
              " 'Litleo': 'Fire',\n",
              " 'Litwick': 'Ghost',\n",
              " 'Lombre': 'Water',\n",
              " 'Lopunny': 'Normal',\n",
              " 'Lotad': 'Water',\n",
              " 'Loudred': 'Normal',\n",
              " 'Lucario': 'Fighting',\n",
              " 'Ludicolo': 'Water',\n",
              " 'Lugia': 'Psychic',\n",
              " 'Lumineon': 'Water',\n",
              " 'Lunatone': 'Rock',\n",
              " 'Luvdisc': 'Water',\n",
              " 'Luxio': 'Electric',\n",
              " 'Luxray': 'Electric',\n",
              " 'Machamp': 'Fighting',\n",
              " 'Machoke': 'Fighting',\n",
              " 'Machop': 'Fighting',\n",
              " 'Magby': 'Fire',\n",
              " 'Magcargo': 'Fire',\n",
              " 'Magikarp': 'Water',\n",
              " 'Magmar': 'Fire',\n",
              " 'Magmortar': 'Fire',\n",
              " 'Magnemite': 'Electric',\n",
              " 'Magneton': 'Electric',\n",
              " 'Magnezone': 'Electric',\n",
              " 'Makuhita': 'Fighting',\n",
              " 'Malamar': 'Dark',\n",
              " 'Mamoswine': 'Ice',\n",
              " 'Manaphy': 'Water',\n",
              " 'Mandibuzz': 'Dark',\n",
              " 'Manectric': 'Electric',\n",
              " 'Mankey': 'Fighting',\n",
              " 'Mantine': 'Water',\n",
              " 'Mantyke': 'Water',\n",
              " 'Maractus': 'Grass',\n",
              " 'Mareep': 'Electric',\n",
              " 'Marill': 'Water',\n",
              " 'Marowak': 'Ground',\n",
              " 'Marshtomp': 'Water',\n",
              " 'Masquerain': 'Bug',\n",
              " 'Mawile': 'Steel',\n",
              " 'Medicham': 'Fighting',\n",
              " 'Meditite': 'Fighting',\n",
              " 'Meganium': 'Grass',\n",
              " 'Meloetta': 'Normal',\n",
              " 'Meowstic': 'Psychic',\n",
              " 'Meowth': 'Normal',\n",
              " 'Mesprit': 'Psychic',\n",
              " 'Metagross': 'Steel',\n",
              " 'Metang': 'Steel',\n",
              " 'Metapod': 'Bug',\n",
              " 'Mew': 'Psychic',\n",
              " 'Mewtwo': 'Psychic',\n",
              " 'Mienfoo': 'Fighting',\n",
              " 'Mienshao': 'Fighting',\n",
              " 'Mightyena': 'Dark',\n",
              " 'Milotic': 'Water',\n",
              " 'Miltank': 'Normal',\n",
              " 'Mime Jr.': 'Psychic',\n",
              " 'Minccino': 'Normal',\n",
              " 'Minun': 'Electric',\n",
              " 'Misdreavus': 'Ghost',\n",
              " 'Mismagius': 'Ghost',\n",
              " 'Moltres': 'Fire',\n",
              " 'Monferno': 'Fire',\n",
              " 'Mothim': 'Bug',\n",
              " 'Mr. Mime': 'Psychic',\n",
              " 'Mudkip': 'Water',\n",
              " 'Muk': 'Poison',\n",
              " 'Munchlax': 'Normal',\n",
              " 'Munna': 'Psychic',\n",
              " 'Murkrow': 'Dark',\n",
              " 'Musharna': 'Psychic',\n",
              " 'Natu': 'Psychic',\n",
              " 'Nidoking': 'Poison',\n",
              " 'Nidoqueen': 'Poison',\n",
              " 'Nidoran': 'Poison',\n",
              " 'Nidoran♂': 'Poison',\n",
              " 'Nidorina': 'Poison',\n",
              " 'Nidorino': 'Poison',\n",
              " 'Nincada': 'Bug',\n",
              " 'Ninetales': 'Fire',\n",
              " 'Ninjask': 'Bug',\n",
              " 'Noctowl': 'Normal',\n",
              " 'Noibat': 'Flying',\n",
              " 'Noivern': 'Flying',\n",
              " 'Nosepass': 'Rock',\n",
              " 'Numel': 'Fire',\n",
              " 'Nuzleaf': 'Grass',\n",
              " 'Octillery': 'Water',\n",
              " 'Oddish': 'Grass',\n",
              " 'Omanyte': 'Rock',\n",
              " 'Omastar': 'Rock',\n",
              " 'Onix': 'Rock',\n",
              " 'Oshawott': 'Water',\n",
              " 'Pachirisu': 'Electric',\n",
              " 'Palkia': 'Water',\n",
              " 'Palpitoad': 'Water',\n",
              " 'Pancham': 'Fighting',\n",
              " 'Pangoro': 'Fighting',\n",
              " 'Panpour': 'Water',\n",
              " 'Pansage': 'Grass',\n",
              " 'Pansear': 'Fire',\n",
              " 'Paras': 'Bug',\n",
              " 'Parasect': 'Bug',\n",
              " 'Patrat': 'Normal',\n",
              " 'Pawniard': 'Dark',\n",
              " 'Pelipper': 'Water',\n",
              " 'Persian': 'Normal',\n",
              " 'Petilil': 'Grass',\n",
              " 'Phanpy': 'Ground',\n",
              " 'Phantump': 'Ghost',\n",
              " 'Phione': 'Water',\n",
              " 'Pichu': 'Electric',\n",
              " 'Pidgeot': 'Normal',\n",
              " 'Pidgeotto': 'Normal',\n",
              " 'Pidgey': 'Normal',\n",
              " 'Pidove': 'Normal',\n",
              " 'Pignite': 'Fire',\n",
              " 'Pikachu': 'Electric',\n",
              " 'Piloswine': 'Ice',\n",
              " 'Pineco': 'Bug',\n",
              " 'Pinsir': 'Bug',\n",
              " 'Piplup': 'Water',\n",
              " 'Plusle': 'Electric',\n",
              " 'Politoed': 'Water',\n",
              " 'Poliwag': 'Water',\n",
              " 'Poliwhirl': 'Water',\n",
              " 'Poliwrath': 'Water',\n",
              " 'Ponyta': 'Fire',\n",
              " 'Poochyena': 'Dark',\n",
              " 'Porygon': 'Normal',\n",
              " 'Porygon-Z': 'Normal',\n",
              " 'Porygon2': 'Normal',\n",
              " 'Primeape': 'Fighting',\n",
              " 'Prinplup': 'Water',\n",
              " 'Probopass': 'Rock',\n",
              " 'Psyduck': 'Water',\n",
              " 'Pumpkaboo': 'Ghost',\n",
              " 'Pupitar': 'Rock',\n",
              " 'Purrloin': 'Dark',\n",
              " 'Purugly': 'Normal',\n",
              " 'Pyroar': 'Fire',\n",
              " 'Quagsire': 'Water',\n",
              " 'Quilava': 'Fire',\n",
              " 'Quilladin': 'Grass',\n",
              " 'Qwilfish': 'Water',\n",
              " 'Raichu': 'Electric',\n",
              " 'Raikou': 'Electric',\n",
              " 'Ralts': 'Psychic',\n",
              " 'Rampardos': 'Rock',\n",
              " 'Rapidash': 'Fire',\n",
              " 'Raticate': 'Normal',\n",
              " 'Rattata': 'Normal',\n",
              " 'Rayquaza': 'Dragon',\n",
              " 'Regice': 'Ice',\n",
              " 'Regigigas': 'Normal',\n",
              " 'Regirock': 'Rock',\n",
              " 'Registeel': 'Steel',\n",
              " 'Relicanth': 'Water',\n",
              " 'Remoraid': 'Water',\n",
              " 'Reshiram': 'Dragon',\n",
              " 'Reuniclus': 'Psychic',\n",
              " 'Rhydon': 'Ground',\n",
              " 'Rhyhorn': 'Ground',\n",
              " 'Rhyperior': 'Ground',\n",
              " 'Riolu': 'Fighting',\n",
              " 'Roggenrola': 'Rock',\n",
              " 'Roselia': 'Grass',\n",
              " 'Roserade': 'Grass',\n",
              " 'Rotom': 'Electric',\n",
              " 'Rufflet': 'Normal',\n",
              " 'Sableye': 'Dark',\n",
              " 'Salamence': 'Dragon',\n",
              " 'Samurott': 'Water',\n",
              " 'Sandile': 'Ground',\n",
              " 'Sandshrew': 'Ground',\n",
              " 'Sandslash': 'Ground',\n",
              " 'Sawk': 'Fighting',\n",
              " 'Sawsbuck': 'Normal',\n",
              " 'Scatterbug': 'Bug',\n",
              " 'Sceptile': 'Grass',\n",
              " 'Scizor': 'Bug',\n",
              " 'Scolipede': 'Bug',\n",
              " 'Scrafty': 'Dark',\n",
              " 'Scraggy': 'Dark',\n",
              " 'Scyther': 'Bug',\n",
              " 'Seadra': 'Water',\n",
              " 'Seaking': 'Water',\n",
              " 'Sealeo': 'Ice',\n",
              " 'Seedot': 'Grass',\n",
              " 'Seel': 'Water',\n",
              " 'Seismitoad': 'Water',\n",
              " 'Sentret': 'Normal',\n",
              " 'Serperior': 'Grass',\n",
              " 'Servine': 'Grass',\n",
              " 'Seviper': 'Poison',\n",
              " 'Sewaddle': 'Bug',\n",
              " 'Sharpedo': 'Water',\n",
              " 'Shaymin': 'Grass',\n",
              " 'Shedinja': 'Bug',\n",
              " 'Shelgon': 'Dragon',\n",
              " 'Shellder': 'Water',\n",
              " 'Shellos': 'Water',\n",
              " 'Shelmet': 'Bug',\n",
              " 'Shieldon': 'Rock',\n",
              " 'Shiftry': 'Grass',\n",
              " 'Shinx': 'Electric',\n",
              " 'Shroomish': 'Grass',\n",
              " 'Shuckle': 'Bug',\n",
              " 'Shuppet': 'Ghost',\n",
              " 'Sigilyph': 'Psychic',\n",
              " 'Silcoon': 'Bug',\n",
              " 'Simipour': 'Water',\n",
              " 'Simisage': 'Grass',\n",
              " 'Simisear': 'Fire',\n",
              " 'Skarmory': 'Steel',\n",
              " 'Skiddo': 'Grass',\n",
              " 'Skiploom': 'Grass',\n",
              " 'Skitty': 'Normal',\n",
              " 'Skorupi': 'Poison',\n",
              " 'Skrelp': 'Poison',\n",
              " 'Skuntank': 'Poison',\n",
              " 'Slaking': 'Normal',\n",
              " 'Slakoth': 'Normal',\n",
              " 'Sliggoo': 'Dragon',\n",
              " 'Slowbro': 'Water',\n",
              " 'Slowking': 'Water',\n",
              " 'Slowpoke': 'Water',\n",
              " 'Slugma': 'Fire',\n",
              " 'Slurpuff': 'Fairy',\n",
              " 'Smeargle': 'Normal',\n",
              " 'Smoochum': 'Ice',\n",
              " 'Sneasel': 'Dark',\n",
              " 'Snivy': 'Grass',\n",
              " 'Snorlax': 'Normal',\n",
              " 'Snorunt': 'Ice',\n",
              " 'Snover': 'Grass',\n",
              " 'Snubbull': 'Fairy',\n",
              " 'Solosis': 'Psychic',\n",
              " 'Solrock': 'Rock',\n",
              " 'Spearow': 'Normal',\n",
              " 'Spewpa': 'Bug',\n",
              " 'Spheal': 'Ice',\n",
              " 'Spinarak': 'Bug',\n",
              " 'Spinda': 'Normal',\n",
              " 'Spiritomb': 'Ghost',\n",
              " 'Spoink': 'Psychic',\n",
              " 'Spritzee': 'Fairy',\n",
              " 'Squirtle': 'Water',\n",
              " 'Stantler': 'Normal',\n",
              " 'Staraptor': 'Normal',\n",
              " 'Staravia': 'Normal',\n",
              " 'Starly': 'Normal',\n",
              " 'Starmie': 'Water',\n",
              " 'Staryu': 'Water',\n",
              " 'Steelix': 'Steel',\n",
              " 'Stoutland': 'Normal',\n",
              " 'Stunfisk': 'Ground',\n",
              " 'Stunky': 'Poison',\n",
              " 'Sudowoodo': 'Rock',\n",
              " 'Suicune': 'Water',\n",
              " 'Sunflora': 'Grass',\n",
              " 'Sunkern': 'Grass',\n",
              " 'Surskit': 'Bug',\n",
              " 'Swablu': 'Normal',\n",
              " 'Swadloon': 'Bug',\n",
              " 'Swalot': 'Poison',\n",
              " 'Swampert': 'Water',\n",
              " 'Swanna': 'Water',\n",
              " 'Swellow': 'Normal',\n",
              " 'Swinub': 'Ice',\n",
              " 'Swirlix': 'Fairy',\n",
              " 'Swoobat': 'Psychic',\n",
              " 'Sylveon': 'Fairy',\n",
              " 'Taillow': 'Normal',\n",
              " 'Talonflame': 'Fire',\n",
              " 'Tangela': 'Grass',\n",
              " 'Tangrowth': 'Grass',\n",
              " 'Tauros': 'Normal',\n",
              " 'Teddiursa': 'Normal',\n",
              " 'Tentacool': 'Water',\n",
              " 'Tentacruel': 'Water',\n",
              " 'Tepig': 'Fire',\n",
              " 'Terrakion': 'Rock',\n",
              " 'Throh': 'Fighting',\n",
              " 'Thundurus': 'Electric',\n",
              " 'Timburr': 'Fighting',\n",
              " 'Tirtouga': 'Water',\n",
              " 'Togekiss': 'Fairy',\n",
              " 'Togepi': 'Fairy',\n",
              " 'Togetic': 'Fairy',\n",
              " 'Torchic': 'Fire',\n",
              " 'Torkoal': 'Fire',\n",
              " 'Tornadus': 'Flying',\n",
              " 'Torterra': 'Grass',\n",
              " 'Totodile': 'Water',\n",
              " 'Toxicroak': 'Poison',\n",
              " 'Tranquill': 'Normal',\n",
              " 'Trapinch': 'Ground',\n",
              " 'Treecko': 'Grass',\n",
              " 'Trevenant': 'Ghost',\n",
              " 'Tropius': 'Grass',\n",
              " 'Trubbish': 'Poison',\n",
              " 'Turtwig': 'Grass',\n",
              " 'Tympole': 'Water',\n",
              " 'Tynamo': 'Electric',\n",
              " 'Typhlosion': 'Fire',\n",
              " 'Tyranitar': 'Rock',\n",
              " 'Tyrantrum': 'Rock',\n",
              " 'Tyrogue': 'Fighting',\n",
              " 'Tyrunt': 'Rock',\n",
              " 'Umbreon': 'Dark',\n",
              " 'Unfezant': 'Normal',\n",
              " 'Unown': 'Psychic',\n",
              " 'Ursaring': 'Normal',\n",
              " 'Uxie': 'Psychic',\n",
              " 'Vanillish': 'Ice',\n",
              " 'Vanillite': 'Ice',\n",
              " 'Vanilluxe': 'Ice',\n",
              " 'Vaporeon': 'Water',\n",
              " 'Venipede': 'Bug',\n",
              " 'Venomoth': 'Bug',\n",
              " 'Venonat': 'Bug',\n",
              " 'Venusaur': 'Grass',\n",
              " 'Vespiquen': 'Bug',\n",
              " 'Vibrava': 'Ground',\n",
              " 'Victini': 'Psychic',\n",
              " 'Victreebel': 'Grass',\n",
              " 'Vigoroth': 'Normal',\n",
              " 'Vileplume': 'Grass',\n",
              " 'Virizion': 'Grass',\n",
              " 'Vivillon': 'Bug',\n",
              " 'Volbeat': 'Bug',\n",
              " 'Volcanion': 'Fire',\n",
              " 'Volcarona': 'Bug',\n",
              " 'Voltorb': 'Electric',\n",
              " 'Vullaby': 'Dark',\n",
              " 'Vulpix': 'Fire',\n",
              " 'Wailmer': 'Water',\n",
              " 'Wailord': 'Water',\n",
              " 'Walrein': 'Ice',\n",
              " 'Wartortle': 'Water',\n",
              " 'Watchog': 'Normal',\n",
              " 'Weavile': 'Dark',\n",
              " 'Weedle': 'Bug',\n",
              " 'Weepinbell': 'Grass',\n",
              " 'Weezing': 'Poison',\n",
              " 'Whimsicott': 'Grass',\n",
              " 'Whirlipede': 'Bug',\n",
              " 'Whiscash': 'Water',\n",
              " 'Whismur': 'Normal',\n",
              " 'Wigglytuff': 'Normal',\n",
              " 'Wingull': 'Water',\n",
              " 'Wobbuffet': 'Psychic',\n",
              " 'Woobat': 'Psychic',\n",
              " 'Wooper': 'Water',\n",
              " 'Wormadam': 'Bug',\n",
              " 'Wurmple': 'Bug',\n",
              " 'Wynaut': 'Psychic',\n",
              " 'Xatu': 'Psychic',\n",
              " 'Xerneas': 'Fairy',\n",
              " 'Yamask': 'Ghost',\n",
              " 'Yanma': 'Bug',\n",
              " 'Yanmega': 'Bug',\n",
              " 'Yveltal': 'Dark',\n",
              " 'Zangoose': 'Normal',\n",
              " 'Zapdos': 'Electric',\n",
              " 'Zebstrika': 'Electric',\n",
              " 'Zekrom': 'Dragon',\n",
              " 'Zigzagoon': 'Normal',\n",
              " 'Zoroark': 'Dark',\n",
              " 'Zorua': 'Dark',\n",
              " 'Zubat': 'Poison',\n",
              " 'Zweilous': 'Dark',\n",
              " 'Zygarde': 'Dragon'}"
            ]
          },
          "metadata": {
            "tags": []
          },
          "execution_count": 108
        }
      ]
    },
    {
      "cell_type": "code",
      "metadata": {
        "colab": {
          "base_uri": "https://localhost:8080/"
        },
        "id": "LkkPUmuncnKe",
        "outputId": "5b03d391-b2ef-4d88-9662-0574ea595bf9"
      },
      "source": [
        "pokemon_names.map(pokemon_types)"
      ],
      "execution_count": null,
      "outputs": [
        {
          "output_type": "execute_result",
          "data": {
            "text/plain": [
              "0        Grass\n",
              "1        Grass\n",
              "2        Grass\n",
              "3         Fire\n",
              "4         Fire\n",
              "        ...   \n",
              "716       Dark\n",
              "717     Dragon\n",
              "718       Rock\n",
              "719    Psychic\n",
              "720       Fire\n",
              "Name: Pokemon, Length: 721, dtype: object"
            ]
          },
          "metadata": {
            "tags": []
          },
          "execution_count": 109
        }
      ]
    },
    {
      "cell_type": "code",
      "metadata": {
        "id": "5JCIvHttcw7W"
      },
      "source": [
        ""
      ],
      "execution_count": null,
      "outputs": []
    }
  ]
}